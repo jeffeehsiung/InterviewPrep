{
  "nbformat": 4,
  "nbformat_minor": 0,
  "metadata": {
    "colab": {
      "provenance": [],
      "gpuType": "T4"
    },
    "kernelspec": {
      "name": "python3",
      "display_name": "Python 3"
    },
    "language_info": {
      "name": "python"
    },
    "accelerator": "GPU"
  },
  "cells": [
    {
      "cell_type": "markdown",
      "source": [
        "#Artificial Neural Networks and Deep Learning  \n",
        "\n",
        "\n",
        "\n",
        "##Assignment 3.2 - Convolutional Neural Networks\n",
        "\n",
        "Prof. Dr. Ir. Johan A. K. Suykens     \n",
        "\n",
        "In this file, we will implement a convolutional neural network from scratch.\n",
        "\n",
        "We only consider classification tasks here in the session.\n",
        "\n",
        "\n"
      ],
      "metadata": {
        "id": "XEDrFr3_VWQm"
      }
    },
    {
      "cell_type": "code",
      "execution_count": 1,
      "metadata": {
        "id": "k06FYdbfVReE",
        "colab": {
          "base_uri": "https://localhost:8080/"
        },
        "outputId": "bf4356bf-ef4c-4f18-ddf7-c054f7f98c7d"
      },
      "outputs": [
        {
          "output_type": "stream",
          "name": "stdout",
          "text": [
            "Mounted at /content/drive\n"
          ]
        }
      ],
      "source": [
        "# Please first load your google drive\n",
        "from google.colab import drive\n",
        "drive.mount('/content/drive')"
      ]
    },
    {
      "cell_type": "code",
      "source": [
        "# Please go to Edit > Notebook settings > Hardware accelerator > choose \"T4 GPU\"\n",
        "# Now check if you have loaded the GPU successfully\n",
        "!nvidia-smi"
      ],
      "metadata": {
        "id": "tBcSkiFpVmTq",
        "colab": {
          "base_uri": "https://localhost:8080/"
        },
        "outputId": "dfb8d3b2-35bc-4445-b979-de7f41da27df"
      },
      "execution_count": 2,
      "outputs": [
        {
          "output_type": "stream",
          "name": "stdout",
          "text": [
            "Sat Apr  6 20:13:00 2024       \n",
            "+---------------------------------------------------------------------------------------+\n",
            "| NVIDIA-SMI 535.104.05             Driver Version: 535.104.05   CUDA Version: 12.2     |\n",
            "|-----------------------------------------+----------------------+----------------------+\n",
            "| GPU  Name                 Persistence-M | Bus-Id        Disp.A | Volatile Uncorr. ECC |\n",
            "| Fan  Temp   Perf          Pwr:Usage/Cap |         Memory-Usage | GPU-Util  Compute M. |\n",
            "|                                         |                      |               MIG M. |\n",
            "|=========================================+======================+======================|\n",
            "|   0  Tesla T4                       Off | 00000000:00:04.0 Off |                    0 |\n",
            "| N/A   34C    P8               8W /  70W |      0MiB / 15360MiB |      0%      Default |\n",
            "|                                         |                      |                  N/A |\n",
            "+-----------------------------------------+----------------------+----------------------+\n",
            "                                                                                         \n",
            "+---------------------------------------------------------------------------------------+\n",
            "| Processes:                                                                            |\n",
            "|  GPU   GI   CI        PID   Type   Process name                            GPU Memory |\n",
            "|        ID   ID                                                             Usage      |\n",
            "|=======================================================================================|\n",
            "|  No running processes found                                                           |\n",
            "+---------------------------------------------------------------------------------------+\n"
          ]
        }
      ]
    },
    {
      "cell_type": "markdown",
      "source": [
        "# Convolutional Neural Networks\n",
        "In this section, we implement CNN from scrath and train it on the MNIST dataset.\n",
        "\n",
        "We first load the dataset as follows:"
      ],
      "metadata": {
        "id": "C2KVP3ThVt4T"
      }
    },
    {
      "cell_type": "code",
      "source": [
        "import torch\n",
        "from torch import nn, optim, functional, utils\n",
        "from torch.utils.data.dataloader import DataLoader\n",
        "import torchvision\n",
        "from torchvision import datasets, utils\n",
        "from torchvision.datasets import MNIST\n",
        "\n",
        "import time, os\n",
        "\n",
        "import matplotlib.pyplot as plt\n",
        "# use seaborn\n",
        "import seaborn as sns\n",
        "\n",
        "# Apply the default theme\n",
        "sns.set_theme()\n",
        "plt.rcParams[\"figure.dpi\"] = 100\n",
        "plt.rcParams['savefig.dpi'] = 300\n",
        "\n",
        "\n",
        "def get_mnist_loader(batch_size=100, num_train_samples = 10000, num_test_samples = 2000):\n",
        "    \"\"\"\n",
        "\n",
        "    :return: train_loader, test_loader\n",
        "    \"\"\"\n",
        "    train_dataset = MNIST(root='../data',\n",
        "                          train=True,\n",
        "                          transform=torchvision.transforms.ToTensor(),\n",
        "                          download=True)\n",
        "    test_dataset = MNIST(root='../data',\n",
        "                         train=False,\n",
        "                         transform=torchvision.transforms.ToTensor(),\n",
        "                         download=True)\n",
        "\n",
        "    # Randomly select a subset of samples\n",
        "    train_indices = torch.randperm(len(train_dataset))[:num_train_samples]\n",
        "    test_indices = torch.randperm(len(test_dataset))[:num_test_samples]\n",
        "\n",
        "    # Create subset samplers to be used in the dataloader\n",
        "    train_subset_sampler = torch.utils.data.SubsetRandomSampler(train_indices)\n",
        "    test_subset_sampler = torch.utils.data.SubsetRandomSampler(test_indices)\n",
        "\n",
        "    train_loader = torch.utils.data.DataLoader(dataset=train_dataset,\n",
        "                                               batch_size=batch_size,\n",
        "                                               sampler = train_subset_sampler)\n",
        "    test_loader = torch.utils.data.DataLoader(dataset=test_dataset,\n",
        "                                              batch_size=batch_size,\n",
        "                                              sampler = test_subset_sampler)\n",
        "\n",
        "\n",
        "    return train_loader, test_loader"
      ],
      "metadata": {
        "id": "-X7wZ07qVny5"
      },
      "execution_count": 3,
      "outputs": []
    },
    {
      "cell_type": "markdown",
      "source": [
        "## Build CNN from scratch\n",
        "Our CNN is of 4 convolutional layers and 2 fully connected layers.\n",
        "You can try a different amount of layers by simply add more ``self.conv`` layers inside  ``__init__`` and ``forward`` in the following code. Please be careful with the dimensions of the convolutional layers when changing parameters such as convolution channels, kernel_size and stride."
      ],
      "metadata": {
        "id": "l8DOJpeycH1L"
      }
    },
    {
      "cell_type": "code",
      "source": [
        "class CNNnet(torch.nn.Module):\n",
        "    def __init__(self):\n",
        "        super(CNNnet,self).__init__()\n",
        "        self.conv1 = torch.nn.Sequential(\n",
        "            # 2-D convolution\n",
        "            torch.nn.Conv2d(in_channels=1, # input channels\n",
        "                            out_channels=16, # convolution channels\n",
        "                            kernel_size=3, # kernel size of the convolution\n",
        "                            stride=2, # stride of the kernel\n",
        "                            padding=1), # padding with 0\n",
        "            # Data is normalized before entering ReLU，num_features=batch_size*num_features*height*width\n",
        "            # Output is with size (N,C,W,H), i.e., (batch_size, channels, width, height)\n",
        "            torch.nn.BatchNorm2d(16), # the input dimensionality of BatchNorm2d should match the number of convolution channels\n",
        "            # Set activation function\n",
        "            torch.nn.ReLU()\n",
        "        )\n",
        "        self.conv2 = torch.nn.Sequential(\n",
        "            torch.nn.Conv2d(16,32,3,2,1), # be sure to have the number of input channels match the output channels of the previous layer\n",
        "            torch.nn.BatchNorm2d(32),\n",
        "            torch.nn.ReLU()\n",
        "        )\n",
        "        self.conv3 = torch.nn.Sequential(\n",
        "            torch.nn.Conv2d(32,32,3,2,1),\n",
        "            torch.nn.BatchNorm2d(32),\n",
        "            torch.nn.ReLU()\n",
        "        )\n",
        "        self.conv4 = torch.nn.Sequential(\n",
        "            torch.nn.Conv2d(32,64,2,2,0),\n",
        "            torch.nn.BatchNorm2d(64),\n",
        "            torch.nn.ReLU()\n",
        "        )\n",
        "        # set fully connected layer\n",
        "        self.mlp1 = torch.nn.Linear(2*2*64,100) # input dimension should match the output dimension from the previous layer\n",
        "        # final output is of dimension 10 since\n",
        "        # MNIST is a 10-class classification dataset\n",
        "        self.mlp2 = torch.nn.Linear(100,10)\n",
        "\n",
        "    # feedforward\n",
        "    def forward(self,x):\n",
        "        x = self.conv1(x)\n",
        "        x = self.conv2(x)\n",
        "        x = self.conv3(x)\n",
        "        x = self.conv4(x)\n",
        "        # flatten tensor to 1-D\n",
        "        x = self.mlp1(x.view(x.size(0),-1))\n",
        "        x = self.mlp2(x)\n",
        "        return x"
      ],
      "metadata": {
        "id": "vwTxoe2VV7jX"
      },
      "execution_count": 4,
      "outputs": []
    },
    {
      "cell_type": "markdown",
      "source": [
        "## Training function\n",
        "The training process includes loading the model, setting the optimizer, and running on the training set for epochs.\n",
        "After each training epoch, we evaluate the model on the test set to record the test accuracy."
      ],
      "metadata": {
        "id": "bsGqOf9mk6yR"
      }
    },
    {
      "cell_type": "code",
      "source": [
        "def train(model, train_epoch, model_save, train_loader, test_loader) :\n",
        "    # Push model on to GPU if available\n",
        "    device = torch.device('cuda' if torch.cuda.is_available() else 'cpu')\n",
        "    model.to(device)\n",
        "\n",
        "    loss_func = nn.CrossEntropyLoss( )\n",
        "    # Use Adam optimizer\n",
        "    optimizer = torch.optim.Adam(model.parameters( ),lr=0.001)\n",
        "\n",
        "    acc_count = []  # record the test accuracy\n",
        "    for epoch in range(train_epoch):\n",
        "\n",
        "        model.train()\n",
        "\n",
        "        for i, (x, y) in enumerate(train_loader):\n",
        "            x = x.to(device)  # torch,Size([128,1,28,28])\n",
        "            y = y.to(device)   # torch.Size([128])\n",
        "            # Output of the model\n",
        "            out = model(x)  # torch.Size([128,10])\n",
        "            # Compute loss\n",
        "            loss = loss_func(out, y)\n",
        "\n",
        "            optimizer.zero_grad()\n",
        "            loss.backward()  # backpropagation\n",
        "            optimizer.step()  # update the network parameters\n",
        "\n",
        "            # save the model checkpoint every 20 iterations\n",
        "            if i % 20 == 0:\n",
        "                print('Training Loss:{:.6f} Batch {}/{} '.format(loss.item(), i, len(train_loader)))\n",
        "                torch.save(model, model_save)\n",
        "\n",
        "        # evaluate the model after each training epoch\n",
        "        with torch.no_grad():\n",
        "            model.eval()\n",
        "\n",
        "            true_pred = torch.zeros(1).to(device)\n",
        "            nb_sample = 0\n",
        "\n",
        "            for inputs, targets in test_loader:\n",
        "                inputs = inputs.to(device)\n",
        "                targets = targets.to(device)\n",
        "                outputs = model(inputs)\n",
        "\n",
        "                _, pred = torch.max(outputs, dim=1)\n",
        "\n",
        "                true_pred = true_pred + torch.sum(pred == targets).type(torch.FloatTensor)\n",
        "                nb_sample += len(inputs)\n",
        "\n",
        "            acc = true_pred / nb_sample\n",
        "            acc = acc.item()\n",
        "\n",
        "            acc_count.append(acc)\n",
        "\n",
        "            print('Epoch {:d}, Test Accuracy {:.3f} %'.format(epoch, acc * 100))\n",
        "\n",
        "    return acc_count"
      ],
      "metadata": {
        "id": "tHe1PyUucZGp"
      },
      "execution_count": 5,
      "outputs": []
    },
    {
      "cell_type": "markdown",
      "source": [
        "## Let's start training!\n",
        "The network is trained for 20 epochs, batch size of 100.\n",
        "\n",
        "You can adjust the hyperparameters here if necessary."
      ],
      "metadata": {
        "id": "fqXo_JIWla_l"
      }
    },
    {
      "cell_type": "code",
      "source": [
        "# You can adjust the hyperparameters here if needed\n",
        "train_epoch = 20\n",
        "batch_size = 100\n",
        "shuffle = True\n",
        "\n",
        "# Define model\n",
        "model = CNNnet()\n",
        "\n",
        "# where to save the model\n",
        "model_save = './MNIST_CNN/ckpt.pth'\n",
        "\n",
        "import os\n",
        "if not os.path.exists('MNIST_CNN'):\n",
        "    os.mkdir('MNIST_CNN')"
      ],
      "metadata": {
        "id": "cMjq_kz8guO_"
      },
      "execution_count": 6,
      "outputs": []
    },
    {
      "cell_type": "code",
      "source": [
        "# load datasets\n",
        "train_loader, test_loader = get_mnist_loader(batch_size=batch_size)\n",
        "\n",
        "# train the model\n",
        "acc_count = train(model, train_epoch=train_epoch, model_save=model_save, train_loader=train_loader, test_loader=test_loader)"
      ],
      "metadata": {
        "id": "yhijmumReHXc",
        "colab": {
          "base_uri": "https://localhost:8080/"
        },
        "outputId": "98c9beaa-db1a-46ce-ad01-38dfa1bfb61c"
      },
      "execution_count": 7,
      "outputs": [
        {
          "output_type": "stream",
          "name": "stdout",
          "text": [
            "Downloading http://yann.lecun.com/exdb/mnist/train-images-idx3-ubyte.gz\n",
            "Downloading http://yann.lecun.com/exdb/mnist/train-images-idx3-ubyte.gz to ../data/MNIST/raw/train-images-idx3-ubyte.gz\n"
          ]
        },
        {
          "output_type": "stream",
          "name": "stderr",
          "text": [
            "100%|██████████| 9912422/9912422 [00:00<00:00, 119421705.06it/s]\n"
          ]
        },
        {
          "output_type": "stream",
          "name": "stdout",
          "text": [
            "Extracting ../data/MNIST/raw/train-images-idx3-ubyte.gz to ../data/MNIST/raw\n",
            "\n",
            "Downloading http://yann.lecun.com/exdb/mnist/train-labels-idx1-ubyte.gz\n",
            "Downloading http://yann.lecun.com/exdb/mnist/train-labels-idx1-ubyte.gz to ../data/MNIST/raw/train-labels-idx1-ubyte.gz\n"
          ]
        },
        {
          "output_type": "stream",
          "name": "stderr",
          "text": [
            "100%|██████████| 28881/28881 [00:00<00:00, 103182022.00it/s]\n"
          ]
        },
        {
          "output_type": "stream",
          "name": "stdout",
          "text": [
            "Extracting ../data/MNIST/raw/train-labels-idx1-ubyte.gz to ../data/MNIST/raw\n",
            "\n",
            "Downloading http://yann.lecun.com/exdb/mnist/t10k-images-idx3-ubyte.gz\n",
            "Downloading http://yann.lecun.com/exdb/mnist/t10k-images-idx3-ubyte.gz to ../data/MNIST/raw/t10k-images-idx3-ubyte.gz\n"
          ]
        },
        {
          "output_type": "stream",
          "name": "stderr",
          "text": [
            "100%|██████████| 1648877/1648877 [00:00<00:00, 31044288.62it/s]\n"
          ]
        },
        {
          "output_type": "stream",
          "name": "stdout",
          "text": [
            "Extracting ../data/MNIST/raw/t10k-images-idx3-ubyte.gz to ../data/MNIST/raw\n",
            "\n",
            "Downloading http://yann.lecun.com/exdb/mnist/t10k-labels-idx1-ubyte.gz\n",
            "Downloading http://yann.lecun.com/exdb/mnist/t10k-labels-idx1-ubyte.gz to ../data/MNIST/raw/t10k-labels-idx1-ubyte.gz\n"
          ]
        },
        {
          "output_type": "stream",
          "name": "stderr",
          "text": [
            "100%|██████████| 4542/4542 [00:00<00:00, 21772032.88it/s]\n"
          ]
        },
        {
          "output_type": "stream",
          "name": "stdout",
          "text": [
            "Extracting ../data/MNIST/raw/t10k-labels-idx1-ubyte.gz to ../data/MNIST/raw\n",
            "\n",
            "Training Loss:2.322615 Batch 0/100 \n",
            "Training Loss:0.805426 Batch 20/100 \n",
            "Training Loss:0.450881 Batch 40/100 \n",
            "Training Loss:0.234615 Batch 60/100 \n",
            "Training Loss:0.132075 Batch 80/100 \n",
            "Epoch 0, Test Accuracy 96.200 %\n",
            "Training Loss:0.145678 Batch 0/100 \n",
            "Training Loss:0.202931 Batch 20/100 \n",
            "Training Loss:0.061244 Batch 40/100 \n",
            "Training Loss:0.126431 Batch 60/100 \n",
            "Training Loss:0.063578 Batch 80/100 \n",
            "Epoch 1, Test Accuracy 97.100 %\n",
            "Training Loss:0.095710 Batch 0/100 \n",
            "Training Loss:0.044852 Batch 20/100 \n",
            "Training Loss:0.082029 Batch 40/100 \n",
            "Training Loss:0.035364 Batch 60/100 \n",
            "Training Loss:0.090720 Batch 80/100 \n",
            "Epoch 2, Test Accuracy 96.850 %\n",
            "Training Loss:0.090433 Batch 0/100 \n",
            "Training Loss:0.057535 Batch 20/100 \n",
            "Training Loss:0.045033 Batch 40/100 \n",
            "Training Loss:0.025713 Batch 60/100 \n",
            "Training Loss:0.027929 Batch 80/100 \n",
            "Epoch 3, Test Accuracy 97.700 %\n",
            "Training Loss:0.030875 Batch 0/100 \n",
            "Training Loss:0.006791 Batch 20/100 \n",
            "Training Loss:0.039398 Batch 40/100 \n",
            "Training Loss:0.048196 Batch 60/100 \n",
            "Training Loss:0.086590 Batch 80/100 \n",
            "Epoch 4, Test Accuracy 97.650 %\n",
            "Training Loss:0.010648 Batch 0/100 \n",
            "Training Loss:0.008258 Batch 20/100 \n",
            "Training Loss:0.013011 Batch 40/100 \n",
            "Training Loss:0.032990 Batch 60/100 \n",
            "Training Loss:0.010115 Batch 80/100 \n",
            "Epoch 5, Test Accuracy 97.500 %\n",
            "Training Loss:0.011644 Batch 0/100 \n",
            "Training Loss:0.005653 Batch 20/100 \n",
            "Training Loss:0.007439 Batch 40/100 \n",
            "Training Loss:0.003312 Batch 60/100 \n",
            "Training Loss:0.029638 Batch 80/100 \n",
            "Epoch 6, Test Accuracy 97.700 %\n",
            "Training Loss:0.007983 Batch 0/100 \n",
            "Training Loss:0.003460 Batch 20/100 \n",
            "Training Loss:0.013804 Batch 40/100 \n",
            "Training Loss:0.009199 Batch 60/100 \n",
            "Training Loss:0.015610 Batch 80/100 \n",
            "Epoch 7, Test Accuracy 97.750 %\n",
            "Training Loss:0.023136 Batch 0/100 \n",
            "Training Loss:0.003949 Batch 20/100 \n",
            "Training Loss:0.004601 Batch 40/100 \n",
            "Training Loss:0.003519 Batch 60/100 \n",
            "Training Loss:0.010818 Batch 80/100 \n",
            "Epoch 8, Test Accuracy 97.300 %\n",
            "Training Loss:0.008369 Batch 0/100 \n",
            "Training Loss:0.001782 Batch 20/100 \n",
            "Training Loss:0.001045 Batch 40/100 \n",
            "Training Loss:0.005685 Batch 60/100 \n",
            "Training Loss:0.003333 Batch 80/100 \n",
            "Epoch 9, Test Accuracy 97.600 %\n",
            "Training Loss:0.004597 Batch 0/100 \n",
            "Training Loss:0.001997 Batch 20/100 \n",
            "Training Loss:0.022025 Batch 40/100 \n",
            "Training Loss:0.008241 Batch 60/100 \n",
            "Training Loss:0.011548 Batch 80/100 \n",
            "Epoch 10, Test Accuracy 97.300 %\n",
            "Training Loss:0.004367 Batch 0/100 \n",
            "Training Loss:0.003991 Batch 20/100 \n",
            "Training Loss:0.019756 Batch 40/100 \n",
            "Training Loss:0.044560 Batch 60/100 \n",
            "Training Loss:0.038267 Batch 80/100 \n",
            "Epoch 11, Test Accuracy 97.100 %\n",
            "Training Loss:0.023174 Batch 0/100 \n",
            "Training Loss:0.029126 Batch 20/100 \n",
            "Training Loss:0.002569 Batch 40/100 \n",
            "Training Loss:0.001125 Batch 60/100 \n",
            "Training Loss:0.013440 Batch 80/100 \n",
            "Epoch 12, Test Accuracy 97.800 %\n",
            "Training Loss:0.001005 Batch 0/100 \n",
            "Training Loss:0.004942 Batch 20/100 \n",
            "Training Loss:0.009356 Batch 40/100 \n",
            "Training Loss:0.000524 Batch 60/100 \n",
            "Training Loss:0.009980 Batch 80/100 \n",
            "Epoch 13, Test Accuracy 96.500 %\n",
            "Training Loss:0.006017 Batch 0/100 \n",
            "Training Loss:0.002226 Batch 20/100 \n",
            "Training Loss:0.002892 Batch 40/100 \n",
            "Training Loss:0.023167 Batch 60/100 \n",
            "Training Loss:0.005954 Batch 80/100 \n",
            "Epoch 14, Test Accuracy 97.500 %\n",
            "Training Loss:0.000420 Batch 0/100 \n",
            "Training Loss:0.009254 Batch 20/100 \n",
            "Training Loss:0.026593 Batch 40/100 \n",
            "Training Loss:0.006281 Batch 60/100 \n",
            "Training Loss:0.000926 Batch 80/100 \n",
            "Epoch 15, Test Accuracy 96.950 %\n",
            "Training Loss:0.014521 Batch 0/100 \n",
            "Training Loss:0.031286 Batch 20/100 \n",
            "Training Loss:0.007574 Batch 40/100 \n",
            "Training Loss:0.015045 Batch 60/100 \n",
            "Training Loss:0.000480 Batch 80/100 \n",
            "Epoch 16, Test Accuracy 97.300 %\n",
            "Training Loss:0.000978 Batch 0/100 \n",
            "Training Loss:0.003814 Batch 20/100 \n",
            "Training Loss:0.000792 Batch 40/100 \n",
            "Training Loss:0.000201 Batch 60/100 \n",
            "Training Loss:0.002761 Batch 80/100 \n",
            "Epoch 17, Test Accuracy 97.600 %\n",
            "Training Loss:0.000307 Batch 0/100 \n",
            "Training Loss:0.000470 Batch 20/100 \n",
            "Training Loss:0.000152 Batch 40/100 \n",
            "Training Loss:0.001998 Batch 60/100 \n",
            "Training Loss:0.000831 Batch 80/100 \n",
            "Epoch 18, Test Accuracy 98.000 %\n",
            "Training Loss:0.000242 Batch 0/100 \n",
            "Training Loss:0.000141 Batch 20/100 \n",
            "Training Loss:0.000652 Batch 40/100 \n",
            "Training Loss:0.000166 Batch 60/100 \n",
            "Training Loss:0.000566 Batch 80/100 \n",
            "Epoch 19, Test Accuracy 97.900 %\n"
          ]
        }
      ]
    },
    {
      "cell_type": "code",
      "source": [
        "# Plot the accuracy curves w.r.t. epochs\n",
        "plt.plot(acc_count, marker='.')\n",
        "plt.ylabel('Accuracy')\n",
        "plt.xlabel('Epochs')\n",
        "plt.title('Test Accuracy of CNN')\n",
        "plt.show()"
      ],
      "metadata": {
        "id": "V4gtbMW6jBRC",
        "colab": {
          "base_uri": "https://localhost:8080/",
          "height": 480
        },
        "outputId": "4ac05e66-53df-4e15-d1c0-98d05e061f90"
      },
      "execution_count": 8,
      "outputs": [
        {
          "output_type": "display_data",
          "data": {
            "text/plain": [
              "<Figure size 640x480 with 1 Axes>"
            ],
            "image/png": "[encoded data removed]"
          },
          "metadata": {}
        }
      ]
    },
    {
      "cell_type": "markdown",
      "source": [
        "## CNN Parameters Experiment"
      ],
      "metadata": {
        "id": "EO21AhxADGV-"
      }
    },
    {
      "cell_type": "markdown",
      "source": [
        "To explore the outlined experiments within the provided CNN architecture for the MNIST dataset, let's update the code to reflect these experiments. This involves modifying the `CNNnet` class to make it more flexible, allowing for easy adjustments to layers, filter sizes, kernel sizes, incorporation of pooling layers, and experimentation with activation functions and batch normalization.\n",
        "\n",
        "### Notes on the Updated Code:\n",
        "- **Number of Convolutional Layers & Filters**: The constructor now accepts `num_conv_layers` and `filters`, allowing you to specify the number of convolutional layers and the number of filters in each layer.\n",
        "- **Kernel Sizes**: You can specify `kernel_sizes` for each convolutional layer to explore the impact of different kernel sizes.\n",
        "- **Activation Functions**: The `activation` parameter allows you to switch between different activation functions (`'relu'`, `'leaky_relu'`, `'tanh'`).\n",
        "- **Batch Normalization**: The `use_batch_norm` boolean controls the use of batch normalization after each convolutional layer.\n",
        "- **Pooling Layers**: The `use_pooling` list specifies which convolutional layers are followed by a MaxPooling layer.\n",
        "- **Fully Connected Layers**: The size of the input to the first fully connected layer (`self.mlp1`) may need adjustment based on the architecture of your convolutional layers and the inclusion of pooling layers.\n",
        "\n",
        "### Experimenting with the Network:\n",
        "To experiment with different configurations, you can instantiate the `CNNnet` class with different parameters. For example, to create a network with 5 convolutional layers, more filters, and LeakyReLU activation functions without batch normalization, you could do:\n",
        "\n",
        "```python\n",
        "model = CNNnet(num_conv_layers=5, filters=[16, 32, 64, 128, 256], kernel_sizes=[3, 5, 3, 3, 3], activation='leaky_relu', use_batch_norm=False, use_pooling=[True, False, True, False, True])\n",
        "```\n",
        "\n",
        "### Running the Experiments:\n",
        "To run the experiments, you'll need to adjust the parameters according to the experiments you're interested in and train the model. Since the performance and behavior of the network can vary significantly with these changes, it's crucial to carefully monitor the training process, check for signs of overfitting or underfitting, and possibly adjust the learning rate or the training duration accordingly."
      ],
      "metadata": {
        "id": "GwQljgZbDdtv"
      }
    },
    {
      "cell_type": "code",
      "source": [
        "class CNNnet(torch.nn.Module):\n",
        "    def __init__(self, num_conv_layers=4, filters=[16, 32, 64, 128], kernel_sizes=[3, 3, 3, 3], activation='relu', use_batch_norm=True, use_pooling=[False, True, False, True]):\n",
        "        super(CNNnet, self).__init__()\n",
        "        layers = []\n",
        "\n",
        "        in_channels = 1  # MNIST images are in grayscale\n",
        "        for i in range(num_conv_layers):\n",
        "            layers.append(torch.nn.Conv2d(in_channels, filters[i], kernel_size=kernel_sizes[i], stride=1, padding=kernel_sizes[i]//2))\n",
        "            if use_batch_norm:\n",
        "                layers.append(torch.nn.BatchNorm2d(filters[i]))\n",
        "            if activation == 'relu':\n",
        "                layers.append(torch.nn.ReLU())\n",
        "            elif activation == 'leaky_relu':\n",
        "                layers.append(torch.nn.LeakyReLU())\n",
        "            elif activation == 'tanh':\n",
        "                layers.append(torch.nn.Tanh())\n",
        "            if use_pooling[i]:\n",
        "                layers.append(torch.nn.MaxPool2d(kernel_size=2, stride=2))\n",
        "            in_channels = filters[i]\n",
        "\n",
        "        self.conv_layers = torch.nn.Sequential(*layers)\n",
        "\n",
        "        # Adjust the size below based on your final layer output after convolutions and optional pooling\n",
        "        self.mlp1 = torch.nn.Linear(filters[-1] * 7 * 7, 128)  # Example for the first FC layer\n",
        "        self.mlp2 = torch.nn.Linear(128, 10)  # MNIST has 10 classes\n",
        "\n",
        "    def forward(self, x):\n",
        "        x = self.conv_layers(x)\n",
        "        x = x.view(x.size(0), -1)  # Flatten the output for the FC layers\n",
        "        x = torch.nn.functional.relu(self.mlp1(x))\n",
        "        x = self.mlp2(x)\n",
        "        return x\n"
      ],
      "metadata": {
        "id": "UB3ss9AGDG0k"
      },
      "execution_count": 9,
      "outputs": []
    },
    {
      "cell_type": "code",
      "source": [
        "model = CNNnet(num_conv_layers=5, filters=[16, 32, 64, 128, 256], kernel_sizes=[3, 5, 3, 3, 3], activation='leaky_relu', use_batch_norm=False, use_pooling=[True, False, True, False, True])\n"
      ],
      "metadata": {
        "id": "a8CqeG6zDbtv"
      },
      "execution_count": 10,
      "outputs": []
    },
    {
      "cell_type": "code",
      "source": [
        "# You can adjust the hyperparameters here if needed\n",
        "train_epoch = 20\n",
        "batch_size = 100\n",
        "shuffle = True\n",
        "\n",
        "# Define model\n",
        "model = CNNnet()\n",
        "\n",
        "# where to save the model\n",
        "model_save = './MNIST_CNN/ckpt_v2.pth'\n",
        "\n",
        "import os\n",
        "if not os.path.exists('MNIST_CNN'):\n",
        "    os.mkdir('MNIST_CNN')\n",
        "\n",
        "# load datasets\n",
        "train_loader, test_loader = get_mnist_loader(batch_size=batch_size)\n",
        "\n",
        "# train the model\n",
        "acc_count = train(model, train_epoch=train_epoch, model_save=model_save, train_loader=train_loader, test_loader=test_loader)"
      ],
      "metadata": {
        "colab": {
          "base_uri": "https://localhost:8080/"
        },
        "id": "9mLKEHdQDiqz",
        "outputId": "4fd6e56d-17a5-4e44-9463-dd3acb815d8e"
      },
      "execution_count": 12,
      "outputs": [
        {
          "output_type": "stream",
          "name": "stdout",
          "text": [
            "Training Loss:2.348467 Batch 0/100 \n",
            "Training Loss:0.699602 Batch 20/100 \n",
            "Training Loss:0.215621 Batch 40/100 \n",
            "Training Loss:0.070554 Batch 60/100 \n",
            "Training Loss:0.152414 Batch 80/100 \n",
            "Epoch 0, Test Accuracy 94.950 %\n",
            "Training Loss:0.068293 Batch 0/100 \n",
            "Training Loss:0.035506 Batch 20/100 \n",
            "Training Loss:0.050653 Batch 40/100 \n",
            "Training Loss:0.132257 Batch 60/100 \n",
            "Training Loss:0.058451 Batch 80/100 \n",
            "Epoch 1, Test Accuracy 96.950 %\n",
            "Training Loss:0.065299 Batch 0/100 \n",
            "Training Loss:0.039654 Batch 20/100 \n",
            "Training Loss:0.086638 Batch 40/100 \n",
            "Training Loss:0.096029 Batch 60/100 \n",
            "Training Loss:0.053845 Batch 80/100 \n",
            "Epoch 2, Test Accuracy 97.400 %\n",
            "Training Loss:0.037662 Batch 0/100 \n",
            "Training Loss:0.023793 Batch 20/100 \n",
            "Training Loss:0.040742 Batch 40/100 \n",
            "Training Loss:0.024525 Batch 60/100 \n",
            "Training Loss:0.017350 Batch 80/100 \n",
            "Epoch 3, Test Accuracy 98.500 %\n",
            "Training Loss:0.010714 Batch 0/100 \n",
            "Training Loss:0.015622 Batch 20/100 \n",
            "Training Loss:0.005086 Batch 40/100 \n",
            "Training Loss:0.022898 Batch 60/100 \n",
            "Training Loss:0.014747 Batch 80/100 \n",
            "Epoch 4, Test Accuracy 98.700 %\n",
            "Training Loss:0.016732 Batch 0/100 \n",
            "Training Loss:0.015756 Batch 20/100 \n",
            "Training Loss:0.045806 Batch 40/100 \n",
            "Training Loss:0.008799 Batch 60/100 \n",
            "Training Loss:0.019603 Batch 80/100 \n",
            "Epoch 5, Test Accuracy 98.700 %\n",
            "Training Loss:0.031755 Batch 0/100 \n",
            "Training Loss:0.010018 Batch 20/100 \n",
            "Training Loss:0.001756 Batch 40/100 \n",
            "Training Loss:0.006816 Batch 60/100 \n",
            "Training Loss:0.010893 Batch 80/100 \n",
            "Epoch 6, Test Accuracy 98.700 %\n",
            "Training Loss:0.002299 Batch 0/100 \n",
            "Training Loss:0.011487 Batch 20/100 \n",
            "Training Loss:0.007262 Batch 40/100 \n",
            "Training Loss:0.019517 Batch 60/100 \n",
            "Training Loss:0.005691 Batch 80/100 \n",
            "Epoch 7, Test Accuracy 98.450 %\n",
            "Training Loss:0.008606 Batch 0/100 \n",
            "Training Loss:0.040745 Batch 20/100 \n",
            "Training Loss:0.019476 Batch 40/100 \n",
            "Training Loss:0.018559 Batch 60/100 \n",
            "Training Loss:0.001564 Batch 80/100 \n",
            "Epoch 8, Test Accuracy 98.150 %\n",
            "Training Loss:0.025844 Batch 0/100 \n",
            "Training Loss:0.011698 Batch 20/100 \n",
            "Training Loss:0.004195 Batch 40/100 \n",
            "Training Loss:0.002007 Batch 60/100 \n",
            "Training Loss:0.000992 Batch 80/100 \n",
            "Epoch 9, Test Accuracy 97.550 %\n",
            "Training Loss:0.008950 Batch 0/100 \n",
            "Training Loss:0.009371 Batch 20/100 \n",
            "Training Loss:0.003043 Batch 40/100 \n",
            "Training Loss:0.002196 Batch 60/100 \n",
            "Training Loss:0.003710 Batch 80/100 \n",
            "Epoch 10, Test Accuracy 98.300 %\n",
            "Training Loss:0.017312 Batch 0/100 \n",
            "Training Loss:0.005849 Batch 20/100 \n",
            "Training Loss:0.002119 Batch 40/100 \n",
            "Training Loss:0.000620 Batch 60/100 \n",
            "Training Loss:0.002751 Batch 80/100 \n",
            "Epoch 11, Test Accuracy 98.050 %\n",
            "Training Loss:0.029510 Batch 0/100 \n",
            "Training Loss:0.017259 Batch 20/100 \n",
            "Training Loss:0.002252 Batch 40/100 \n",
            "Training Loss:0.001364 Batch 60/100 \n",
            "Training Loss:0.000675 Batch 80/100 \n",
            "Epoch 12, Test Accuracy 98.850 %\n",
            "Training Loss:0.006644 Batch 0/100 \n",
            "Training Loss:0.000983 Batch 20/100 \n",
            "Training Loss:0.000507 Batch 40/100 \n",
            "Training Loss:0.002586 Batch 60/100 \n",
            "Training Loss:0.000872 Batch 80/100 \n",
            "Epoch 13, Test Accuracy 99.050 %\n",
            "Training Loss:0.000122 Batch 0/100 \n",
            "Training Loss:0.000731 Batch 20/100 \n",
            "Training Loss:0.000376 Batch 40/100 \n",
            "Training Loss:0.000199 Batch 60/100 \n",
            "Training Loss:0.000313 Batch 80/100 \n",
            "Epoch 14, Test Accuracy 99.150 %\n",
            "Training Loss:0.000067 Batch 0/100 \n",
            "Training Loss:0.000448 Batch 20/100 \n",
            "Training Loss:0.000175 Batch 40/100 \n",
            "Training Loss:0.000108 Batch 60/100 \n",
            "Training Loss:0.000206 Batch 80/100 \n",
            "Epoch 15, Test Accuracy 99.200 %\n",
            "Training Loss:0.000189 Batch 0/100 \n",
            "Training Loss:0.000143 Batch 20/100 \n",
            "Training Loss:0.000093 Batch 40/100 \n",
            "Training Loss:0.000093 Batch 60/100 \n",
            "Training Loss:0.000138 Batch 80/100 \n",
            "Epoch 16, Test Accuracy 99.200 %\n",
            "Training Loss:0.000151 Batch 0/100 \n",
            "Training Loss:0.000083 Batch 20/100 \n",
            "Training Loss:0.000013 Batch 40/100 \n",
            "Training Loss:0.000059 Batch 60/100 \n",
            "Training Loss:0.000007 Batch 80/100 \n",
            "Epoch 17, Test Accuracy 99.200 %\n",
            "Training Loss:0.000153 Batch 0/100 \n",
            "Training Loss:0.000225 Batch 20/100 \n",
            "Training Loss:0.000048 Batch 40/100 \n",
            "Training Loss:0.000194 Batch 60/100 \n",
            "Training Loss:0.000143 Batch 80/100 \n",
            "Epoch 18, Test Accuracy 99.150 %\n",
            "Training Loss:0.000069 Batch 0/100 \n",
            "Training Loss:0.000046 Batch 20/100 \n",
            "Training Loss:0.000209 Batch 40/100 \n",
            "Training Loss:0.000090 Batch 60/100 \n",
            "Training Loss:0.000102 Batch 80/100 \n",
            "Epoch 19, Test Accuracy 99.100 %\n"
          ]
        }
      ]
    },
    {
      "cell_type": "code",
      "source": [
        "# Plot the accuracy curves w.r.t. epochs\n",
        "plt.plot(acc_count, marker='.')\n",
        "plt.ylabel('Accuracy')\n",
        "plt.xlabel('Epochs')\n",
        "plt.title('Test Accuracy of CNN')\n",
        "plt.show()"
      ],
      "metadata": {
        "colab": {
          "base_uri": "https://localhost:8080/",
          "height": 480
        },
        "id": "mcMKgUnNDuVh",
        "outputId": "c7a17b5a-a5e9-4d79-b80d-f5220acd2eaa"
      },
      "execution_count": 13,
      "outputs": [
        {
          "output_type": "display_data",
          "data": {
            "text/plain": [
              "<Figure size 640x480 with 1 Axes>"
            ],
            "image/png": "[encoded data removed]"
          },
          "metadata": {}
        }
      ]
    },
    {
      "cell_type": "code",
      "source": [],
      "metadata": {
        "id": "6oBw6PcKEPgT"
      },
      "execution_count": null,
      "outputs": []
    }
  ]
}