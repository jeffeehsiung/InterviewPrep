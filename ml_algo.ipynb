{
 "cells": [
  {
   "cell_type": "code",
   "execution_count": null,
   "metadata": {},
   "outputs": [],
   "source": [
    "# Intersection over union (IoU) is a common evaluation metric for object detection tasks.\n",
    "#  1. NMS\n",
    "#  2. mAP\n",
    "\n",
    "import numpy as np\n",
    "import matplotlib.pyplot as plt\n",
    "import matplotlib.patches as patches\n",
    "\n",
    "def computeIOU(boxA, boxB):\n",
    "    # determine the (x, y)-coordinates of the intersection rectangle\n",
    "    xA = max(boxA[0], boxB[0])\n",
    "    yA = max(boxA[1], boxB[1])\n",
    "    xB = min(boxA[2], boxB[2])\n",
    "    yB = min(boxA[3], boxB[3])\n",
    "\n",
    "    # compute the area of intersection rectangle\n",
    "    interArea = max(0, xB - xA) * max(0, yB - yA)\n",
    "\n",
    "    # compute the area of both the prediction and ground-truth rectangles\n",
    "    boxAArea = (boxA[2] - boxA[0]) * (boxA[3] - boxA[1])\n",
    "    boxBArea = (boxB[2] - boxB[0]) * (boxB[3] - boxB[1])\n",
    "\n",
    "    # compute the intersection over union by taking the intersection\n",
    "    # area and dividing it by the sum of prediction + ground-truth\n",
    "    # areas - the interesection area\n",
    "    iou = interArea / float(boxAArea + boxBArea - interArea)\n",
    "\n",
    "    # return the intersection over union value\n",
    "    return iou\n",
    "\n",
    "# main function\n",
    "def main():\n",
    "    # define the two bounding boxes\n",
    "    boxA = (10, 10, 50, 50)\n",
    "    boxB = (40, 40, 80, 80)\n",
    "\n",
    "    # compute the intersection over union and display it\n",
    "    iou = computeIOU(boxA, boxB)\n",
    "    print(\"IoU: {:.2f}\".format(iou))\n",
    "\n",
    "    # plot the bounding boxes\n",
    "    fig, ax = plt.subplots(1)\n",
    "    ax.add_patch(patches.Rectangle((boxA[0], boxA[1]), boxA[2] - boxA[0], boxA[3] - boxA[1], edgecolor='r', facecolor='none'))\n",
    "    ax.add_patch(patches.Rectangle((boxB[0], boxB[1]), boxB[2] - boxB[0], boxB[3] - boxB[1], edgecolor='b', facecolor='none'))\n",
    "    plt.xlim([0, 100])\n",
    "    plt.ylim([0, 100])\n",
    "    plt.show()"
   ]
  },
  {
   "cell_type": "code",
   "execution_count": null,
   "metadata": {},
   "outputs": [],
   "source": [
    "# Non-Maximum Suppression"
   ]
  }
 ],
 "metadata": {
  "kernelspec": {
   "display_name": "venv",
   "language": "python",
   "name": "python3"
  },
  "language_info": {
   "name": "python",
   "version": "3.12.4"
  }
 },
 "nbformat": 4,
 "nbformat_minor": 2
}
