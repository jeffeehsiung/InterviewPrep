{
  "cells": [
    {
      "cell_type": "markdown",
      "metadata": {
        "id": "W3bakQdkHOAy"
      },
      "source": [
        "# ENPM 673 - Perception for Autonomous Robots\n",
        "### Rohan Maan, Jay Prajapati, Dr. Samer Charifa, Dr. Tommy Chang"
      ]
    },
    {
      "cell_type": "markdown",
      "metadata": {
        "id": "ZBgds-EcHOA7"
      },
      "source": [
        "# Introduction to Python"
      ]
    },
    {
      "cell_type": "markdown",
      "metadata": {
        "id": "3NwcJ_yVHlQF"
      },
      "source": [
        "# Some points to note\n",
        "- Python emphasises code readability, shorter codes, ease of writing.\n",
        "- Python supports multiple programming paradigms, like object-oriented, imperative and functional programming or procedural.\n",
        "- It provides extensive support libraries(Django for web development, Pandas for data analytics, OpenCV for Computer Vision, Numpy for numerical operations, Matplotlib for plotting and visualization etc)\n",
        "- Dynamically typed language(Data type is based on value assigned, user need not mention the datatype unlike in Java, C++)\n",
        "- Identation is the key! <br>Note: Copy pasting code from other source might result in indentation error based on the editor that you use.\n",
        "- Single line comment starts with '#'\n",
        "- Multiple line comment starts with \"\"\" and ends with \"\"\" <br> See the below code snippet\n",
        "- User input can be taken by using python's inbuilt function 'input()'. Note that the input function returns the value as string and depending on the input that is intended, the returned value should be typecasted. The type of a variable (or) value can be checked by using 'type()' function."
      ]
    },
    {
      "cell_type": "code",
      "execution_count": null,
      "metadata": {
        "colab": {
          "base_uri": "https://localhost:8080/"
        },
        "id": "6lT4NAdkKWiD",
        "outputId": "de4f8c1e-8606-44a9-e799-90bc65704fb7"
      },
      "outputs": [
        {
          "name": "stdout",
          "output_type": "stream",
          "text": [
            "This is multiline comment\n"
          ]
        }
      ],
      "source": [
        "# Single line comment\n",
        "\"\"\"\n",
        "Multiline comment\n",
        "\"\"\"\n",
        "print(\"This is multiline comment\")"
      ]
    },
    {
      "cell_type": "markdown",
      "metadata": {
        "id": "Q6AYjHpQSzNW"
      },
      "source": [
        "Take user input"
      ]
    },
    {
      "cell_type": "code",
      "execution_count": null,
      "metadata": {
        "colab": {
          "base_uri": "https://localhost:8080/"
        },
        "id": "z7oJjbPxSxTy",
        "outputId": "80b5aae9-21c4-4652-c35b-e1295fe98d31"
      },
      "outputs": [
        {
          "name": "stdout",
          "output_type": "stream",
          "text": [
            "Enter the file name: new.py\n",
            "You entered new.py\n"
          ]
        }
      ],
      "source": [
        "file_name = input('Enter the file name: ')\n",
        "print(f'You entered {file_name}')"
      ]
    },
    {
      "cell_type": "markdown",
      "metadata": {
        "id": "icUojn_FLKZD"
      },
      "source": [
        "# 1. Arithmetic Operators"
      ]
    },
    {
      "cell_type": "code",
      "execution_count": null,
      "metadata": {
        "colab": {
          "base_uri": "https://localhost:8080/"
        },
        "id": "6TYxQn1GLNJp",
        "outputId": "0a04bd93-da44-4ac6-ed49-2c2be03fb4ba"
      },
      "outputs": [
        {
          "name": "stdout",
          "output_type": "stream",
          "text": [
            "13\n",
            "5\n",
            "36\n",
            "2.25\n",
            "2\n",
            "1\n"
          ]
        }
      ],
      "source": [
        "# Examples of Arithmetic Operator\n",
        "a = 9\n",
        "b = 4\n",
        "\n",
        "# Addition of numbers\n",
        "add = a + b\n",
        "# Subtraction of numbers\n",
        "sub = a - b\n",
        "# Multiplication of number\n",
        "mul = a * b\n",
        "# Division(float) of number\n",
        "div1 = a / b\n",
        "# Division(floor) of number\n",
        "div2 = a // b\n",
        "# Modulo of both number\n",
        "mod = a % b\n",
        "\n",
        "# print results\n",
        "print(add)\n",
        "print(sub)\n",
        "print(mul)\n",
        "print(div1)\n",
        "print(div2)\n",
        "print(mod)"
      ]
    },
    {
      "cell_type": "markdown",
      "metadata": {
        "id": "uDEPlKnDLPwK"
      },
      "source": [
        "# 2. Relational Operators\n"
      ]
    },
    {
      "cell_type": "code",
      "execution_count": null,
      "metadata": {
        "colab": {
          "base_uri": "https://localhost:8080/"
        },
        "id": "UdUNOcQ3LZXi",
        "outputId": "ae207696-c7a8-413f-a378-d3feebd14f49"
      },
      "outputs": [
        {
          "name": "stdout",
          "output_type": "stream",
          "text": [
            "False\n",
            "True\n",
            "False\n",
            "True\n",
            "False\n",
            "True\n"
          ]
        }
      ],
      "source": [
        "# Examples of Relational Operators\n",
        "a = 13\n",
        "b = 33\n",
        "\n",
        "# a > b is False\n",
        "print(a > b)\n",
        "\n",
        "# a < b is True\n",
        "print(a < b)\n",
        "\n",
        "# a == b is False\n",
        "print(a == b)\n",
        "\n",
        "# a != b is True\n",
        "print(a != b)\n",
        "\n",
        "# a >= b is False\n",
        "print(a >= b)\n",
        "\n",
        "# a <= b is True\n",
        "print(a <= b)"
      ]
    },
    {
      "cell_type": "markdown",
      "metadata": {
        "id": "ibrhM4vrLiCz"
      },
      "source": [
        "# 3. Logical Operators"
      ]
    },
    {
      "cell_type": "code",
      "execution_count": null,
      "metadata": {
        "colab": {
          "base_uri": "https://localhost:8080/"
        },
        "id": "Z8RfBEEzLkCR",
        "outputId": "e4770629-c558-40b4-de9d-d2bbb4603602"
      },
      "outputs": [
        {
          "name": "stdout",
          "output_type": "stream",
          "text": [
            "False\n",
            "True\n",
            "False\n"
          ]
        }
      ],
      "source": [
        "# Examples of Logical Operator\n",
        "a = True\n",
        "b = False\n",
        "\n",
        "# Print a and b is False\n",
        "print(a and b)\n",
        "\n",
        "# Print a or b is True\n",
        "print(a or b)\n",
        "\n",
        "# Print not a is False\n",
        "print(not a)"
      ]
    },
    {
      "cell_type": "markdown",
      "metadata": {
        "id": "yMznavk8HOA8"
      },
      "source": [
        "# 4.0 Lists"
      ]
    },
    {
      "cell_type": "markdown",
      "metadata": {
        "id": "fENpzQUCHOA9"
      },
      "source": [
        "A list is a sequence of values. Lists need not be homogeneous always which makes it a most powerful tool in Python. Lists are mutable, and hence, they can be altered even after their creation. Lists in Python are ordered and have a definite count.The values in the list, also known as elements are enclosed in square brackets.For example : [25, 40, 50, 80]"
      ]
    },
    {
      "cell_type": "markdown",
      "metadata": {
        "id": "pp3HVgLwHOA9"
      },
      "source": [
        "### 4.1 Creating a List"
      ]
    },
    {
      "cell_type": "code",
      "execution_count": null,
      "metadata": {
        "colab": {
          "base_uri": "https://localhost:8080/"
        },
        "id": "SFzYCHlQHOA-",
        "outputId": "837cf93d-4be2-4ecc-a6cd-fe1425eb3112"
      },
      "outputs": [
        {
          "name": "stdout",
          "output_type": "stream",
          "text": [
            "1\n"
          ]
        }
      ],
      "source": [
        "#Creating a list of numbers and printing the second element:\n",
        "num_list = [0, 1, 2, 3, 4, 5]\n",
        "\n",
        "# Accessing and printing the second element\n",
        "print(num_list[1])\n",
        "# Indexing starts with 0!"
      ]
    },
    {
      "cell_type": "markdown",
      "metadata": {
        "id": "rfQzLkYIHOBA"
      },
      "source": [
        "### 4.2 Modifying the List"
      ]
    },
    {
      "cell_type": "code",
      "execution_count": null,
      "metadata": {
        "colab": {
          "base_uri": "https://localhost:8080/"
        },
        "id": "zBAzwx5sHOBB",
        "outputId": "d2256192-6baa-40cd-b1b3-bc6359a95187"
      },
      "outputs": [
        {
          "name": "stdout",
          "output_type": "stream",
          "text": [
            "[100, 1, 2, 3, 4, 5]\n"
          ]
        }
      ],
      "source": [
        "#Modifying the first element and printing the updated list\n",
        "num_list[0] = 100\n",
        "print(num_list)"
      ]
    },
    {
      "cell_type": "markdown",
      "metadata": {
        "id": "VL_haaiGHOBC"
      },
      "source": [
        "### 4.3 Adding a new element to the List / Appending"
      ]
    },
    {
      "cell_type": "code",
      "execution_count": null,
      "metadata": {
        "colab": {
          "base_uri": "https://localhost:8080/"
        },
        "id": "wfaRen1DHOBE",
        "outputId": "9a1d9e4b-3ae1-4fe2-88ec-d084811028e1"
      },
      "outputs": [
        {
          "name": "stdout",
          "output_type": "stream",
          "text": [
            "[100, 1, 2, 3, 4, 5, 10]\n"
          ]
        }
      ],
      "source": [
        "# Adding number 10\n",
        "num_list.append(10)\n",
        "print(num_list)"
      ]
    },
    {
      "cell_type": "markdown",
      "metadata": {
        "id": "PHwzILmlHOBF"
      },
      "source": [
        "### 4.4 Removing an element from the List"
      ]
    },
    {
      "cell_type": "code",
      "execution_count": null,
      "metadata": {
        "colab": {
          "base_uri": "https://localhost:8080/"
        },
        "id": "demj2ya-HOBF",
        "outputId": "207e569e-a87c-4ce7-b35e-e7db55948376"
      },
      "outputs": [
        {
          "name": "stdout",
          "output_type": "stream",
          "text": [
            "[100, 1, 2, 3, 4, 5]\n"
          ]
        }
      ],
      "source": [
        "#Removing the last element\n",
        "# Method 1 using the in-built pop function and accessing the last element with negative index:\n",
        "num_list.pop(-1)\n",
        "print(num_list)"
      ]
    },
    {
      "cell_type": "code",
      "execution_count": null,
      "metadata": {
        "colab": {
          "base_uri": "https://localhost:8080/"
        },
        "id": "wCkDtQ15HOBG",
        "outputId": "fa0d98fb-d832-411e-91cc-b241fceefd2b"
      },
      "outputs": [
        {
          "name": "stdout",
          "output_type": "stream",
          "text": [
            "[100, 1, 2, 3, 4]\n"
          ]
        }
      ],
      "source": [
        "# Method 2 by finding the index of the last element and deleting it:\n",
        "del num_list[len(num_list)-1]\n",
        "print(num_list)"
      ]
    },
    {
      "cell_type": "markdown",
      "metadata": {
        "id": "zsnY5G6xHOBG"
      },
      "source": [
        "### 4.5 Sorting the list"
      ]
    },
    {
      "cell_type": "code",
      "execution_count": null,
      "metadata": {
        "colab": {
          "base_uri": "https://localhost:8080/"
        },
        "id": "qwdnEdmBHOBH",
        "outputId": "29979299-0a94-4872-8906-602643148437"
      },
      "outputs": [
        {
          "name": "stdout",
          "output_type": "stream",
          "text": [
            "[1, 2, 3, 4, 100]\n"
          ]
        }
      ],
      "source": [
        "num_list.sort()\n",
        "print(num_list)"
      ]
    },
    {
      "cell_type": "markdown",
      "metadata": {
        "id": "uUVHD6JmHOBH"
      },
      "source": [
        "### 4.6 Slicing the list\n",
        "Lets print the second and third element"
      ]
    },
    {
      "cell_type": "code",
      "execution_count": null,
      "metadata": {
        "colab": {
          "base_uri": "https://localhost:8080/"
        },
        "id": "gxPhg4DLHOBI",
        "outputId": "4403f5e6-c20d-43ae-db2b-a372bef3e436"
      },
      "outputs": [
        {
          "name": "stdout",
          "output_type": "stream",
          "text": [
            "[2, 3]\n"
          ]
        }
      ],
      "source": [
        "print(num_list[1:3])"
      ]
    },
    {
      "cell_type": "markdown",
      "metadata": {
        "id": "bzZDobF1SFcv"
      },
      "source": [
        "### 4.7 Reversing a list"
      ]
    },
    {
      "cell_type": "code",
      "execution_count": null,
      "metadata": {
        "colab": {
          "base_uri": "https://localhost:8080/"
        },
        "id": "0FXpiA7PSEbH",
        "outputId": "7edd5cc2-946d-41de-f8d5-4c7ac8cc52a7"
      },
      "outputs": [
        {
          "name": "stdout",
          "output_type": "stream",
          "text": [
            "[5, 4, 3, 2, 1]\n"
          ]
        }
      ],
      "source": [
        "# Using list.reverse() to reverse a list in Python\n",
        "values = [1, 2, 3, 4, 5]\n",
        "values.reverse()\n",
        "print(values)\n",
        "\n",
        "# Returns: [5, 4, 3, 2, 1]"
      ]
    },
    {
      "cell_type": "markdown",
      "metadata": {
        "id": "OmkTyNlm1NMl"
      },
      "source": [
        "### 4.8 Length of the list"
      ]
    },
    {
      "cell_type": "code",
      "execution_count": null,
      "metadata": {
        "colab": {
          "base_uri": "https://localhost:8080/"
        },
        "id": "tu92W6YD1Rmk",
        "outputId": "7bb2a80b-1317-42b3-a8ae-5d145e4818f5"
      },
      "outputs": [
        {
          "name": "stdout",
          "output_type": "stream",
          "text": [
            "5\n"
          ]
        }
      ],
      "source": [
        "list_len = len(values)\n",
        "print(list_len)"
      ]
    },
    {
      "cell_type": "markdown",
      "metadata": {
        "id": "LTT-TwlZT9-4"
      },
      "source": [
        "## Exercise\n",
        "- Create a list of natural numbers from 1 to 50 that are divisible by 3.\n",
        "- Print the whole array\n",
        "- Print the length of the list\n",
        "- Access the number 39 in the list and print the index\n"
      ]
    },
    {
      "cell_type": "code",
      "execution_count": null,
      "metadata": {
        "id": "0zk2ETZCT9cP"
      },
      "outputs": [],
      "source": [
        "## Write your code Here ##"
      ]
    },
    {
      "cell_type": "markdown",
      "metadata": {
        "id": "cXcXpzu8RkrE"
      },
      "source": [
        "### 4.9 2-Dimensional List\n",
        "Note that we can have a list inside a list. That is called a 2-D List. If there are multiple of that kind (more info when you learn numpy and opencv), then it is called multi dimensional list.\n",
        "\n",
        "For example,"
      ]
    },
    {
      "cell_type": "code",
      "execution_count": null,
      "metadata": {
        "colab": {
          "base_uri": "https://localhost:8080/"
        },
        "id": "GMGTDZZ6SBop",
        "outputId": "f9ab47be-f76c-414b-e793-a59cc23503a0"
      },
      "outputs": [
        {
          "name": "stdout",
          "output_type": "stream",
          "text": [
            "A\n",
            "D\n"
          ]
        }
      ],
      "source": [
        "two_d_list = [[\"A\", \"B\"], [\"C\", \"D\"]]\n",
        "# Accessing elements in a 2D List\n",
        "print(two_d_list[0][0])\n",
        "print(two_d_list[-1][-1])"
      ]
    },
    {
      "cell_type": "markdown",
      "metadata": {
        "id": "0OFx8VGGHOBL"
      },
      "source": [
        "# 5.0  Tuples\n",
        "A Tuple is a collection of Python objects separated by commas. In someways a tuple is similar to a list in terms of indexing, nested objects and repetition but a tuple is immutable unlike lists which are mutable.\n",
        "\n",
        "### 5.1 Creating tuples"
      ]
    },
    {
      "cell_type": "code",
      "execution_count": null,
      "metadata": {
        "colab": {
          "base_uri": "https://localhost:8080/"
        },
        "id": "X1beWPQzHOBL",
        "outputId": "8cc812b2-f366-4223-ab67-ee81122135b2"
      },
      "outputs": [
        {
          "name": "stdout",
          "output_type": "stream",
          "text": [
            "()\n"
          ]
        }
      ],
      "source": [
        "# An empty tuple\n",
        "empty_tuple = ()\n",
        "print (empty_tuple)"
      ]
    },
    {
      "cell_type": "code",
      "execution_count": null,
      "metadata": {
        "colab": {
          "base_uri": "https://localhost:8080/"
        },
        "id": "S6FwLhp8HOBM",
        "outputId": "9e0593f2-592a-42e8-cbe1-c01c59a2333e"
      },
      "outputs": [
        {
          "name": "stdout",
          "output_type": "stream",
          "text": [
            "('python', 'geeks')\n",
            "('python', 'geeks')\n"
          ]
        }
      ],
      "source": [
        "# Creating non-empty tuples\n",
        "\n",
        "# One way of creation\n",
        "tup = 'python', 'geeks'\n",
        "print(tup)\n",
        "\n",
        "# Another for doing the same\n",
        "tup = ('python', 'geeks')\n",
        "print(tup)"
      ]
    },
    {
      "cell_type": "markdown",
      "metadata": {
        "id": "LTpR0d4dHOBM"
      },
      "source": [
        "### 5.2 Concatenation of Tuples"
      ]
    },
    {
      "cell_type": "code",
      "execution_count": null,
      "metadata": {
        "colab": {
          "base_uri": "https://localhost:8080/"
        },
        "id": "mBbUU2omHOBN",
        "outputId": "65262495-e6e9-4e56-a7c8-64cec9e5a73a"
      },
      "outputs": [
        {
          "name": "stdout",
          "output_type": "stream",
          "text": [
            "(0, 1, 2, 3, 'python', 'geek')\n"
          ]
        }
      ],
      "source": [
        "# Code for concatenating 2 tuples\n",
        "\n",
        "tuple1 = (0, 1, 2, 3)\n",
        "tuple2 = ('python', 'geek')\n",
        "\n",
        "# Concatenating above two\n",
        "print(tuple1 + tuple2)"
      ]
    },
    {
      "cell_type": "markdown",
      "metadata": {
        "id": "9i1EeaAuHOBN"
      },
      "source": [
        "### 5.3 Nesting of Tuples"
      ]
    },
    {
      "cell_type": "code",
      "execution_count": null,
      "metadata": {
        "colab": {
          "base_uri": "https://localhost:8080/"
        },
        "id": "yc3KhI6lHOBN",
        "outputId": "4a7858e8-5e31-4727-f671-9a4d78166b64"
      },
      "outputs": [
        {
          "name": "stdout",
          "output_type": "stream",
          "text": [
            "((0, 1, 2, 3), ('python', 'geek'))\n"
          ]
        }
      ],
      "source": [
        "# Code for creating nested tuples\n",
        "\n",
        "tuple1 = (0, 1, 2, 3)\n",
        "tuple2 = ('python', 'geek')\n",
        "tuple3 = (tuple1, tuple2)\n",
        "print(tuple3)"
      ]
    },
    {
      "cell_type": "markdown",
      "metadata": {
        "id": "Gk-IJKBbHOBN"
      },
      "source": [
        "### 5.4 Repetition in Tuples"
      ]
    },
    {
      "cell_type": "code",
      "execution_count": null,
      "metadata": {
        "colab": {
          "base_uri": "https://localhost:8080/"
        },
        "id": "K_Ak7fKjHOBO",
        "outputId": "f57f4b6e-0f1b-4d42-bc29-4c47ed44c050"
      },
      "outputs": [
        {
          "name": "stdout",
          "output_type": "stream",
          "text": [
            "('python', 'python', 'python')\n"
          ]
        }
      ],
      "source": [
        "# Code to create a tuple with repetition\n",
        "\n",
        "tuple3 = ('python',)*3\n",
        "print(tuple3)"
      ]
    },
    {
      "cell_type": "markdown",
      "metadata": {
        "id": "Yzvlbu-mHOBO"
      },
      "source": [
        "### 5.5 Immutable Tuples"
      ]
    },
    {
      "cell_type": "code",
      "execution_count": null,
      "metadata": {
        "colab": {
          "base_uri": "https://localhost:8080/",
          "height": 234
        },
        "id": "V-0K4I56HOBO",
        "outputId": "682a9003-b162-4aff-ec99-0da776d1591d"
      },
      "outputs": [
        {
          "ename": "TypeError",
          "evalue": "'tuple' object does not support item assignment",
          "output_type": "error",
          "traceback": [
            "\u001b[0;31m---------------------------------------------------------------------------\u001b[0m",
            "\u001b[0;31mTypeError\u001b[0m                                 Traceback (most recent call last)",
            "\u001b[0;32m<ipython-input-20-0329ed6d72fe>\u001b[0m in \u001b[0;36m<cell line: 4>\u001b[0;34m()\u001b[0m\n\u001b[1;32m      2\u001b[0m \u001b[0;34m\u001b[0m\u001b[0m\n\u001b[1;32m      3\u001b[0m \u001b[0mtuple1\u001b[0m \u001b[0;34m=\u001b[0m \u001b[0;34m(\u001b[0m\u001b[0;36m0\u001b[0m\u001b[0;34m,\u001b[0m \u001b[0;36m1\u001b[0m\u001b[0;34m,\u001b[0m \u001b[0;36m2\u001b[0m\u001b[0;34m,\u001b[0m \u001b[0;36m3\u001b[0m\u001b[0;34m)\u001b[0m\u001b[0;34m\u001b[0m\u001b[0;34m\u001b[0m\u001b[0m\n\u001b[0;32m----> 4\u001b[0;31m \u001b[0mtuple1\u001b[0m\u001b[0;34m[\u001b[0m\u001b[0;36m0\u001b[0m\u001b[0;34m]\u001b[0m \u001b[0;34m=\u001b[0m \u001b[0;36m4\u001b[0m\u001b[0;34m\u001b[0m\u001b[0;34m\u001b[0m\u001b[0m\n\u001b[0m\u001b[1;32m      5\u001b[0m \u001b[0mprint\u001b[0m\u001b[0;34m(\u001b[0m\u001b[0mtuple1\u001b[0m\u001b[0;34m)\u001b[0m\u001b[0;34m\u001b[0m\u001b[0;34m\u001b[0m\u001b[0m\n",
            "\u001b[0;31mTypeError\u001b[0m: 'tuple' object does not support item assignment"
          ]
        }
      ],
      "source": [
        "# Code to test that tuples are immutable (You will be getting an error message)\n",
        "\n",
        "tuple1 = (0, 1, 2, 3)\n",
        "tuple1[0] = 4\n",
        "print(tuple1)"
      ]
    },
    {
      "cell_type": "markdown",
      "metadata": {
        "id": "PEauG3liHOBO"
      },
      "source": [
        "### 5.6 Slicing in Tuples"
      ]
    },
    {
      "cell_type": "code",
      "execution_count": null,
      "metadata": {
        "colab": {
          "base_uri": "https://localhost:8080/"
        },
        "id": "302q4_qOHOBO",
        "outputId": "756e3829-7fed-4635-f962-86ba4961103b"
      },
      "outputs": [
        {
          "name": "stdout",
          "output_type": "stream",
          "text": [
            "(1, 2, 3)\n",
            "(3, 2, 1, 0)\n",
            "(2, 3)\n"
          ]
        }
      ],
      "source": [
        "# Code to test slicing\n",
        "\n",
        "tuple1 = (0 ,1, 2, 3)\n",
        "print(tuple1[1:])\n",
        "print(tuple1[::-1])\n",
        "print(tuple1[2:4])"
      ]
    },
    {
      "cell_type": "markdown",
      "metadata": {
        "id": "zRyFKiivHOBP"
      },
      "source": [
        "### 5.7 Deleting a Tuple"
      ]
    },
    {
      "cell_type": "code",
      "execution_count": null,
      "metadata": {
        "colab": {
          "base_uri": "https://localhost:8080/",
          "height": 216
        },
        "id": "6_ynOZ3gHOBP",
        "outputId": "1cde6706-3127-4d54-90f1-0f1521b70e30"
      },
      "outputs": [
        {
          "ename": "NameError",
          "evalue": "name 'tuple3' is not defined",
          "output_type": "error",
          "traceback": [
            "\u001b[0;31m---------------------------------------------------------------------------\u001b[0m",
            "\u001b[0;31mNameError\u001b[0m                                 Traceback (most recent call last)",
            "\u001b[0;32m<ipython-input-22-94cf3c45ae9e>\u001b[0m in \u001b[0;36m<cell line: 5>\u001b[0;34m()\u001b[0m\n\u001b[1;32m      3\u001b[0m \u001b[0mtuple3\u001b[0m \u001b[0;34m=\u001b[0m \u001b[0;34m(\u001b[0m\u001b[0;36m0\u001b[0m\u001b[0;34m,\u001b[0m \u001b[0;36m1\u001b[0m\u001b[0;34m)\u001b[0m\u001b[0;34m\u001b[0m\u001b[0;34m\u001b[0m\u001b[0m\n\u001b[1;32m      4\u001b[0m \u001b[0;32mdel\u001b[0m \u001b[0mtuple3\u001b[0m\u001b[0;34m\u001b[0m\u001b[0;34m\u001b[0m\u001b[0m\n\u001b[0;32m----> 5\u001b[0;31m \u001b[0mprint\u001b[0m\u001b[0;34m(\u001b[0m\u001b[0mtuple3\u001b[0m\u001b[0;34m)\u001b[0m\u001b[0;34m\u001b[0m\u001b[0;34m\u001b[0m\u001b[0m\n\u001b[0m",
            "\u001b[0;31mNameError\u001b[0m: name 'tuple3' is not defined"
          ]
        }
      ],
      "source": [
        "# Code for deleting a tuple - observe error which says tuple3 does not exist\n",
        "\n",
        "tuple3 = (0, 1)\n",
        "del tuple3\n",
        "print(tuple3)"
      ]
    },
    {
      "cell_type": "markdown",
      "metadata": {
        "id": "2cKunJtPHOBP"
      },
      "source": [
        "### 5.8 Finding Length of a Tuple"
      ]
    },
    {
      "cell_type": "code",
      "execution_count": null,
      "metadata": {
        "colab": {
          "base_uri": "https://localhost:8080/"
        },
        "id": "zhbdDuvcHOBP",
        "outputId": "5f00a9e3-dc9c-4c7b-d896-35294deb9ba7"
      },
      "outputs": [
        {
          "name": "stdout",
          "output_type": "stream",
          "text": [
            "2\n"
          ]
        }
      ],
      "source": [
        "# Code for printing the length of a tuple\n",
        "\n",
        "tuple2 = ('python', 'geek')\n",
        "print(len(tuple2))"
      ]
    },
    {
      "cell_type": "markdown",
      "metadata": {
        "id": "ZevYMidCHOBQ"
      },
      "source": [
        "### 5.9 Converting list to a Tuple"
      ]
    },
    {
      "cell_type": "code",
      "execution_count": null,
      "metadata": {
        "colab": {
          "base_uri": "https://localhost:8080/"
        },
        "id": "7GP-0m8lHOBQ",
        "outputId": "1afd3e55-5c2d-4855-8b7f-04fbeec19e28"
      },
      "outputs": [
        {
          "name": "stdout",
          "output_type": "stream",
          "text": [
            "(0, 1, 2)\n",
            "('p', 'y', 't', 'h', 'o', 'n')\n"
          ]
        }
      ],
      "source": [
        "# Code for converting a list and a string into a tuple\n",
        "\n",
        "list1 = [0, 1, 2]\n",
        "print(tuple(list1))\n",
        "print(tuple('python')) # string 'python'"
      ]
    },
    {
      "cell_type": "markdown",
      "metadata": {
        "id": "MfxZ9jh6HOBQ"
      },
      "source": [
        "### 5.10 Tuples in a loop"
      ]
    },
    {
      "cell_type": "code",
      "execution_count": null,
      "metadata": {
        "colab": {
          "base_uri": "https://localhost:8080/"
        },
        "id": "TzsseSsVHOBQ",
        "outputId": "840b0b7e-64b8-4fdc-a5d5-2caba54f8fd7"
      },
      "outputs": [
        {
          "name": "stdout",
          "output_type": "stream",
          "text": [
            "(('Perception for Autonomous Robots',),)\n",
            "((('Perception for Autonomous Robots',),), (('Perception for Autonomous Robots',),))\n",
            "(((('Perception for Autonomous Robots',),), (('Perception for Autonomous Robots',),)), ((('Perception for Autonomous Robots',),), (('Perception for Autonomous Robots',),)), ((('Perception for Autonomous Robots',),), (('Perception for Autonomous Robots',),)))\n",
            "((((('Perception for Autonomous Robots',),), (('Perception for Autonomous Robots',),)), ((('Perception for Autonomous Robots',),), (('Perception for Autonomous Robots',),)), ((('Perception for Autonomous Robots',),), (('Perception for Autonomous Robots',),))), (((('Perception for Autonomous Robots',),), (('Perception for Autonomous Robots',),)), ((('Perception for Autonomous Robots',),), (('Perception for Autonomous Robots',),)), ((('Perception for Autonomous Robots',),), (('Perception for Autonomous Robots',),))), (((('Perception for Autonomous Robots',),), (('Perception for Autonomous Robots',),)), ((('Perception for Autonomous Robots',),), (('Perception for Autonomous Robots',),)), ((('Perception for Autonomous Robots',),), (('Perception for Autonomous Robots',),))), (((('Perception for Autonomous Robots',),), (('Perception for Autonomous Robots',),)), ((('Perception for Autonomous Robots',),), (('Perception for Autonomous Robots',),)), ((('Perception for Autonomous Robots',),), (('Perception for Autonomous Robots',),))))\n",
            "(((((('Perception for Autonomous Robots',),), (('Perception for Autonomous Robots',),)), ((('Perception for Autonomous Robots',),), (('Perception for Autonomous Robots',),)), ((('Perception for Autonomous Robots',),), (('Perception for Autonomous Robots',),))), (((('Perception for Autonomous Robots',),), (('Perception for Autonomous Robots',),)), ((('Perception for Autonomous Robots',),), (('Perception for Autonomous Robots',),)), ((('Perception for Autonomous Robots',),), (('Perception for Autonomous Robots',),))), (((('Perception for Autonomous Robots',),), (('Perception for Autonomous Robots',),)), ((('Perception for Autonomous Robots',),), (('Perception for Autonomous Robots',),)), ((('Perception for Autonomous Robots',),), (('Perception for Autonomous Robots',),))), (((('Perception for Autonomous Robots',),), (('Perception for Autonomous Robots',),)), ((('Perception for Autonomous Robots',),), (('Perception for Autonomous Robots',),)), ((('Perception for Autonomous Robots',),), (('Perception for Autonomous Robots',),)))), ((((('Perception for Autonomous Robots',),), (('Perception for Autonomous Robots',),)), ((('Perception for Autonomous Robots',),), (('Perception for Autonomous Robots',),)), ((('Perception for Autonomous Robots',),), (('Perception for Autonomous Robots',),))), (((('Perception for Autonomous Robots',),), (('Perception for Autonomous Robots',),)), ((('Perception for Autonomous Robots',),), (('Perception for Autonomous Robots',),)), ((('Perception for Autonomous Robots',),), (('Perception for Autonomous Robots',),))), (((('Perception for Autonomous Robots',),), (('Perception for Autonomous Robots',),)), ((('Perception for Autonomous Robots',),), (('Perception for Autonomous Robots',),)), ((('Perception for Autonomous Robots',),), (('Perception for Autonomous Robots',),))), (((('Perception for Autonomous Robots',),), (('Perception for Autonomous Robots',),)), ((('Perception for Autonomous Robots',),), (('Perception for Autonomous Robots',),)), ((('Perception for Autonomous Robots',),), (('Perception for Autonomous Robots',),)))), ((((('Perception for Autonomous Robots',),), (('Perception for Autonomous Robots',),)), ((('Perception for Autonomous Robots',),), (('Perception for Autonomous Robots',),)), ((('Perception for Autonomous Robots',),), (('Perception for Autonomous Robots',),))), (((('Perception for Autonomous Robots',),), (('Perception for Autonomous Robots',),)), ((('Perception for Autonomous Robots',),), (('Perception for Autonomous Robots',),)), ((('Perception for Autonomous Robots',),), (('Perception for Autonomous Robots',),))), (((('Perception for Autonomous Robots',),), (('Perception for Autonomous Robots',),)), ((('Perception for Autonomous Robots',),), (('Perception for Autonomous Robots',),)), ((('Perception for Autonomous Robots',),), (('Perception for Autonomous Robots',),))), (((('Perception for Autonomous Robots',),), (('Perception for Autonomous Robots',),)), ((('Perception for Autonomous Robots',),), (('Perception for Autonomous Robots',),)), ((('Perception for Autonomous Robots',),), (('Perception for Autonomous Robots',),)))), ((((('Perception for Autonomous Robots',),), (('Perception for Autonomous Robots',),)), ((('Perception for Autonomous Robots',),), (('Perception for Autonomous Robots',),)), ((('Perception for Autonomous Robots',),), (('Perception for Autonomous Robots',),))), (((('Perception for Autonomous Robots',),), (('Perception for Autonomous Robots',),)), ((('Perception for Autonomous Robots',),), (('Perception for Autonomous Robots',),)), ((('Perception for Autonomous Robots',),), (('Perception for Autonomous Robots',),))), (((('Perception for Autonomous Robots',),), (('Perception for Autonomous Robots',),)), ((('Perception for Autonomous Robots',),), (('Perception for Autonomous Robots',),)), ((('Perception for Autonomous Robots',),), (('Perception for Autonomous Robots',),))), (((('Perception for Autonomous Robots',),), (('Perception for Autonomous Robots',),)), ((('Perception for Autonomous Robots',),), (('Perception for Autonomous Robots',),)), ((('Perception for Autonomous Robots',),), (('Perception for Autonomous Robots',),)))), ((((('Perception for Autonomous Robots',),), (('Perception for Autonomous Robots',),)), ((('Perception for Autonomous Robots',),), (('Perception for Autonomous Robots',),)), ((('Perception for Autonomous Robots',),), (('Perception for Autonomous Robots',),))), (((('Perception for Autonomous Robots',),), (('Perception for Autonomous Robots',),)), ((('Perception for Autonomous Robots',),), (('Perception for Autonomous Robots',),)), ((('Perception for Autonomous Robots',),), (('Perception for Autonomous Robots',),))), (((('Perception for Autonomous Robots',),), (('Perception for Autonomous Robots',),)), ((('Perception for Autonomous Robots',),), (('Perception for Autonomous Robots',),)), ((('Perception for Autonomous Robots',),), (('Perception for Autonomous Robots',),))), (((('Perception for Autonomous Robots',),), (('Perception for Autonomous Robots',),)), ((('Perception for Autonomous Robots',),), (('Perception for Autonomous Robots',),)), ((('Perception for Autonomous Robots',),), (('Perception for Autonomous Robots',),)))))\n"
          ]
        }
      ],
      "source": [
        "#python code for creating tuples in a loop\n",
        "\n",
        "tup = ('Perception for Autonomous Robots',)\n",
        "n = 5  #Number of time loop runs\n",
        "for i in range(int(n)):\n",
        "    tup = (tup,)*(i+1)\n",
        "    print(tup)"
      ]
    },
    {
      "cell_type": "markdown",
      "metadata": {
        "id": "dL0xJ3mZHOBR"
      },
      "source": [
        "### 5.11 Using max() , min()"
      ]
    },
    {
      "cell_type": "code",
      "execution_count": null,
      "metadata": {
        "colab": {
          "base_uri": "https://localhost:8080/"
        },
        "id": "Z9ZDZ1QlHOBR",
        "outputId": "4af80942-e874-475b-9c22-fd8d69f34b6f"
      },
      "outputs": [
        {
          "name": "stdout",
          "output_type": "stream",
          "text": [
            "Maximum element in tuples 1,2: 673,888\n",
            "Minimum element in tuples 1,2: 123,673\n",
            "Maximum element in tuples 1,2: abc,abc\n",
            "Minimum element in tuples 1,2: ABCD,673\n"
          ]
        }
      ],
      "source": [
        "# A python program to demonstrate the use of\n",
        "# cmp(), max(), min()\n",
        "\n",
        "tuple1 = ('123', '673')\n",
        "tuple2 = ('888', \"673\")\n",
        "\n",
        "print ('Maximum element in tuples 1,2: ' +\n",
        "        str(max(tuple1)) +  ',' +\n",
        "        str(max(tuple2)))\n",
        "print ('Minimum element in tuples 1,2: ' +\n",
        "     str(min(tuple1)) + ','  + str(min(tuple2)))\n",
        "\n",
        "# Note that the comparision is done using the lexographical ordering (ASCII of each element)\n",
        "# as the tuples have strings.\n",
        "# For example\n",
        "\n",
        "tuple1 = ('ABCD', 'abc') # Note that the length of the strings here are different\n",
        "tuple2 = ('abc', \"673\")\n",
        "\n",
        "print ('Maximum element in tuples 1,2: ' +\n",
        "        str(max(tuple1)) +  ',' +\n",
        "        str(max(tuple2)))\n",
        "print ('Minimum element in tuples 1,2: ' +\n",
        "     str(min(tuple1)) + ','  + str(min(tuple2)))\n"
      ]
    },
    {
      "cell_type": "markdown",
      "metadata": {
        "id": "0nMxRsRbZS7o"
      },
      "source": [
        "## Exercise\n",
        "- Create a Tuple\n",
        "- Reverse the Tuple\n",
        "- Print the reversed Tuple"
      ]
    },
    {
      "cell_type": "code",
      "execution_count": null,
      "metadata": {
        "id": "2G6XcSaMZSc4"
      },
      "outputs": [],
      "source": []
    },
    {
      "cell_type": "markdown",
      "metadata": {
        "id": "WASoi5XJHOBR"
      },
      "source": [
        "# 6.0 Dictionary\n",
        "Dictionary in Python is an unordered collection of data values, used to store data values like a map, which unlike other Data Types that hold only single value as an element, Dictionary holds key:value pair. Key value is provided in the dictionary to make it more optimized. Each key-value pair in a Dictionary is separated by a colon :, whereas each key is separated by a ‘comma’.\n",
        "\n",
        "A Dictionary in Python works similar to the Dictionary in a real world. Keys of a Dictionary must be unique and of immutable data type such as Strings, Integers and tuples, but the key-values can be repeated and be of any type.\n",
        "\n",
        "Some dictionary functions can be looked at https://www.geeksforgeeks.org/python-dictionary-methods/\n",
        "\n",
        "\n",
        "### 6.1 Creating a Dictionary\n",
        "In Python, a Dictionary can be created by placing sequence of elements within curly {} braces, separated by ‘comma’. Dictionary holds a pair of values, one being the Key and the other corresponding pair element being its Key:value. Values in a dictionary can be of any datatype and can be duplicated, whereas keys can’t be repeated and must be immutable.\n",
        "\n",
        "Dictionary can also be created by the built-in function dict(). An empty dictionary can be created by just placing to curly braces{}."
      ]
    },
    {
      "cell_type": "code",
      "execution_count": null,
      "metadata": {
        "colab": {
          "base_uri": "https://localhost:8080/"
        },
        "id": "W0St1iBeHOBS",
        "outputId": "ed48ff34-9e4a-4360-d826-28e392d163de"
      },
      "outputs": [
        {
          "name": "stdout",
          "output_type": "stream",
          "text": [
            "Empty Dictionary: \n",
            "{}\n",
            "\n",
            "Dictionary with the use of Integer Keys: \n",
            "{1: 'Geeks', 2: 'For', 3: 'Geeks'}\n",
            "\n",
            "Dictionary with the use of Mixed Keys: \n",
            "{'Name': 'Geeks', 1: [1, 2, 3, 4]}\n",
            "\n",
            "Dictionary with the use of dict(): \n",
            "{1: 'Geeks', 2: 'For', 3: 'Geeks'}\n",
            "\n",
            "Dictionary with each item as a pair: \n",
            "{1: 'Geeks', 2: 'For'}\n"
          ]
        }
      ],
      "source": [
        "# Creating an empty Dictionary\n",
        "Dict = {}\n",
        "print(\"Empty Dictionary: \")\n",
        "print(Dict)\n",
        "\n",
        "# Creating a Dictionary\n",
        "# with Integer Keys\n",
        "Dict = {1: 'Geeks', 2: 'For', 3: 'Geeks'}\n",
        "print(\"\\nDictionary with the use of Integer Keys: \")\n",
        "print(Dict)\n",
        "\n",
        "# Creating a Dictionary\n",
        "# with Mixed keys\n",
        "Dict = {'Name': 'Geeks', 1: [1, 2, 3, 4]}\n",
        "print(\"\\nDictionary with the use of Mixed Keys: \")\n",
        "print(Dict)\n",
        "\n",
        "# Creating a Dictionary\n",
        "# with dict() method\n",
        "Dict = dict({1: 'Geeks', 2: 'For', 3:'Geeks'})\n",
        "print(\"\\nDictionary with the use of dict(): \")\n",
        "print(Dict)\n",
        "\n",
        "# Creating a Dictionary\n",
        "# with each item as a Pair\n",
        "Dict = dict([(1, 'Geeks'), (2, 'For')])\n",
        "print(\"\\nDictionary with each item as a pair: \")\n",
        "print(Dict)\n"
      ]
    },
    {
      "cell_type": "markdown",
      "metadata": {
        "id": "lUPtBCleHOBS"
      },
      "source": [
        "### 6.2 Nested Dictionary"
      ]
    },
    {
      "cell_type": "code",
      "execution_count": null,
      "metadata": {
        "colab": {
          "base_uri": "https://localhost:8080/"
        },
        "id": "0dbwPPTWHOBS",
        "outputId": "877e8be1-10c5-4603-ff26-0d45306b5025"
      },
      "outputs": [
        {
          "name": "stdout",
          "output_type": "stream",
          "text": [
            "{1: 'Geeks', 2: 'For', 3: {'A': 'Welcome', 'B': 'To', 'C': 'Geeks'}}\n"
          ]
        }
      ],
      "source": [
        "# Creating a Nested Dictionary\n",
        "Dict = {1: 'Geeks', 2: 'For',\n",
        "        3:{'A' : 'Welcome', 'B' : 'To', 'C' : 'Geeks'}}\n",
        "\n",
        "print(Dict)\n"
      ]
    },
    {
      "cell_type": "markdown",
      "metadata": {
        "id": "Sgc6U2fmHOBT"
      },
      "source": [
        "### 6.3 Adding elements to a Dictionary\n",
        "In Python Dictionary, addition of elements can be done in multiple ways. One value at a time can be added to a Dictionary by defining value along with the key e.g. Dict[Key] = ‘Value’. Updating an existing value in a Dictionary can be done by using the built-in update() method. Nested key values can also be added to an existing Dictionary.\n",
        "\n",
        "Note- While adding a value, if the key value already exists, the value gets updated otherwise a new Key with the value is added to the Dictionary."
      ]
    },
    {
      "cell_type": "code",
      "execution_count": null,
      "metadata": {
        "colab": {
          "base_uri": "https://localhost:8080/"
        },
        "id": "cePbkHHxHOBT",
        "outputId": "8c26d4ab-212f-44bd-a446-cc1b16dfcb3a"
      },
      "outputs": [
        {
          "name": "stdout",
          "output_type": "stream",
          "text": [
            "Empty Dictionary: \n",
            "{}\n",
            "\n",
            "Dictionary after adding 3 elements: \n",
            "{0: 'Geeks', 2: 'For', 3: 1}\n",
            "\n",
            "Dictionary after adding 3 elements: \n",
            "{0: 'Geeks', 2: 'For', 3: 1, 'Value_set': (2, 3, 4)}\n",
            "\n",
            "Updated key value: \n",
            "{0: 'Geeks', 2: 'Welcome', 3: 1, 'Value_set': (2, 3, 4)}\n",
            "\n",
            "Adding a Nested Key: \n",
            "{0: 'Geeks', 2: 'Welcome', 3: 1, 'Value_set': (2, 3, 4), 5: {'Nested': {'1': 'Life', '2': 'Geeks'}}}\n"
          ]
        }
      ],
      "source": [
        "\n",
        "# Creating an empty Dictionary\n",
        "Dict = {}\n",
        "print(\"Empty Dictionary: \")\n",
        "print(Dict)\n",
        "\n",
        "# Adding elements one at a time\n",
        "Dict[0] = 'Geeks'\n",
        "Dict[2] = 'For'\n",
        "Dict[3] = 1\n",
        "print(\"\\nDictionary after adding 3 elements: \")\n",
        "print(Dict)\n",
        "\n",
        "# Adding set of values\n",
        "# to a single Key\n",
        "Dict['Value_set'] = 2, 3, 4\n",
        "print(\"\\nDictionary after adding 3 elements: \")\n",
        "print(Dict)\n",
        "\n",
        "# Updating existing Key's Value\n",
        "Dict[2] = 'Welcome'\n",
        "print(\"\\nUpdated key value: \")\n",
        "print(Dict)\n",
        "\n",
        "# Adding Nested Key value to Dictionary\n",
        "Dict[5] = {'Nested' :{'1' : 'Life', '2' : 'Geeks'}}\n",
        "print(\"\\nAdding a Nested Key: \")\n",
        "print(Dict)\n"
      ]
    },
    {
      "cell_type": "markdown",
      "metadata": {
        "id": "-2bTFcVAHOBT"
      },
      "source": [
        "### 6.4 Accessing elements from a Dictionary\n",
        "In order to access the items of a dictionary refer to its key name.Key can be used inside square brackets.There is also a method called get() that will also help in acessing the element from a dictionary."
      ]
    },
    {
      "cell_type": "code",
      "execution_count": null,
      "metadata": {
        "colab": {
          "base_uri": "https://localhost:8080/"
        },
        "id": "WkG56cOxHOBU",
        "outputId": "ab17be64-7329-43cd-e10a-4d731373b567"
      },
      "outputs": [
        {
          "name": "stdout",
          "output_type": "stream",
          "text": [
            "Acessing a element using key:\n",
            "For\n",
            "Acessing a element using key:\n",
            "Geeks\n",
            "Acessing a element using get:\n",
            "Geeks\n"
          ]
        }
      ],
      "source": [
        "# Python program to demonstrate\n",
        "# accesing a element from a Dictionary\n",
        "\n",
        "# Creating a Dictionary\n",
        "Dict = {1: 'Geeks', 'name': 'For', 3: 'Geeks'}\n",
        "\n",
        "# accessing a element using key\n",
        "print(\"Acessing a element using key:\")\n",
        "print(Dict['name'])\n",
        "\n",
        "# accessing a element using key\n",
        "print(\"Acessing a element using key:\")\n",
        "print(Dict[1])\n",
        "\n",
        "# accessing a element using get()\n",
        "# method\n",
        "print(\"Acessing a element using get:\")\n",
        "print(Dict.get(3))"
      ]
    },
    {
      "cell_type": "markdown",
      "metadata": {
        "id": "TqF6guwPHOBU"
      },
      "source": [
        "### 6.5 Removing Elements from Dictionary\n",
        "In Python Dictionary, deletion of keys can be done by using the del keyword. Using del keyword, specific values from a dictionary as well as whole dictionary can be deleted. Other functions like pop() and popitem() can also be used for deleting specific values and arbitrary values from a Dictionary. All the items from a dictionary can be deleted at once by using clear() method. Items in a Nested dictionary can also be deleted by using del keyword and providing specific nested key and particular key to be deleted from that nested Dictionary. Note- del Dict will delete the entire dictionary and hence printing it after deletion will raise an Error."
      ]
    },
    {
      "cell_type": "code",
      "execution_count": null,
      "metadata": {
        "colab": {
          "base_uri": "https://localhost:8080/"
        },
        "id": "stBhVRN2HOBU",
        "outputId": "e3967cb5-763b-46e3-a75a-cf5625f3c249"
      },
      "outputs": [
        {
          "name": "stdout",
          "output_type": "stream",
          "text": [
            "Initial Dictionary: \n",
            "{5: 'Welcome', 6: 'To', 7: 'Geeks', 'A': {1: 'Geeks', 2: 'For', 3: 'Geeks'}, 'B': {1: 'Geeks', 2: 'Life'}}\n",
            "\n",
            "Deleting a specific key: \n",
            "{5: 'Welcome', 7: 'Geeks', 'A': {1: 'Geeks', 2: 'For', 3: 'Geeks'}, 'B': {1: 'Geeks', 2: 'Life'}}\n",
            "\n",
            "Deleting a key from Nested Dictionary: \n",
            "{5: 'Welcome', 7: 'Geeks', 'A': {1: 'Geeks', 3: 'Geeks'}, 'B': {1: 'Geeks', 2: 'Life'}}\n",
            "\n",
            "Popping specific element: \n",
            "{7: 'Geeks', 'A': {1: 'Geeks', 3: 'Geeks'}, 'B': {1: 'Geeks', 2: 'Life'}}\n",
            "\n",
            "Pops an arbitrary key-value pair: \n",
            "{7: 'Geeks', 'A': {1: 'Geeks', 3: 'Geeks'}}\n",
            "\n",
            "Deleting Entire Dictionary: \n",
            "{}\n"
          ]
        }
      ],
      "source": [
        "\n",
        "# Initial Dictionary\n",
        "Dict = { 5 : 'Welcome', 6 : 'To', 7 : 'Geeks',\n",
        "        'A' : {1 : 'Geeks', 2 : 'For', 3 : 'Geeks'},\n",
        "        'B' : {1 : 'Geeks', 2 : 'Life'}}\n",
        "print(\"Initial Dictionary: \")\n",
        "print(Dict)\n",
        "\n",
        "# Deleting a Key value\n",
        "del Dict[6]\n",
        "print(\"\\nDeleting a specific key: \")\n",
        "print(Dict)\n",
        "\n",
        "# Deleting a Key from\n",
        "# Nested Dictionary\n",
        "del Dict['A'][2]\n",
        "print(\"\\nDeleting a key from Nested Dictionary: \")\n",
        "print(Dict)\n",
        "\n",
        "# Deleting a Key\n",
        "# using pop()\n",
        "Dict.pop(5)\n",
        "print(\"\\nPopping specific element: \")\n",
        "print(Dict)\n",
        "\n",
        "# Deleting an arbitrary Key-value pair\n",
        "# using popitem()\n",
        "Dict.popitem()\n",
        "print(\"\\nPops an arbitrary key-value pair: \")\n",
        "print(Dict)\n",
        "\n",
        "# Deleting entire Dictionary\n",
        "Dict.clear()\n",
        "print(\"\\nDeleting Entire Dictionary: \")\n",
        "print(Dict)"
      ]
    },
    {
      "cell_type": "markdown",
      "metadata": {
        "id": "PjfEfb_1HOBU"
      },
      "source": [
        "### 6.6 Dictionary Methods\n",
        "#### 6.6.1 Copy()\n",
        "They copy() method returns a shallow copy of the dictionary.\n",
        "\n",
        "##### Syntax\n",
        "dict.copy()"
      ]
    },
    {
      "cell_type": "code",
      "execution_count": null,
      "metadata": {
        "id": "1yrYkOL8HOBV"
      },
      "outputs": [],
      "source": [
        "original = {1:'geeks', 2:'for'}\n",
        "\n",
        "## Write code to copy \"original\" dictionary and print the newly copied dictionary"
      ]
    },
    {
      "cell_type": "markdown",
      "metadata": {
        "id": "tE1g3ITNHOBV"
      },
      "source": [
        "#### 6.6.2 clear()\n",
        "The clear() method removes all items from the dictionary.\n",
        "\n",
        "#### Syntax\n",
        "dict.clear()"
      ]
    },
    {
      "cell_type": "code",
      "execution_count": null,
      "metadata": {
        "id": "Gee8PCqDHOBV"
      },
      "outputs": [],
      "source": [
        "text = {1: \"geeks\", 2: \"for\"}\n",
        "\n",
        "# write the code to clear the content of the dictionary and then print the empty dictionary"
      ]
    },
    {
      "cell_type": "markdown",
      "metadata": {
        "id": "SzC1IqyJHOBV"
      },
      "source": [
        "#### 6.6.3 pop()\n",
        "Python pop() method removes an element from the dictionary. It removes the element which is associated to the specified key.\n",
        "\n",
        "If specified key is present in the dictionary, it remove and return its value.\n",
        "\n",
        "If the specified key is not present, it throws an error KeyError.\n",
        "\n",
        "##### Syntax\n",
        "dict.pop(key, def)\n",
        "\n",
        "##### Parameters :\n",
        "key : The key whose key-value pair has to be returned and removed.\n",
        "\n",
        "def : The default value to return if specified key is not present."
      ]
    },
    {
      "cell_type": "code",
      "execution_count": null,
      "metadata": {
        "colab": {
          "base_uri": "https://localhost:8080/"
        },
        "id": "cb8rKhsCHOBV",
        "outputId": "86cd14b1-3b82-4b84-d6a4-5ecd4dc41286"
      },
      "outputs": [
        {
          "name": "stdout",
          "output_type": "stream",
          "text": [
            "525\n"
          ]
        }
      ],
      "source": [
        "# Python dictionary pop() Method\n",
        "# Creating a dictionary\n",
        "inventory = {'shirts': 25, 'paints': 220, 'shoes': 525, 'tshirts': 217}\n",
        "# Calling method\n",
        "element = inventory.pop('shoes')\n",
        "# Displaying result\n",
        "print(element)"
      ]
    },
    {
      "cell_type": "code",
      "execution_count": null,
      "metadata": {
        "id": "Q9K3iSBWHOBW"
      },
      "outputs": [],
      "source": [
        "inventory = {'shirts': 25, 'paints': 220, 'tshirts': 217}\n",
        "\n",
        "# write code to get the value for the key 'shoes'. If the key is not is the dictionary return 100"
      ]
    },
    {
      "cell_type": "markdown",
      "metadata": {
        "id": "btzb4FR5HOBW"
      },
      "source": [
        "#### 6.6.4 popitem()\n",
        "popitem() method in dictionary helps to achieve similar purpose. It removes the arbitrary key-value pair from the dictionary and returns it as tuple.\n",
        "\n",
        "#### Syntax\n",
        "dict.popitem()\n",
        "\n",
        "#### Parameters : None\n",
        "\n",
        "Returns : A tuple containing the arbitrary key-value pair from dictionary. That pair is removed from dictionary."
      ]
    },
    {
      "cell_type": "code",
      "execution_count": null,
      "metadata": {
        "id": "MKSGQXPuHOBX"
      },
      "outputs": [],
      "source": [
        "\n",
        "test_dict = { \"Nikhil\" : 7, \"Akshat\" : 1, \"Akash\" : 2 }\n",
        "\n",
        "\n",
        "\n",
        "# write the code using popitem() to return + remove arbitrary key value pair and print it"
      ]
    },
    {
      "cell_type": "markdown",
      "metadata": {
        "id": "aqqA58keHOBX"
      },
      "source": [
        "#### 6.6.5 get()\n",
        "This method returns the value for the given key, if present in the dictionary. If not, then it will return None (if get() is used with only one argument).\n",
        "\n",
        "#### Syntax\n",
        "Dict.get(key, default=None)"
      ]
    },
    {
      "cell_type": "markdown",
      "metadata": {
        "id": "p_ynTAzIZ5Ff"
      },
      "source": [
        "## Exercise"
      ]
    },
    {
      "cell_type": "code",
      "execution_count": null,
      "metadata": {
        "colab": {
          "base_uri": "https://localhost:8080/"
        },
        "id": "p6PXMmbLHOBX",
        "outputId": "398572ce-9003-4ccc-f888-5fb8853d0aa6"
      },
      "outputs": [
        {
          "name": "stdout",
          "output_type": "stream",
          "text": [
            "1\n"
          ]
        }
      ],
      "source": [
        "dic = {\"A\":1, \"B\":2}\n",
        "print(dic.get(\"A\"))\n",
        "\n",
        "# write the code to get the value for key 'C'. Print \"Not found\" if the key is not present"
      ]
    },
    {
      "cell_type": "markdown",
      "metadata": {
        "id": "gPME4jmEHOBX"
      },
      "source": [
        "#### 6.6.6 values()\n",
        "values() is an inbuilt method in Python programming language that returns a list of all the values available in a given dictionary.\n",
        "\n",
        "#### Syntax\n",
        "dictionary_name.values()"
      ]
    },
    {
      "cell_type": "markdown",
      "metadata": {
        "id": "KCrWzpbfZ6cE"
      },
      "source": [
        "## Exercise"
      ]
    },
    {
      "cell_type": "code",
      "execution_count": null,
      "metadata": {
        "id": "OHtpoT6wHOBX"
      },
      "outputs": [],
      "source": [
        "dictionary = {\"A\": 2, \"B\": 3, \"C\": 4}\n",
        "# write the code to print the values in the dictionary"
      ]
    },
    {
      "cell_type": "markdown",
      "metadata": {
        "id": "i65Op2gCHOBa"
      },
      "source": [
        "#### 6.6.7 update()\n",
        "In Python Dictionary, update() method updates the dictionary with the elements from the another dictionary object or from an iterable of key/value pairs.\n",
        "\n",
        "#### Syntax\n",
        "dict.update([other_dictionary])\n",
        "\n",
        "Parameters: This method takes either a dictionary or an iterable object of key/value pairs (generally tuples) as parameters.\n",
        "\n",
        "Returns: It doesn’t return any value but updates the Dictionary with elements from a dictionary object or an iterable object of key/value pairs."
      ]
    },
    {
      "cell_type": "code",
      "execution_count": null,
      "metadata": {
        "colab": {
          "base_uri": "https://localhost:8080/"
        },
        "id": "JmKUHyD1HOBb",
        "outputId": "41e8f77e-7bde-4177-d799-f9a3a1ea9aef"
      },
      "outputs": [
        {
          "name": "stdout",
          "output_type": "stream",
          "text": [
            "Original Dictionary:\n",
            "{'A': 'Geeks', 'B': 'For'}\n"
          ]
        }
      ],
      "source": [
        "# Dictionary with three items\n",
        "Dictionary1 = { 'A': 'Geeks', 'B': 'For', }\n",
        "Dictionary2 = { 'B': 'Geeks' }\n",
        "\n",
        "# Dictionary before Updation\n",
        "print(\"Original Dictionary:\")\n",
        "print(Dictionary1)\n",
        "\n",
        "# Write the code to update \"Dictionary1\" with \"Dictionary2\" and print"
      ]
    },
    {
      "cell_type": "markdown",
      "metadata": {
        "id": "uFRX5HwrHOBb"
      },
      "source": [
        "# 7.0 Loop: 'for'"
      ]
    },
    {
      "cell_type": "markdown",
      "metadata": {
        "id": "P6W_XtPkHOBc"
      },
      "source": [
        "#### Creating a new List with the name \"my_list\""
      ]
    },
    {
      "cell_type": "code",
      "execution_count": null,
      "metadata": {
        "id": "zAPUwEIWHOBc"
      },
      "outputs": [],
      "source": [
        "my_list = [1, 2, 3, 4, 'Python', 'is', 'neat']"
      ]
    },
    {
      "cell_type": "markdown",
      "metadata": {
        "id": "cL1NQhQiHOBc"
      },
      "source": [
        "Iterating through each term in the List. Printing each element of the List"
      ]
    },
    {
      "cell_type": "code",
      "execution_count": null,
      "metadata": {
        "colab": {
          "base_uri": "https://localhost:8080/"
        },
        "id": "-aZ5ov9gHOBc",
        "outputId": "77f0d65d-9e2a-40e1-f062-6fa6863546ca"
      },
      "outputs": [
        {
          "name": "stdout",
          "output_type": "stream",
          "text": [
            "1\n",
            "2\n",
            "3\n",
            "4\n",
            "Python\n",
            "is\n",
            "neat\n"
          ]
        }
      ],
      "source": [
        "for item in my_list:\n",
        "    print(item)"
      ]
    },
    {
      "cell_type": "markdown",
      "metadata": {
        "id": "e1ixji7xHOBc"
      },
      "source": [
        "### Syntax: \"break\"\n",
        "\n",
        "Iterating through the list and if target value is reached, break.\n",
        "\n",
        "This will break and terminate the loop when the required keyword is found."
      ]
    },
    {
      "cell_type": "code",
      "execution_count": null,
      "metadata": {
        "colab": {
          "base_uri": "https://localhost:8080/"
        },
        "id": "G0RJJe5uHOBc",
        "outputId": "d43dbf6e-dd47-48b2-b919-c2f82ed48353"
      },
      "outputs": [
        {
          "name": "stdout",
          "output_type": "stream",
          "text": [
            "1\n",
            "2\n",
            "3\n",
            "4\n"
          ]
        }
      ],
      "source": [
        "for item in my_list:\n",
        "    if item == 'Python':\n",
        "        break\n",
        "    print(item)"
      ]
    },
    {
      "cell_type": "markdown",
      "metadata": {
        "id": "NlJXX0w5HOBd"
      },
      "source": [
        "### Syntax \"continue\"\n",
        "\n",
        "Iterating through the list, if target is reached, move on to the next element\n",
        "\n",
        "The number '4' doesn't get printed\n",
        "\n",
        "Continue to the next item without executing the lines occuring after continue inside the loop."
      ]
    },
    {
      "cell_type": "code",
      "execution_count": null,
      "metadata": {
        "colab": {
          "base_uri": "https://localhost:8080/"
        },
        "id": "8uQu63J_HOBd",
        "outputId": "3a607223-f1d7-44bd-b12d-2c0fc0ed47fe"
      },
      "outputs": [
        {
          "name": "stdout",
          "output_type": "stream",
          "text": [
            "1\n",
            "2\n",
            "3\n",
            "Python\n",
            "is\n",
            "neat\n"
          ]
        }
      ],
      "source": [
        "for item in my_list:\n",
        "    if item == 4:\n",
        "        continue\n",
        "    print(item)"
      ]
    },
    {
      "cell_type": "markdown",
      "metadata": {
        "id": "7VfhYUh9HOBd"
      },
      "source": [
        "### Syntax \"enumerate\"\n",
        "\n",
        "Enumerate() method adds a counter to an iterable and returns it in a form of enumerate object.\n",
        "\n",
        "This enumerate object can then be used directly in for loops"
      ]
    },
    {
      "cell_type": "code",
      "execution_count": null,
      "metadata": {
        "colab": {
          "base_uri": "https://localhost:8080/"
        },
        "id": "HRwhsfmbHOBd",
        "outputId": "b5baa95b-d06c-4307-c5b5-046c6f802bae"
      },
      "outputs": [
        {
          "name": "stdout",
          "output_type": "stream",
          "text": [
            "idx: 0, value: 1\n",
            "idx: 1, value: 2\n",
            "idx: 2, value: 3\n",
            "idx: 3, value: 4\n",
            "idx: 4, value: Python\n",
            "idx: 5, value: is\n",
            "idx: 6, value: neat\n"
          ]
        }
      ],
      "source": [
        "for idx, val in enumerate(my_list):\n",
        "    print('idx: {}, value: {}'.format(idx, val))"
      ]
    },
    {
      "cell_type": "markdown",
      "metadata": {
        "id": "4YGaeCwDHOBd"
      },
      "source": [
        "### Syntax \"range\"\n",
        "To control the iterations of \"for loop\", range can be used.\n",
        "![image.png](data:image/png;base64,iVBORw0KGgoAAAANSUhEUgAAAyAAAAH+CAIAAADruf1JAAAgAElEQVR4nOx9eZwcVbX/OfdWVS+zz2Sy73sCCUnIAgmEhM0AIiguqCAKKi4obojrU95Tcdf3U1ERl6csLqgIyCIhQCCBEEiAJGTft8nsmaW7uqruvb8/qqe6uru6unrvmenvJx+o6bp17627fuucc89BIQRkC4MbLx/f/MapHW39bW2h9j6tr0frD2sRAQIAAYBxI6wLBBL3GCbmI+JvhvQQIgakgPeahPUQCp89Q5lyicqZvpFz5kaIIPpoBvUpKMKGKhEiE6XUFYkiwjSZEEqkEtZBZ+FqX5V5fbh796T6WSWsjB1CiKOn906sn1mIzFW93y9XeU+PADrXmeB+6ku4JZJSFgcai3Ah/JK/WAWmgWqEBYiAFMyuBbwspvacVSPkl4LO9wAAIKyHBfBgJr2cBRxfVjOERJHE3+vX+xEwKAednigBwnoIEf2ZbBY5wn1ghA2VIPqS5lepEGEaRZRIHrbCvKwJBmeUECzeAhMFF8AEyCTxdyY4xeivCBhQfNVKVYO/viHQ0BwcMW/UGUvHLZFy2NqyebJf63/u8PPrDj675eS2sK4CACLW+eoQ7a0mADCkRwgkLZ0isa/QtjBlQfc45yDiBhAHVaJ5W5KyZ6AVFAsS8RtMzxelHixQJL8QHDFp2cgcGD/Ok+bosEN2LYAelgt7zj4pEGGqj/od7hURZp2HeY9X4I4hvyYIECFNDWlqa1+H+csju5+QqTS7ecbKSeetnHhelZIxqciMYJ3oPXnX5l9vPbmdCZ0L5pcCLp8OGnNiVyacOJZ1J1OoRthekAAekMtF2jQcUA4EFBFVQ68eZgSLIM1UiOUdQ349TYsicCwElKmicy0mkK60e3ljOPdP7u9eDptFRtCZsa1l57aWnb98+bdnjZ778SU3j60Z4/1xrwTrdKTnN6/e8+yhl7jgAMA4DyqBfi2s0JSy/YjBEKSU/ZGirzLtP51pBOLlsagTzOdGi8N5SnmAuaMIAVjSVpKpXzXU8lE2FQcK9Qkh0FvTu69umJSmMvCLwLEIEI6ECUaR5lRqzqjIsTxiOM+LYfvuXPCtJ7d/7NFbV0469yNn31Tnq/XyVHqCxQT7v9fufXjX4xo3rB9l6gvpYZnSVIt7WA8j+MC9P/LRV5phUIwRLC70oFIu9gEVFBmM4+D7RMoNhEiJdjx5RaHX0/LvrsK1gJWzhJLGNUQklrnqsN3HBgmGc/8M53fnnD97cMOGw5veNvuyGxZcT9KZZ6S53av1fuaJ2x588xE7uxp4UpKIrHM1+SkhuMFp7E+XAnJbX1U9bGdXACDRVGkrKDiEgByOTOQBEpH79f5S1qAUyIsFqwVMWj3LnwMVGkVoAYUoOtOKXaoTKt09pFCY7hzmg0Tnxt/ffOQzT9zWq/W6p3QjWIe6D9/8yKf3dx5xvEuJFNJDfsnPBUu41a+HMV42Jly6JNu+EkJwHld/JlRlmGmIKkgAQV/iqdWhDonIqhEqaBHDfD2FzFsgi098H/WHjXBOpeYJbst16VDaj7cMMFjqmRuGx1u64UDn4Y898ulD3Ydd0qTcijYcffHWJ27vVt0ImkICQnCdRew/GtwAkeEh1az6KqyHCMZonADhlyvsygHJMomMns0UpZVjESR+uaFkxZcIefeRUZFjJaMQHCuBygSkgJrAsSoYgMHLawyWJw0tJob56wPAabX3s4/fvuHoi6kSOK/LG45u/NJT3+Ue9kkm1Bpf8LQaIjCgp0BMJULIoz0W4yzBtl1AhJLCeosZpLDbrmY6JYQ3i92yQkCq05im0HLxE1YEyESJGGFfvr0BFcd3wyAaXZm2QBZzxy8FVCNcTMdOgwWDRoI1nDCc7bFM6Nz47voff3nl55ZPODf5rgMTOtR96I5nfoogUZTT/lNIDefcJ1HEgX+uCpp82WOpumrvWQEsUDa+78oZ2U2GwSbHQs1IVFsPeXg8SGjCe89U5FgJKIauUPJr8WqBSrubKMNmqMixhvnrA4AA8YMX/tdRV5hIhnoivV/4zzdUI9Gk3QUaE37JJ8DB2j1FbbK7Zy8xQjFOG4jIMtpghiGsps20mcTAZ0o2qsYSTT6Z+sJ6Yc2Syg0K9WuG1zmYESocKwF551hJbvSREknnek6l5gkVAlFBWlRGiM6Nrz79zWSb9zgVIRPs9qe+3tqXxjA+AQhKSA/5ZTmie5UXptEVpoNucGp7ngstqBRYoj4kRpDNvWH2L5TRs6IUXsTM6gkheXcQNQyRS7dU9AJ51xUmZEiRCsFNp4MupQoBNsOkPC9SAoBxkTCBTFOQYppD2X1QMy4QgGDZTevKjMhXC3CAQgwuIYCDMERiHbnI27TpCPd+dd0dP3nL92IO7RII1h+2/mlHq/OZQXcwLvslChAGiCM6CBhUAiOCjU2BhqZgg1/yZPyuMQ0RUsXa05mWcEQRCadYwEB4GtMIglQ2sf90rhPErF85F4GEo8N9QxgUEcHNQ0YxF0SDC4kgADChlUNQsM7w/MbAqOKUxYThPjC4YByENJAmo25JErTkAYYwuBBKXj1N5AKd6wKEUh6T3RAGFxxAKMQ2jG3tXlAtPBeASTOXcQMKcKjCY33MwIj2WulMA0S5DMaPWSON6wgolzQwqx06NwiifcsvLeyx/xyRL3YlQPRE+jrDXZ3hzs5wt84yUMpljT3th/742r0fWniD9QtawZ5Pq6ff9sAHQ4bm/GiK147NPowEJDmkAwKp89esmLDk/EnLlo1fWJ15+J4KKqigggoqqKCCvOBoz/GXjr7y0rFNb7buYoJZxEUmcqIuPjf4iHTvO39v+XmPEazvbfjRw7ueyylriS8bt/jdZ77zrFFnEEQA0Jl+vLelPdTZEerqCHeGdE8nkBlnAECJA+k2mGGXlAgQtPDyYiY4giBl9BEgCIi8hPjNC7gAROExQHoRJFkckAx8EHBgpf6aFD2R7lpf8TxHcMFd/AsL4ABYpGj2HgrhnAOCQ4W9fMjmI9aWvSiMLj5ISblMLsaZACGVYgwLgQgCEiVYKRfnYtQHIWFkcMFBCJLv+mQ9PbgQAoS7kKaYEAIECFJGKtUinUonSOp8tY2BhqZgY1OgqblqhPl7b6Tv+SMb/7ztb639bQCASESCIj5nXDR15W0rPmdeRwnW8d4T1/3jU8xdPOd6c/6oOTcvfv+8UXMBoDPcvfHoKxuObH71xBuqEXF7zKxE/J8hox8BA2b0D9s9gxu6Afa9gYMaLLyELKSHKGLez8BnjbChSoSkUqF6R9a6woQHVaZJhHhRWWLywwVAhHEftS9wus+bbroQEEIcPb13Yv3MopXo7q/B4DoTPFlz6r1bksdJLl0aYREuRKBs/AOrRliACGQYeiiLgyMeswobYXPD9iVHfS3wVNINIdHEr9eQ3o+AwVIc2dYMIUuJTCGkhwhi+Xi1UA2VAJZwwUlAxNAowfwGe/CCVGNT50wipEgfeDY0V41cMm7xuePPnjfqTIlQgxuP7nnir9v/3qWezjsbJoT88q0/HVczFiwbrP+36S7GBIDrpHU0wAFo8Nd98bxPrJi4BAAOdR/57dY/Pn9oqxcfWhY8+seK6Fpc2EHQK64ZckFCs6fo3vQPguelXgBA4WNCJ2RvcF4uq11R4JMCOovIGRqfebdRLUBM6EF/hCSPNu9OWQmZKjrXEr+phqFltWPrlKIiFbij3Mbmqb7Wf+167LE9j1UrVW+f87arZ7/16tlvvXTaRX96/YFHdz+eP0t3AADO+a823/0/F34TTILVp/U9d/BVhQYAvDWMbXmY0TTlzou/PLJqREtf2++2PPDk/qeDssREGCHpeyv6iHCkXvZiBRfWf60SI4ZKhGJ/mBAOIkV2eYXgQmB8fUoKwU0nU3moT6rezohjmfUBFNat9Cjk5BNcCIzVgoLSH+kPFiwccprKCCG4EKyog4ezlIdjBBdCOA+eTNfEvHAswYSAYrePC6KTK/P65NJ6aeuDDIED48xBl1qwqSSYEEn5m8sgZ8l3Cg6X+tjne2lhVpJj0nG1EkEwIYqySzoU7TRCzPWnBJUR0QODvWrfH1+7/9Hdj187751rZlxy8+IbZzZN/9mmX2kshfV5Vni95c1+rb9KqZIAYP3hFwzBYx9HHjkWwOrJy7+y8tM+qqw98Pz3X7hLNSIANKSHg7IvrPOoky0BUVLFhTD/mcu7UyubxTLDQEAmxZmeaZpBbLViQqvyBZieT/O0VGC6AZhYnxKCGQYSQkjepnB2HMt6kDGDEAK2Nc7TswVbgRjjjMYHqeSgy5GSxCgUILjKDaWog4cADfF+x6NwhtC5EEZqG6Minys0uCEEN2jZTC5mCBBZ1ycXTatjJowZAqLtE+YhH3ESTBZmKhlMAElUEZqLsyHpBSvWrT7oVB8YqE85wGAGASSUQHmIcAxmCFLKqiTqEwQDLIGKkAswAAgBQESC7XrHLzbe/Z+9676++vbVU1aOrx37rfXf7wh15q84vv7IC5dNf4sEAOsOJtm2e+BY18y5/NZzPixA/PqVP93/xkMiJqFSABFQBR4Y+HzngglhcG5esAHJk9MagwA6iyAgte2RqhFGUBhY7rkFJUJT01t35QW6EeGISMthvgAA6CwikAiST9M8l3dLy5Z0pguS6DYi7VOFs8fSGQeaSCC6WW9QKYUQSwijz4iIgrgAdYHONccRwrjBgbsPnmJyLI1rQoiyOUACGosIELlM9vxyLI1FBHAyMJ57WLeDMVZGpXqGwQRLIjSaEUFAlGzHx/NfsjN0JrhTfQCwbLwigMY0AiBodH6VfM/QmE4QGSllZAt7I+icM1KsQzY2cEAmQBBAgkgQKSES7jq265P//Nw3L/nynJGzf7Lmu7c9+bVT/a35KnH9oRcum/4WyeDG5uM7HO67cqxl4xZ+atlNOtP/65kfbji6Od5+h4Qi4Sop0KtFhEG4zoXOuMGjNIsLSCcj5IwhIKNRxxVccM4AIebHgoEmyQGWibv5XMANBoBMKlJxacENxgjH/EmwTGTNsRgzkJBE0X1uJeYCxjlJktAgUM2IFP/0kwAQEcbkYg8eAkTloeSTEEwYXAhC0tSnaDbvjDMhOKPlwrAYMwSAtfhkhzxyLFOiZtVHAikU6S+OHIsxAJLkB8tgGL8YFm2rZAzQqT4AwKSyGj9Ichs/eQRjrLQSLBNW+UxwyPvW5QFCAAOMjh9ERDBp1qnQqc//48ufv+jWi2as+voFt3/hya+oRiQvzbWzfa/BDemlYy+H9BSioBQca2LduG+u+jxB/PaGX2w4ujnpTYTgiqqGIawbKuWGya7EwIshUHP7S/kShFEEpDT6VaIZIWo7lCGAB6Uql4PoeQehlGKsPiUHkRhFUghff9lxLMoESZJgpX0qVmi+ZxtnnCZJsABAZxFFKXonCoE6pf5SOGbk3GGQcEBw+j0JxZFjUc6FIOUzuShjAkTu9ckXx6KMCeD2+viBcs6cHTfkdSoJZjrBifuRGhQBqRTv6jmfxaYEd66PAUn1KSEo4wQgYfyUkN5wJghiSdx8JCB6OIZzqSQSLAEgwBRMR02VDC50LkD0R9h3H/1h47saFo4/63Pnfuo7638Yq24OMJix6fhmadup7W6pkjhWlRK88+IvVynB+7b986n96xMSC865IXjEiKiqH2Q93A9cRoJEJkgJkQhSghSRoLmvOm6u5keSIvkAQOeGj9XGFYKaXy7qoVxD5xSj9SkHMAMkQgrkvDgLjiUYkQiRnNQ8XuVY+Z1ujCtOBEsBnwC9yL7dTSdGvtoSuCHwgV/jESVe2mHaYHn0VF4MORYnQnBntVdJwECAyEt98sKxBAMBie1jCJ0gJY42hfmbSoQJKYnQcIMjoC/JrUYRNkxkQnaojwCn+pQKgiEBVGji/CoZx2KUEpCw9J7uAQABiGBSqWywBMimaRLn3ODC4JwJwzC4wVUj/PUH//vuD/58+aRzrj3jnfdv+yvSPPjX3H5qh9Qe6kiTKp5jfWD+OyfUjn3p2JbfvHpffDIhmGA646phqAaPYBhCCqVcoUSRTIKFhCDFqOFk6tpTQ0JAIskIoGo6VWKDlQu9SqkFKOqApZJOEalUFmMUAKjBKCG0YK5NMuVYlAlKCEHJ5dn0Jln561CaQoIFZhQduaj9KIQgGpECpRk8gnGJxhfNgYmkH1Oj0HIsxjgH4b0+hYbBDJG/+uTOsQxmCEjsLwnkCFNTVjJPU0k4+cEyF2fJaTEs9JLMneujp6pPSSAZjJSofRzBDFESP1ipIDgpiR8sU4IlEyG4dbKbc0OgRkAXXGfdvd23//mrd9/4i/ctfPcze587GW4BiSDkVNP2cLvUHu5Kn3CAYzVXNV0z9wqN6T/YcFdcIFIhOBM8woywzlSD6wwRhCwFqgMqaJJPQYpg6gVNeYVrpZEgAiLBiKFK8Z9uEsGYArdYfYQEEbEUimNnRM30ClmfVFmj404gEAf86Wf2YEKJeXohFCkbRya+EAtXFdPaXZjK/tIMHoX6NaYqtkmEiCgyq4/3pMm9nPZZBEQB5XOCxDxfn8f6eMwo1QRBgQAO/eWngbARSukQNR/VN/slgdAgR3SqT15Lzmd9igwUbvUpfi3NxbCMNi9ELIWKEAWguRRHfRsI4FRwgQoCAxZhLGIc6jjyh+fv/fhFH7lh0fu/tfZ71C+R3DhWZ6iLdIa6PaUVAAAfWvAehcp/e/PRNvuBRiE4E0w1jJDGQjrXGaGEBmS5pkr3GbX1NSgjkSihSChab+ilSB5/1ImJSJyovFxcnwxBuNuFZGeq5T5KUzjuyD8IyDzfsRHKGbmvZRl1S0JhlTmadYCEtAhIwbARyrXUCoqISreUHmh+1SFSJBIhPir5JaVaVqoVuUr+59Z/tfd2rJxx3rTaqUw1uMFz8drVrZ4mXWq/x9QTasdePuOiPq3//jf+GftVAGeCRwwW0o2wzhknEqFBWa5WpIBE5CASJFTPwu1aWA8Rm+ZYgPAlK3cqA7ZgSCtwctEGpno2/SgofIcSQkOap5iYQwMy9UWMXN+3wrFyQeE4ll8KpHSQWKJ2d5n+FUClcSBPPrLzAgREJJQQhUoBWalSuE/8YeOfAOAjKz6oh/QcOVav1kd6PW82b5l2AUH8645HerW+6E+mvZjGjLDBVEMwQWQqVSlSlUx9EpEIUhoy1KAcEEK31xEx+i8VBAgUSvwvqrOlXrn01RBEIZq2HORYEvHrrFw8ExYBeQmFW+FYuaBAHAsBCSFMpPByVGn3skRRu6VcdIOJKKOxadIsiVAflYLy2gPPnOppXTR5YZPSoId0pjFhZEkJw1qEeNeWrJi4FADWHdgAlgBDCG5wphrMlF3JVKqSpaBMFYqUDJwTDOhcl6kAx6NGKbqfMW5XJXLB/C6hTsqor4YaCiTHctczFrpDETFiDCOCJRMldyEWFJBjDYsJnMtLujwroWTw1DtAiQRKhSh2KI2SofQuWaO8GgEBCaEKRR++cHAjACyfcS5TDSOkM50JzrOorgDh1R5qdPXIaY2Tjp4+ceT0cRAD8W9MdqUa3OBEIlJAkvwykUmC28mIwfySnwsVUnAs+z8A4GbwP3saYng33aogvyicy1C3I4cFnnwy9av6MFIUkjz5Si8QSxgmKFDr+ahPzQeBrqCYqEwHKLdGMEVZMn35xCsAcN6s5ZwLY4DhZKco9MpaVkxcDAAbjgy4FeXAueA65xEmNEYIUp9E/TJREtkVACD6QnooIMtetk5EYPHqGyY0U3zl9lVUXh011JA1x0r7IesmACtwnzJBShJ2tCSQqaKmMojOEBlpuyq6wgR4nEqpZlMquBm8eyy1AKh0tzsq7QPl1ggIiLirY09fpG/RpAU1wSpucEM1WIQJlo2i0CvBmts8EwA2n3h94AchDME0g0cMIQRRqOSXiI8msysTnMsUJTEQkc2lnqoeEvFZyCl8GiWivDpqqKH4ciyvpWYLicghPT+cY1BAInKUUObcqhU5Vi4oUAv4pUCEpQ7PWrF5L0tUGgfKrREQGPDXW7ZJRJo5fhYiMI2xCOMGy+KD3CvBGhFsBICWvlYA07ZdcJ2xCOOMIyXUJxEfJQRTOrhAGtJCVUpADNhjOtZUCMF5nC6DCTXBhbrbK5ZXRw01DD05FkEf46UMg1pMSESOsLwpkipyrFyQixwrdXqUiGSI1FHwKu1elqh0C5RbIyC0hdoBYGTDCCJTwYURMZjGsxBieSVYTcEGAOgImV5JhWCCa4zrDAQQmRKFEltUhRTrgp8JRklM/Zdc1bAeIraQdgKEX3YIbFJenTGcMMTkWARJWFcLlXv5ITn2cy6onCvMBdm1gPtTFCnn3G0TqMixyhKVxoEya4TOcBcANNeOoApFBG5wrjHOXCeXEzIgWKqhhvQwAAgBnHGmc2FwIEgUSmSaEF8I4/8BACCquh6Ug0LEHLfYK8u4gSJBWBUxo9Imu3VwM8Yqq44acvD+8Z3pnprqdGFB5VgyTe1JaMiBEknP68vmwrEqKATHUqiSxuC9sjyWJQrXLYOow8unqibBaqxuoj5KJCK4YDrjBocMKZYngqVQuUoOdoZPAwAIAC4EE8LgQgCRCJEJEhSuvkTNjZOgP2JElPgwAlZtVT1ij4PAhRGQE10zeOJYFRQYWTv18ch+nUdSwfpbM4aLlhAAJCLl189f1hyrMn/BcyNk9K0SkILhsuRYlY9fd1QaB8qmEbrUbgBoDDYQiRB5QIilc8ELIMEyz3gbPKrdF1wInQnGkSBKFCUCnqM3agx8ks+ydo9mCKAZEYpxYQcJYY7hrO3SrIocq1TImmNl/VTh5Fgy9YWHjbU7IgnpvfnNs8KxckEh5FgBKRBhrrrvStOXJSrdAuXRCCbbIYRERUiIggtuMM4yc0SfsXMpMxI1Z0JwgYhEJoSSKN0R6bdAgnK/FgrICsR7ODVYvMNT5P4k8VUCogb17s4uKygYrNb1ENA38cHs7eUL06dCSMPHZUNY7+OpfH9ni4quMBcUwuZdJoqbwTuU7Cu08vHrjkrjQDk1AhJCJIIUham4K4SKMAGCC8G44AIIIiVA4uZ+2n1KCJkgAYydKFb1EME481uJevOLmHbJKZ+OGooovhwrs1I9gxKpXxsuQiwA0Iz8m/ZXplouyHvrESSMZ+W6p4JSo9JnUDaNgASQIBIEMUB7Ck2wQAhTExktO+nbyp1jIdKQrgbloBAGAgjBBZfiEwivGsfYMxU5VmmQ6XF9q5e8y7EwSa9UCGGTRHyWEnzIwycFWAFeNhffDRVkOqjTpvfk4b109lgVuKDSPlAmjYAYJViIwjRAz2T7yUqCZe2NaLIrh6UyTR2Ez+C6RBhEXTPE5FVCcEoqUXEGEzKdBvmRZuV78iESVU/tp3FoAZHovCBnJwthUTR84OWkbUbpA1JQTev8rGLzXpaoNA6URyMgIpiCJCGEaYLluVqZU5kodRooIVW4ZleOhYgRgwXkQIT1UxFn2y5Qy/7jNovIwxXkA1lzrIx6ptByLJkGIsZw4Vh+KWgUxj9FoRXHQxt551gK8aUxxvKSSwWlQKVbIE+NkH0mCGCTYIkMJVhSj9rFRARBMoyUq60u+wGAcdYT7hJcMNUwIhrXOSU0oqoEKCEplkrXFbRP6yFIhWAgAIFIJMCFHvAF+7Ue7y/gUGJlVJYCImPH09l0VOJTmZaaDgbnDp5thyh4/EGTPCKLwVCBhbStl9HcIUgMZgiazu4i31PJI6K6kBKUPDhQom4pLxSuEbz6ScGoSwNzyRTg1YpJ8pHaCO8FoD6S8tSeD/0AgEh8pFYIbqBOUOPIKJFk6iNEwlQEC9waRgjDLymqEULwmwb6lELG1leOJTo2W2UqFxhZc6yMHrR3rwAA4SJFzRgS8YW0/qBSlbccyxiK5NcMVZH86ZNmjkwHQ2UjsSO/HEuhStgIBaQ057KHVB8MoXcZpK/CBND81buEjRCzMjcdJRTaBst2QN/DK7spCqUIC/kkH4BApLro9+Vrra/YvJcIWegKcWC3yF61lNc+RVREwUQ75QZHV3P5Qqa+GyqafDu86wq9NFpACqY3eIch5LthMFKS1Bh080IAsAx9cnrJszQwGdbAUpmRaUpRzMldKmTGxsEIAChYrTM9ddKi1KeCnJFd62a6Hib6q8xfnxKkw8dlg0x9qlHAl61MtVzgvfW8pFQkn86LssCWD4bQ+Btkr1KY6g6yRigSwQKXhsGIEfHRoAADELXUdmDZoCLHKhGy5lhlYvMukUCRuH4ZQCZKAWM9Vnw3FAtp25kAGTgE5SGvihyr/FDZtWCwNYLkUwg3ZAHgk1KSLUUiAEAQfQoRDIhBUEYBhMooy4QqxM0GKwHxCTUjAtxvCI0SzjlQ9Ee8yLHzgkGq2R4kyK51M7V8L5DNOyJGDF2mch7yKntQIql6v18uoNlZZaoVCAnjP207ezXGSl/s4MHQGnxD622yxCBqBGKrKrr+S06T9hGHfyisWIKIgD7Jz4RqMK5QvwANABjL9znAZFeVFgYXGS4pspAuFE2OFbNBNM0Q89GvMvWrBXB3Xp5QqJ/zwka8zkjbVZmXCXBpkExnZUAKhgupFM4dBRFiDaEhNehfJR/kaLA0QrFdeiaby/hkBYUcYapMKYAgKOfdOC6KwUJ6yxLZdUlx7LHyVW4COMdBM49zAyFU4wV3AOb1RHRlpjohjxzLJwUK5GY2X6joCt0xPJalNBgUjVBYguW4Via0i0RkjirnlKAEqEH+hBApK5RovFOQooYeRNHlWJk+EqtbPvqUErlf789DRoMBPhowCm8BXZlqucALx/KynhFAAOQee2Mo9dkQepch9CrZo/wbobAEK5XnKRG/DATkIAgRYWGF+gA4ADBW4HPyLnrDClJDZKX/LqYcK78ci6Cv0LqzMgEiFiI6YTLKf00sZ3iUY6VtZJnIEe8a8BL1WUE+fofQ+BtCrzkMROQAACAASURBVJI9yrwRCq4itDhWgvWWvV0QCRCGwieAI+oAIATqhYnjkYiY8U4xShu2KGrriuh/cj8bRwoWs68M4ZMCOitGpKDKVMsF+dIVBqRABsZYQ6nPhtC7DKFXyR7l3AjFsMFyfH+ERCEWF7pm6IoUICgQQDOK8T0drUpFmpUJRBJd9vhUCZBbqTpTfVIgT1UZBChaH5Xzmlj+yBfHyswYawj4bsjIN+sgQZpXGUJv6oKyfcsiGbknvL+jHkeiBMFn8AglBAAo+lS9uKddyraXyg/FtHnPBcmHKjJ4VoBfGhaeGiwo1Fc0PymV2ZYL0nIsL807YIw1XOIWAAxLjjU8UJ6NULxThCnff+CGIvmYUA3T4gUZAHBOM4pcnSsqQqxMEKfkzeqpgiLBd0MWMHhYGh6usOygRCrapCvPNXGwIG3reWlemchaZnrh0qyS+RwqBeZYJRnVboUOm2lWhi9aVDcNaTmWX/ahoAbXKQEAICiFi3+Mqwx7qVwxWORYWZTKBAsqw0g5aEEicoQVy9lvWWIQLQB54Vh+GggXzb1zmaAixxqiKLdGkMz/Fe2rJOUZNAGAQImkYi8BwgU3ncMT4WfcoEQqVgUHtxwr305a08MqLiN/flkcRcwOCDCjbpJEZAAQIHZ17/f6pNAJDjvxlQmF+ITgiEX7+hrMU67UcJxK9nXAy1zzS36NawpRcip1cMFqoyHwLgMYQq+SPcqqEYpIXAbgzrF8ElENFEwCCgAAiKquVvlKUM/BiFIJh7Iot2jT4M5LvzaiugkANEO79E/XeinV4JEqJcdwIoMYhNBCB89JQFmtiWUFiumXvrQcKy0QkKJkcBHn60EAi/8FAAjIABD1ohN3rxhrD+Mi4VURJAQwcvNNTQSSYrvcLhSKPJW4gFRtLwCMJOs+LrD4Jn+IwAUIEIZIHLJCgONhOjZwFN0QwAUwAUwACEABRIBIHIYpURrikmoQCMGrlWC/1kdAsSQiFP2aEVEkX1GrWM5IF7C1+HIse9EmvFSg+NuqafOO6UqVhsxymy18UoBzRggtWokVjuUIjx8vLhyryd+waOT8EcHGen99WA+3hzr2dx/a1bU3ITFFogmd2ncEp/4QIND5VlFWHcchguZ/8IzGmVPrJzcFGwJysCvc3RZq33Lqjc5Id9oshflahRl/CDixZtzMxuljq0e3hzqO9hw/2HOkV+8rSGEAUNyplHIrBwBwWmlFit9TZZE1Eom4Q35FGLJS2NAQfAAQNlzO6xIA4EKEDU0wbhi6wXTOOGXADCQGt4I959ivMtU0rvikJk1XNVt9BDKW+CmVoryUPiG8wLnfKfELwcNGop/roim5Et6JEoULribVJ48lvvjhhzHFJOiN9HX2d3WGujv6O9v7O7e37lp37GWdGQboZbJDUpQiLNY4dl2J/fdUlVVZj8Z68lYbAVzwYz1eVJOFaL6k+SDAEPqxnv1pi/PRQJ1/RAGqFAcEKhOiMR3Kg2BRIksYrU+xi0b63jlvv3HJ9eafd734m7/vfZQgQUQ9Kyf7y0cvedeZV58xeg5NIspHu449tXfdA7v/yUWcPEFlIZkOKAoF5cASekWmVAhgIj/tg4A3zXv/exZcQ5AAwL1b/vL77fenSiyAMhHn9RcBZCrJRLpu7rtWTTt/TO3ohEcMbrx+fNuft/19a/s295qwfOy0CCBTHxdMZ/rU2knvmvv2yQ0Tx9WPC8j+hJTd4e6Hdzz2wK6/G7l597118cfeOvcyABBC3LH2zg0nNyUkkKlscKMU4xkBKEsatzKRDa4nC73yP/dFXL5CoADCk8RVEpEdI1hwYQCAEIJznXPOhc65ASAEJ5wj8BjncYfko0RlEQT00ZQKeIUSs6o+SgQApYQQwomghMiUUEo8FpYOrEqp6tfDXAClQIQ9EDUVQvcVXIjl/BYRFiEoFJqP0r3wP5HyTrQ+XKcIMsol2ZFqfNU1vupJjROsXw53Hv37tkceObDWEGXh9JwJIdtEUGi7kNOJpgSIermOYoN7srQNb2N14kTPwTHVkzw8mFJz7rHQdHUBADC40RY6MaZ6opcsda5J3uxyEtyIe6+qznUmQCGFN3fzVieNRQBQSb0YFg4zaidft/A95vWu1j3/2vc4RRJhKgD6Mlx8ZCLfcvaH18y+JJVYZkLD+BuXfuCciUu/+8KPW8Jt1u9U8htcN20WGQJBkvCdpbGIAMi0Po6oU2q+suLzC8efZf2CADS15R8TiXcRYFL1uK+s/MLkpkmOj0hEOnvCwgXj5v/tjX/+3/YHEthkIaAzLSj5P7rgg5fPeYuU2nS4PlD/gcXvu3TmRf+35b51R5/PurjfvX7vOZOWjqhqQsRPL//Yjkd29thkYwigcwNBUHQSRedr+3Dmpmgk9RcAcMERkTiW7SIKyxoWwQLkAolTfZJ/BADzR0QghAABgoQQBIFIkBBCCMFUEoh4SAQlhIgQgqRW9pu3EJGgJJAjCkRGEAhSghJByVtZzohxKMoZNygEAfoJEiEMijHiz4VAJI5tUXAwgYDOYzRTeGmntGmYhki9qG+Kc1ZmUuOEz13wievPfvePnv/liy1bU9NFN2Q0gC6ZeN742rEHu488e+yl5LsGZ4RQZ2FkQicmJdJZWKH5tD0yXR4U9ZSGKwgIACTe6kMESRZ+5BcoDCFEwmAuoSgLAXmqDamQoEg/v+IWRVIAwODGzzf9BpEgAAIRwEkm9SGAXzr3M+dPXZ7we3tfR22gVrF5Hpk7evb3L/2fW5/4Uo/Wa/3IkRMk0XYgiZ/OImqwleuGfUbjrNvP/2xzdZyIFNFtvDEuaPzWPCY46vtrvlUfqLMnM7jRFeq250wJvXbBO6uVqru2/tY565R+GjMDAl4ycdWHFl/fVNWYcEsztI5QZ32gLiDHziaPrh11+6rP0fU0a46l8shvX/nj7Rd8FgAaqxpvXfaJ72z8UVwKgyFiYWexoypZAAqRXK7BGSU0A3VsPtYCBGAAAkBKGreG4Mk/wgDRR0AJKUfkSDlSACEhpUgpUo+cp1zWfQ6RKinQGwlbBMov+zU9dpSJoKTqoaBSXaoaDkZYsoSslc2aof1uc0xorxC5IVjfGGhoDNaPrx/bEKy3bjVXj/jyqltvfvi2k6E2+9DzWLR3sQcCfvzcDzUGG9bv3+hIsDxCAGB8qYwbw9m2PRky9alGyC8Vu02GoT3WDWe+Z9qIqeb1o28+se/0QfM6i2n73jnX2NnVGye2v3D4pc0nt54MnVKIsmjkmQtHz7901kXmTj+6dtTXzv/Cl9bdYUl3ZCKHjVCgkJ1+9fTLb1x8vZybkzmZyN+44HaLXenMeHL32tdaXt/Suk1larO/acmYRcvGL14y8WwzwVvnXnaw6/Djh9Y65JWwSGU7/t4x48qbln7A+tPgxrq9z+1o3bmv68DhvmNccARsDjRdMnn1NfOu8g/oDT+27KYd7btO2eSIGeG5YxsuOnrB4gmLAOC8KedeeHTluqPrs8tqqKKEvhtKT7BMa32/JIX0EIGYyIog5agS8FtDnYiY+LoCj8iRY+nMeGDXw463JKRrJl9w1dw1M0dON3+pC9Tesfq2Tz7+FZ0bheNY85tmNQbTqPC8IHqKwmbzjmgglkA3VM4ousuGKIYVx5pQPfaaeVeZ12197b/f9oD9bkZuXxt99e+af7X155Zjr/3Xc3cyETUx0ri2qWXLppYtr7Vs++qFt5k6rHljzrhs8kX/PviU9VRACkaYSsBRD5i6Z+KtXhzho77PLvn4BdPOiz4hxMNvPnbVGVd4fr8Yrp5+2aTGiVY+P9/4q6eOPGvdbVM7Hjv41OMH195+zq0rB4r70OLr1x/b2O8YgTEfHOvh/Y9fMHXF9BHTAGDbyR2/fuV3B3oO2xMIEK3h9vt2/m3toWfvvOSbo2tGAUC1r/pz595y+7pvZFzeAO565Z5fjvmJaULz0aUf3HBiU8TuPHb4TKTyQ1mclhKgUiIxnsj2zACFMRsURE0fLpF384icjXicYQj26MF1H/n3Fx/a9pj146yR0z8y/72QrdDdy1Zy/qRzPNcxg1J1FgnIFfFVIgihEaaWpOhy8xlYOFwz+0pLmfKfPU9Hcgi5fe3cd1iikb1t+/7n+R+ahuEJE/Cllld/+eI91hHFd867OkHrJxE5K+8rbphYPf5/3/Jdi12FdfUH63+67lA24haZyFfNfav15x9eve8/NnZlQYD4waafvXFiu/lnta/q3bOvTk4WRXbGDTboXL/jmTv3tx/88fM/u33dNxLYlR2nwm2/eOluK2TCvDFnVOfgFaUl1Lrp8GbzutZfe/mUSxISDJ+pVG4oPcESwKqUQEgLYZI4DQEpEfaTyhT9EaM0y/2ghp1jYYZMC9M99YNNv9524k3rzzPHzEkoNKOi064Fi2xWsbnDkmMptNhmN4MFPhowWGk+bIbDxlAtBVdOjXIOjemP7Hsy66wIkgunX2D9+cMNP1dt5BjjxTSPHVz7ypEt5vXo2lEXTjzfnhVFSrPbHFL02fljz/nJZd+Z1BA9HNPa23b7k//1zLENLoerXHDB+OWWndOuU3v+uvuhVCmZYHdu+DHj0fM3l82+1M3ALmeOdTzU8tF/f3rtkefSpny19fXtLbFlc3bDjIwLs+GRPU9Y15fNcjjcMBymUloUvxFKT7AI0bngAH5wen+fFGCg2m8xlp1jywri4J1j2dva8SlDsN+8+ifrzwn14xyf9V60S++OCTZPaZqYLoPMgIAGDytUydewQkCXA0Q55iwXXUWOiOZZm0yLzotnoUQfJUjzddKlEI2ZhXX8ldPXWEGZXj78SreWvYuQhSPOrPZFBSHHT5883HfMfURvPrbFuj5n/OKEuwNnGDOHU6lhI2wdA3+zZeetT3xp7+kDAODP6kDi4rELrevNx161inV839Naz962feZ1ta968UjXL7ScOZZ3HOk+al1Pb5yaS1Y7Oncd6DhkXo+vH7ds9NnJaSq7JhS9EQplg+XZ7EarkoN9kRBCoqcQCz5JMQxhLdcUZVUPBTIVqAoP/iWHNJKNCrxbZdmfdXxqR+dexpmp5qj114wJNp8MtTUotbcu/bCZgAv23Rd/oQ84fUlb9McWXDeqeqR5/a9dj7/WvnNUoOndc668ZNZqa9ue2Tz9G+d9LuFB1VD/e+PP0r7RqEDTmqmrl008u7m6qT5QZ3Cjra+jra/tVF/r0wef3965K20OCZjfNGfOiJmT6idMqBs/rm5MQAm09Jw62n38YNfhrcde2dV7RPWg91kzafWisWcBwJ72fQ/ufdT8MUD9F4w/9/zJyyc1TKgL1ClU7lF72vraW/vad7Xt+fvef2fnJCkB54xedOGUlQDQ2t9+zxv3Wr+Pqxr93jOumTtqdnN1k0KVfi3Uq/Z+8rHb+pIMWQiSlWPPmTdqbnPViObqESOqGquUqq5Qd3uoo62vY2fb7of2Pc7SOfL4/JJP+CQFAP6y45/7BzQsE6rHXTz5gsXjFzZXN9X4arjg7f2dZmetPfDs1rbt3l9zbHDU1bOuGFc7prm6ubl6RED296g97f2d7X3tYUMFANPW287h3mzd9a/9T6TKsFoKLh69cEbj1KmNkyc2TGgMNrT3dxztPnak+9jOtj3rj7/o/jVIkKyZdbH156N7shdfAcDScbFtdevx182LhIlvTT0EeOH4po+Jm8yXnTf2TIIkwZGBj/p0rsneQ+hYSFpuXml9/c+vPfj+Re95cvfTP3v1bmskZOERAwHnjznT+nP9kQ1pH9ly4vXZo2aZ18vGL9l0aotb6jzZvKfFiZ4W63p09agcc1u7b91Hm240r982+/KXWl5JTjOsTBtToZiNUCiC5XHnlilqRsTOrpIflIgcgT4KgVi7cIULltHRZUCMGosOFZqVhdF6shGqdz8O7hwrwrSTPafG1481/5zdOP1kqK1L65ncOGHKgIuazcdfe+JQTHLuUv/RgRHvXnC1ue5rTP/py3fftuxjb5l9YYJYaHTtyNG1IxOe7Yv0wwZngqUaEQBQiHzzgvdfPe8K+xFimcoTG8ZPbBgPAJfNvvT5gxvv2fqnU+H2VK1hxxmNs25adN0Zo+ck/D62bszYujHLJi2+dsE1nf2d97/+4KMHnnLfbmeNmG5aqEysH28SrJXjzvn40hsb40991/pra/2100ZMPXfy0stmXfJ/W+5fdyz9HuOOSXUTzaLb+zpMgoWAHz3r+qvOiGso85RlAruaWD3urdMvXTl1hf1UqYkR1U0jqptmj4Tzp577tjmX3fvaX9Yeed6lEc6bcq4pztndvm9/z+EA9X90wQfWzL7Yzngo0lE1zaNqms+EuRfNWLXx0KbfbPnjydAp9xesloLXn/mey+ZcqsQfXjMbc2rT5FQPIqAjwULAK6ZcfN2iaxPcBDRXj2iuHrFo/IKrAdYce/0HL/68M9KVKvMloxaMqomO4SNdx15rz4AsJmNa0xTr+qVjm61rxx1FAHRFuve3H5zRPA0AanzVsxumv9m5x54GAQEwSzfnScvNfTsf3N918MX4jT8LgjUyMMIaaS09LftOH/TbfB84mtpvPLbpfQvfbV7PGTU7fRlF4VjNVTFfEh2hzhxze+LguusWvTcoBwDgrHHzRgZGtDqtYBWOBUVshMKqCN3NdwSoPsmnJX3TJq++ASUoIKYaJEhUPXPZ9VChVoWAl6Zx1xXal+Bu9bR58eSeZ6wfL52x2mOhl0+70NpQXz2y9bTWt2DsvNyVbmFdDUqBuy6/85qz3ubiGAYRV05d8eu3/XRS9fi0eV4x5eLvr7kjmV0loLGq8ZblH/3KuZ/xqEIaWzeGIPnQme/96uovNCb51LFjdO2o21d99oYz3uMlWy+o8VcDgESkr6/4/DvmOTRUa2+r/c9qKfiLK3941ZlXJLOr5Kp+YeWn3zbtLV6qMbl+Yq1c/bM13718zqXuOsHlk5fddeWPxgbdBAD1Su2v3vqTq868wmJXjLOWnlOHOo/0a05nygagGVpPpDf5dwT8wtJP3rLi5gR2lYCF48+6660/XDFmScoEo+db12+czIldAUCtv9a8iBiRLW1xvssdKa0AsJsBjQw2J6eRiazmyexVgHgxSayShQ/F5kCTdb2jZaeXRw70HO7ojzIY9y6z1Sz+zwLolibWx1aY470nc8xNZeqe1mgEJARcNCqlJrSiK4RiNUJh3TS4iD0E8ICshHQ35aAFAgRQB0Fh4GOKCJ/ONDnTrx9LjgWDnm9ZH2q5y7HAc1YJHWrBR5UxddEdzuDsza6oxcMj+9besPhaM1LEgnFnmqrDtIWunHqudf3E3mcA4P7XHqxRqgFgTM2oq+Zdbt7a27r/6X2JR5D01KEnDKbfccEXpjdPBQAu+GvHtx/rPnHk9JHWUHtToGFczZizxy+05G0B2f+JJTfd/swdLq1x1bQ1Hz/3JotZRozIzlN7DncfPdB5MKSHpzZMntwwcWbzdMsad+W0FTKVv/nC913yNOGTfB+e9/5r5keP7h/uPLq/48CxnhNHTx8nSMbXjZveOOWcSUuszemaeW9be+i54/0tqbP0Cp/kq5Grbph37Yop0dOaIS10oOPQ/o6DiNhc1WTXawBAnxHaeuz1ZZOiFjy7W/fu7zhwvLflWM/xCNMm1Iyb1jjlohmrZBpdaq5fdO0LxzZ1pBbqmJjWNPkbK784oWE8mAFPTmw/fvrEsZ4Tp/paRwSbxtWOWTrh7PED1n4B2f/xxTd+ff2dqXL79NKbzYDfANDW1/7bV/70/PGXLC3V2OCoGxded96U2Ki7e9Mf9nXuP9bX0hXpdpS3fXbJxy6aucr680DHoddOvHGw6/Cp/rbJ9ROnNExaMXmZSXfqA3Vfu/CLX3ziv7Z1OFCB2c0zresdrZ64ggtq/TXmRV+kP9lrud1jCwzMuy41FqqvKeDs/SQgBSJM9dH0C7UDPPhuyBSNtnpa33Jpi+1Re8yZWOOrppgYdccT8i33GG8zVz3YfSj3DHe37VkwLkrZzxw554lDT6dKWZFjQVE4VsH9YDluyQIAIYIYEDylkWnCCAjIVSEtTCBqiYyIumFkTLDAxrGGhFVW8b9FHGfm3IYZlpjhxOmTkYFDZ31GaOPBly+auRIACJIrZ1xy9+uJscYSONbMuskWy+no71x/YrMA+PfBqCRs6aizLIJ1svfUn3c/4r3m4+rHjqsfCwAnTrf88Pm7trRt17labfMs+ttt9187++rrz77WfJcF4+ZdMnHlU0ecj5FPq51005LrLXZ14nTLt9f/yPIPCQDrT7wEAH7iu/XsD184Kyq9O3fy0vMOLH3hxMtpa2uyK83Q7n/tb3/e9VDcNn8cAGDh7jM/v+IW02O1T/J9cvFNX3nu295bwwWXTFr11jlrAIBxdv/Wv9238+9W6REj7JMCCekf2/ufGc3Tnj+w8bH9Tx3qPWa/tbVtOxyAR/Y++V+rvjiqphkAanzVNy14//c3/dy9DpbXzcOdR3+88Re7uvdZt8wW/922+6+f++73LHiH+eOSiWefN3bZCycSY7EBwKWTVi2fvMy8PtZ9/JbHb1fjbbdPhE59a8OP3tvxjhsWv8/8ZVL9hH8M2MAlY07DjEtmXmheM87++vo///TmXy1C80bHmwBw//YHv3TeZ0zRJiJ+5Owbbv3PlxO4mkzkqSOiSj0BYmtrmnh57kDAGl/UD3MqsVzy5O2LxCKrNARSyiAlIjPBiu/g3hGN/hjBcpQvOsJqE4Kkyd/gqD5LD1sL5riBzGmYYbmb399+4GDvkezzGqjP9radlih7ZnOaY4kVjlUEZKYizPSEv4lkEiDACCrBsBYGcJuxCQ9KA+FPBIAQQNEX0cMgRGae+MAmuzKfzfTx8kMW/eJ44sZjPskPXjV7jXV9qDNupXhoV8x+ZfW08x1LsOuRL5t+ofX7+gMvmvtWHnto96m9N/3rc1vatgsQPinuA4MLfv/Ofzx/YKP1y8XTEtWaFj617KPWqag3Tuz41ONftLMrC2GmfvKpW3+3OWY2fuOi6zxuVDrTP/v4Vx/Y9U9HIcrWtu2/3BQL/XH2hIVBKSsZQxI+suwGRDwd7vnG2u/cu/NBe+k+KaAlKYw2tWx9/z9vvuu13yewKwv7Th/845aY88wZI6Z5rMlrx7d94onb7OwKBgaDwY3fb79/89GYtfJFUy8AJ1w0Lfb73Zv/oKY4GfeX3Q8d7oye6rp4xqpGX0pnth9a+H5Ldvizjb/+vx1/ThYXtakdtz39jSNd0QaZOXL6WyYnjqX5I+ZaKssTp1tyOT8IAA2+OkufG0qt90zw2GIPklOfmmBRpI4xcb0i1QG/rGDX8dkJomOxFuykc2TAQRnqgBSmLSa0HAJEI+BHzv6g9Xn2+J6n3NN7gc7Ftvad+kBc53H1Y+uVNMrQQb/z5Y4CuyQokpuGRKpEGOM6eFAO2h9UqN902WDd4xyzbJ2ET49BzrHyK4bPlGNdP+fqi2fG9rCXj221p3yjY9eB9qj0e0zdqKWj5ru0NQE8b8oy689HbOtOvnroD1v+EmYqABg87Hg86rdb77P2y5HVIxwLPqNx5pyBQ0lc8J+9fHfyqTo7/rL7oV2noubD4+rHvmOGJ9fVz+3f4EjaLGw4udnKFgAm10xwSewdpgDvpxt/ubn1dYe7hIr4+SJApA2j+/TR51t7o9rh5upmL0bTAsQfXrvfcNL5WsX/bmuMuY6MD2xnYWztGPOira/95VNbHdMAABfcOvBPCZ3b5CwAWDpq4fyx0SNs207uePLQM47JzAz//MaD1p/XLXxPgjHZWaPOsK73tu9PlY9H2C2T+rV+l5T2zrNLgFwkWADgo/6wEc66enlEna/Wuj4dScNKLWrXr8Wo2Iigm11jHFw5VtZYPeF861RjV7j7qcMOXlKzgMY16/vW3QzLwuDe+fKEwjVCZgTL2sjtuvyMngUADpGAHFANhoBpnVhC/Mv7JAWAW78jyGG9HyArWVQyx0qdw2AZhXmRY3l/dlSg6eMLrv/Y8g9aP+48tefRA+sSUtpN3a+YeQmkLnTJqPkja6Ifl7tP7d3fEycMy70Xdrfue7FlCwBwwYIp/LafCrd19kcthJqrRyBgcsGXT7/Uut50+JUjfcfTFv23HTFfiO+e//a0NvuMs/t3POieBgD2d8YY2PjacS4pM8IrR7duPLnZ8ZZE5AjLeKMVIFoGrOMDsn+EP32wo63HXt/Ztdc9zcGemJV6c7WDWCIo+S3rq9a+NOHejvfEDI2n1E9yTHPdgth5gl+/8gf3D+Bnjm5o6YkebxxR1ZRgiT+yOnYG1u4SKTs0BWKkwd1yH2xT6bSNYFk28qngl/w5fYrmaRmt88cEM95VhH22NmlMYW3mjHxzrGq56gML3zuQjfjVS/fkxdOKieOnY2vRGG+uHwbL7lYQWNqswmSfsQQrxy0ZAHwSVY1Uga7cHgQAicgc4/wJEeGLM1fMhWNlkUPZQMTT30Io1xGw2d84r3Hm6vHnvmvmFd9d/eX73v2r9yyMcYX2vo7vrv9/yQPk4f1rw3p0S142+ewaOQgpRtGlNm3O0/sdIsx76pvUL//cgPqPg+ZyNq29v8O8kKk8pmpkcsF2Z6oPvukcqzEBG05stjRQtf6aSdVpyNDu1r1ejNZP9cXO9I2tHu2lJmnBBf/1q39wSeCjfs4zthFuD3VY1+Oqx6RNv/7QRpe7Vod0DHRWrb+mOilE8aSaCZa0rCvcDa7oCMeOyjc5CTkkIk0fMA7rDHW5yxchSitj/iMm18X5yLVMpgCgR81JPwgA9Tba0a+nIVgwsGJ0azEj8bp0BMtsyZyUKvlYXM2DriZ6vOlVBUCfTarX4E9z4jUR+VtPFaL89wVfsT4jn9y19vkT2UesT0aPTWda46vx+NSg3PPyjUI0Qq5G7tZ27rFyHFSZBPo0LXlz0fIvTwAAIABJREFUczyeZsGyyAvIVaqm2eLqkIiuBm2mypkZH9rPFWaaQwEOyOQR2fkRTUCVL/j0DX8zrwmiCyk53Hn0G+u+f7jvRHLRISO84cCmi2etAgC/5Lt86oV/2f1ocrkKkc+ZHD2MphqRx5IkYbnDpCMG16oUN0e19p14ZGDEif5TEF/dkQPCEsbZm117Ep93ggCxv/PgpMaoFm9S7fj9qUOVgWe/OO22ZA0ez5+nQ2tvm7tMDpFEWMhPMgvdaDcM8uKN/WRfa9o0ANAdPj1xIABLc3BEX7zUs93GmZqrmsAV9i/+o6cdWmBC9Vir5vs70rArE239MVo5sXYcnIjdqrYNwtOeJTGpYHemIHv2aWJ3pK4Z6QMiIYJIpw5Og5yNq+319O5Gy+7/LJJF6CfH9TTDdyFIvnbebZZy8HDnkV9u/V3GNUkBs3a9toFkZ/BeHi/Xrax4yHsjROdhFqqlBHjbznlQ9vXrIQKJB5E8FooACIiEgS0yNAGfxjSF+mJVyMgXQyqOlTYH+3FnKObwTFlSAuXLiGOlyldK7TLKxP62gw+88Y+nj2y0f9omFP3QridMggUAF0+/wCRYED+gV40/p3pgRdh8eEufh6/wTGHu2VK6zV2kkmIKAIQA9dcHo1SmK9yd1vzIQnt/7ODSuNqx7ok7Q2kcGURrlONu54STvWmcdgKAXwpqLKKkiHNSI1dNqB47unpUY6BBIbJCFUVSZo+c6Zg4ZTX601TD7CTuKnJuVzsjRsQ8jjCmdkyys3I7JtTF/BLt6XQwippYE5M7+qjvfXOuca8hxLM6yxrMRDzBcnY34B12qu3+/WBHnD2TNykaQRJhEV9WIW6iyO3T1O6awV5/d9jbpCvsaXIlIjeOhYCfX3rL4gnRID89as/3XvhJHpWDJnptpxaqPQ8DExWOBfluhHy6abB7YUiRIgLgF0IBD++QwF6snBHALwVDWsimZESDMcWRBniURTlyLCsHjyjL4ZmFoywvUI1IZ39nS0/rw7uefOLQ8xJFCZNjdceK3ta5Z1/bwenNUwBg5shps+qn7O6OCgCsZrtwWizc7BN71xWi8sf7WzQerslw3YmDgEk142Nap1AarZMdrTaCNbYmjTrPrlArMo6fPpE+0YDCyMKZjbOvnPmW6SOmNgYbreB6WYNx1qbmoQUEiK3H3zhn0hIAqPXXXDv77ffv/LtjyiZ/w+qBEagZ2u4uB4I1tibGkOaPPWP+2DOS07ggQe1oxQ0EgE41g4HkiLZwrLmyI1ie1ZRIkGTp3j0f6A7HCFatZ4JlZxvZt3YOHOsjZ92wevpK87pfC92x7s5Dvbka3iXDzpIzkmCZKMtNrNjI46aTE8FKVY8Ug9ColoN9WgghAJ47Mjkr80FZkpgRy4OATzVC/qgFRvwTHqVZLhzLLCYVV7MzwfIYnnmUY2mG9vvNMc9V3Wrvib6WI70nuiI9lrxKgABAx1e3F/3knnXTm28yr6+cecnul++2l1snVy2aED3z0trbtvHklkwrnxY6M7q1noCUue+0eEywiTE8yplMnOqPGVlbAVJSoSuFB8UiIJXzxgTIVFGNUJVcc9W0NZfOWD0ldbSZLODoKjM7/OPNh02CBQDXnnXNyd6WZ5IiCzX5G764/NNVA4znT1v+rHEHLdLomtwCxsUvIAGbYUN3zhKsNrXDIj1VnglurRIz0zmt9ngULclEDhvhQJJHtMyQ7cS2a/Dt9XdHla217YrjjJEVx7p29juuPvOt5rWqq9965vtpD3BkB7vfDe882468bGKD3agrX/XPVYLlwrESEkiE6RwSwg565FgJWQkAmSga9FN7bpxy4ARIyk05rTTLlWN5RXlwrARkTVN0ZjywK2bE7Z6JO8d69MC6Dy15nynbWDl1+f++8ju71/VLJ19gGUk8t99N25i2xJTVE9zgql/K+KsuAfYDgBkF+sjoiz+lmrLw8F6wjwa+eM4tq2yiRwDoDHWdOH2yM9TVEersCHeF9FDYUFVdffvcK72LfPLonuaNjp2P7/zPZXMuBQBFUm5f9dkrWy7bcuL1Yz0n+rS+cTVjJtSNv3D6BZbUbdPhzQ/ucXZg65dierEjXccy1TTt7zhg/1M3NGvMB+Wgu6ePtDC40RfpN4UW3nfWaiU2HTwSaxN+KZCrojBbdKqxZvcupLG3iV3alw0y5FhXTLn0+rOjxwZ1pn/vuR+/nlvQSedKCQCAgM0ZXsRDgHlHlNsmZnCjX+/PpUqIlBLFOmtlgQtBnNbwkNYPADrTeyKnuc51TTc0HQRIsixpMgUywCVEra/OZWHPg4rQvTPMW6Zrht5IGONLzKgj7UxLAARkf0RnOOCqFEFS9VBQrh5Im4JjRVOnKNadY7mEi06QYyXUuBRIaNv0ClwPCdJm4sKxQkb4hYMvXTprNQDUBWovnLD8ycMxJ+mrpq0YyEE8sjfR7Z67Fw/vzZzKNUNGaLetzo3BDM57j6qK+RFo8WDnVP74zOKPWuyKC77h4EtP7X/25VNbHemR3eFnkfGzLffU+GusYDhzR8+eO9oh4q8A8cKBF3/w0v9LRe9O9sbOdb54eNPvtz/gmMwj+rSQJTNrzNq3uA094R6TcMQd+nFFrc+BYHmRYyEAzYuiMHMibdeeez8oZ0mwGGfdkdO5cgjPvhuumHLJx8/9sNlKBjd+9Pz/23Rqi0O6PKHOZ/fC2p/1Z0pZcSyNaTXpnKa6QwhgQviVRPUF48wxLm1ArgIAmcrVSh1HrsuaLmtCCFlWFFkhCrU+rcN6yGVbIQB5EIcJ1zwECL9Ew3oYnVwzZF04IhUYZyFIhM/mltB1eLiwqDzGzym1nNSxX/Lyeu6MJ1X6h3Y+bv1ygS3025hg8xkDG97Olt1H+lLaAHle1pzh5fBaWtjX94wI1siqmCdML4bkZY4Lxp17+Zxo5GYB4pcv/vZbG3+86dSWVOwk93DdWYML/q0NP/r+cz91dFtq4s2WXbc99vWvr/+2i0f1ozbrtLTHFNIiLkyNLw8nQC37mxp/9Qi/J1+aE+tjzmk7MxTISfmLA50R7PInu8MUF/ip3zr52xvpM4eo+7aVF1w+5ZKPn/sRc9nRmfHD9f+7/viLBS3R7mvD3c19WpR6+4oiYkT8Se5XygcK9bHUxgzRJa/ATalSElSNmNMtR7Mq77CkRQE5qGoRBOv8LYkYqqR4W8ddNIZe5FjgRMVSmYyVGfJi2JSp5g4BdnTt29t2YEbzVABYOG6+QmSN6wBw+bQLrQ+Cp/Y6x/5zRzGb+VS4zfpwrw/UeQ8c22Q7UHa896RLykGBs0afaV0/sWvtwweedE8/qjqN2VlBUSUFLpl+oUny3mzZteHwS6bjqBO9LUd7jh/uPdqru3k/N3G4J2aVPKY2V69jdn/rdi9WWeNkT4spmUPA88ef8899j7mnR8D5Y2KdeLT3RLIg3n1alURR2BpuD+vhgBwAgLmj5gSoP+1qds6Ys5UB40v7Yd5c4bqSXjb54k8MsCuN6T947icbTqYPQpojam0ivV4tJ4IFZbp9FQ9eKDhBqhophVj5DJXjWBUBLKgEQnqIuKojs93vkZC4Ryn4tVisMUwvx0rlvd2THyynx5OfE0X5VkqNspJjPbk76t0qqARWjI16vVo5NSrNCuvq4wefza6pitbAIUPd1xY1piFIzmqa6+UpBJzeNMX68/Bp57B9gwj2kIKbjqbZORBwTG1uFuI5oFau/tGl3144bj4APLlr7W1Pf+Pvex/97bb7frvtvscPPb29c5cXdgUAh3uPWab3Y+tG50gsem0ChjrPqi4XvHz8Vet68biFadPPa5pTF4gKPNr7Og72HBGZm21QJLy4qxsTbPvJN81rRVJWjF3mnh4Alo4727p+4+QO+61c1+YUQvU1ky/65PKPmuwqYkTufPaHRWBXEK8z9e7m3gWllWOF9ZBcCju/jOCXgloKz2p5jkXosJGjzgUHEddG6MR9Mu1IMwefFGAQZ8pn5BCDM74Az+tMWo4VTZZLbeKRD35UEo717wPrrDge509aBgBTasZPbox6uH7p0CtmoMBUTWUfxz4pceIVbS148XBsrXznGVd5KXj5mMWWP0xVV71E1ylzTGqIaZd2dO5lrr7dp9ZO8sv5iUWdBVZPPM8cY72Rvp9tucejxDEZOtdPDoS+CciB6+a+M5da2U/DjalN79o+LV5q2RIxoovhGaPnyER2T798wlLr+o2T2xNOlniERORI0RWFr5yIxZQ8Z8IS98QIeNbYmKBu0/FX8lybpMZaM/miW5bfbLIrVVe//cwPNrW86vBgATDadjw5begCjygVx+KCS54dyRYOXih4qiPPUYKVRzGgvSoc9ColGNYjmILJ5cixTCiSZD5q5kZACcd9j6aTY0FqUVYuHCtHc6F8I5UcK23rePzC8/i6Yaa+cCAaGuLsCWcRJBdOXmHdfWzv0y7PAsDhnhgvcQzuW5wGfvrw89Ypv0UTzppeNyVtwe8682rr+vmDL+bdwWDx0aPGvo+bAyMMJ78GJhDw40tuLEqlnLFkfFSA8WbLLhczLC94em8ssObbzrh8VMAhAKJH7GyLxQCY1Tw9l1qZiLDI5iNRA2q/7L9i6iUuiWvl6uWTYrKf9YdjgYnsU97LhDIVhZnW1hnelptnj26wToQtnnC2u8HZqvHLGwc8kLX1tW/r2JltsZ5wxZRLblkRZVdhPfw/z3zvldbX8pR3GlCk05qmWn9ua93hkjgjlGTjChthmuResTyhpAiFnmcJlgmrM2QqIkbE3W978h6faV/KROHxQiwQMoesnOjkkWMNKhROmpXcKA/tesK8qA/ULRk5b9mEReafJ0+f2nzqDfdnu7Se/khUADa+fuyYoNP2lvhY/vulJdT69N5nzWsEvGXZh+uUGpdy3jH9ijkD8TEYZ//Y5ewFYHDhhC008qLR831SwKadj8NV09bMG+NJkZo7HDvBOkE2uXFirZyTn46H9j1mqfZ8ku+25Z9qyPZ806unXrNo+sSGCcmBFLPAvdv+an1Mf3jpB5aNXuSYTCbyHau+bEXE29u2/yUnEYtM5Huv/vX977jH/Hf9Ge9JTgNFVBRaBfRovU/ujn6M1QVq/3v1V4MpnHKd2Tj71hWfsP58aMejjocwrphyyf1vv+e+t99z39vvufftd4+rytLA7oopl37m/FtMdhXSQnesvXNr27bsssoCcxpmWnLi7vDp/DoyLfL2pnO9rGzb01JwilLy0CoIwTJrw0H1S37Ns8LOg6ApJfyyXwATA5kQoKqWQCc9Z+9imJXps45llp89lomiybF2du3b07rPvL5q9poZI6OmPM/u35A8QJMLtRwcyFT+1NIbqevBQCb0fB4LteGXW35vxYSeM2rWzy7/3qz6acnV9RHlx6u/f/M5H7J++ce2hw/Ex8sbpDjSHTMje9+Cd06qHk9RSgjdUyNXfXbxzfbXLwKSx8yW41ERwqiakb+9+uc/ueTbn1/6yevmvut9s99h/bt8ysWLmueNCY5y9zsQMtRfvnSP9eeZY+b+6sofrx6/IlX6KimwZvKFd5z/pc8svjnhVrfWc6w7KpElSBaOnO/1DVPjUO/R9QMRzSUi3b7ys3MbEyMUSUT68rm3WowfAP6yzcG7PQLMqJ8yorqpIVhv/nPx+5VnRaGH5eaBnX+3mO6UxknfXPklhSSqkyZWj//aqtssW4K2vvaHDzzhmNusETOt1wzKwbZMPZEiAMKlk1Z/1sauvrH2O290vFnM1f6sUTFN6J62vXl0JmeimBuXwYxShQpwgUsLSEQOJYV3K5z8TfglOaSHCBTD8IIgBVRBUBFTFPoMrkuJVgiZnJ/LKGh0ps+W9HhGqsILd7owocQn9zwzc+R0AFgxNaqk4II/vPc/jhkmPPuP7f++bdUt5vWKKct+EfjOI7ue3Nd1SCbSiEDjjKYpD7z5aJ/RF2XbmP9QfSb+P3tvGiXHcR3o3hsRuVR1N9DYAQIEQZAECHCnKJqiqI2k9sWWbUn2aOT9HGls6/nMPB0/+41mNGN7vMgzskf2syxblrcn+UmWLIkiKYriToo7QRIkARAAiX0HGuhGd1UuEXHfj6yuriWrKjMrsyqru76DQ1ZXZUZExnrzxo17p/3SFx//8mff8ZngdNKqsZV/+t7fe+X4zn0TB/ZOvD7lTV+65OKLl264fMVlq2uMu186tuOr3TlPyg/f2PGdt2+8ZcweA4CiWfzLD/7pfbsfeO7oC8dLp8etResXrbtw8QU3b7hpvLAYAM7MTHznlTt/7cZf6EtRf/D6/W+9+M0XLlkHAGPW6JZVm2vFiwamnKkf7LrvW69+r5Xl+wOHHtv88mU/eeX7gz8XFxb/X2//jx8/99HD544cmjxy9PzxUXNkWXHp0sKS5SPLLltxicENAHjk9Ub38QDw6qk9QakA4KpVWx89+mSXTwoAf/HMlzcu3bB+yToAKJqFL7zvD4+cO7rj5Ks7Tu5aObLiilVbNq24pNYe7s4d9zx2NNz+evPSuY1LqeXDhx4PvSygxycKp7zzX3jsLz77jt8O/BhdteaKf/3IP+w9/dorJ3YeOX9sy4rNW1ZefuGStdVF2pPe5x9t6aej1qDwxaMvh/rxb88Sa/z/uOU/VB3BFIzCH7zrv8RN5Ge++YluAhhsWTnXq3ec3JU4nTb0ZuFypGN1GSegH9iiILWqjd6bnZsGh7NCrWuGrCkYxZLnMDBn9VjoSleYzWaeSWWsuH7eq/fWHn2uuwDmfs0N7WsnYpE7ylh3vf7Ar7zx4yPWnAb45aM7j5ZOtsm3eu/d+x780JZ3b151WfDnltWbtqyue0f//p77p+U0APjaGY3scTEBTx3f9rv3/t5n3/6ZJcVxALCEdf26a69fd23L6w88+wc//kJaEWD6ziln4stP/8Nn3vrp4E+TG+/b8u6qZ6xazpUn//N9vz/lTfdLwDrtTPzew5//n+/+/cWFztt5i+xFH7v2pz+49T2ff+R/h26cAcCXXvj7Kff8x6//aHVBXTe+dt342ptiFmz7iVdu3/SO4POVq9PZRZ2R5d976E/+6J2fWzFrpLh2/IK14xe8czajWp4+8OxfPf/V0HQI4OIlF1X/3HH81Sm/3bH/6kYhS2tS6zTdPHn8uS8/+dVP3vQrgYxlCnPr6i1bV29pvtJX8i+f+JuXJ8JlDgRcV+NP64lDTyUorMFErZs9RGw+hZMpBjM2rbis+ue24y9mlFEPZKxWRtt5oM1JWwTmqpJgc4tORo+himZxxisj8B4qFZHzylMHmQqwXRVidxave3RjWZVjq6zEe4URab9X6Cj30dfrHO7dt/fh9gnWWN3S7z/8Z9sOb293NQAAWSJzA8mXz+z6rbt/54n9T7c/QzdROvvlJ7/6uUf/JMGbcZ750cGHv/jjv24fkPH5I9t/6we/u+/8oTPu2VPT6bkgaktt375k0YY/fsfn/vpDfxZFuqpSNIv/6ZbfXFNs6Vriazu/9dl7f3/niVejpLbvzP5njzzf/P1jR56cdit6so3LNmxZclnzNQk4PHPsN+76zBP72/kFcKX7d0//0+ce/ZM2En+tG9InDz3TMd/enyj85u7v/M49/7V9vzp49vBn7vnPPzr4UKsL1o2uKRoVfYmn/EeOPNFXO46EvGvD26rhww+ePfTa5P7s8sq0csp+ycjB4cFk2KJYe+AjkxWIoa9qwg72bDfM4vaMqgQoDDJVComnFPW9qpGKq8cKQGzlKAwgd3qsh/Y+FpTJkSGHgyI2aHs91t177n/PltuCL2fc0g8PPNJRtVi99/DM8f/0o//2/otvffvFN69etGrV2ApTmDNu6dT06ZeO75hwpgBAascWIwDw5P5nxuxRAPBV1ONjL53YUT3lN+F0OOp8onz6vz36+ZWFZT+16f1bV25eNrJ06cgSIjg+dfzQ5JEDZw+9eGTbrvMHyy0MwGt59fTekdcqU+SxmUiu3o/PnHz4tceCz7tOJw8fe2DyYDWdfWdjTM137bvvwUOP/dzlP335ystWja5cPrpMa3148ujhySMHzh1+9fTuZ07OvUnfveveDUvWQ304uVoe2/eEJUyod8LZnhePvTQ5G+NluuauoLfceuEtn775UwXDBoDz7vRdO+956eTOg1OHz3pzcfcYsEXm6Li1eEVh2RsvuO6WjW9aZC8CgEX22G/9xKd+58H/3irrbade2vajl65etmXzssvWL163bnztBYtWLy4sdqV73p0+70xPuVMvH9/54IFHD8+E+5UtSeeBvQ9/6Ir3BX9+aPN7dz6ZTgzgKX/6vz/2+c0vX/LuS269es2V44XxUWtEanmuPHni/MknDj59//5HaiuhGQSs+knXpB86GLLF2UzcjcLjMyc6dLxO082zJ1/4le//5tvW3vyOi99y4ZJ144VxkxslrzTpTO09/dqD+x596sS29mrjzUvn5NqXj71STiQjlqXzyGuPKdKYUsSIuLx30+3Vz3fuuid1A6wGMlrWFen8O76Ctut2rYCQvoBF4BWN4pRbYhg7rnP3WMKUUgeaOQLgYDh+KYgrVE+rfbu2VGMRJlBNzclnsW/Njla95L8/9mfJbmygjYy1aencceLH9z/tKq82wVaVVLfPuO+Bu/Y9AAAIaDDhzYpErlKCQWHWyuQvtn0lJKG2/NueuyDmMneyfOZvXvyn4DNDhoCBsyUCOjS5Z/14o6FxKPccePCeAw92vq6GHWf37Hjiz+OVNYwnj2978njCEGkl6Xz15a8Hn4OlRWmpSfOm2Dhf3/Vv7ZP6X8/8Vdzc26S5fnTdf7zlNwITqNdOv/679/9eq02u087EaWdi7+S+Bw8/+r3dd//Z+/44iP28acUlCNh+rdp+Zuf2mpP/BjNi+eD49q7vv3/Lu4NNrps3/MTYcyMRvZ5G4dVzr7363GvVgkkto6+7Fy9aXw2VuP3oyxNupEA6cTcKd0zs3vHE7g4XdVo/pJb3H3rk/kOPQGU2MGKpii9fPjc8H3x9LpJErJff8/70Hz/552XpMJjdHMx0j6CeTeOXXD5rNXG2fO6H+x9IP48mEizrHTufK51cHR5MgMmt0myAwvQFbZOjo5xa6aqXCGbUumwgACRTJ/UrmDLtwu/kS/BKkVZ7he/c9Pbqn3fvvi/KXdV7m74hr3ZJQyDwOIaE8OwNmnRiV5aDjiatSSMyRV25m0qFT97wS4F05Unv8499sb0JUQAB7Dy354UjFa1b0SxeOBov5mBcD2cnyqeePFDZfbOE9f5L3hXr9uj42o+l1bh21VXVz3fvDj+AEkomG4XR7WaB4m7EV52QTZTOPng4kqKuKzKY6j+46b3Vzz/a/UDP3Oyl+yie8gfLtr3Vum1wUxNB6gKWhrLJTV+FrI89kx9ss0hQO7kzx2812hO5hph3Vlntpbs2dRTdd0NDIpvHL968sjKpHT539PnTO0LvakX7TJV224Q3H9IbTG67YZ73egYCXjlr77xvYv+B6RixiY6eP179vKKwrM2VqfDtnXdURZ/3bLq9j1Gxa9myoqLXOXn+VHDMsKOCuUqarkfb0v18ajLzollb/gf3Ptz8apT85bf91JkeS60lb95QOV/hSve7u+9KM/VOpPgoilQOXTMkgKMoyxKkLWDpEcMu+eWa6Mt19Ea4YMAAZf03tt8iVFA/aD1g8yh9pUl16Pzslg9Uv/zBrkb1VfP1zbSpqhn/TO7G6Hxv2VAEM/t4ZPLC0Quqx7gOTx6Nde+6xRXbI6XVKxOdNrC6ZsfE7ntnY3SuXrTq41u6isCTFtVYk/fvfUiTjhV1o2euR7vnquVbDC4AQGl1x95wL1mZkF7dfOr6X6763fja898419a0LgtSeZSyLFu8b9G0uiF0RbdF0dc+C35KZ0FCFwCJ2tn/J3ZWGYuCMaLBrX1/8NoZOHfj4jQxrWWsjnWUTWE7zphpnS5cN7L6HZe9JfjzbGnyW7vvbn99K0IL7Ouy0r2OjBaJAVhrUoYz3sq3ew84505W/aSPF8aj3yiQV/0JHTx72OnJI/zVtq8emawYwv/MVR+Kuy+ZOkutJYH/Nl/539/7Qwibmdr36KxOFKZtTXHVyop3jOcOP3+y3PI0Ym71WG9cdd0tG28OPr9wZPu3d/cnSkSXj0JEgxIVpxUNNYCAvpKpabCI/BGjWPKdjlqx3iw0gteZ4HCwHNnoZbWe3MhY/aMHlmAC+f9586eCV0YA+P6Oe5xOysXoMhYB2SLH53tz1+CZY4ui15Otomam/OmjsyLLphWXRoyQYzDxh2//r4sLi4I/95zem1X56nGV+79+/BeBG0xTmL/+xl/rTb6tWFVc/syhbc8c2vbtl7434bY8SNu+Rxd6tVHYDb7ynz207dlD2/5tZ2fRJP0R3F2KBjM+deOvBp8nnakvPPmXWR8ebEM3GZdkqckr+MBji0JqMqPg2tc+QqQDlj04VGhya0ZNCyhUjwtqzQjaumxI4IWh23tb1EQufTdAWyOMKEVeZIz89s2/cf26SkiQyfLUN3Z+HyL0hzYeHGrvlbpsi64izWVOz87T5gYE7CooQhfsPr137fgFADBmjf7RbZ/7vx/4vUnvfJvrr1x6+b+/5qPXrq30zzMzE9/Y8Z1eFBQAAHZM7P7mi9/5d9d9BACuW3v17evfet/BRzrelRE7z+75Lw//YZQr2/folF2PRsw1Dl/b+S0Iif6cNm2OrXfxLJ+44qNrFlXCJv7l43972okZ4Sdtkj2K0sriPbBtz3wKal4ERf2vCUtA4BaMwnmnjJG1fD1YaGzD9n1d9QnLwCj7M8U2L7KVMiUKGJN8CcndkhtFVIpYR5+85t97ypson7WEtX7x2rdd8ubAJRUASC3/8KE/n55VK3YvYymSg2HbnrsGzxaDm44/Y4e4Ssmcr7zwz1tWbg62ui5ZfvE/fvhLzxza9uQwRiS+AAAgAElEQVShZ0+WTp0qn3Glu6ywdJm9ZElhfN2iC960/sZAGguYcqY+e/8fHJk53jr59PnnV775zV3fCz4P0EHUNj1aMKMsy4Usjob1aRxl8vKb9Fm+tuNbX99RiSM56ZUt3v+ZJcGjuModdNcMrWiQh5K1M1mCl/0yYkv1VcfYKVnAUbg4zakAsxkxshTJdnu9czJW8GccSatWxoqnyhowPVZAlDZ975bbxlu4z/7S43//1PEX2twbMcfqvQQ+wxzvD9aywGQsSxTDAoNmzmnn7Gcf+B//892/H3RC27DfsvHmt8warLTh1PTpP3rkC/t6HpObgHpj8pU6bXp0IbsYhQO35562HiufO7AdmqX+ST3lzTPpqnbdbhY1YrczgWOwEdenNhqc2iyp/vtMF5qCMeJ4Hpt9TATm+M6I2VbNVlum5PEH4zojjVMTPZlWEuuxOt54fOrE3z/7Lz888EhzCollLKndUbMPOpLkLCQZCxG1VtDicHGmHJo++um7fvunNr//tkvf1krWr6K02nb4hTtfveeZky/mJmTkwAgRbXo0y2ijsH901SqtZrH5NSdErCKdS9dFaREa7DlWO+uiUZjxS4hRlcBx19RuQEBkGmqmSgG2p1yz/etUg4wVi9RlrNzrsdrwwJ5HL1x8wdKRJYvsRRMzE0enTuw6teff9vzAr4lpn4qMZfD8BgdtyfyaT9tjctuRpb68qp50zvzNi//01Ze+/s71b71k6cVLC0uWFMbHC+MGF5PO1GR58lx58qxzbqJ09rEjTx04f4iAivPrlbpntOrRRnYbhfOMhTQnAEDJ78+c0AOCRaqVLidqOyN6AAZQVNt2qD+1SrEyS4QtCiWvxGus76VSZkcv381lii4w9UaP1RMSS3fBjV987qtRLu5SxvJ1eWyw1FdVctfgGWIyS2vFWH887Estf7D/AZgNdjcotc5R9OV8QGJa9ejQjUJNcRQYBEo3XsxAIKBUdd9nVV9N6cqm8iBwAGz+PpxWVyW15g3Ll2mKXJ52YN3/Whah7rOvG6/XhHIuqC9xZqvOHaDNxmpUCIAAFDUUhwhYfQEqFwQdiggUgSZQs99oAkVAFLWJqntnoUXqkAiRLBijJd9hLKEQij2RsQwhlJw7P8jBKvszYQEK6+mmTFnosQZpmo1NYhmLQBeMAQgO2pL53rJVGOOuLFtsqMaIAVX/Mzi06tHNG4WI0HisuxrvFZpPDhFWf6rJCwCwpQza86prsfY26BSC7xBTK17LN2Fs8X2br7ug9jExLAOsaUCpfcGjW812WdrwqiYgFuZYCmf/W/sP6r+MgnB8H9ECIMcPiV5ElawYAGiisvRIaSl9qXxSushYyS/73ESWpp90hhYQlGWaafq6hDRnAkKIhG5Er/wMLQJd9ivliXJPtTER2w3xtkm1/JEzU2mlehVtql1RAACAoZBK+ZB+eaJUtaPO+qouOC4RHZ56PfXCJIOANOnDU6/1uyAVCEhpeXiyb+VZbC+3ajYFELlA5qkknSds0Wp3WUcIgDOTAbrKj3VjKjDkBJrq38eCkJrJ6ictaqUXg9sQP95ilbI/Y0SxdqemDwAEXIFueF81uSAiRb2uHwQg4M1Rbg0uNJHufSBORAJWe/I0aDSDCUWq9+UhQALWnK9ghiJJRIoUIu9yFYsxQhEJmNYh5ZFhZQhKTkRK+1prpX1NkogYMaWRtG4t09enbwruSocAbNHSS73JefAwFucEyLlmjGvm29z2NJgmRxZ7LmpzgyNdREj31InBC56vsEZW1dqzjUgv045yGaJV9WAZ662jUSUZ594WCbrKYwgG6+mJuTbt5SnFkXglgFroE8bqHg0phNyrSAYjk4BGzRGEOtcbp0vHlhRW5iamFZ0un1haWJVR6oIJHud0ntL+qdLR1aMXZVSejmhSiEE8KwQAX3kEYLZ5ka0uqBm+b8/hKUcBdrDR7JxuknGOiEQM6rUawTGxmsmwz73aVQ4AJA5pwkVBal8kmrsUIkcM3varteAqF4D6EmKFCJsjynvKw/QmZ4SoDU5EBCia9t8D6aH30S2JSBHy2vJUttg0AwRkUktjzhl45orGYI+UszplFRFpUg1fBjDkAICInHFkqBnXqACBIeOMM8ajClgMK/01+BBKNTOGnBARNSJawvC0x3ERw6iZNdBaq0sIyJr6bjcw4D56rEaJhWBr0hGPjuNsJVT+qBQ0WreorRyMfFddTvWQx5C3aa/sCC0QgURkDeVpfsi4XWROC9j0k6u0ruwkSACzIa/F9mqA9JTv3UEAi62VGRUGAQkYQxZ9ABJogPqJr7dw4LXW7ohIRO06c5YSRehmDgHxfgwuaLHVRUTpTobdQQiNg70Nzc+jQLEEb+QACohho6MnAmKAjeXpjRSqidWvzQgAGhAwdM3uQJf2WAgybBwRAWdN9ZM9BKAayoOAAL5WHJmnPLvnJx50c/0gKK1CBxerWPgAQwYIDBhDFsxUwb+oAla0sjU3vseZ4amuxn2PjU9sY8TxHDZ7VhwBPekKM5KAFd75I9pXNVgSxLDKyp15TnSbd2yqtLgP08o+z1FlABwxRnztjJpjzTf6Whn9EyAaICCplRH9DTJmg5f9siNlYSA8rM5ii6InHbO1yrxn5G6AzTuaa9jkZuYnCvvUrn323ZCTd8rWVOfzyDbiA09FoIt5WEwVDMvxHez6vaqXXQIBGKu3bwDbje7WL3zvK6oCt/Gu4F/CXDv8khO6H0PNRjYaNIIQjBGQyQc7OGg4MZvV5IZgptYD4/U7gDNB+XA0lfthlC8SVFfzLZawMvdTP5/atdvzc/miLMvtTALmFyHbOh0t5Bn6mjRECzvYkV62vyUKCuokKq3iFKCVjBVFWgrVWnUpY/UJilymZgu0uA/TIGO50tHkG8yU2pm3ozROHXEmfO3m06FzGzgTMd5thuSHRMGEG25hwHyd5hmmlrn2ae5MmG2bpbeLB8nV+kGke2w93F9abs22Mv8h8gqi6Mo0T230sgeYwqydIhgYjj/T5vpG2p0J7LmM1b8ZJDop6rGklgwNi9uadMHo/wZThsRp1oIocGb4KvsVK1VsUfSGMtaCoaFH27yQloSd+ykwJebFc7rKbT4ZMI8JEbBqjYubXT4YAj3tpqW+as4UMt49F8zQ9UosJLP5tG0DIa5Xwq9LKmN11oHlbnhRfVdpQ1p6LF/7mnyGTMMCGKWR6wiRaS1VPnbcYsGQUw4CZfS/BAuDRj0W8kTqsPi59qOBk2ebjR4rD0iV8ADp4BKuwWrVjgSuxS1fZtLOPes8tlnUUOsvhDl+zHep1GWsSPe21mPlnu6FZl85CNwWRUneSEcnsfODyC0bOBxxZDnDwmSAYEbHd5veMAhjaD5QW88GMwaux/afQe6pctBMRbun5RZhSDsSFQyz5JcAjYzauTedhwED9Ou/sWLbBLSXsdprpLKQsXJvbdCNHosANCGiBgCWFw8MPSHyszJEBrlQCMUCEf18GJANWMUNLLX1bItCYp+lsXPtkx4rIfNOj+VKx8rBweEeUxGwWvg3qgeJASNtZLqF15vOUzBGFMxJVAjoy/i+bjuWtZcyVl9JZvMeHVeWNWiL21I7Cy5kbLTKNbmlSJZlKePSpM+MPzk8UbigqDEtQJ2Pps+OTES7QeupRISttTnzmA7PXGcahazklxHnHOkmc1jckd50HlHvso6DlURf3Q8Zi1plPIA271GKrEkhCJMJArJEDK/l84eoMpZpMEs2hYPIOQg4PFG40Kj2aItbvXsryP302Mh80WM5smzM10PfbeksVM61IxFQo4oPgaIHPswVJrdlvbU7adbK6LJdZ44iY7XaMWwvY0X1lZULEvtugE43OspV4AtmSF024oSFmVdEqFzOhNTuwB0nhOGJwgVJtUeb3OqdHqt/phRdbRe2SnQQUFqZLOVTcYNCnaPRVmjyAEBTq+WeIAMZqwedxxIWwdzAZiAcP9G7VFTJIqaMlSzXAdRjtUFqn4Nhc1uTKg6Uv/L0idCstihyNDw5eMIKR2Pe7xYNaSDo0Rx5Tx255X56jMEgPIurXMxNaI0e084Gq/qTJSqxCFtfVZGxWmmzkolfWXcewYTGuoGNZKpkgcezk7Ha6bFyN7xi6bFqe0urG32tCALXDF5fwi/mi06Vi4ga5CBGouCM58TaPQG5G4eDQ1B1BVHotYw19N3QE3zlBYFH813MrOi8YmlwjEgxSeYqsMvZvfb2rFulYIxomJOoEJjrJx3n3ZR1QeqxAtr0Flc5CGiLotQLxjVDRzo1qy0KRLqcTBfbVyxRcPJhpB9r6AzIOMsvQQUyxF64xZqX5Hi2VzVLW17LmCGdBCzSRcOe8SNaf9fJWA36iVC3pfESzQAERFbnnIODnfxNOkpZE9hjtbkraq49Je54D9VjERARYwgAIBa86qqOTpXLGefMyMnRvFiY3Fb5MNKP5X8Ec73GDQAEYDCz126x5pEeK599z5Flky9Q66uATjZYzAMA0FaHy+YYvHOFtigqqJOofFUncsXLPXs9Vqh0ln5huiaZjFXFkWUN0uSWp8sL0IFKB9pWrsFNpf3yAHpxZMgS7tGnCDX8f0gvIABLFGTfW79XLITexXGhnkmapZ1mgEiOGMWS79TqTuLKWBj2hpdAlZVpdzRE3R4oB6urrYroeqxmpVTqeqzBebOu1WMpUgwNi5sEuiAW4vnezrRtVotbgplS9cSLY6qY3M7JRmEsqrPckMQgYB96bNIZsm9tPSD2WESas3DjojwVM1uYau1I1+DkK59Bo/IgmR6re+P37FrFYKZqdNnA9ewBwyQmZTE2GGLKWOnk2iMS7xW6ytXkcxRSu2LBumboSOvKZYwr7fv52G6Li8Vt2RsH3xmQu0E4UFii4KjB07wmI5OX39z0P0Tmtlai56aY2cJaWbcQebawXalCKyKxjNXcpZIZZqWObdjpuGyokrWMFa7Kmg96LKk9BoYtCorkiLmwXTN0pHWzFowiQ+4OoMsGREak8xD2J24Jhnqs7hHM0L2vwvgZ9nnNGgQ9lsFFm1FMg7QuJYRZwsLm4G4EtsHLsozYze5MuIzVqldE6a/ZNQZDTljnoZGR1a05SCwZq2H7L3UZq3/EHUVSa0AZyFrY73lsAGhXuRqA5a9HdMbglpuPjcJka8AAVnle4CjaaD4yZOBs3iHvMpZghqs6j+JeFbYPSwkDAKNyVKu2JI5gQqoOzsFSt3nvr4xlG0UFcxsTXblsqBL7FThLGWsQ3heCDQKbF6R2F7pn0ei0aFZL2JrUIAYoBABLFAfRK32V3A+1/GKLgq8HuOlzQaX/9fkF1RaFKOeC+zVYss6XQbBGow/VpiBdNAozXhmxs/fV+SRjISBndWlzsFOI4NEDGSvE+D1303sU6Y6AgIRgDABMvkCd/yakReUa3ODM0FqF/5xjKp6Nc7BRCDHfTTq6zx3SCezbDvHA6bE67BX2uQMyZLJeVm5VoHk5UioWWIIxTTJ4QmS+Bg0U1X1FRr4b2ktaGTWGJQoNLhtUuBFaTFKVsVomFlHGynFHdmRZk28w09dlc0EGB+2KsJYVTEjt9dRNdnoY3BxQk+fhxnaXmNxyVbm2Rw9OXNac0e8Jv2AUI7qW7HdJ06fWxF0BAJE/YhTLvodtI+M0kJ2M1XtLPlMYtQ6FGZha6xSGdtZ6rOa72uTavzfrNjlLLREMW1iadMEYOr5KRFjlFkSBM2NAt9tsUfQGUzoc6rG6RDCDauY+0WTJkiEDp8cKGHwZdJ6NlDk3FUWjMO2VCwZzlcugor6KfiKGOjduhEta0KoYyVNsgjO+Zf2W5ePLR4tjp86eOHryxMFThz3pAYDWRKnsVsUtLuLc9EItQ223uytJrr0gtEye8hCBYVHqMsdhYJykNFUuIlPaQUBjMDddOXIijTmIRJnHsTR/4SgcWbJFkfJx0rxndNXNQhfLVDuubRYuu3DL4rEllmGdPnvy+JmjpyZPtDdCsIRV9suWKERJfz6Nsjo/YARlky+ddt3aV4XoPTtrGauaRDop1nDpBZe+683vWTw2Xpcy0cS5M1/5zt+55ZKUEjgILkxhlNwu9ixaF1dwYXKj5NUnnqmMVdkSjpRk1njKZSgsbkjtF4euGbqkqcELRtHxHUeWRQvXf3mGs8pC2++CAHQx4cynZaNnWKKgSHIU/am9PM2QMchSxrp+80/cePUtpllnQSSVPHhk352P/mv1G1OYjIBqrK8MHiN4V7X4A1f3DdTOtrTYXny6dLIglmfZm7tNu7nzdJniysUrf/LWnzZN89DRA/uP7Dt88tCyxctXL1+9evla13PLngMAQCi1f9sbbtt44aV/+90vd5Fby+K+5eq3bNpw+Ze/86XGHxqlpWjkXo/VMHdpAkSNiAz10DVDCjQ1OGMIxPPgXCoBtii6MuobcNZEX3YbJqvcDcLcE/h250LAAqu9bkW7bGSsyy+66pYbbpNKvn5g98Fj+yamTq9adsGqZWtWLFs9NX2u9sqffPvHJibPPPDs3dVvBBMlf4bFDJ4z6I0+J2D52inywqg5LpVGZKEPhjX/DSVat8iXjHXd5utN03z51e3f//EdwTf7TxyA3VD2yhzm5HRPehvWbUyaST1hxb147SUtr68qrmKtjoOjx3JkiQhtUfC1MzpUX6VFfYOb3Cr7JTWAxwkDDG4pLVsF38gtQxmrSyxR8JQbxAzumx5rENssAxnr2stvAIBHnrr35X0vBN8cPnVgNre5dC3DWr1y7cTkmYbbC6JQlrEtQQe0+gOqsxWNGIUZv2ywgidLHG1o+2BdeytOQcaClGauFUtXAMDeQ3savuccqeYI4Za1V65cturc5NnVS1YH30yXp6ed6eoFBbOwYnzFkrElnu+dmTx9cvJUY0aLV2itzpyfAACO/NK1lxaswoETB85On924euPK5aumpidbJT772DEfsVEyy11fJQAijWAIDkRk8QFbPqPQT5VRk4zla8kiuF/JIQyZp30OeekhQz1Wz6g9cLWg9gpT0GOFJpo0xSXjywFgz+GdYalW+jhDdt3mn2CMWVZhxXhlOTs3PeFLD5ERKQBAxKVjy1YuWa2UOj5x9HxpipqmyRXjq1zPmSpNAsBYcfEFy9cppY6fOTLtnE9Y+n5Qma0EQ0nKYDYAFM1CyfM4M6BTW7Q/35dYjxW9A6Qyc5VdBwDGx5Y0fG9yu6RmONgA8B8+/Ovr1qwHgPHFS375w78WXPD4tkcffuFhAFizdM1brn/bxes2MjZnh3vo2ME7H/neuZnJ6jcfeefHPN/7yvf+5i1Xv/XGa24yDRMA7njgOx+45YNB4ovHxn/5pyqJP/H8jx964cH4T9OCOW1W7vRYjiwDgMVGfF22+dC2PW1qGpwz7sjyiDHe9ob8YnLL8WdsY/A6yVDG6gaDmY4s27MbxMPa65akNei6jiGM8dFlJ84eDb1gUXHxz777F0aLYwBw2YbNl23YHHz/nR99/dDJ/QBgCfviNRvfefMHR4qj1btOT5y858d3nJ48WZvUx97zi8dOHfnBY9/90Ns/snrFBdXv9x9+7Z4ff8/1ByMCmAAIvFSiK/1AwGrwt9n+/bu9G4Ws9wqhyfg9QYqHjh/cdPHmN1xxw55Du09Pna79yRSmlBoAnn7pyVf37b7t5tvPT0899twjwa/HJ45Xr7xk/aWnz546dPTgoRMH1yxbs3njlgvXrH/vze//lx99vTbBYqF4w+Y33nLDW187uPfI8UOc8cOnDiPingO733HT7dMz5x997uHmxMOJbvMe0FHG6gdK+wxNk3NFauiaIStqGtzilgO+J11TRHV0lyssUaxuGOWBbmzeIT/jMPeY3CTQOOtXaKjHikdKVjXHTx2+dGTLLdffesfD3/TDNvtc333y+UcuWLlu62XXHDp24NXXXw6+PzO7sN6w+U1vvfF2KeULO545ceaYEMa6Ves3b7zi5977S9+7/xuHZjccA5YvWfFz7/lFpdTjzz107vzZ8bElWy+7ZsO6Sz767l/82t1fGQjnyQIABENPabtmebOFPe2VBet2FuuNjBWASWWs5159duslW9esXPsLH/yll3Zvf/qVpyZLFbWTYIYH0wDw3N5taxavve3m2x3X2bb3uYZNlmMTx774tT+bcWeCP1/Z/8q23ds++ZFf33DhRkuYbk1HHCmO3vamd/7g4TtfeO2F6peT+yfHRxa/46bbPd+r/T59ouixejt9eEoiEqKhh64ZMqXasggMoA/BdFMCETlyTSo/G505el+ZvzDkDSdJh9XeLfFr8McvPHTBqvVrV6//+Pt+7aVXt7302javXsxyfWfH/hcZY1svu2Zy6uyO/S/W/lq0Rm669i1Kya/f/ZWJqYngy5dee/7QsQO3v/l9b73h9q//4Ku1e4UFu3h+euqbP/onqSrBdra/9vxH3vmJZUuWX7nx2u17n0vw0D2G+bqMiNhk2WAJUX3SjpMxtlZlRZjIU5vrW7lyaI/S6h/v+of7H7+XAG646sZPffQ3PvDmD47aFQVmodHmGp0w5WRVugqYOD8xcW4CAJYvXt5w5Z59rzZKUckqIJljY+xUSdQ7oyFPOYjMFkWpvaFrhsyZbVbGOBCV/YEMUAgAnIm8OU2NMmKSTo9DKtiiILVf+01/aq+HM2Sa2abR/yZnzv7THX/94s5nR0cWvfmGW3/5w79549Zbop87uW7zjaZp7d6348zkKU1z+qdX9r148vTxFctWXbbu8oZbnnvlyap0BQCOV3725ccB4KpN18UrOkBfmo0VDFsTUVP1G8yQFNvhU9JXivRlrHjZEz296+kvf+uvtu98QWt91eZrPvmRX3/btW8zuEBg2BSgsE0gUgQsmIVFxUVT05MAYDVte72896WwEiQqdzI6ylg9gogYRwAAwWDomqEXzDY4Z1ywGG5p8oYlCk7OIlgPZazsQUUDsCuUKX2XsTzpPrzt3n+56+8OHHndNKybrnvrL3zwk1s2XB1lAl+6eDkA7Du8lzNeGzyHgA4cfR0AVixd1XDL0dOHG77Zc3gXACwaGwxDUoEAssU0WzRsR9ap4mNNIlT/oZd7hclSLLmlu56488Ft979h8xtvuOrGm69/y2UXbf7qHV/hTGhdV0e+lIY5FymPM771oq1XXnrV+OKloyOjou1RuJPnTrb5tUfkwObdkWUCtHhBznfXDPmSHAkAwOBm2S/52isOoMF4gMVtqTyRp4CVUSacLH1Azn8sbrvKsXgOjDWbj73N/ZJjUup/Z6ZOfe+h/2/J2LLrNt94xaZr3vnmD6xdeeF9T9/V/q5FY4sB4HxpEgBsUfC1L1jFLdb5mSkAWFx/1Exr3XxmUCrpuGXbKthmwfHyHqiUlX2nlXclhhzAb/gyeu+JP2Wk3DOTzVklt/zo9kf+3zv/caY0vWLZyqs3Xg0ArD5KBwer+gJtCvMT7/uFD7zjJ9euuXCmNL195wv3PHLXd+/79olT4VbqXnxHIJnQVz2WJo1gmMwg0raI53puSCpY3BLMlFp2vjSXIDICypvf1MSlyddj5BiOvLm2FlTt5WGvMODs+TMPPPuDHzz8XSK95dKrx0cbT+I35owMAJSqeGrQNDf5KCUBoEE30SoecqDvENzIf7sLwQqemmn1c9EozngOQN0bQwIZi3qux+oyxVOTp/bs333t1utXL18NAJxxBXWCEWlOQAh46xtuXbNy7f5Dr3/z/m/UenG84Yo39q64yeifHstVDgBwVpS6VGCjHa8fkjIEjHHluwpwEIPnBBjcyk8InSrdnCscED1WP9c1wYxalw1V+naucEDarI5U9ah7j+w6ffbUiqWrVi5Zc276bJsrT0+cWDq+fGxk8empkwBgi0LZdyxhA8DYyCIAmDxfdzsijtij0+U6JRZjvGAXlVLB99XnyGc7dI6fKsIO68QdYW2s4JvTTremEqdWdkoAIGVFyg7cViFW9poZiLI/AwBrV18IAE+99GSDj+zxRR3E+ZCiBgL7fLfHktpjYNjc1iSLRr5WxwUEgS0KHLknB8OjTCi2KHoqd+XvxrVN/l/K+47JLR1mjDW0eY9B6JKcNEXHLQOAL+v2u5qjs584cxwA1ixfW/1GMBYooVcuWwMA5843ymcrxhutstatWI+I06XzDZu0Hcvel+7RWcCyuK10alPYoEwfgotLL9oEAMdOHwu+mXFKALB0fOmIVazIWGQpkgwZAIyNjNXeftXFV43Wf9OeaWeGiMYXLRmxRgByJmOlPYNIrQEkIiPwWdMgHNIzEJBANx9wGSwEM3IY/2dQJrpBhCHzWhwjHVZ7bLqWsRaPLFm1/AIAOHamYpBecmYAYPWKNQ1XHj6xn0hfsenaqhM+g5uuKi9ftOLiCy91nPKuA6803HL1puvrC4tv2HoTAOzZv6u5JDls/UjLmyXCLUkTPE8O5/JP/vSvv/em911x0RVrl61dVFy0ae2md77xXb/8oV9dsWzlkeOHdh2qNKQv/bOTZxlj77zx9rHCKCIWzaLru8dOHQWAG6+6aePqjYg4Yo286Yqb3/Xm986UmgLdtEYqeXZyAhFvveG2scIoAtqtvW6mX4eIlX/Z4wZ+20VBandkYC2s5w0WtzXpwXXZAAAMuaJGU9E8MNRjZYctCq1cdQz1WLGJJmOtXb7+59/zqzdf9faNF2xasXjVouLiyy+66vYbP/Cz7/qEaZjPv/J01eT81LkTWutlS1Zcc+kNBjcY44YwAeDU5ImHnrq3YBc/9p5fWr/qYoMbtlm4duMNP/OujyPi0y893uCfXWm1Yd0l73nTh5YtWoGIS0aXvefmn7xo7cWu5z6784nQQuZt4EQyvxCsLz79erS/PTY6du3W66/den3D968f3HvnY9+vfTl+7LmH3//2D1279bqrL7+GiF7c+cIdj91579P3rF9z0fKlKz72vkhX/S8AACAASURBVH+nlOKca63ve/yHghu3vun26MV49NmHPnjrh6/cfPXWy64kolf2vHTX43f2WiAN3ZsPSKM1CAhAcCQAMNhQd5ULDCYIQGvF+jPMU8Dkdg6NsWBgTXQGgtbH+HpV7XlbzLshQiwnAlq+dOWKZY17dlLJ7Tufe+zF+6vfnC9Nbt/13LVb3/i2n3jXLTfcyhj70Y/v3HXgZQB4fs8zo8WxG666+adu/3kiCqxipPQfefq+53c/05ByqTTzyLP3vevNH7j8kiuJdLDneH566u5Hv9Pm/GCuBl0M+9bQAzuU7fP0oq6+8M9/unzR8lVLV61YsmLJoqVltzw1PfnakdeOTRxruPLl/S9P3DFx+YbLx8eWOp7zyuuvAMK5mam//c5fX7/pDSuXrmKMnTp7av/RfUcnji4ZXWIaxsT5uYjiT7/0VMGyQyMMAMCOgzvP3nHuykuuWjS62PPcna/vAOhHZ0EAysrm3ZFlILBE0dflMXOovsoFghklf8ZHKLIBbhGLF3IVQqfKArB57w8mt1yVs1U24+WwTbYp0EnGOnr60Je+8afLF69aPr5y2fiK0eLYTGl6amZy98FXGuzQAeDhbT86ePzgxrUbi/bIdPn88TNHqj89vv2h5199esPqS9at3kCkT589eeD46yfOHTeaXK6YprXn8K5Td524+IJLVy5drZQ8OXFiz6FdZa+Dxj2q5Xv2InKsA0R9eWPIvMNq0icnT56cPAn7Ol98dOLogdP7tWTVDTWO5nln8qmdTzVceXb67KPbH6395tlXGyX0Bo5NHGuW6vohY2EWPU+TYmAYghHpwmAGwpuvFIyCr5VUvuCD6jIDERmy6mturmgzgtuojGF+qUiyQDCjlTEWDCXUBHSSsaSSxyeOHJ84AhHYfXjX/mOvhv7keOVdB1/edfDl+swa4YwDwLnps83KrYj0tw9o0jEELIZMak+AaOVHY3BlrFgYzCzBDK91XUFGbSDS9JkXeixXuojAcOiaIXcgMKUdDTi4AhYACGa4smw1HeDPA4llrCFt4CgYaABUuj9VKEPy5QAoVezydDnBB/k150vAiZKUp44EPi0JiELqRxMSAWLj95yZnvI5NgokXbVs/fEtCmsvAlb5EmtPe5EiCp5CEmkiCSSJAIARKSKiqq+D5qqZy0JqJVpdFYrBUcvKZJGeH40o5EvGsg3b8+felRF52S8VjSyFhgHXY/naYygsYWjyF5pt+0AsnwVRdJWbWwElIkEInRwaY8FQxsoGRCCi+vM5PZsoKcwTJkGIh8zMmxchvIchRfSQ1FCDlQIn9zKFAC3OJyOGB0YLTpQ3/NAy31g/BJ0krF2IqFnnjTVVhnNHwBCAZn9qU6eV7zUpgwnhSl8wGwBc2XQSpyqkIYeKUSEr+dPKZ0pKLTWXoH3GOCFLs08ztACo7IedDOrhQKqmzplFRE59/XhURlW7ZyxKUGa1AnhmpeNoadJOc3tlSRv3vwyFJO23KE+wePjKQ9RaasG0p7tV9bWvWsaEq/ycyOMEwJnwdH6OuaFgRmh5FGmt4dTMa23Mh1OHgDTpQ5N700oQAZcW1xgsYQgdwUwA9FUOHNwjAIBgFiJ6WgI1OgiM3kjtxkJlyYmamCkKQORX+k9PBxkDrqHRHwdnwpVlRh2mlGwKyprdcZnc0KRrfZT3DAKma6KLBo8sGNekKWYMxxDtScwaJAAApqExDJ9gQpEM7W2I4MpSzcglAFCtapLCpbQO5WmqB86Eqo1mMZvkbI2RJqlJa+0TSSLSxLRG0DpEtq7/RmqPcVMYnDuyDADNvnGrBQsOfCGAwdioVSi7vuScNHDODcG54MgwuajbhCMdBLRyY6bjKJchmvVTtilGHM9lMLeloskzRfb2Hwiu9DgDkxnQmxff2TxCWhYBAFylBKNWZ9AQwFWOYNwWBUle0UhHQdKmm0mtBUtV5O8CAlKkRW4MgxQppbUR1liCmw65SwurWkwFmeAqZ9I5s3JkbYfr4vgQUVoyDPFz2I7ZEzyucgHAam8sPxcCoc01cX8LT3CuPJUaCB2FzRsfjZd1UkdHrd4gBkNN/fRunDFEBNbwHK5yEJFIVaPa9QwN2OzGz1MuIITK91nrA0ghbyqP1D4iNG+9xUm41R/tIAIJ0FweTZoBtoqBUxC21IpXwh8jhKXQunDtC4QakDW58takWIioNKfrYoiAyBhDRERkiIyx4M82xfGUVxA2AIhqF2nj8nH2J2TIDYYlKCEiIGOIDBnDSmYpyliAbcrTh0MaiFAb9DqAM4SaNycOttS+mX0gUgIPgQVqxV7URRt7rAoKgTXXTwCRRjAFJ0RmMYO3uCxFECRHnpM9ZQJSWrHchKPRpAl0q8YyuaEBCIij6E39oUZETNdDBONm7L3OqrZeI1HLt4Xm65MRXcJCACKqtlff+3RwtL5V/8kaBixkFwyQQEdxWZxu7Smg5uXfR0CoF3R602YEAMRqfN8E2UpNCIx36RMn/tJOAIjULLtoUlWBIQQET7nBccJ/+O6XACCtmSGwqKr026rui0CS4mFZBC2IiBw5ImrgGnkwEjlyhrzlIwAQkMEqklWSei8aBdIKmmaEepOy7MiLuYIlCorqHaPlzqF0SnThg9SRjgZfMFNqx2w6iDskVwhmSO25wcmsvIyzJATGWP0uRUtayVJRbhzkZsmKwElHx8sWoA/S1Dw4VBPNmIJRCX417Zyfdhq9P6RFps/hyrIxe1qIJcgPAZGp0BtTEdYjFKbXHbZVfqYwazcLGBo/f13hc+9avnwk6ze8nr/KJspQacnQsLhNpAutfdMPyQ8FUeQofD34Mla0RbdfDHLVDjDDak9IBjLWZ9629NO3hETsDdmzy4CMeoImZYu5lY4ly8nittQVByTNMlY8s8mE5GKkCGYorFNibV5RfMM62wr3ZZEqva+Aun3gJsJ+8bQfBBzU5PZgc3BI9yAgkVJ61jo1F+MsCYF6X+cvTGGVxFU7sG2SIe39jtaSVu3FS6dvusf0VqI0ZKzaW69eY125OsTY0eRWb9TP1GiRlQKe8mp3q0MORkbE4LxatMQa7+7IxTxTMIq1ZzTabM2mTx9krBhP5ykXgduiqLRXNPN4cn5IKIGRe3D2BSAn4ywJnAnZj/Nc0Um8AzCwbZIh0S3DFlrtpfa8vdortLhVeyIya9J6Gl81nuJKbvtmMKFgzotun7ps/0cKAiNsPPQue3YsP1d6rPq3NE2V06WMUawjtUP6DmcMkVP7V6hBoGdvw4kZylhpYTAzelv3zR5r0LPsiYzFGfei6SPTIpWnoSa3FF0dLrCFSTVi5oKVsQrGiKa6iA0yc3N3Cv3YIyLosRxZJlAmt3ztFHrtu3IozHWLwUxFsly7XPV/nCXEFkVX9nSyjstQxkoLg5vRa2UB2rynQ09krIIo9k5PAQBdP40jy7XWVwFdCVgMmQavdjpYsDIW53WzIkOzp3N6zvRYRApBmEwAkM3z4qFgSCxsbglmylovfP0fZwkxudXjyTouQxkrFTgKJ87EO6y9hGQvYyGi1r3e3+/CLJKMsJWuW/+HI0ZRan8oY5ncbnDZoDXrpUfs/uixWgQMcKWryePM8HW5OUb6kD4SvZsw5Er7vq4PpjuYKxIiIyDqoVVHArqxeR/MZskEk9uxzHeGeqyEtA8Ykwa2UXCl0/m6VElWP64sG2GublNwMM0ZQS52Zfo8yViGVTuDMxRlv7fGH/mYZaX2EA1bFEirEaMPtu35qIb5gC0KDEXgvHuOwaxfg5mND5I/BrNq8wVDFrehh9XeLZnVoGCsc9SEfqO0bN4cDEhBwLKF7WsHaiTaLsXkLmS1zFoiQsIchcY6vzuMzJahlDIiB6abUisAH4Fp8KK4V868QEOSgoAAKiRm62DWry2KOTd4h5qqjTsNDvVYVWxhN0eda89Qj9UVmelXDG46vbV2h/j14+uWK106658ljFops6/arGw6bLRHKhgjVFMRiMz1M3J12LpAfZ1lPVUGQIsXFXkj5kg/izIkDSxeANLlZrlkMBdzmxf8HHsfDUgsYw0JQGAJfMwOZo9OzqA8ry3sPHuz85RbbL1Rk9DRaAMGMyTViZnzUMaKAAZxsWrgaPdhQu9LBSAQEAEP4l7xvEQ3HtItggnOjBADpkGZoWtBZMjjqjd6z9AHaZdYopDgWMOC0mNlQgYPwpD5Or8vRe1FndROeBWNgitVv4KANkH9kvGa/ZX7Shm9r5V+VIAjS4H6ytflMWuovponCGaUZUmSVzTmQ5tyJjzlmDwnM1VLEo/gvs19eQIBlZYizO64PQuq9gJxKM3nzabubFFwZKmrtJEBCE96Dd9qIBV2IiJQi2itXFnSUkvl+8oHIlKKlGKyEq8akbWyvgoQTkpW+gwZgQOQn2krLyOFo+XIki16bu7d2wrQWjI0BUMCXTD6fHIwFw0/j7C4JUlL7TeuWHkZZPEwue34JbsfJzBi0Y0eawCbJWUsUfCVl+AUc39qb9hmrUHEQnejVRMoTUbTKqy0DrZcGrCEBQCccdsoatC+8JjgRGQI0xQmM3jEkC1M6dRatWgUZcOh7j7TN8WrpjqVJmne7OO1F/SwAlzlafI4E4ocwYa+r+YVsy4bwk5sDObuhm3k3ftoLQnm6Pm075SYxI5yFtReYRbZEiyU/tf+KRlHYy6wa9cIljchvD+NbIl+u2yo0pMKkNpnKGxR1Fr2xTXDkKwpiAK2OgA/mDOpkXvvo0O6xORWYt8cg9mph+QLBgBK60pc6a6xhOX3/FBlJ/owUhAZYZ0yj5HVa5cNVbKvAE0AoBARUM7qToev0PMMZEAALLxZB7CpGTKgvHsfDRj6IE0M6+Kk/FCPNSQKbaouOEVIfnrHIG3D0rnzDNaH8thGUdPc+3GWLhsikGUFSOURkSUKUrsNscSHzCdMbmtS5VY7a3kb9BEQfAC8jw7pBoN3FbVsADv1kBxRke41oa/S0ZYLJhQ5+euYvS4QArL6YDkcba+Ps3k2FUCkNYHBOQCFnczqz3tR7nrffMFggjOjpZuDAaz3gfA+2iULXDnBmegmatlQjzUkCqFVV1WfkqtS28AaMYuKZP4aqtcFskRBQZ2sqVRfKyWDzB1ZBtAMua8dk8c+FD1ksBDMkMpz27h2y92o74w1CN5HhyRGMKPLkHYD2Km7YqE9b3bM7U8LtMopuWxAQEQFkLChsmzdXvccU5i1Z1kYmmV/psdlqCPVClCBawYuCHSxnTuQ4XvR/KEgCpwZjUGgaxm0psaK99EBMMbqBmr6c9AaKjkGN7ts3wWlxxqSmIYWqzMA1Bq7UaXWUjAKMnBVkLv+0dM+K5ihwKlkCwAASEafp/L0nt5TPpEPAAQy1JvIkLzR/WEWRKa0L9tbbeZu1HeAMyFVrlzMZEJts+TtvHemcOTdG9sNWqfuiqFo1w3VqqtbFDkaJS+1M4AG59SQW47oXZlso1CxWSEAAkTu9MtlQ5U0nt5XDiKzRYFIF4TVo1yH5ICCKCKi0952eNBa2xS201/tck9okLEWzjpqcbv7N9u+6bGGDBpBozVqHRiaKqUThSY35wIU5rGL9KhMDDkwf24qI+Bg998BT7dPT0ojQwJEwaO/DC+c+XyewwAZ8g4K70FratsYSWv2S4ssDmTXDkKcFbPmPayVF7eYUOjHrBnavA8g1CxgIbCyTM3es2jYuurBPI8N1aMyFYyiotoNCGwKihSXNEreRRqOLBNok9tSO4LlJz7SkB5hckuRLHc8f5fHUd8ORFC5DwU9JBmpKLFg8Dr1kL7Bmk9cC7S9lMwRGHJdK1jksWP2uEw5eyVIdgqBNIJhcAFEFk8QFSdnlTAkESY3DRbBfe5ANTWRLvtTA+F9tEsW4CBMS4kFC8zmfQF2lbQQBCF7VZ5SZkpaiaJZKHsex9kD/JRD68rkZfrINWMfumKs9psREwHgTz+wstYhw7my/M1vHfPmviJT9Dkc8hzxnz4wvrHYiNRlmxe9vm93DolMihMlR+GqGQAsik5Cdh5HfUsQma88s92p2CGDSqDEYjjfTuT0QADqchB/5m1LL1thVgqKAAAGR8Hwyz+7uvay7cfc/+fHZ7vIJ1+IEbPolB2EOnlKoFX2y4U0vHI3+9vM5WybsEz3vjrz0WsWWaLx3lGrbgB/8/nzNdIVKHAtNpIgu6yI8/RSewxNk3NNstDVIlQz1IYMJgVR9JTvKcfknXpCHkd9S0xhO7Jki/kfVbM6CBfIaGTIyrJUSKll+9Op+9dU3Tzvvbtn3rCucZZAhEX1a+W9r86rgyYMAExuNNcbUScL1sjYwq64bJhLPZWE0yVJmSYdfdfO6U7XqDtfmbuGSNk5jCcT+eld6UhdRmRE/tA1wwIHAX3l+BFVmHkc9S1ZCB7emxmoJkqIxWssg7tmIdRYLYmf96Vj7p7THUyPXoxwzWAhAIAj00jVCL0BDMWMVxo101G0WEI4sl4yJWjVWAwVIPg6L2YQiBIBW4Vr/Nft5fdvGbFES1HjX54/fs47U/3TFEKRqQgA56TaWL3WkZPMGEGqW9WipxD6ChK0Rvu3kyALgwMR+Hp61ByLm3XrVOf9m/N8hQS3MPpyNVB6LIsXPOWaPIoLksEm7xsMqZKuEgsWnh4rGQTwre3nf/fWZW2u+fb28z0rT2+oGE9wBgSEgLVLPkdbailYAivmpmyYMWpGjaMy488wxBQHQJeU/BJDtEW42kkq+OGrpQ9dMRr665Sj7ntVj5nLgz8V+aNWnZq0YYBQhAEz7Z0tiILVcVOmdYIYKhNh1Jmi5Jcg5aE972f1+UlZlgFaDo1wBqepEVEwobTkacyBA8TgNFFCAiUWazpEn5i+1Vg/Mk4s2r10zN19ytu0Itz+eP6pr6DqpgERJdUdr0AABHT8YYiuztzxynlXhutxvr39vFPzk9F0dKDhtnDRJ4woolirBMPvpZDyhGJxS7DU/KUNGVAUKc4MI4HwMTjbKkEInYVwqLCBwWmiJDBkXUYnbKbvNdb3AjTQvMoQwDdfnGx1/fxTX0GtH6wRo9Bw4hoBDFZw03OLNV+ZdPQPw0zzphx11465TiO1Y4VZhXcjY0URs6LLWEiRvA5yxqVuG/E3CcOzwAOGq1ypPMESRfgenKY2uOm1Cbw4fxmcJkqCxW1KzxIrYOi7oSMvHnVC1VTzUn0FtQIWIgMMcWkj9fweaK3BGGrQUCVWrfqKiApmS2OOxDJWRFLXYxVEkaMR+Eub37sJQ0LxtSeY0dVxjcGZVyxuL0CDdxikJooNQ+akrcSCeV1jqRBYYjV/Py/VV9Dgyb1oFKVuVEsINEt+agEKB4k4W83NSqwG9ZUGt70122DpsRCBQGmKvK0YlXRex4YyX9ZIrZT2u7ViGZzlaGEeKoRBaqLYZKHEyiGZtmCb+brVEra9SYk1X9VX0BwqR/CQGRMh0S7APCBO32xQYtWqrzSpEbOzzf5g6bFsYRNQeWEK3wsbR5URWTrHUAZnAQ8OFfa7FH1gcJooHhkpsWD+1lgrYj1vsxJrvqqvoFnAsoTl68Ylk8ECDjYXWY816eh7ds1UP9eqr5BJxEhalcHSYwnknBkZzCdDe6z8QkAYHDteYCAiR6F0p9BAaZOHis5DGbIgOyXWgrLHgpjZ1vrEevHovFVfQbOABQAFww51MZqW39FBJYL4cseOihLr2y9OVdVXiryiEeNdP296rDYY3JDakz1fcob0kbIsKZKdXbfHYkCmFs4W6KFCyGsTUXfFyk6JBXmtseyI/ry1SqxvvzRv1VcQKmBxxhtcNgRQl315oKnqsdpavk85+vs7zk06+u6dc53GaO2DtH1uVfrouwGpw0uRJWxArjPpG8lfxxZwT80WRdJglsUziKQ5IG1mcHNhbhTCwDRRPDK1xFpoeqy6UoQuRrNfBkqs+a2+gqqj0QZGjGLZr4nQDAAACMyRjom5iVLcHYussU9c+bNRvPhILQFBoKgTrUJlFCBkzsmzJz/9xvcH32iSJk/Jgg0BABiytaOrDkweZqztvm2UARZda9VWbnNkWTCjvQk/Am5cctG+cweyEcXq0EQs2oZsFC5evP7Q+aPdaOnSLU9E1i9ae3LmtNMkCmjSBMQx4aZ/UA+pOB8OUFp6yi0YlYgRa8fWnHMmZ/y+mZNL7Uvtd4xCWOuBGQE3Lbvk+PSJSTf9d/HUK7yWi8fXH5qK17ellojAsZ+eV9cvWnuydNqR7mx5MHF/DlAkEzxR6LhWpBCA1ZcnuOiCsTWTmfVtAtAEvKE4CEorBGTdxTTzlTR4vPohAk3QbNGtidhsDBPfOc20+PQN492UrQ2a9Dd2fPd0eSKj9KMQXmuIiBgi1CuN88Yca8PiC99/6W3f33FvxyuDMayws19NX0mGfP/0KgAXAIiIM3TDajIxq8ZWXLVy6+unDviUl425sl+yRNEHv02M+qJR2Lz0kuNnT0yUz8XPIZ50okkzjONjoy1bLrlsplw6NHk0aQKkidrUTEZsvXgT13zXqb2NpQGlCZItSBoUEDBkKr03fkXSVx6TlZeQrRsuOzp5Ytuxl9JKPy5Se0pLFJ2XE0+XAg/vBjcuGb/Ic7yTk2c63hUXpSUAKZaJimXLssumSzOHp47FKY8PgCKb8kRk68ZN/CR79fRrEEzOAF262iciiQrjzjOaGIskYAVcsWHTkcljzx97OXlB25cnTODTpKBFeSJy0/o3LCsueerQc6dnzka8BSsCH/GQ8mhEDKr6ZHkRAABkpcG6/bK3vXjilccOP5VR+lFo2S8LRmHaLRusznWTQKPklcz5cqiw7Dt//ujfdL5MlhniXGiaFnospaUnodaYXZEb5fBgexp66I3rr7/5ojd+8dEvRxGvouwtdh9L59j5A+OFlRxFG13dytHl7978jn95/ju7Tu/pXKZwok5/vlKCs7jTZSs+fOV779l1/32vPZrsdgKSSsV9/+ueD25955P7nvnHF/614XupfUWUbI/PVS4ARYzRFDnN8pR7dkXxguDPd296+8vHdv7vxzqPyowo+ecdWVpaWNXxSiKS2je4OWaNfuDy25/c9+w/bv9m6uVxZJmAMoob9uEr3vuDXfc/8PpjccpTQkBLFProCeWDW971xL5n/vnFb0EwOQOGOnCOhSPL8SI+AfhSN5t/uMplgEbY+Ar69hez6dsE4CsyG1VY4CkPEY0udlFWjP7usuKSf91+x0vHd8YoD4HUIeXxtRLIIh756pI3rLumB7m0p928bwqudeMyxdDUsLBjpNRKGTUH7Rzf4zXyqCJVNLtwwxiWWxYghcU0wDAZi1rKWCYzfC0dqeyuZ7oh+cRVDgCmK121JOtOnwaIyJD3/lBhf+EogpbJSROJ2fJ0iSVsqXQ1GG/ENKteuOcWBGIAqMK8cwe7Zhk67g5PnAOBVMkzJQICUJraJdJcXwRA4DeVhwh9orqYx61SaE6w/rLGML5hXyqioE6IQId5TdeEFNYiwZVBe2lNcjYdpklqYrrmEdoWva2Axc1pOWOwOimBASv7JSO9MJkDSZOM5SqX12v7ONNpKVFC57JQwajxRqxc2Z7oMha2lrEMJjSBIs2z2g6L4/h1SKoQaAa9NSTLyQLeFs64VN5CO1RINR/63kRpnW1HQE1+g9lx57ua1nsCQoTQkRJ8H2cQxbg0qIcQzRBp6KwxaifmzH6F9YlQyCW1PyMBQfMKSEB19htYrbdO1KVEzSm3MKmvbEe2KE/g3SjU9yfCbETm6r+gy9f82RnhSinQBgRXhryKcWbM+C4RBwANVPJ90NpXzPcdppiWjKTkErBpKzqc1lfVruUmswnAVZFeDROPcF/L6n/bYzKbQDddWZez43ls9hkQwNNlRycwNurM6fIFAHC6fLwk8+LhU5M+PnMIAApisclti9cJmkGl+EoDgNTKUwritFrjgcoItzDkUqWpZFVEfrTeGF4exqN0s5QhkCGdFhCYYCxueRxZ9pVbllPplW8OTfrI+deDzwS65E9X/+w9BEQAZT8ktGgrFHgAoEln4a8kMNJok3KbERFF9NA6RrERgDEBFcuwXoPIiXTwWAooKDZjAohSqXlE1CDjvBUzorl5JqhtgxsatKaQ+YcIiCj0p7glbVWe5sQ5E1QpTyRJtFkxMyvCaoqzc0UEBNh8PFMwrrSqfQIK+dS5hBHFapotNhFAq/KENhZoqMwGKkhk9vEVQaDKiyZgmZyVZZk0FMPDijFNviV4kJ4tOCnknBwAgzHBmck55zyqgNWBSqWVpYMAs5tNte8IrWs1on+CGgTy6n/b4yoXEUzWFElwNs+y75i8tvZozBxdghkcjkBYVlgFAMsKqxbn4CBuwImZgysKFzAmCEhpBaCbbU45QwBgyER351mioLTmqebCELtIkJRW6ZYnIgxYszZRkVQ6nk2Y1sriVtGwx3Fp4sK0Gruediads8tH1lQuA1YwRtaMbZi7semW6B0/4rZDLWU57filJYWV0SeUMWsUgk6Sge42CKne8NKSInGLnXV52r2EB86PEQGAzZ6Mc6XLAA1hAjQ2Z63GpaOPoeBiVzrRzbmkJs54Q66e8higqIyvuodBBETk7U9/J4ZIIjTPM0r5gMAjRGTHFgMrUDcxxGaL9XbFAVCETSZYoEgxbKFQi6STasikA9ViI6BqYXQf+lyVuxB55cQfakSiSoIMQ58hJB2BwehCwBbDbMQc0TrQOiBDRgiIKND0lGOgibN0fNQIzInMCBhWnnaDL3ZmszXY8crZ8oRfqUkDiXrbds9gmRilwpzqsq52Evtwbya6zfuclpYCexQEQJ88QDSa6irYXmKVy7qnXSIKVPWgSiogQOJjgIEBQ+9PEQICCyu2JgSgWDEEXXIRwMTuDApbtgYiYm15ELCxeNjmr5QLFYz0WO0VzFRKq1ZTaJcQUEYpA8xWf6zihE3OvdkrrOaLFb3VowAAIABJREFUALWdpPK5zfoQbdoxmAFz21YdCabA0G218CrFmsTTrTHCYFw3piorA2puS641LX6bXShjd0Ks67dB6rMCVuarwOwVlWIjAFL4Fmroc1XEA4BgyUJkiAyAgg8Y2U4/UpUxFmayp/lC9+0OAABl36mdjol0wei1oXfi04IRk4rug9QWNgK6KivnyNUSZZz+kAqecjnwHtm2t2IQWpsz4WXmEzz/DEITdaaXjdg3H6RDekgkAcsWIQphhrzsL9wJJUBqn0HdiVxC2aVXt2RElLGyiFfYAANE4Nn7/W/jrng4i6RGYEiRojowcTnyj8FNX81nt9TtGYQm6kxWW3hhLCg/7313L9+X3OMqh+vgYCm9UFw2hK4wru9jzea1IllxzRCuOc6WFKMWdhOv0OCGIpW9EmtI5jiqTKD7rL6qkvsFHJFxxpX2+12QvpH7JuqMYGYvNZHzoMYGmqzrP4aA1bwhiABlP5uwXP1+YW6m+UyyIx2O1tzPAKLh5SfLpwh3BdoPPVZzeUxmcDR6Inz3/b1o3qJBcxRRToH0jtw3deAye+G8djaT+ybqTIYWb2HMWz3WPOgKXROjJzEMOQVqMNuVCyj0aa2AoVSduKG0G3K4JpcyVkQSy1iccUm+pxfudsk8wJWOJF9EOH/UU3I/a3NmEKmF5hyrltw3UQe62upN9PCDXmNDWhFPVCcI0X5LtVCmEqrRY5X8Un18ULKNkKPCADmVsTKyx6pebnObo/BVb7ZLhnqslJHaF8ywml2T5IHcN7VY2MZYMABN1IHey8fzVo/VIs9B7yERiSdgFc2ipMaJQzCrlE2E8NyiSSPVvdkrcOecPxEssRYnC/eWgBzpsWquREQCrXsyjlYUlo0YWfnFyI6l9viy/5+97wyzo7jSPtX55sk5SaOsUR4hCRCSEDkHGww4wBrHXafPu16vs3HGibXXXq9zIBiTwURJgBBIQjnHURhNznNzp6r6fvTMnZvn5ntH6H14eDR9u6pOV1dXvXXOqXOk4nxLER06xZjq6eSIzS4KfnoWOEnJXChgkRXqbNV8eimNc4yCf0XhQICqLRU2wQoAAifpOafIKfQYAlRjrczZWpNZxHpeBKjWOsVGeywk/QwcE02LRTkaI57E+QcK4NdkFiY29wSwEaZ1QfmcDyx734zK6VWOSh3rZwfbD3Ud/c27f/IbXpNZm3Ki5qxINpdOna36S+s/X2oteeXQhr/tC0lbm1QunbE6AURWlHVFxrKUBS9pEyd9eOkHFta11JfU2k12ABj1OY/3nPjt1j8fGzqV8eYyhUpz+QeXvX9GRXNNcbXDZAcAvyp3j/Y8vff5l05uzP7Ry4SgYhkBI8ZNEMsz3K9v/0ljWYOqazf87s6cyTaBBBK1fGTxndctuDrWr2+3bfvltt9lWKogiJxJ0f1ikimEA5BY8a5FtzWXTW8qa6guqmIZllK67dS7X3nlu5mVM1kE9/rSygX/edUXEin1vVd+fHAgiWzBOQOL2Nvn3XDDwmuriiqNpMge2dvWf+pP2/56YOBYjoVJYFADACBAt8y97rqWq2uKa0yCRCntc/a/ePC1pw49K+PkPXboWKVZwtKqRf+25hMmXvq/LX/YeOatOHdeM+OKq+etn1Y+zSZZVV09PXB219ndf97z6NQNCJU0wRI4yU+cYW+DRZxX81sFS+YEK1xoRAtmVwAASEdIWFXX+o0b/tMsmAFA1mSe5WdUNs+obJ5dNfM/nv+6O5nkGykgZY5l4LLGVf9+1efsJhsAFJmjxKBPgWMBAIsYCkAyzRuunnH5/Zd+pNxWZvw54h0VeaHI7FjRvLx12tJfbPzNs8dfymyL6cPGW+5tvfv6RddI/NjgcfqcFKDI7GiumPYfV3/uqrmXf/GFr+n59o+mQAGYGAknJ/DJFffNrJoBCYdwzAomW45qi2oqHRWxfi0yOTIvUihEzqTqspB8BvRpjoZvXvvlprIG489Rn9Ptd5fZSo3ppXAgcEKcHg65syC1LBIr/vK2B2dUNgOA2+8+5+6UeLHSXrG4YeF/N/zk4W2P/WH3IzkWaVKOZeUt37z6y8ualgAApXTEO1psKaoqqvzo6g+tnrnqS89/3aW6s9Jw8kCA7l74vnsv+aAR/GLsiH1omzDe7D2L7rjv0g8ZEWGcPqfdZJ9TPWtO9azaoprvv/FTMjWdGlPRwom84I80FCJRJzp3Xqj14kPVdBZNTBaYqhbBPK9s1gM3fVXghBO9bf+35Y/7+g5JrHhxw0WfufyTc2tm/+yW7338yS+E0PAsMPLUOBZC6JMX3XvnRbcjhDyyxypZY94Zg2PFuZNneb8u4zQS+UWi0lz+2cs/ZRHNZwfb/7rtsT09+0cVF0JoYfm8z1/+6WnlTZ9ad//BviOnR9sz2Gj64Fl+7ZzVEi/uObvvib3PHuo7anDuclPpx1Z++KqW9YsaFnxqxX2/3Pb7/MppxNeQ2Hh6l4tqlty67MYB92CA4+YNcVcFY8Pwzsltm45vjvy1x92XPbkC4FlRwyqfDL24vOnSL175WYtoHnQP/eat37/buds97oNhTlUflkEET10nhk498M8fxrl5ZdPyq1rW+1Tf8aG2bAuWAv59zWdmVDaruvqrN377wvFXjSm6wlz2b5d+fPWsi+9Z+YEjvce3de3KsVTxqc4nV/3LsqYlGtb+tvWxpw+/4NP9dbbqtdNX373yzllVMx649quff+7LuZM1Nqy8+etXfvHimSs1rKmqZhLibTNumXP9v1z6YQB44+jmh3c/ftZ5ziHa1zev+eSa+9fNXaMT/MM3f5YrwTOJVPgQhzgCHgQhFgQEjKzJVjFDBKtQNYJ+3R/MrgCA51gEcMuC6wVO6B7p+dLz3xiRnQDgIb7XTr057Bv5wa3fmlU185K65W937Mi2eMlyrBKp6JtX/efixoU61v9v8x9XTFveOm1JnPoTV4khOpbdSmAFQkgGD673+QZ+tuEX1faqRw88FdjWUEr39x/+8vPf+sM9v7JKltsX3vjjt/4nUy1mBMPy6AMv/hAA9vcfCb4+4B/6/hs/d5gcK5pb18xenV+ChSlmgYufWdTGW/79ys8yiHlk+z8+f+WncyVabMRejuySDQCO97W9fvbtnIoUBIQQy3A6VrnEOJbEip9b/2mLaN55Zvf3Nv6019tHgZq4McVV4aR4NzAsj8bpWwTo3lX3AMCmI296sqzCTwEI0Mrm5QDw2LtPPH/8lcD1ft/gtzf86I+l/9NQWr96xsW5J1gQe1DPL5t9zYIrAeDXb/zuuWNjevpOd8/f9v+j1z34X9d9YWF9y+XTLns9riUuXquQGT3WrJLmr1/zn3UlNS6/6wev/PQL6/81DsGiADcsvBYAdpzeFVBWORXX00deIIR8Zv2n1s257Hfv/nnIP5wByXKLFL2mJE6k0UI2yOd1sggKlOIQt19MFZEVRFa4ZOYqAHh+34sGuwpgV8/+XWf2AsD180N9QbJmV0nK5/1jKz68uHGh0+/6yrPf/sfh54S4bjfxq4olCoMYTLWMpLsPYNOZLQ/vfyJSadznGzjUeRgAGksbMthcprC//0gYuwpg6+l3AaDMVloiZSFHeMJQsapTLX5q2C+u/bcKe/k7J7efGCwYnUSMMWmoY0d8ozkVJgIMYhBiEtxjvK/lRofJ7vK7vvXaj0YVV7ZlyyrWNV3SUFqPCf77vqcLcMtca6uyiBYA2NGxO+wnTPGR7mMA0FBSnwfJACDGoL5k2ioGMT2jPc8feznsp5dObtpw6HUAuGLO2uxLNwk+c9kn6kpqzg11fOaJ/3i3e3d8De680lnTypsA4M87Hgmb1Z899mKvs49juRvnXJNdibODFAkWQgygKEsmzpSeovACjQKAT/UHn6uiQEy8SAEun77aKlko0DdPvxNZasfZXQCwfPqyItEe8kPWor0nzrF+tfX375zc/q+Pf/Hd7j0AwHMJBT1KNnaDyJpydh5t1O+EMdvQVDoLzI0n6MgsE00KGlY5xMWP237tjPVr56we8Y7+7M1fRc2glTdEe9U2yQYAI/48EywAYBkukeBYHGJvXnQDADy790Xv1D+a/b6ltwDAtrYdXZ5eSP5rzPbX2+3pc8seAJhfOTfy1+byaQDQ1n8qlod1DiaXyCbqimsA4PTA2ahS7Tq3BwDqS+rSbTXtZ3tw00MbD7/56Sf/X4e7CwB4Np5p6+o5VwDAgGswqh15T/s+AFg3Z026MuUDqZ/7EzkJRwnZIPjUKT8vRAUhmAm1ihJQGYYFgPriegDoGu7u9fZH0owtZ7cDAM/yM0qm5UZUSJhjeTTfV175Toe72/iTSfgcaHKxGxBQILGkyiyMCajfNZj9pjKJhbUtADDoHnKpnnzJgIFg0OOMgWpLxb+u+xgF+tCmXw/JIwXnthwxvKySBQAGfQVhWeBYQSda/IOi66dfVm4v07D+2IGnciZYlrC0auG8mjkA8PjepwMXC4pjEUr2nzsIAOvnrAnLttlc1Gic4dh0YnN+c3iH9UCFvQIABj1DUW/e33MIAKoclUK+4wN3uLu/vfHHAYt2/JWl2lEFAEd6jlKI8nns69wPADXF1WzBRo2JjbQCK3DRshoj4CMDvk8hxNIr+TUFBXUXpjhwoqfIZAcAp88VqCEYQ/KIYR0oN0fzCC4APVaUspmOQWosxhrJbtB/M2dqKmsCgMPdgQPhU0CPdfOca9bMuRQAntz9bL5kULCMAMXxbUcI/deV/88qWV8+sGFz+1ZIho7nDkGv2sZbjFP3A95CYds8K6pxc3Q2FNcDQL+r3z++qFeYSlfVtJaZSnIhX0Zx19LbAeBw19Gw6AwFxbFePvKahrXZ1bMeuvkHzUVNxsW1TZf84OZvA8DOM7sPDhxl831yK7gHXH4XADhiHIBFCFFKWYadWTI9A63mauJ0jMfZCbQcDGODxCCmzFyachP5WgPSGjo8J6hEZiHk3BmDWJ/qt4pTNWRDVO9CTDCLQkwnLEsCm54iswMAvMqEF2dwTHNKqU/12yRrqaU4G0dh4yDN2A2TIvHYDWP+WMASSpmsHey/t/Vuq2SRNeXpwy9kqYn0YeZMDtHGMmyltaLOUXPl3HUtdfMo0Kd3PfePQ8/lRSQKFEF813b44KL3L6xv6Rzu+sXb/5cjsVLD+KAPTMffu/7rRSaHw+xgGWbAPdjnGnjr5DvPHXs5L8F1RM4k6z6Jix5tocxaAgB9zn6e4b5w6aeWNy0rt4/tykZ9zid3P/vI/ifzGxMowQlsRlFT67SlAPDU3ihDOtlZMHuz5tbOnV999ttfu+5LC+tb/veuh/65/6UKW/klM1cRSh7e9vc/7n4EADiGTy3WRgYR6IGu0e5WWDqjYjoCFDkSrpix1gib0lw2/fDg8ZyLmSKMQIYeZUJ5H/zGDa8PAKiylPd5+3MtXHpIl5ubeIFQjELr4RhJwxqfgMd0YSLwdgPjl2AI1tZhqlqCzksb+wmP4g0eFsEcy6f4bJK1xFISUnswwtrLHDISgzQOYumxol7HgBUsm7Jz1Hxm8bSbF18PAL9/6y+jiiv0+bIcSi8Z3DDnqk+v+1jwlTeObn5i33NHBk/kSyRZ9wOgOO9lTunMD198l4b1H77281QiGeYY44Per8omQZpTPQuMPRLD1hbX1BbXLG1cdMui63+44efHhvPgpy9x5lgBSEutpQAw6B1+8PpvL2lcNOId3XF6l070prLGmqLq+1d/ZFnD4v/3wtcKP+7i3cvejxDqGul+42wUt1RIjDMFT4rZ41g7e/Z97sn//Olt3y+xFN+69Cbj4g9e+klwSMxCiKFt9MDWM+/evOSGupLa2+ff9OThEPK6pnHV3SvuMP6t6hkKQ58TPZYRTsXwh4vEiDzmQ1luyXdQmOSRLsFiGU4DhQmtBwFSdT0tgpXvCSSwIFMAjDENtaUKfMjzGr7hOtYhdCIIcCwjJV8gwuQU0mPFokqpFeQRzyFexxqXafJdY636wc3fFnnx+b0vPnbwaY6Naq3Pbb/HgKzJw94RBMgqjdmw1s69bGbljJcOvvbYwadzH8wdU8whIZq1fwwCw//XVV/gWf6v7zx6KOexrVMEhTPOcx977DPzymd3u3s7Xd2jiqtYdEwrarh+/tVrZl/aVN749Wu/dP/jn/Xnw8MmVpD3EksxAKyfu0bV1Qf++cPXz74t634K1MxZ7my55eNr7lvSuOh982984vDzuZc5cVSay1fPugQAntv3YhwuWCB6LBMn3bP0DqPnhzxDBsf99NqPq1h769w24x6eFVSsCGyeT3VQgJ3dezcf27JmzupPrbt/duXMd8/u7HX3zyxrnlc9Z+2c1Ue6ji6obwGA3pzEeMsUjOVACz3fE1iClfEdnVhQp2oSQwasy2beLGONRSFLJseIsiZLfD7VqhkBpYSQkGjVGBSJCdHwG3Zxszh2MZJjGd5aIcfFp4geK61GIzgWQgymGgBigc9gy8Wi48GbHyizle46s+ehd36TuYqzguePv/r88VcBACFk562Lqluumbt+1cwVH19zX0vN3NwnQlGxCkBNKGaI8H+9+P7GsobDXUf/vPfvuRQsXVDodPd0unsCF0YU50jfwT19B7ed2fG1679UW1zz8Ys+8t9b82PxFFgpcs02nA0A4ItPfzVYo0mB/v3QMzMrmtfPW3tn6+0FTrDuXnI7z3JOn/O5iFACYcg7x5pTOvOrV/97XUntsGf4V2/+7s32d26afc3dK+4ot5V966avvHzgtV++89uCUtlSgJ+99StM8OXz1q6ft3b9vImIDK8e3PTUgWd/e88vAaDb3Zs/GZOGy+8qtZbEcisqHo9cM+wfyaFQmUEGCBZCiEFRjh8Tiiil+cykkTYogE/zh14hpgjWaHjnBY+PYIsUGude4fF4sqZPQdFIWrZthbHKBhdEFCTWpGDVWFoy8vRmzvTgTQ/UldSeGTj7jVe+P1lGhQKyFVJKnar7rfZtb7Vv+2DP+++/7CMXz1x51cm1r516M2cyaFhlERtH2byqrvWmxdd5Fe8PNvxs6mWriPGJbTzz1jVnr2xtWjK3enbOZRoDQohn+LAg7z7FV2IpPtp9PKq9+OWjG9bPW1tmK3UINmdq6VCyD7tgvXL+5QDwyqGNSgL5kiedBcNmswxuP0ul4p/c9j2LaH7n5PYfvfGQW/UAwLPHXnrpxIa7Ft1+14r3X7fwaofJ/rVXvwcAQvIR+bMEl+r57us/efnohmV1SxpK6gilJ/pOHug5vKvn0DUz1gCAjvUBX/RjhqmDZnHBMgiWTbRFbTZAsAa9mX6o7CMz5yMk3uRVfBwT6gaOeJ/ms0zlBIWY6CyIGCZ2MBRpDApfjQzmZIlBwHmGM4yDQ94IAh5Lj5UdM1HB6LEAgDE8q9Ns2cRJD9747ZlVM4Y9w1/953cKLc514nh4/xM3Lb6uwl6+sml5LgkWAQqx3wPPcF+84jMIoeM9beuaV4f9WuOoAgAWsR9afAcAYIIfLcDgAjFWhVP9p1ublqQbMSg9IMSwDBsc5H3QM1RXUtvWfzrq/WdGzhn/mFEyfXfv/hxJmSTev+Bms2BWdfUfBxI9Epsvy/0Hl95pEc0DrsHvbvxxsJpKJdpf9v7dq3j/9fJPXDxz5cwd00+OnAaAScOY5QwUYHfP/t09+4OvAEB9US0AjPhGC99LLxiRGopg2KWx+JG9U83DHTJFsABA4HhMwmdqBkRM9Lwfc00ZsqayaEKHj6kema4SxqOS1BRXcQwbnKzXGOMLKuYZfw54B6K0kQVbYZxy2dNjxakk7LrACDKWFayLnCmduVVixQdveKClbv6ge+hLz36925O4VryA9FgBnBvqrLCXV9jLc9aijP0ASIodWVRghTJbKQAsbVq0tGlR1HsYhvno6g8DgKqrhUiwIPqgN8L1Gc6ReQSDWIoAk7Ho+QPuQQBoKI0ePTygOy/YGKQCw1+/8BoA2Hz87SE5CYNOXjjWzMpmANjXcSCqEfCZoy997LL7BE6YXznHIFgCJyWSbzc31CbQSnC/LZ+2DAD2nN2X3VbTeVXR3vSIbwRip9+YVT4DABRdcWc8RmD2X1XGqA/P8gr28iiEfzCI8Wv+jCUozC0UrASxKwoALBt9r//Gqbc/vuY+i2hZUbv0nY6dYb9eOn0lAAx5ho8Onoze0tTxeY+PxDkWz3CEAiGEYZjUnl5ixR/f+J0F9fMHXAP//szX2l2dKQhcUCi3lQJAnytHuzQChAUuvukXExxnsrZJ1plVMyile9v3A4CW0ZTeGUbEIDNm887hrvzIEwSWYTGhxkb09OBZAJhe3hT1EH6jox4ACCWnR87mQdAEcPPca0ssxZTSv+9NmmrHmQcS93lICkZmsFiRsTHFiqYInMAyEydmdKJOSrByjEA/XFq/fF7NHEzwo3ufyLNMSWLLqa2Xz107q2qGQ7Q7I9JDtTYuBYD95w4WxBmlJJHJsWLmJUXDYUlReMakYrXggj4nAKwDG+zbThUrN+HGHow+38De9v2t05ZePmtNGMHiGW5F83IA2HxsC6EkUF/4fFEYPu+TF0xDjxUMFnEq8QMFiTHFkicOJFZ88MYHFtTP73P2f/GZrwQ7MieDAtJjzSyeVltcAwBtA9HNQxmHossAyBQ7sigAyFj5fy98LdavF9ct//6t39SJHueeAkLQIKuyVBh7fYPQ5B1GNmhC8bNHX/rARe8rMjs+tPiOv+57POy2a+auB4Ce0V6V5FnxFhUI0C2LbwCA3Wf3nhptT6GGFDhWOmgf6phZNWNGRTNEUwjNKJ5mM9kA4EjfxMlZgZUIJYUWYpcCmDjpoxd/CAC2te3ocGV525DpiXPLue0D7sFyW9k1M9c/fuiZ4J9qrJVGmJXXjr0OBXIOPBlkcqAwiKUQ5cvX9KkX2N2n+Vg0wT4RIJHno2plDbx8eAMAXDF/3W3zbpgohdA3rviP2uIaCvSFw68E3x9llOTWaJ691uLQr2DuJbISizh93EaTuDwGu1pY39I92vP5p76cKrvKNdZPu+z2eTfaBWvkT81Fjd+47sscy436nK+3bcmBMJhoHOKn4rYncXxw0fsvrlsecsiGAgA0FzU+cO1XbJJ12DP8p52P5Eu8MHCsgAn2ab4X9r0EAPdecs9lDSuDb7h+5pWXzroYAB7dUaD6iaua1xqbhCf2pp6QIJez4J6OfQAwv3bu3QtvDxPAIdi+fMUXAKB3tO/E8MSeh0GMVkiHCg3MLZ35uzt/MbOqWdaUx3b/I9/iJA1CyZvH3gKA+y750LKqCVcEm2D9/g3f4lhuxDu6eTyg2lRyLsusBgsAzILZpyqRIRv8mt/EZyW8ZDZAKEY01JMdEY7hIYhBh+2oNp3ZsnT/ousXXfOZyz9x+ezLDncftYiWhXXzG8saKNC/vP3Iaee5MFIVZU9WAHqshApOFhwrvq3QKMsAIhQDMPz4zQnK84kV9y6sbwEAE2/6yS1RghpQoADoeM/x77z+kwTqy5Eea3pZ0z0r7/jEmvuO9ZzodfYPuAdkXSm3ltUV1y5uXMAgBhP8/Zd/0ueL5qiXaWgEA9Awg/55htamJfdf9pHe0b6zg+0DnsFh70ixubimqHpJ40KWYXWs/3Tj/4woznyLOQGeFVRdeWTfkwtq5y9qWPDATV87O9D+7pldFOjcqtmLGhYAwL5zB146uTHfkkbH7UtuBoC2vlNG5viUkULshtTwctumFcda18xZ/bHL7lsza/XOs3v63H0SJzUU162dc5lVsmhY+96rP8ahmd+CLYZ5wfLqxetnre1y9iia3FTaWF9SN7t6Js/yXSM93335R8dzFjs3oxPnn/c8OrNyxuKGhd+9+RtHuo6d6DtZ7ahuqZtXYin2q/JPN/4CT838e5k3J7NMtBMMlAVKYYqEbPBrCgsTvu0UMBeUDDwqx6KUPrj5lz7V//7lty6on7+gfr5xnRDyqzd+++ThFyDaxJEox8oa0uFYkIbPu1FQYiUZqzKWJVZKnGOZxs8ZFFuKii1FsW4b9iaV4jfr/X6iv61jqLO+tG5hfcvCUCdmQsm2th0P73w8N9ktCCUsYoQpm2ghQRzsPDyjormqqLKqqDLspx2nd/3mnT+edp7Li2BxIHCiUxn9wgtf/cIln7xx8XVN5Y1N5Y3GT5jgp3Y/97udfy3MA2IrapbOqpoBAM/s+2f6tSV7ujrlr/eHbzzU6+q/YdE1s6pmGPIHcKT72O/f+UtkZF2OEfIbr6HSVnH1giuCr2hYf+fktu9u/LmMx/zJcreGZGji9Ovyl1/85reu+q+VzRctaVy0pHFMj+X0u771z+/t7z8c1iZMEVth5gmWyEkexceHhmxgEOedIiEbdKKxIEDQyFGJX0Qhlp1Yeqz/2fb7x/c901q7eH7NXL/qP9xzdG/vQafijiwYQEHpsR7d8Y9ic9HJwVM58Hk3OBaLEAWWBkkx6Qf74uFXD3YdjnMDJoRhmGFfUgQr69jcvnVz+9YZxU3LahcXmRwOk50C7XcP9Lr7j/WfzKWTPqaEQZD+BHVy6PSPX3kIF8zZ9TD8YfcjD+97YnXjymp7VbG5yCKYBz1DnaPdbUOnT46cKdjpWeAkv+b96du/fmTvk4uq5s8qb9aIfm6482DfkQ53d76liwm36vnxqw8BwKttb2SkwtxwLBkrv9nxp0f2PbGqfnmVraLSXqHoSo+zr23ozJ7eA7EqzG9AuP09h36/5c9lljKOYc8MtR8bOHFy+LRGdA1Tnk10Fs0xfvH6/3Isu7/nUJx7VKJ95ZUHqi0VS2sWz6qY0efuP9R75PDA8SmquzKQlQMREi9gHP6KWRATOeOadyiazqKx3QkFwFSLmkUkFsca8A+93Lbp5bZNseqPZN+Fo8fa3L51QqqEYzfEwaQci2d4P/ZjrBve1onosQ4OHD04cDSmSAA6xhzLJt9T9zHwAAAgAElEQVR/udgXtY2cbcvrETCNaECpGDs0Q+IY8A+9WKjmKgMKVjeefiv6b4W2BAXBSAjd6+3vPdX/3PGXKFBTjOTQhYMjgycynkwzBVthaq/UrXpeO/VGoJJJKxQ5SSd6Zj2YE0eHu/uR/U9OelvuBngCE+drpxOl3T3e/hdPvvbiydcy0Wz+kZUhwjGcRsIzfCHEyFrBuQeGQdblALsywHEx32Acn/dkkajPe9ZGU/TWMqEwm9TnXWAEDvFh25RCtIJMfWCKEWJ9WgE5HuUTBTzIjITQ+ZYi/0j2FWX8lcaqUC/Ig5xhKOAB/l7BGMHK+MJtEUyEhsfF4RmTko/UqgmCAiU4pCcwVcS4CT5T5lg0YvS/Z88VsojVqaaS8KwaqcmT9kiOfDPnD1SsYqJGfpjvXRTwqzYSQudbinDkXmEw+TwZ9/6MC2CAz3fi5wSRuwGep4mzwOfrMYJFMy0jQgxFUeZxPRHjdZ46zK/6GRTszE4kfnJPxjzosbKGfHEsiZVYxKlEDbutkL+cKQedqBziRGZqLAy5QwEPMiPqUr6lyD9yqceKOo1HVsgihilw69R7CQX7ETOQBXZlwMybdRJuE+SQECtybn5BiI6AD/5kCKgJJvlJR48VhiQ4VnY+7/D9YsJjg6I0/OIRokAooMgWUx6b6e1sUi9dsJ+6TgkGfUonX88WCvWdIYQI1fFUsEZlG4XIsaI55xbmUDrv9VhQqD2fXTc9jo1SPwK+ALdlfk1lgIHxr4tQbOaTcCzND8fKDlLmWOlAYEVKiYzlyBbzZCs8r6BgGQEjxY3b/p5GYU7PAACgE03D4Qb09yAKzR8LIVALL+hoLOR+gKdy0Cg9FOBHnF2CJXKiRsLdCBjE+tTC8i1QscoFJXVGAIjFye7188CxUCHqsVIGhxgWcQRIZIspc6zc67HSbjTzoEARMKiwhCo8FGr3IEBGLp18C5J/0CSn2WxwrGAZaJasP9lB7uYlCgggugn1PbbxzfpBUxMvRUbG4xhJz3ce+2CEJfPRqWriUtnrn8c+7xmxFSIarx6W5XWqKeObwkxxrDixc7KEvDQaB7LuxxQLU8QtN58onHcWCgYxDMMWAscqnB5KUJIsCWxUK3DSlDhOGIxc0qzco9A2t1knWCzDYhoRsgGQrBfKuPRrfi40NAPPpZ4M4TyO3ZADW6HAiBziA3NWBn3e8/LVFcKnjqnOIUEo+PhzFxAfDGILhGNNOWSPYyEATC6cyb2AmJjwOsoezLwZ03A6xTOSXBCHkCklIXRKp0qaSXCDOVZSRryE9FhRUXgcKzU9FsMwmGp6UEysguFYeSBLGWlSxZpOVZY5zxPjvBfAIBYh9oLPewpI9lNKcEKlABwrGF4NUws0N8qe93zshlzEokUIIRRlCBKSf3usV/WxaIJgESCmBEIzTIoUeVI0TF2OlRpEzoQQowSdPy0YjpUcAi8kj5+6hlUWsVJK9u73NApkeo4Ay7AA6ALHSgFZ4lgMYjV9yri6R6JQR/p5ghwF+zfxpsiQDWwBhGxgQAgeYRQ0JkPGlJQ5Vlp6rMLzeU9Bj4UAEDA09OY48kyKYBHSiPtAk82zmybHSt9fngClQNB7zbM0IyjUlYdlOAB0wTKVArL0SlkmdZeSQsD5qseCAviIc+eZIXAsiVBjMcATihmUnwGKECq3lI39GwBTXRL4yNWIYbBZMItMKunAwupK/H1HLolGWZtoBYBSS4k+Fjcqxn1ZQPizjP+NibfUXMLEnmUQhWJTEQAUmeyl5uKolYRBwQoCEFgxQK0i74zFGjRMODbKEZYQxhZL1miwiVZDbAqQLFmhQDVMeJZNttGgGlIpiAAJvFBmLgmzd2OiA9LC3kIeoWKTyLGlpjF5EEISJ+ZRPDPmFd1UJI4LkEDXWwULAJgFUzbElngOE90uhteMiQ6A0l/aA2M7Qci6hACJXAZyWaaDQG8rugkBErgkDnAktddNEBpWjQ9N0VWEkMBGscgjQGI2x3ZwsucAVKwxCCWSAjhWtwicAAAOKXzqThoIAEAnmEVMbqLxGV9HavNnpoCu/MttXtULABbBEusmiROfv/vRDmfXR5/9LMFE92qqWyEa5sy8YBNZiUOJBbX1KF6eCbdWaMRvFUOa9qpeBiFTMmGoUkCDveb31/8sq01cwAXkC5TSqRhTdIqKPUVBgU5F7eYUHSRTVGwA8Khea2x6UMj46ubv7+k7iAAwBUyoEEZAKeiUcNECxrZUzH3wyu+8eXbLj95+iGhEc6uaV6WU8hZBsAqMyCb4KnN6tsgsSIoWrq/iGUnDKp+eX3kKONJ/6rpH72WZMVMUpqpVjO6qMujvtfA2E5f6CMusHmvI32sTiidO3edbj9Xjbq+w1E4a9Z5FLCE46k9R9Vh+zQ8AJt4EAIjGNjVGXFEx5mMHuUtWj8UiNjIRNUq0NFCgKsYiy6VzvDSFsipWdBIlWK5OtAFfT7W1IXkpsgJZ97vU4QpzrfEny7A4xiDJDbyaW8a+Uqky5Opk/S5xoqyr2fjq3MooprhIKo36q4Y1lmFStgBEju1J4dN8CJDxVeYLDDMxk2hYAwA+msYox9CwzgCrEx0hYBEXOWYYxBKjt2MNk/TYFyE0Mn0PpoQBQGjsNNuk+X2i/qzqmsBlpocxwQyThAaLUiAkxc8KU+JRvWP1ABAKGg6vikKUiwCgYwrjRQimGqHGbQhThCmD6dgTRHqBhD5ZTgkWg1gKCkDYdIBUHfO5NRJ6VS+LpKDepyxHsBLdrWFUduqEqjitoyIZ5FiD/iFCWYGV4t2UbDPJIKy1EXlU5OyJpBWKn5Ew/AqlOsZezW/MnkbZqDQr7Fp8ggVp2AqDa0iQYwUIFqTEkwLNBZBIWZ3ohALLIC2CrOhEG5FHzXyhmAhl3edUnCJrz7cgY/BqLr/u5VCE+jxuvzsVd5bkcSkuTHSEYu4/VaxwDJczLwuf5kWA1ILxAFOxCgCpnftO/KhgYpIoHBI0oiFIyCSXcWBCI6c9negMMAxjEKwETU0AEZ1j5NhIHzrBbDIECyhE4z+JAgURIIQgol1KaeTFkJIoCAA09E+AQEchGB8pIbVxiq7zjAQAih74ZsIfCIFhy6SKrlNMNKxrGBOMic5QXWf1JN4bywhe1cdAGB1mXLJXHLejC6xEQ+SJi/gtR1uaKCVYZ0lQLmoZu/zKaMw6KPHrnsKJQUsp6fWeKyh5ut1nssHlRNZi5otpAuHhgz8SBrEaxpDYzJj9TkQsYlWc0wVJwYpfc/t1VxRpAAgl7c4TUX+ClDh5emcIKKX0XIQ88euZ9K3FKT7ZhEEpgE91R9aTyFDJuG7CkMetjMS5h2OFUnNtuLEvYgeQEWcUgTUBgJYPgsUijlAcdtCEZXigVE9AnshXk2ZvTGikjNoQg0HnWZ5QQgCnN0iTBgIEgGiEPpJneUKxcd3Q4qTbTnpgGRZTTEmSu+0EEJ+zUQCgiIZGM0AAHBNLiWvcSSlgSgkN9CHFlGJKIfCBxe9RTmBZv+6nlMZJvSewHBhusyxLEWJYgliGEMpxjMCxLMfGIViRu3YKLNBwgk8oCOwYsfVpfjRuG8oG3LJscMqxpgGXmEtYpizW/YO+HjNvM/PWLMmTLHq9HSVSReEE5u5yn6m01nMoK5s2WVcJaBKbhFOtRjAfzayeHUwyF1CgOsF8Ds8ZqUQRGM5irkBQGfmrTrV+b2eNbVrO5IkPRfePyoOV1vp8CzIGn+b2aZ4yc3W+BRmDWxnRqV4slce/TSMqizgGZWbYxxnTft0PAHECf2Rxx4KAiTj27tf9CKGk5oekWoz/c5jiUNb9GHQGoUQn5wwGjqZAgHIR84yK1QSd3HMDnWCWQZNosDI3hgI1EQAMwEW0iynhon01LEIAgBDiEEMYoIihDEMpsAzDMUziVk4OIWQkVIpTIPALQohOhM8M+2+SJwxA4kwexRdMcQCARbxP8xuO9uPOgFn5VDWscSCF0F2ks0y874GOdU5m5EnZVhhWFkXdAuTJVogATbKDiCwbTaTIrQuLEDUM2UH1x3LJCrpjcmnSjFUWqtuIV5oGiZN+gLT4dkYKlFIEQGKttYgiAFRQrs0ITSl5ciwpQohOtiABCKyoYQWhrNsKDb/4vDlrx2o3PXnS0DWFFGURi+mEnSgBxfukdySMMRNVeI107GK6LWVKUgTGUoEm/s4ZKA0fJ4ZeK9rgMS6iBEyE8ZGzjX4IRI6PHLQsEnPg3ypranAvY6rGOT6ZDWQ3Bmlu435kvLVI1sVzAqaaP7Gg/7mMQZr4i0Mx/p1Co5OWlXU/BXIhsmgWkffQOjHAsyImOknSaf0CIHOvlGfF4MoKdaSkgvPpWcKQ1Shd+SFYPMtrJDJBIePXMuNJFwuy5ueRFKxz47g8bMWyG4M0lto5Ow86oVBJcpDGikEaWY/AihwSgsl3HBt9UqcH0qQ7QVbv2DFIIy5nj2MRSljEF4454LxFoa42FzhWysjUKyURJ47PG2TlWfIXgzTQftg/Motc5CKMCrNgipwIeMakZi3tAKUU45BnJSB/aW31sro8BM07n/RYAcTnWMvqpG9dVfbZS4on1a2G1cMyrE5VFeciH0X29FgZbDRWWVn360TlGR4APrGy6BtXll7cdEGVlR2EvrPPry7+wbXl4VF28oH3Ase6b7njx9eXl5gzbAxN+WBEMCJNtFOdY5Vb2c9eWlxXFHIO+rwEzQLfy48GCwAYxFCIklFLSy8aQhz4VB+DJk4vEiAiL9YX8ZfkaRHKA8fKmh5rooXYw1PDdH6l2FjC06B7EtRjmTgTi3hNVzMkZlBDudFjTYb0FW8aUTlGCITYrnNwLVVi2oeGLiA2gvq2qZhvLObUdA6UZw7nPcdqKuIbinmXP/MPmAmOhSJPpRXEsEgV8yvFS5pMTv/Yunxe6rHCkEFZ8kawAMAsmHUavmRyjEho5jubUIxoSGwIAgrHcMcH1DkVYr42nueTHmtSW2HboAoALjkKgZ78WC5CBHSczCPl0h8rtOzkpWP4pyeBSI6lYx0TLZC53KkQGO/zC8gWxt+ZxCGOQRYhn9NpMHhWNOLo5FuQrEDkAAFU2LJiCs/SrFlI/CE5zC4Xety6W5mYt9PR9MQrVUh9lClZ8jwjcNHa13HqmoBY8CkyClLeYqpbBDMA7O6Uy63srQtsmW0ucaTjjxWGvOux4nOs6+ZaAaCphC+zpKLblzgTUCprCXm7h8mTArL9safPsYKh6H6EWGk8solDYmaVCQBw3ZwpmeBiKoHC1bMtJWYWU7j/Ikf+bYTj4FmBUJLfsPjZwIoGaXqpoGF6/0WOaBlHM4A0v30WsVo0f4ZsTynZqH9OhXDZdNPuzui+0YXEiAoUeSZYIidpJHzJpOMJEDIFFasskgKVUwDE6Eb2gL1d8rOH3HctsefRWyWDPu+T155lBHOsYJp16TTznYvsLx/zaJh+eV2piY84ThxhK4xkaSzDsoinySg4E7w1TboToU9KaIeQMY5FKTLCWQACAIFF/7G2hGXg2UOeG+ZZr5x1gWNlEUtqxX9pdWw44f311pFLmkx3LLIVGMfC5xPHai7lP3NJ8c4O+cE3h+dVitljtLF2pgkiVgKirE7GGe+KKhv372tKTg9pf98XM1FBhp+o8GyFaUqU/wNHEi/qengsCkJBJ3qmzkMpmsaFqK+U4PTSj+51Vdm4z19WsqjG99he12gWTPuTgkYc5s/kMKPZUlkl0lqxib17iX1ts3lbu/9Pu5xvnPJ95+ryn99U+fBu5ztn/fEfMyzeFc/yfs2n65BUIvAEnz5qnyfec6m9snQaDZSVdT8FMHFmBLC8Xvpwq6PUzDywYeh4v2qTmI+tcLRUCQ/vdg14z5+FthBgE5k7FtmummU52Kv8cacLU1pl496/0DajVPjzbmeXsyDMczwraFgFAmwOQ91mAxKHbm2x3TDX0unUf/HOiKLTP+xwfmyFo9Ze97sdgx0x03CkjqifYYKfuchKlBIULRZdbifjFMGz6No5lttabG6F/HjzcNRsfQFMiSfKF/JPsDiG81O3gML22UjWFKuYAfH8qo9DIecEeS5krqEUHtoycu2A+v6FtlWNpucPu7ec8fe5cz0/psyx6Pj98UpFfgQZJnFRWqu0cZc1m2+cZ8WE/mmn89UTXkrhzLD2pRf7P9Lq+Nzqkqtnq88fce/rVgIfsEGngnVXYRxLZCVMCCZ6IqkPw+SZFJnlWOmYuRMXGFPMMrzAoiW10g3zLAuqxEO9yk/edLWPaADwu+2jbYPq3UvsD91c8eJR7+bTPuP6BaSDMgt7SZPplhYrx6C/73P986gXEwoATx5wdzn1Dy61//SGig0nvK+f8p0d1vK+IedZQScaJjSpT6Zw4JCYVY2mW1usdpH551Hv04fcik4BYMNJb79X/8gy209vqNt82rfxpO/EoJpZ992UqQNCjKz7JC76PrCQGYlFYJbXS7e1WCts3KaTvsf3u6J6zYZhwnCRESGCl7TCQMqqrCn5ySUOSikhIRnEdeq3ceFJbzCh/zzieeu07wOL7bcvtN252H56WNt21r+vS+5y5Y5pZUSPlV+OxbOo1sEtrZVWNpqmlfAapm+c8v19nyvYR7Lbpf/g9aEltdIHl9q/tLZU1umuTnl7u//EgDrqj7JXCuZYDMOoWNExmJJcLdKZ1LKtx0qtUQRgl5j6YnRpk2Vlo9XMMz1u/Sebh3eckwNlCYVNJ33b2+XbF1ivm2u5pcV6blTbcBKdHOA7R/UCOfU2JcAxqNrOLq6RVjZKM8sETOHtM75H97hHghTelMLWdv+uTvnGedab5lmvnm3pdevbz8m7OuVzI5qs5623OYbXiZbstiSPYBFU2rgFVeLKRmlehQgIdnXIf9vj6g3d9+7vVj7TMXrdHMedi0rWTDcP+fC75+SdHfKZYc2nZeY0esrzBhs3pH5BcSyEoMLCzqsUVzaaFlQJLIMO9So/e2vk7IXNWAQCTCvB15f/700nOh+Zux6oxGcg155X9bJowrmKUmIWYka9csnkt9tHH97jaq2TVjWa7lhku2epnVDocpZ0OvUeF+0Y1TudWrcziyvT1NJjCSyqcXAt1RUtVUX1RWK9g6uycQiBhunebuX5w549nX6/Fj1Z894ueV+X3FDMr2o0rWo0XdpkAgCvSjqdeqdT6xzVO0e1zlF92IdpKMeSOJOCVY/iiiU4JoTNXS7CSUExBVlPdzpFACVmrqFYbCgSG4uFxiKxoVi0iSwA9Ln11074trX7zwxN6EuCX7VXJX/d7Xp8v3tprbSiQbxnSZ3EMRSg3613OPXOUb3TqXU69S6nruSPBBQUeBZV27i6Iq7ewdUV8XUOrsrOsQgwoQd61P/dOrqzU/Yo0ZZwCiqmTx10P3/Es7BaXNVgunqW5Zb5VgAY8OKJse3UO52aP4fqrULmWCyDqmxsnYOrc/D1RVydg6uxcxyDKIUj/cofdzrf7fCP+qMTJp3QF446X29T51WJqxpMq6eZjIMdwz6jt8fGdueo7lFTpFypkSGeFXWicoyQ2WrTB4Og0srVOri6Iq7Owdc5uFoHZ4RwOzmoPrrX/e45f8ruBJnUPRWeHisYCb6+/H9ssqbwTLiDOYMgfQcsTHSGisHdQJDCMpPkbPap5K3TvrdO+0w8ai4V6oq4MovaXGprmSXaRAYAKIU+j945qg94dZdM3AoZ+//4P3B60Ycy8uElwbHigmWQXWRsEmMXGbvE2ETGJjJ2iSm3cvUOrsJmBMKvcMm406kf7FFeOubpHNVPDamBxQPFbpQCtI9o7SPa4/tc1XauqZg3FrNZZcLa6WbjiJBfowapHfUTl4qNHh7xoSEfdSnYp0bpa5cyVCyVF8iXSSl1KYPFpkmS9QIAAjDxjF1i7RLrkFi7xDlE1iGxDhNb5xAaikQjCgAmtNulnRtVDhwdPTeqdI2SPjcTdekI63VFp9va/VvOuJxqz2WNM8dnWG7dDLNDYoz7Bzy406kNeLBLJi6FuBXilicGtn4ehdViEVhFxi4xdpG1SWOj2i4yRSZbfRFfa5cMp1CvSjpG9aP96oYT3k6nfmpI8066TlMABBqmuzvl3Z0yz6LpJXzdOFG7uNFUOndMtzHkw51Ovd+tGz1sdHhgMonv+JICDI6VQd/WxMEgsBpTx/g0YnR7qZmptfM1djb4Yz81pG0+5e90aqeHNWcC9ikAwBQO9igHe5Q/7IBpJYIxsOsd3PI6KXCQdtRPOp1arxu7FBw2Y7sVEn9rEfwpJb4n1Ykeh2BB1jgWQmAVxoa0xLNFElck8TaJKTGxtQ6uxs7xLAIARaddLr1jVN/e7u9w6meHtSHfBTfNJJCIYTTPBEvR5Uh2hQB4lo96f1LwqTIXpL4iVLNKSZyo8mv0UK9yqFcZ8HVbBbuJs9olps7B1xVx9Q6+rohbXCPZRMYqhitLfGrIp+tRxj5mz/iKZVyPs1yl/OElNBFQAAQcgwy2FPafVWQCjMomMubQ0D4UwHiKYR/e0yUbe/GdXW0SW82i6GOJjnOs+Pltul16t0uH9rEjpeObWt5QITQU8y1VjF1i+NBg2ZjQ4GXJ6O1zTpZFpcHdHsbDJu3bOBNoIu8ltDgd8feWme02kbFLrE1EVpGxCYxNCul2Y9XhQo+da5i6FOKWSY9bP9TjNbbjPS4cOnLi6eqiDiRZw4f7lMN9EyfJbSJT6+AMElDv4FqqRLvEWMXwQ/B+zZAHuxXiVqhbwW6FGt0eGOfuLDCDpMAyyCai4PEcPsglxi4ykTGrvCpxKWTQq+7pcr92XOlw6p2jmktOiVQG9buG6fEB9fjAREAyMx/oba7ewc+tFA3mEZbhQNapWyYjcrHTr8s6F+hkV1BXuxWSlDadY3id6DrROCYDEyyM81Rj0gjraqswsSWLHEs+jbhlMiqTE4Pq622aoW0y1NXpAFNoG1LbhiZ6W+RQrX1CWzO7XDDGQFjUfRXTAOuK7OTA8FZ1ShPmWMJYasJ4c0ZSUz2DwCIwUce2VWSsAnJIrPFn2Fjya9StEKeMzwxrW874jZlk0IuzEHESILMuWYWtxzIQ5yXmmWDpBCKTAXJs3Gz2iUHRlWB2BQAMQ9J8US6ZHJGVI30hMU5YBJaxnRkbWCkD/68v4mwiaxOZyMAEsk6dftzrxt0urdupd7v0Lpc+7Bsb9IF3lqwRL8xWCAhKzWyNnatxcLV2vtrOVdlYh4mVIvrd+AjdCnYrpMelnwjsqmVifJxuhXgVEjkFjvq1qrhqwTGR4nKsMGBCu5x6l1N/N9TnXeADGjV2fCs81tUOialzcDaRsYnNYQFyCAWPQoZ82KBx3U6tx633uPRYNpo4fR5/QhQ5VG3nauxctZ2rtXPVdq7MwlqF2jB5MAVP0MTd59bGdRjYHdTtik4TnKpSFtiAWyHH+tVj/SFRSY3ZPGQ8j/2DtYlMjZ2xSYJNRGY+nKkoOnXJpNejG6Pa+G/Im6ZiNxwIoNgY2HauxsHVGANbYqN+aIFdTb8Htw1p42o5gykSl0w84wPbq7n8urfMVJ2ufLH73aeRk4PqydAYsAiBhR9XFYtj/NsuMhKv20WmysbOLONt0XihiqlbIX1uHOjqbpc+4NFjURWO4VLgWIbDX42dK7NwdQ6hoUiqtnMOKYo8ik4DA3vQi08Pa+4IdVEutaGKTk8Pa6eHNYCJeEAIwDzOVMJ083aRKbOw00t4azReqGHqVsiANzCT6N1uvc+Noz4Og1hF94uTZV6POlJsImPMJDXj80mRibEIUeQJcMERP+kY1d1KSG8P+fxeFSjNz0KfMRVdQfmsRUMsAfNJsHwR5/sAQCdKOP1OCZqOg3UqOlVsYhJn+xMHpuCSiUsmEPdgNsegkH2exNhEpkhiqu3c0lrpmtmc8dCKTnvcYytTx6h2oFvxqiQpjmUVmYXVYkMRb6w61fYx+zql0O/Ru1z67k55VCZumbjVkP2ZTjIe3jUCaX8nik4HdDzgxRAtz5KBDueJWWWzDTOENUhFVGZha+zc4hoxsCqM+HGABBwfUE8NTZxCSoSyIICmEn5OhTi2xtu40vEYqn6Ndrm0Lqe+v1s+N9rPMqVj/SwTt0L9WpT5OH7fJ+Lzng7HigShYMgc/zaWQVYBBYa0oZxzSEyVjVtYI145y2KsCRqmveMkoGNUO9CjJHI6KRgmHi2sFhuK+cCqI3Jj9udBD+526fu6lREf9qg0WE/sUfOnUUum3ykFj0o8KukJve5SRjDRAyZmYzs3pgEVmHErJ1Nl4+ZWCOuaTQaVx4T2enBg23agRxkOsv5wDIcn41gih+ZXitNK+PEFng0w6UGv3uPGh3uVYX+IjqcQ9JcJggJ4VeJVSW/MAE8A43uMMP2cQ2QqbGxzKX9pk8lQqBMK/Z6xaeTsCH+wVx7xjdWAElvLWAbNqxSaS/jA9sw2bhgZ9RNjdhr24uAZ2y0Tjxpi2VR0IkZE7lYwZhETNaB3blA41Cgvi1veCBahBEGUz5tnGY2kewDEp3o5JAV1KBX5vOvq6KgfxwqyxbOo0srWOPgaO1fr4Krt3IJq0SYyhMLRPmVXh7zjnL8/ruNhuZVd0WBqrZPmVooMArdCul366SHt7TP+bqfW7dL7PDjK3Jf9c4UBJGIrjF4QAYzrsRJRg1EAv0b9Gu73ROkxBGCTGGPZMFR68yrFy2eYWQaN+vHuTnlXp7y/W4mzw2YRLKiWWuuk1nqp1MwSCn1uvdulb233G5Nsj0t3+gM5NWmHs7PeEbKLjaqgRePCx3muHByETLZaTKhTpk6ZgDPKDRyDKqxsQMlUbefmVJgdEkMBTvSruzrlLWc050C8JkrM7PJ6qbVOaqkSWAZ5VdLt0s+Natvb/d0uvceFe90FfBwy0waOie2cK8qvLIIya0DtwdbYucumm4pNLACcHtZ2dcg7O2UjTgfLcOX/XvAAACAASURBVJjoGlZ5NsRJyCYyRm8vrBYFFvk12u3Se9z67k7ZGNunh12KTpMKRDd1Edhj9ET8ZBgHygI6VDtXbedWNphumGsFgI5RfVenvKtTbhsELTaRNfPMsjqxtU5aXCOZeGTsrntc+sFexZhGelw48eOQWYprnz4yYzGcIrZCAwEx80Y7fKo/0vtKI36raNHUtCIjUEoo4YLfBKayiZ3Etz2/0DA1vBCCL1ZY2dZ6U2ud9MFWx4daHW+0eZ/Y7470QyyzsHcssq9tNhNKD/epf97p3NXpH/BgCB2NuTlXGB+Z8d9PnqKFyeCSiUses4gZNXEMmlsptNZJrfWm9TMtAx78+H7XljO+MJaFEKxsMN212F5t54Z9Y2zsUK+Ss117AXKs+NAJHfOu65y4WGpml9ZJrXXSnYtt9yy1b2qzPncI90ZEnnNIzO0LbVfONDMIHe1XH93r3tUp97ouHHSMCUyhz633ufW9XRMXHRKzpFZqrZNunm+9Y5FtT5f82D53+4jGMhyiWMMKz4oAYBGYm+ZZr5tjETl0clB9+qBnV6fcMRpuRJd1kr7/xvkBSmHAiwe8eH/PhNMIy6itdeaVDbarZplvbbEe7Vf/vKv/zHB4WZFD18623DzfahGY9hHtpWOeXZ3y6WEtnbmXK1SCFcB758sNTLb5IVga1jgm3DhIgZj4mDEUEodX8RneV8YTEorNQt7S4KSDfg9+6ajnpaMei8BcOdN8ywLbZdPNLx71/PztsQ+JRXD3Usd1cy2yRh/e49x40ucLPeIU5o+VGscSebG6tLa8uFLT1d6hnt7h7nQeikZtMZGCSeqxEpcHAeiEGqeQ/rzTOb1UeP8i279dUnzzfOtvto2eGPeVaSrmP7WqeHopf6hX+fW2keP9avzniKORMmyxqS1UcRqdlBtnfIJDKW0sh3x4wwnvhhNekUOXTuPuWFS0tpnfeML7l10uQ3GIAG5bYLulxUooPHXQ8+pxb6SlsnBMD5Mjr7I6ZfLmKd+bp3w8iy5uNN2x0Pbg9eVvn/H/fseoX2OBQSqWb5hbetdim8CiV054/3nEO5KPbBapIV9dG+tT8qpkyxnPu+d0lkGtdeKdi+w/uq5ud6f8m+2jgRORFzeaPtJqd0jsG6d8zx5y94Uq2qfMqE4Dqb+1qaDHMmBImh+CpegaH0GwMFUkJt28aTrW2VC/Loo0Ju5Z2cKHVyXPHvZsPOm7ucV6c4sNMdP+9K4HAXx8VfG6ZvMzh9zPHfb4EojykgTHAgAAhmGXz125fOHFAi/oWOdYDgDOnGt7YctTOk5Fy2g12RjEuHzOgloeg2WhAKeG1B++PjS3Qrh3edHXrij71msDp4e1Wgf3jSvLXDL5zsbBA0Eb1ow/RyIKxHQ4VkFB1umLR53PHG6/b9ns9y2y2SXmv7eMUAr3LLXfNN/68jHvkwfckzqBTQ0UwIDXMN182re13X/FDPPdS+wl5pLvvz6sYeaW+aX3tjreOu1/bJ/rwkH9TAETakQ9XT3N/MGltq+tL/3WhiGvSi5pMn320uI9XfJfdw/1RItiXQAjJRd4jzxmHgiWrPujsSvNnAm7vl9T+CCChalmEc+TZLcelTy6xzXoxfevqFR1QWD4y2eYf7NtdNNJb/yCKeqxACqLqlYsvvTEqSM7j2wbdg2VFVUsm7ti3swFa5ZesWnnKyk8wrrWK70+z+u7X0uh7JiYQXqsDCLy6Y/2qw9sGPzmlWVfXV/2k7eGPndpiVsh33htINI1e/Jz2DF/ia7HmoocK7WNpXG/T8NPHXT3uPXPrS72qrTPrd803/rIHtdzhz3xy06d3SwAFMqSomH68nFvh1P/yuUlX1hd/O45/72tjpeOef5ve68YI7XLBaQMQmHzad/JQc/3r635r3Ulzxz2/Nslxdvb/f/99kicY5SFMVKyjpzqsfK078z56QIKBEfz8EUkwQMXcSBrMh+qvmJYej4NVQrw2nHv3/Z0vW9h8c0t1icPuCdlV5GI2R80/Kae4a7fP/k/r2x/Ycg1SIEOjPZt2vGyqirT62ekIDxCqL6mKaS5QlK2RMriVcn3Ng1iSu+/qEji0Hc2DsY6+JbOc0Q9upnImE2v0Yxhcj+/BEABtp71/22364qZ5g8str12whufXYWVnTIoGFkP9Sq/2jraWid9ZJljR4f8l90ukTPLum/ykheQPLpdzA/fGJhVLvxLq6NtUP3lO6OTBqkomJGSXaT1mFOhj3KtwfJpXjbCt10nsiX9GAoUMIbg8HEakW3ni/oqAArwwtG+Dy2tBYCNybCr4O1CQnosBEDBp4Q0oWGtb7CnvLQqVism0TyvqaWuqrGyvNrv9w0M9XUPdB44tXd69YyLl6yRRNPMaXOrK2oB4NS5k9sPv22Uml0/b+GsJSVFZaqm9PR3bd67ya+MzfU1pbXrll/1/Oan6isaW2YuLikq9fm9nb3ntuzdpGM9U55YkU9vwCmTXR3yuhnm7efkwbinONNzP6cZ12Ml0GjGth7BoqZcLQV4o833oaV2lkEbTya30k+lHX/ByLq93f+JlUVWkXm9zWdEJ5E4s1/zmvjzbc4sBOzrdvW5Sytt3NOH3AnGACuYkZJdpHXGsOD7iMklDSQEIxAiWxS4DPA8r+pl0MRpWEqpJExt16tY6HEpXpV4FDKcZMaohHRGEXosCLmAHPbirt5zUYsihN53xd0XL12jY/3gsb1Do4M1lXXNDbMAgOeEnv4uAPB4XR095zp6zg27hozmLlmw5vq1t5YWl588e9Tjdc+bufBD199vGifcIi9VltdcseLatSuuHHUNHzy+1+NzL57X+oFr72VYNhu2wjCcHFQ5Bp0dVqPcPVnZACadBFIOQRa1GMq+DiyD1QZE9ahk2IdVTNsTyzIb/JhTYTc7jsKQ1ThySCgc7Z/wKTTxlqmlxyrs5XUCHCN0uXQKcLBXmfzucRTGSMkRMjkDFgxyqsHyaTJvRFcPIp4a8VvT3jMRghHlAU1UrEOhh2ZIB/c8ckZkJciSw01sZdfshnl2q2PXwW1Ry5U7KstLK7fv3bL14FuBi4Zu5njHka6Bc4vmLevp73pr36bAryW20uULLz7T0fbcW08SggFgVt3cG9bddumidRt2vBi4ramu+U/P/O+od8T4c82SK5a1rFg8s3XPsXczeKLQQNimaPMp35unfAm2kBfXqGzosdJ0b0pWpEDnfOrpvpQ7quB3s0EoDFm/9OIARPS2xJll3Sdy5gIQ8PwBx/Df2dgtsFKyY7swRkqOcP49bO58sDSs8kia2HVSgLEYChkIzeBTZYTGgmhTAEKxNTtx2wsEFCDgDZTsiKSJjONoeiy72XHZ8vVdvR0HTu2LWsgnewCgorSKYdigmuJNKUvnXsQwzN6jOwke08a1dZ9QNbWpdlrwbYMj/QF2BQCHT+0HgLnNLRQBRVnxeQ/7d+Jffsp6LAo0rK8Sf7MZ98dCSTLCSFFTJknpHBos7N1sKArABzGWCBJnVnQ/zVKmuvcqME0xPdB76jXQFL6MAviUYiFIg5Vl9qjqEVncKRBQGZSu+krFKgtiSMVIQ+j8tA8GI/DGUtv0T1IqVI9l4k23XXGXjvXn33zCUDVFwiN79hzasbTloo/e+unDJ/bvOb5TVv1R7wyg2F5CCJlWO2NabXPgoqoqVoudZVg83lBXb0dwqSHXoNfnsVnsE8+SZT3WWCuJ9XOW3JuSbTSdson8FIYMquiS6sCwds+/TXBeIHEmRZd5VmBQ/tKsnF8QWYlSglLqzzS11BeQL4QznixNTn7NFxJZFAEAYKKahQzomVRN40CE8ZGEqWqV3it+milzrIANKBGOxXPCres/YDZZHn/5L/64nOnNPRvOdLW1zl+5csnqJfOW7z707q5j2+MEzbKYrZTS+urG4Iuy4pcVP8tyAYI14gqJhUyBDo8O1lU3IkAUaGapVVAreXAhj4zdMHU5VlJ2xnR40hTmWAUsq8hJKpY5hmcQO/ndFzAZEGISyf0cCwU8UrKCpJ3f03RryA4ifLCy8BoppZSwkZ63DEPTD83g1/zcmPpqTHSeK7A+zjKyrcfieeH2y+8qKSp7buPjQ67BSSts7zvT3nemsrh61aLVFy9bU1tZ/9Trj8W62ef3WszWv/7zd+EyhcIsmUN/R6XFFX7Zl+301BnnWNnzxIrVaN71WGlwzYI4I5l1FLCsAiupWGERZZk853I9P5DmelfAIyWLmNJPHU1dmekVwKf6WON8X1DNGpElPt0MNpTSiahaFBCATv0ilwGnrqmFpMl+UMH4w5fnhNsv/0BpcfkzG//eMRD98GBU9I30PPvmP462HWyonWYz2wGAUAoAwe5ZADDiGhEFqaKoMn5tJY7S4D/LHBVmk9ntjZbwNtMI+xoSPKAXtWyghgQKhvtjJY7IYikLjGL/lBRSLpuXRvOAApZVYEUKVCdp5Ye9AAMCKxKaVqz8Ah4pWUQST11g/lgx7MGZExETnUVBDlJjPsNU5KInGE8KXtXLBinhKM1MNsOpiKYS/urZlrQVgiHgOeG2yz9QWlT+zIbHugY7Jl2oeU5gmTBrAgps2nyK1+kaMYJgBbD32E5CyOUrrhb4iUGCKDKFku9pDTNLbBMcq6V5IQAcaTuY/DOlgnQoSzqbrwDHSoE3p9FoCHLJseKcZ8xq2YJAAcvKMTwA6CSh2BkXEBdIw0mEaYiKAh4pWUTSbu+FgdiK3wwp5vyaMhaaIahmncoWNl03KUx0hoZ4smNQzuPQDHGAAD55cfH0En5lo+nXW0f6PUnHxwo62TmBdcuurK2qd3mcq5etDyvS3nU6ECY0gKqS6pvWve9s1+lR1zAAVJRWN9VNP9txyu0bUzWd6Ty1eF7rres+0Nnb7pO9h88cGHT2b9+7ZdXSy+696RPnus+oqlJeWllWUnmmo+2lrc8Gau4f7L3ruvtOnj3q9rqqymqm1c/oG+zZf2pPUo+ZDvKlpg7EIE3Bxy5T9rXgphOpNpaoKZeNVZBjUGMxBwA+jfa49KTKxkc6Zk1IuecL2BbCMRwmWMOTR4O7gPjIiENbAY+ULCI5Q01h9FFcy3raIip6BLsCIKCbhHSNgwDgU2UegtIOAraed3HbEwQF+O220U9fUjS/SvzZTZUP73a+esKb1CHrqPf6ZV/vQDcAsGz4pMAwUXSfg86BXYe2V5ZWz54+HwC6ezte3fLCyY5jgRt2HHrHYrJWV9ZWlVcfPrHfuLj98NtdAx2t81bWVNZJollWfOe6zhw6uS9YpgMn9jCImde8cHr9TK/Ps+fwjrf3vRHrMGOWkCXKkkDZKHHek200g/wsT77/UQraJeYH15UDwP5u5XubhjLYKEpV1MBG5fzjWCzDAgWCVTazevL3GHhW1LDKs+keci/gkZJ1JMq0CqCPJnNdTE9EHZNIj3MKOpN2DAVVV4LZFQAgBsN7+Ms/NaR++cWB2xfYbl1g++iKolVNpl9vHe1zp+U5sWX/G7A/4mpUZRcAAPgV37uH34lToUf2vLDlqcjrHf3tHf3tcQrynLC/bfeh/8/ee8dJcpQH/0+lTrPhcpLulCUkoYwEIiOEQBkE2ATbBGPDaxmMiMYEY0w0yRiD8c/YrzE/MBgQlgQiCAkhIQmQUA6cwiGdLt/t7W2YThWe94/e3ZvdyTM93T278/3MR7qd6a6ufqq6+qmnnnqe31fXJlNSVFl67e1efdEsdawG1+ojn/d8vOwL8FaoByNM6hBoCt4dSxltZPcKFhS6p2REGxLIZsCtooWYHJ1Wy499TuwFAlCYUmgGNc96oSCdYutSmDXdBkiN37p78n3X7tk6Lk9Ya3/24jXnP2UofZ0z492wBZN8ZXW6dI1qx/cckzhfnWkJHVM5UyR1fqpHg6o2PrfBbTZ1YO34oume1e25BXPUrQTBaNT9lU6naAhmNz+oNYraTbKjiQTyfpRaC3rWfhURDeCseaxi2ONpRFTxY5/DvBlAKtkMFwdbxuR7f7j3u/dOcUbeeNboh89btW44beFkrGMVjFx0rG7okZaQ++BecxF8kehYBYYQkqSFzrsiAP0pYUZ53LWr+xz9KIF0KbIEehWltxz7jHCAWRWSAADINGIoIBo089Q0CaHFF3/c9tZRBr999+T7frjnicSUdcmaC45P25Q1sGPNktkWvy5jN3TpuN3uT03L7Obcjmn93G62T6az9bJgfX4BfZcWulB0GaxhAcXuKVnQZDzJz47VE8OP0oonaQcr7grBODwF02g58nmF95UBU0rDZT5HNKp2nzdlZNOYdQ/vi955TfkVJy975cnL3nDm6NM32V+8Ze/Oybp7rTkVpC2FG9uMCtURB6bHf3PPrbv37yya2SwfB52c6Mwfq6nbQzc61jyHtnak2brw290+2f0Va5xZYBzuhSqwmD1Ip9Mu3aTNqUkfDSm9q2oBhdCmgtXaAx+qWCSJceaGKASNodN1DAWlVXXaQUr72HxFABxObN6GA5lg6zilLWqrP9kcPbR7/5uePnrCWucLlx76vXunf/ZIuWbS0emoDNCmfbH3PXp8ev8v7/l5b6/RKam8dOvvGWhwKnR25S5tP/Wq2o2OVY+mYmnwUyuKXd/4vBcbh7uxjhjlbJBOpx26TJtTk8Xax9qiyeCYuYzat2A1Gy8jFYoFaQcRNKpUnNBDGfEKBUuj9Oxe+rb3Hg1hiZdiLaOWV+VjraQB2XLcvwf2wLt/eOCypy5/+cnLX33a8GmHiC/ftnvHfFOWx92S7U2FESVtbhHKeJJdPDsWdKpGdPew5zCcNlZ3ulE+Mj4RWq7wgpYd6FjVWMxWRio0fLC7sB26TxNXzWLtY+3SSA7Zyij9JUKlgS8wfBIgRJGuQzNEMuTzzVeM96SbZgaiKVkOAoZS0aqAYfUwJiSEtiVPreG79wS3b1WXP2v5U9Y4n71o0zfvmrz2oek5U1ZZhiN2STDQpt2bGACwZHSsBuSofGQZ9yGX20QsdAgaToU2OtaRld7+uEWPoLY2uir1RbcUa1DIj4LoWJ2uAdd5mZRjn1ct2CkTuSIFO5PU866qIOo+m2HOkJhRVo799gKDtRVCdO4kgMfH5V9fu/fbd09SAq972uhHXrJ6w8iMhk3BjnTsCkdj2EHhWZP35tsFdOlC3sXzXiQp1KlNi7fWwbkNXP5bdA7s3b7CehXo3FyHnT33GcEo41REqh9Gj2JACJEmtb2ElRS4m2RKE7f3Fo7qni6c7KoqZowmUG0lRsFScOUrR2VeUTgC2qKPXa8AwKAcsj1tNJoOTOsddgtt8Lv3Tr33h3u37JfHrbY+c/Gai08YogQASCgVAHjCGjyhAzomdR2rpyd2fO4gdkM1lFCL2YOtha3TO8e1xdrH+o7ulgjnN6MvA0EXWqqkCbvPYGPQEJxX1UWQdpAzJEDKMqQk6wTVT4zLv7l276UnDv3BKcN/8rTRJIPh9gkox37J8nw5zVper8yTQvpjdXxu+97ulZctjBTyWEQjpCsp9NdaIbS5a7L7i7Z+7lyILFcs0axlbZFW2pyaLJG1QoNgWjDtIgAiyKrtXQhkwcpYgtIIySkajUZpUGlEAKKRaKQaW3wGu7YtzdZNasmJu+D9YFC7IoVVeT/yKRxU9g1or+9DM4SecGMdU8jHa0EbvPK+qff8cO+WMXnsauvTF6255MQhRIaIw7aXbpiW3rJYJmuL5T4AUjXwNAoc2uwy7cTK76SQpreZetTTLunGXNf6uUmIrMXUn3uHbnmvUgcskSaghDT9kNpH1j19zre78htKWrpW5YdHWnHqAkCs6+ato4QDAALGWqE2UitptDEaNQWtmAKgpBxHdP76IAIQIil1tKldcj0V26IuAsZq5ixlFBih4OArv6zH9sXTLUq/exDRl1PpetMftuyIUKtyFBNoe/rCqQ2AsU5BB3p0n37XD3a+7Kkjrz5t9I/PGH36Jvefbtm136cK/V1TO1ssBBG3T23pvjJpYdBsnXg471ocpGj1QcStE5vzrsVBOq7PCmkBrAOASPlp3VEyby3Hk6mU1j0IAICT0f68KzIDAgKQ8WBP0yNtXlrhrut+2Gxs2bWYC4CyIu97vmYbwWwAVC3noSdUtH5wB3BqIxhlOt671KmSVqcZKGW6zdl7Sg1KoIbXJnLKDJpaygjO/s/MfSr+bDUCJLcZ96WPgKX6Rl2LMQAgQCzGDRjCEKg2FDhjFuOM8ciEpapIThqla5U6eMD82AcC3qxffBREgh408yiUa4c2ZPkY7fV3DIkRV6S2IqkxKAnHl4HNOrHDBTJklKS4YefqB8p3b4//4lnLjl1tff7ijd+7b/K6hzkjNmvN9X771JZ1Q5tmAvfnyGyX2Drx8KbRY3OtSiX45MSjG0ePyepyTR4MbeTu8rYNw0fkUpvq0TpS/oFobG1pY+Nzaw7zo86MAd7h3qbR41q/aAN8ORmo8ip3/YLvGxfSzBm/83Mn43Ft1HJndXUhHS8UNr1ovbMAYDzYw6kYsZe3clasIwo89Y1ylfjSp4Q4qQaU6oZQhZS0MThzYLEOLdYrL5FYx5QQUZgIGsooRhnJXA02AAjIq54ZhYYTWl0dljgmE+CUGgpIKFKKiIxSTimltEXFJhmhujIlIqA2BAAX1JJS09n0JclrmxDIQJB5nZXz7FsnTRD1sO0hotIdr8+mb/rdekC+/9q937hzkhB41amj7z935VErBzuu+5FiLQvk4gy+RHzeu9lU2O6pnY24FrMRUOq4o7P7l/aka7CHoXESm02RBoU8X9515dCzbekp7O/zpc+T6JQzHpgAABLD7mMoIOIC66nCyBFZu4SnC6GSEjod+zR3k898NML/3j/17mv2PLovPnKF+MQF6y99qsP6SJctWOyG/CiWFCpr07HhpOMTOzi3pvyaFtKZF1fTcxsX0oGONVdONkohp5xRXhm+oVi9swCITDKRDMSe0CR2Q9pi6lbB0qjoPC+iRF9Gm6egPfixz+aHZnCs/jarGIyHrJIyCrCgMSa2TagP/Gjv13+7HwD+6PSVH7tg9cZlRTEv9yX5DGzFGk5TeZdXaxiNi01Fsatk0ehYbV20+3MpoTZ3BuEb6sEoj3UW8cOKNSjkR5NxI1UxdatgBTKmCwpBVBh2v/XUGE1w3qtdQ8RZsaw+7SI4AYByHKWY5jN1NMLVDwTv/sG2LWPyqJXWP1y0+rKThvvGlDUYRWYoliDyWivMeJ0xr7XCjt8KrZ9X7dbb1jUd7s3pWANb8wJ6ukpYyUDsCU3mQul10K5e81LLBQ5SAGDAeGms4vlxUKm6adB9n3YQA5c7oYpY5oGvOmDruPn7n+399t2TiPDq00Y+fsGaTQNT1oAu6J3y0aM0Mn2kY3VDZhV2uBfpELNSJvqIbFYJEwY6VlNSnAB0pWDV3F+KIClhXVZQG8NhnhZCiKIFtvq0gPGEDQCR6o8QU5Twycj/8Wb/PT/c9vDe+MiVYsaURfvBljWYIwMUUArYchKbVs5t0WyD9SPCtHJuJd1k4Ol5OPtM7FhdnmszRxuVBO4pXO/Mj8xWCRNyFHtxWrxB96t8zJPHquMnq3OVJVJh9TZ+hXIuvEI3sjTzI64qjL2uw8Hni4FIMFGOfVZl8yssFByp5YFA/M2Ptv3XHRNmxpS1+rDlA1PWgA7p8l2e/QCdoh2r1zpWi6SbJLHdcwWzCBCpe5KGr3/JbJUwoTiKTt/Qkcg6jxSAtdLs8AXldVQnbdQChVGIHkZSyQCDatgqIaI2/XUjxJcxAFiM/+DB6Xdds2fz3vjIFeJTF65+xcn9YMoajCIABbQUpF6bVgK3LI7YDU1NaC1OtfPVsehMZugACtg7cyLLVcKEgdgBoHWn9s7CXXToM+7LgFbldZYYDYkqN6k2rfOIqLSqtI1JDId5f6cdZFQTQiajadoXOf4qYMQJZOgKJ1LlHZPOh36894Ljh15z2sgfnjpy1ib3y7eMPz7ew1QPKdDx4tBiYyCIrqgUH2l5pJ07K9KhwbqpMhqgdGzABCrlxBUOL9X0XOuml7R1LiHU5m4oy84gayEAzK4S9i7iaE0Gg0JCAzks/L5NHasTBUsZxYidRI6vvK7D6+jg7TRjOSpXHo2Ant0HLuEN0BiN2p7UkkJf3kis0RFYshxfGoP0Bw9O/3Zb+BfPXP6UNdYnL1rz3Xsmv3RbsR/SwSgyw0AQXdGxjmVQOdzuLKc7JQzBNEiz0Rm+9K2q3BsJmelYAOCIUqR8m7mYbiay/iTjVcKEwaCQ0KKOhbNeWQRaElwnClak4urxRWHg0Pp2ptaaURvFwAY4GPlXQ8QaFNsPOJwBgC8j1m/mqwRGrHLsD1klgBDAAYCdk+pvf7L3/KcMveb0kT88deT0Q0/7ym2TW8cLvDloMIrMMFgW6IrO+pE2scU8aWKp2zb3SqMAwJfl9i9bG0Koy12Hu8poWieJTa91rMrXh829WIecCkqShGxLl+xXCRMGo2NCG3as5OAGMfpm4RojJMag0lhb2UIAhTOJEhVGsY4ppZLEhhgNQAkBgkjQ5kxhw30QLYzt05EviG1AAxgN1IB2LUtjLXfItuK3dIfFbAM6qYbSyuZtzCY1hkO8FMiwT7WrBERh0AxZ3lQUUSIAwCD88KHpO7cnpqzSP1xUuvLeqSvvm1KmqK/wwSgCAMXTsPoxqEHr5isAUCZyhYeABonNStBmtTX6CJicWF2TptS0C4UqdLijTcSoV6+QLHUsizlKx4YY3lHKvKJ16Y7JZZUwYTA6JrQlhxb0K+CCidgoRCJY3c5tMQEABIhgIpKaUWaoIdRwKjgVjHIFAW/RAF6/LrGOLeIlFyJACWGMotV1wNLuoYQxygQVhFBBLWV0MtlqCqIZshwAkBqL7xHeAAJsKvJHnSHOsDIv+85J9aGf7D378PDyZx75ylOGz9rkfOmW8d/vL6pX1mAUFlk2XgAAIABJREFUKR792CBtvdETFSeQgcU6D+PXeZgJPFiHiioxBHSFF6qI109L3HhC31gI7VaYM8ugljoSzIb+7BWpkMsqYcJgdEyoJ4cGfb7BiiE3hqIBRGJM3R2FxsycWo4CZiypJWpADWgANUgVDznD3VYfII5jQTgAEKAEqTF6yB4qgkGEEQuQGKSx8j1R0hi26qtOYkZL03G5M/eLQsGIE+vYE+5EWK4MlIoI37l3x6N7ncufteqEtfYnLlzz/fumvndvUU1Zg1FkMVJY/51Y+57wtNGCOZCte1MDOBWB9D3hNZVbljoWJYxSGinfruMcthTIa5UwYTA6dkw90bVnWFmQuyZBsDZjPdR6Lv2ovCAovC0KkxVntsIWc6WRLveUaZ4f3qAcsjyDBs3iiBpFAikBwBWiugl3TqkP/3Tff/xmQml8xcnDn7pw9ZErinrXhVT8Mmcx7I5PN2tY6iCYxAAf6YjMBsTB7kKtVtLGWkZVpETBbG20zey4WYrA3q3h1pADITb3IuUjFrxte0XGEUerWZpiX0CLMUgXnlXrtDZ0I4OmemlMYmTVNzLXZX490Bgw89UpioIXMCAnkVpBazNmzpAQMhX5pLX1xHZr0oMym8CI48vAYpaBGl5xiPCj302/85o9D+6ONi0Xn7hwzatOHRHFTGE4GEUG9B6pA055rGOLzTN4F8HtjBIW6QgALGY1zV2TcYVt7kkTGeyPjBepk+MqYcJgdOyYatG1oWBVR/NDQFd0atKsqEs59heobla9iA95YzEnVKHN7FgHDQ7TGHnCjbXsi7SDraM0QcQhy0WoPfztnlIf/um+f//1Aanx5ScPf/LC1UetLGRTDkYRgMVhx4JCrmsYlK7wAMBgjdWDXHSsBUYhi3uxjjnlsuFQ1uVFOztXMAcRpY4XQ+9sk3xXCROWoNjbonU71kEFq4NBymDESBcLeQgAoLTkMM9YRUhLoZnzgyKg3Wjmh67gABDIuJCDf+dQIqZjnxJKSF1PdkT48ebyO6/Z88CuaNMy8fELVr/6tEKasgajyAwDQaSPQUWAhCrgNH1LfCo6FplR/sAVnjHNg6BmrGMxyhnlSbT3JQWjPC5AHqHBoJDQQA51dayK0+ZZsOqdEKoaq8IGtCO6Dj2AEMTztBCNkrXr1JUtnIpQBoxyaWovlhuILGb5Mlhk5qtZLG30kFUy2MgRbfeU+rvr9v3brw9IjZedNPypYpqyBqPIDANBpIkyocNdg5jENOkFqehYgtmhCggQgy3t/O3YCaz63FZIor0H6cUAy4BUHqSCLI8OBoWEbnQsamYCsqMBY8BgrY+e3UWI83JLawCseXzrn1AFgliVt8B4wc1XAACMWga1KzxtFg5MiLokHARUuuh30RkE6HQcAoDgTW4QEX66ufyOq3ffvyvauEx8/ILVrz29eKaswSgyQ/8JoqiO0MgIBYBQ+bQbA3/Ty3TqL1/p806JMIgOd1XvfatrNlfT+juiFKogd8+k1um+VxZhlTChoE9Y5nSsY/E4MlJrAyZGU7OgUJWHxXIAQAQVG9RGSxPLUKCIY8TIMGJI51GeZmZ4sQks6iqMhkRJRs336OULJSxUgSc8A5rNz8lIqGTUmooWQ2iGenDiRCp2uTOhyk2tdHum9Ueu2/eiY0p//LTRlz51+Gkb3S/dMv7oviI18WB3cn4svhE81oEnPGWUYD2PLdx9z2WUh8r3hMdoFusGNSvcNOKDzV2lY0NIZ5FI+45klbCT3WM9YDA6JnQwUiEAbWz1RTQMFzYzArA6ORY6xqKORmlbffP8WMyVOna5K83B9XKDccnytNGARZmC9AIECJUGAE9YrXQ8RPjpw+V3XL37vp3RoaP84+cXz5S1+N7zndCvPu/FiYNlUDs8iS0sSTtbiDqmm7XCxI4lmKOMEtRqGrKh+4t2fC5nFiE0quWs0ovL5U5BVgkT+lSGmdHAkFxjCKg8NNIhIQuP0RCx9GcSRKMUBYjb3joKDQDwCvkIRgiQclxDaIuMJEGhYMJAq0Pe3mn999ft+9dfHYg0vvSpw5++aM0xq4rU3INRpN/A4rWZNhElNNJRBuartKCEJkkSHe60/l7PXseihFnc6cAlq3C9pAWKZqvrRxkWgdp6QKKRaSMZLDRfGTB2D/bFAIBFvTDupz0jgtqBCgSzkpANGkNXOJGKF6lv+0K0YYg4ZLWxuIAAP3u4/I6rdt+7MzpklH/s/NV/fMZogUxZg1EEoH/tWLmjjUz2/RTVOawGiR3L4m6kI0qobmf/WopBU1unM5es/mmQGTgVsoVw1lnSdzJshXZvqt0YpDzQkxq1QeXD5ILfpJEUGAAQlACAYEKcAkAKRGGMaBA1oDHICFaUXHn9mg9fxaIuA1HpB6p1nzUjBYaANreVUZ6wACBUivUksugC8hcTJXwqLo/YQ8ucZW2duLesP3rdvnOOKb3uaaOXnDh0xqHOl28df3hvMUaTgcdBH1KQFkPQBEQgfdFF2sG8SJRCR7iRinnLKwm5JP+xuSt1RAnjtPkegjkHr757spWRxfF2T2hdhonM+0vgrdO6HPhyb4UvyxrViDVa+YMvfQ9mvkm8CiihnlVymFBExXFkiOa2sBybObxjJ3dlpJIHa8uIKMfF25Rb/+bYTFav0oQcG3XWlWOfkUJ4JmYDBUcZ5YmhSKm2IqIhwPWPlO/ZEb757GWnbnA+ev7qHzw4/a27JmOdv+LYfyNxT1jcI2T6SBO63DFoWMFeiq2ACILZgfRd4QFkZxyae9Sa+rkvQDDbGN1ivKg+1bG6ijHZM1qUISIoY6xiR1zqhnpyILO/JtTWjBAQsYYZhtKUuyinQs3Pu0KNaJq6oVAI6kQ6WltaHalI10+YvUgh5SRkQ0c2u31l/fGfjf3LreOhxItPGPrMxWuOW12Ml1MB1LxiMBBEiyCnDABCFfY0NEPvQARGbYPG4Y7MMB1exz2MUiaoVR0op0eXyx6L2bpIru5z9JEMe0orsRtqKwTluFytPiOgw9P33CxZXqVnJSFUaZNcry8ghMbaZ5SVpd+7uIKFhRHXoLa5pbGTQRkBbnjUv+Lq3XdvD9eP8L8/f/XrnjZqN4uwlQV90v16Tz8IIu/+EutAUCGNtPrHt70aSlgSU5pTlqUfWedXIiRUZanDtlyy+qFDzyALENK9Jn0kw4P0oNJNdawaCpZCxaCGmzbpzWZoQijQBYkaiDF9o2MpE60qrSjHZYcN55sIPS9CZQCgZNkdmx7Hyvrj1499+dbxUOJFJwx9+qI1T1lTAFNWP3S/TCioIAriS25QJU4USqv8db3usJgrjRRUNM61mjrdtCSjXBul2jFl9cs+jiLH3O4LAWZAYx2rhoIVxFFNXYr0LNyMZ5X0/LwrSs/atArfjAiSAIm1pIQKxvugxqmDTBvNKY9N54MyAvz8Uf+Kq3bfuT1cP8I/8pLVrz+zAKaspdeYA9pFm5gSGqqwj0Iz1IdIrSAJ2WCKuD5VE8EsStjiS1xoMbuAsUjmKG7NsqWBHBYqWJGOBF1ovpq3hJdareYh+HwvHqSBnI16V+xmZMRBxFFnJFC+oCLKduZXCIhklMU6trvePDXm609eP/alW8aD2Fx4/NBnLl5zfO6mrGJ3v3bp9Pkt9Jw/RzVcmcgVHgLWc7foOyzmhiqkhOqChQloAM4mLgyVj7UMm/W2sxe3TwNA4n/SfmzVLGkkwIILN1Xq3evCQUGqGqs8SOZZX3sxnFncVvOdeFDTg9UucFNRwqdjnxIqGDFoXO4WKghv70FXWAAQyHTWRxDgxsf8K67ec+e2cN0w/7uXrH5D7qasAne/dllEt1KIe0ms+qEMeB9uHqwPRUBXuKqoPkD1cLgnTayMqv4pb2N4hxTZgpVQ9PplRU05zFOwyrJcPUwojEtioWWiF53VtZzKzkQJn44qQjYUuBkJWsqoIasUap8SqrBvZn7dozEkQAIZpRufYr+vP3nD2D/fMu7H5oLjhz578ZoT1uYa/6LA3S9Dij/nzxSpA5vZBg3rTezlvODUCmUIRcpB1ApJ77SYTQiJWnaHLXifFsXISNiYIgswS6rlcFDBMmgAa2yC43ViXKX+6DHK9fyQDQwsjRVzkbyasel1CS3HEQC4wpJGutxT/WNd7wYEPWx7CGh6EJ8CAX7xmH/F1Xt+uy1cO8z/7sWr3nhWrqaswSgyQ+EEkUufQDSCCZgJzZBBbOFMYdQyaGxmyz50bGKEWcwJZLlwPbV9GGGF3UtYScH11MxYIISD78Wy9KtDkEsTJhtkakK6SJVQk5JdMhUaFQEaRPMnIkVtQ0acUEUud5SJSL/N/DqGEEkJnYomSc9eMOO+/tQNY1/85Xg5Nuc/ZeizF685cV1+U7qidr/MGQgCpAk45VL3d2iGesyFbBCszwIT4mwQSFeUYh3qWsuFNc8qLApbuoUBBaGyL80oWAYNrwrNgIiOaMmxIC11ggAhbN7DzIkTqfn6ey6PQgsXjZQBgGHbi3RoM3vRh2zQGA9ZJW30VLQwyVK6IMBNW/wrrtpzx5Ph2mH+4fNW/enTlzl5mbKKPBJnSpEEkfmERqNyuAcAyui+de9pgsVcqSWnXPbhxp2kd9rMQYC5gO+N26lIHXoevH9C1+LAlAUAlZHck/8ZQ6pDMygIRcs5vdMaY1zhLWggqap8xgvZgIxY5djnlANoALD6bebXLhYnADAdhyaTeETjgf6Hn4/90y/Hy7F5yXGlz16y9ql5mbIK2f3yIGdB5BgHy5iYEhKoQLBFnNmdKNQA4HCvRTtQAeGUC2qFym9+aO4dug6C2f0o/6IJM+P6JJejAKCNAVzoQ6NRVfu2NyYtHUtwUVkWJ5ZfnaCwaK0HAADaMINmxB4KVJlTLs2iNWJpDFzuRCpiJLsXDALcvMV/+1V7bn8yXDPE/va8VW/Ky5RVyO6XB0tREHI2NEOfZsVpHUGdUAWUEIOy70wTc/UlhDjcC1XQyv7uYt6lXBpOvTnQy8bGZDuuqpVhlxBNSduey6m86yhhhOC8ogyrYQ0q3nNACZ+OfEKIYMygdrhrFuPyOQJ6wobZGO4ZcyDQn/752Bdu3j8dmRcfV/pcXqas4nW/JUvGKjYjBAAC6bMlkBqLEI6ALnel6QNX6wY43DVo+sJhvBrSn1HWlvgYKXVIfVnDdqow9to0X82RymDHGDNgDmZMJLwc17LxFq8BKThSyyHLC1VACV2kClYomCjHPiP5xP5BgF/+Pnj7Vbt/szVYPcT+9rxVf/aMZa7I3JRVvO6XB7nN+XO5aqx9i1na6EURt705jIgk5jMr7M6dhv2gsndyKgS1ohaWC4tmx7KY3Va+xeKwhL2ykFNOSa3QDIJ1pS93/yBSQgyRlUUxsGtnmypa0xHiyxgASpYtdexwV/X5zG8BBtWQ5SGiNjmvj0yE5jM37v/8TfunInPesaXPXrL2pPWZm7KK1v0G9BIEY3MbACId9alRoQMEc7XRFrNi3ZInU6EhxOZepPz+cpAlhPSp7W3JEuuQM0GrI7hIE9pdBzfrXsfyLE/hQR2LAAnjOj2sYC85RpxAhja3k4ijtLAzv45gVFNCp+JyEWL/IMCtjwdXXLX711uD1SX2oRet+vNnLCtZ2Wp+Bet+OZHnNDWzB0zqkBEW69jqOitUH0GARjoCAJvbMzsL+q3PL+idNve0UbpZfugGfTp7ARQ/pHtjlpQdy6BOZmILJ2EGjSvSMQN0OeoRIIzN/RtgJmRDHbfxgjVdrBEBR5xSqAKL2Rmnpu8dGuOS5UktaVVQjxyZCM1nZ01ZLzq29M1Xn3lyxqasgnW//FjMgtBGutwFgGy2zRYKi3mxjhlhjM7OXvpcBrzr/NAZC8Dqh5DuAxKUiZPetXCubyDmtJTWZUh3vdAR7nQ4LYgzV5RSxq5nnsBezWQ7uIUkZMOQVaIUEdHmtjGGtL9poGjYnAKALyNGiuWAkpiyHtgV/enTl519mPvBFzk/e6T8X3dMBDKrYbBn3a/fWLSCQFCEiED6YimZr+ZI1EqbuwddNfqtqWc2FR7cXUht7kbKt5nbIJRag7vMUgCUsFiHVpHCgmhTM7M2wKy9qnr/nEGQiC0JbcFBNS9Emh0wewwiIKKs3imHRJoaZyqDM7U1aAxKxOQbMEgMUoPV/WXuC42GEydWxqCYp61oVCUr5bGjax3LVgoJkKQoRiw/LntWHRWwSA88GmHQDFul8WDaE6XIlPt9WUFjOMRLgQqLpl3NMRGaz/1i/zFrDvz1848/95jSaRucr9x24O4dWQXLKFL3y5XMBdH7q0kTutw1iGxRJXVuA07tWW/3Ct+AOZ2lf1jwPrK5J3VEK41zdU6pvMu591qWfV0bDfn7ZRyEkkZLqIiwMM0eATSEkvQCA9dskloHIIAGUp32zyDW9OFJjiSJhw+BuTpTMvOpOGnh6RQNpSxWkWA2D2OVhDIKY0W5jFWNTkbAAAAiRkqjNlJpqbXRxiiDSjNFalS8zn22gqAOARLrJGYJjYzP4OCghkhDElOaXUcT1AHAuDre6QKqtOl9/uSQ7REKZRUyagUyrL2vu6ZwcN4vlTq/oA6CmZVPvbIWzhJaV3NrVseA8Swr0mrH1M4FC7WIuH1qS8vF95zHJ8yd28ff9bxjzz16zfvPXXn1gzu/8MtHp+PctnMaNFsnHs7r6tUgYnHqgwCAuHVicwfnCkYB1gOA1GFnJdSrT1kuTE6wfvgwZYwvy4KVdEv+0XVVj+q3UoPJeRLIVJpGg09mL3gEbjFGCd0++fuCpFtFxLKcIl073xNCl7trHT7U5LBm5VjMQTTKpOpBP6s6UMrbLZlTG6GT+pB5/2t63EIQEYEgWdi1GaUIphN/slZUjPrH1LseY7UiQM3DzN8KWb0tcl7ZsQpcyzNGMsoQDHcs7ssyAFiCD1m1u1eyMEQIsTkzhFBuCGPGAOfU4oxx1lzBaucFX5ZlSojLZ+w93ClFkaxwqWbShEOi4ZOQ6pBTjn1GiCPaNttYMMSJ8Zzh/f6kwx1AxdPQCwMZMEozXpJHkC53puPyWm/Tgp+2T21ZN7SJFSbo4tbJh4fFEf96q7xn+/4/e/qyS05Y/6zD13zltgN3b8/KlDVP1cYnJx/dOHpMRpduhjJqT3nbhuHDM7la8+cwVP5ENLa2tLGD0ufy0AvmbBo9roMSqinLyVCWV3rrK7+Mte9yRxnliaGMzTWB8hHQ46m5bXQHC1WZErp+6FAgnCwQRR52rH3lHZ4Y9qzhVEqLlG8xp7EvR+NVqVCFlICd+kIeAQDgYGujGljaqol0xAjlLWdkSQsEMGBYlSSV0ZzSen2ldz2IACBidagRZXTNl3Ji1iIEGKGEgAFqCAVESigjlBJanfkGAADQEQ4jNDLKZi5UOrlbrLcvyI5lRwlFOs/8wMGWuuH8qSgOmCSQEgCGbCfWkcNd2Z8JCpPQDAYN1grqUVh+9UTw9qt23/J4sNJj73/hyv/zzOUlKxM3uKJ0v6VCT9/sBnWS8F5q2WeLYT0AERCMYKIfExQ2JdldqBq/XHKl/0O6N9oh0u8DZ6STBPCxPRskb+Z9QwhYrOe+BR0PTp5VSkI2zJZDYtlkh21B2ooRx5eBxSwDCgA4Y3lmUOsUzgwhZCrySaFcAFpgKjL/eNP+z9y4fyI05xztfe6SNacfkomXaP81ci/o7dbsbGSsTUwJjXS0RCKLNgYBksmtw52FmWcWxUZ8zixORSirkrPNku9dLrQaLjr6NzCpRpXsMlYVC/ocAAghgmXUbB37vHNOoOJx5sQOZdBk2a4YTsdKE+Q4YpcmQt/lni99q69Gao3RkEg2aRdoA0tb/Hpr8ODu6I1njT77CO99L1x542P+f94+UY57HGmwGN2vAKQjiJefNHzKBhsREBATJ47ZoWTdMH/fOSuSL+f+eyDQ//6biS5HamViV7gAgJjfq61wbxsaqsDhbqynHJ7O2lyxIMQRpViHnIgGzr6NLTE96iyi93aQgtB3w6c20mIinP9+5wDAKKTn1t+cznQsmzvTqizIQccjrQFFs2GvAK1EiZiO/WG7xCkYNA63lTEd5HnMCXQ4B4BAyv5VsABgKjJfuHn8tseDPz97+fOP8k5Zb3/lVwfu3NbjFdvCvRrzIoXn8LfbwledWvt17gpSbZjsXrsCAEqYRsMIbSVP8NIhcQOqHcu+AENuKljMMagjFdi8xny4adeaOyBdYXQQrKF/B6EeybAXzCSAx4UJ4KlGyWjWL/vO5OVYVuXuA06EXzNB4QKK0L/Q0qiH7FKoA0qYxr5JemAgsrnly6Cvtas5fvNkeMVVu2/a4i/32PvOWXn5s7LyyhrQ9XP4+Li89fFW/X72TOufPZJCXhdKWLJn1mKiv5Kr9A5CQFAhtbR5nbgzRRhy04ASlgTK6qbpUxeGHuj6xSNxig+Uz+bvJ6DdZR3snA50LE6FgnmqCTVCmxa23+f9wBNCp6OQAHG5UEa53KudV7FgGNQl4SCg0sWfQrTKVGS++MvxT/187ECgn3+U9/lL1zzt0B7qjnl3vULRrTC+dc9UraCAtY68e1K1eGgzLOZKE3PKY7MI3brbBwUVAKBQd7Itvg9JPN+7SQWYrjCKs187MwrumBVp32K2MrLaskgdnlsA/g5e2iXb03hQo6KEBrK1VZ4uGicV5YITJ1KRKxxpQgAgpEBTonpQKhll5cinNcN39TN3PBlecfWem7b4y1323nNWvvXZy4fsnkw1ZjpPkYeHTOlKCjsn1Y2PNbdLPTEuf9myrasFSBJGyOXzBp+lCSUEgIQqELTZtGQR9XnOLEGtSHVuE01RRRDMMkvVmFpITQuT3M2hDKsXzXNeH2lXdyFACZvXtwQ4cYtzi1ybBQFCpQFgyHIjHdrMiYsdssGgLFmeNhphcbpVTiemrBvGxgP93CO9z1+y5mkbF8MyaOHp6jn87r1TTU1T37xrKt2tuoI6gQooIQb7fZN8V0gTEUIQDFl6RhQgxOZerMKW1kzq033HJEBafeUtXoqkY5FkXy2t5Wo191VuFW5Xx3KFJ+cPc1K2vCada7MwYpdjXzABoAFAMF6sfjIfwYAAKcc1tPLFxB3bwiuu2vOLx/xlLnvvC1a+rQVTlsM73RJSvMlXTnQuhb1lfd3DjQwJD+2J7+pBRFlKOAK63JNm6b7bkjiNiFg7I0VNFleft7hDCOkmRTSkI49FJNNOKY4IKBWI6IlS9Tpy5bukb3Qsi8/bOsuJlSTJaolcm0UbhojDdilQZUFFXNRgfRpDVziRjilZ/Cncy7H551vGP3HD2Livn3Ok94+Xrj2rvimLALz1OStOzSaY1oBaXHn/VKTqPsbfuHOyF484I2I2E9/i8Udsi1j7FrMQjerOhNPvFMHzPfvI7MWkIDoWIzxQPgDQqpQ2Cybr/aFjWdyWMD8dnqZtVD6/ZqGET8VlSqhg1KB2uFvI7d/oCQsAQqn6YYdsOty5Lbzi6j03PuaPOvTdL1j5V89ZMVzLlHXB8UNnbXT+4JThzuWyuOb0ndK5FA4E5ke/qx0H8o5t4ea9vVrFE8zVRlvMinUK+xP7CwRjcxsAQlXuJJHcouvzNvc06rw83zkVfbFNKgMK4pVlMUcZaTE7mm80qX6F9IeO5VpOpaMfI3w6qht7twY56lhoK6OGrFKoAkqoLp5Xh8ZQMFGOfbYEzFeVlGPzpVvGP3H92H5fP/sI9/OXrj1r07wQOEevsv74jJHkH90asXIfEgpBh1K46sFpXy60HyDAN+9amKQ5RQjQSEcAYHMbYWl5GUsdMsJiHeOSmXE1hVPRved7xwwUrAXkO6ASoLGWAGAzq3JwqOlu0gc6FiPckLiyohzs9vpcXndJaDmOAMCzbGmkyz3VpldHrzOvDdseImrTZ1lx0uLO7eE7rt5zw6P+qEPf/fwVb3/ujCmrZNF3PG8FmzUCd2XEGtAd05G5+oGFE6pfPOY/eaC3q1cWS1IasD5NKtoZGmWSA8R0uXdg8U0qCLG5J/V8z/d2brMLA8xg+FlIvqYsm7mRChnlldvX6vnz9oGO5dklgwd9MQiQMG7TYJvTXTLihCpyuJ2oVrRIXh2USkroVFymS3Cj0Czl2PzLreMfu35szNfPOtz9/KVrn3GYe/mzlq8uHVQ6WzRiNepiRTBt9y3X/m56Mjw4U1QG/+eeqVRKbtwmBhEBXO7qJWNCQFSEkED6nHZt0l6MHV4wh0DWnu8WsztZq82KHF9pOQolse+63JsbHBpsmCpu4yUQIIRVZiQDQZwk7HIb5HSXsTIAMGx7kQ4tZhfE211jPGSVlFEUBk7ccPf28B1X77n+kfKoQ9/5vBVnVnm+D4xY6dH2cxhI/P7903N//mSzv7echTsjp3YoAyAkSd++6JEmdLhrEBlNKVxL0V8snUAps7kbdrFcCG0KhhKaRAcoKAR4lcd3ZuQ1dRXUCqRPCJlzrW68I73oj4IrXIURVFRUqfZ9I5rdZS+kQIk1HZc55QQMAtrcbn1PSu9axeYUAMpxNLA/J/ix+cptB/7z9omav6bgiQUDO9YcbUvhJw+Xx3wNAIHEK+9Px3zVCowKRHS4mwQNXsQgICcMAALlp2nSXqR93uHeZDjWTSobrPg0peBhb6u31EG2zZ5LF+PUQjSOcJOFwqYhjor+HNhCJJVMKsqJ5cfteLsn5HGXaIRBM2yXQuUzwnIfrDUGDrdDFS2OtINpMWTTC08YqvfrwIiVKu09h1Ljd++dAoCrH5y3XNhrKOGBCgCAEYbphjQtGFIHgglppM3qpB0cMB9ETQjpMojDTFHNDliCOXM6Jrv0J4QFMgAAThkAthJDMhfto9UDBbPmEhQmJxHDO8kkkPldEsKmIp8QYjGmUbnCy9GrA9GULAcAog5MgIsXAnD5M+e5Xi3g6FXWaanExFqkc/r2aU8KP38s2Lw3/sGD080+Q7HrAAAgAElEQVQPTRWbuspIwYRcvAkKDWqHOwAgdW/CtSzSPk+AJEEcuo+33lhCgtmFjPJTIHLpYjZ3lZaCWZEOixukuw1vd8ud2xiJAJQwP+5oLTzzpmDEibUsWV6kQwIEIbenBUnEKS/HPiOLMzFOZ1x4wlDT/DmvTNGItRjfNz1FG/zoz8bC+nFHewUhUisAsLmzWF9y2sSU0EhHFnObHz1gPpwKi9mhLPfOlEUA4mZuWIMRJQ+INBIAHG4X2sZIWusflDBDQoYzO1wQgIMtdSxY+7oCZux9RAIZWUwsc4Z8GbiWiHVgNau2hcioESzNYd2iJYNGG5afY2LhOGSUv+a0kaaHJUasO9NKz5J1DywgM5boFo/OQbsCAACLubGKLG5HJlh8KogysStcAEAkve2Q7bV2n+GIkjISTSxYV3bu+qNC32lQObR09jKymBupwOZuoRUsaFnHKlmlchhUZMgikYw6UbAg6zccI04gQ1c4nDKbWQBgMdF4SIu14pTand1dfSbDMiOL7T3RDdsn1Ou/tXPjMnHYcn7YcnHYcnH4ClGyahh9X3vGyF3bw9Qe44GOBdAXUpjZlS3cSMU8rU12RcEAgC99a+B91R2cCgARKd9mLnQRkaemItqXva4PnuxUoIDYroKVg77coo7FOQF98EhOnFAGjuhIY8i2B2gjpkMFwPfHUw5390fTdsMJ8e7y7uX2aq1T3kIy0K6qiTU+NhY/NjZjhycAKzx22Apx2HJx+HJx2HKxYYQTApuWiTSNWANmKPpIzKkVyMAVLiyuwO6xDjzhGjQpBL5qkaI3dbfY3FNGojGCdSXSBXLilCsjB6kJWyTLXsapFaigAwtWQXUsmzvTqiyIDbMHaw3QccfL+IEnBAAYsQghLne0QUIauccRQhb5gFRIEGDM12O+vnPbjC5lMXLoMn74cjHipOrOuKjXTdqh6C9eTi2DxuZOIBfJQiECCsYBIFRhpuarxd7nORWAkIopq/LkgYLVFhnrWDMKVpuXLKiO5ViWkgddBhgR5bhcskodXnK2KTJrD0Z5IH1PlCL0xcCe1A/EGreMyS1jSyWodx4UWseihEXKd4UnGEdEUqSsDJ0Ra98TpVjHYlHoi1nTuP0J2NxTOkbAbkxZhX4kCk9m0qOE0blLtkk+OlZjOBUKosqaURRd7fHJ/C4FdZRRDncHuTwHLNZ97O1TaCkI6kotORVx/4dsMKhc7gGARtNj5/Y6LIE+z5klqB0pH7oIojYXj7Qv3bDyJrMu1o2TexHtWCXLC6J4LugwAerHwZBdN1Bkc7JN+EQIjXXgUY+QReXVUUBOXnvicndZ76+DY8HRK911nRcw/zW3rrRmXzCmTIfTBmP0RLR/ubu68/p0xBpv1UQ0GVXtKpc69uX0qLOihTKyeN9Hyo91NGwvT/5c4S4PVejLJpqTNrFgFiBqNISkmSVd6ggRLd7eHrQRexgQJ+O2w4NpEwlmSx3XS4xTjicYZQ7vYkRtyCNjj+2Y2tWjwgtESqYsAGCUK6M4Lfp+taVJl61SOB2LEApUA/K5wzg4UkddduIssZgb6chmji8Dq7vNvQMa8LFzPzDuH4hUt8EAm5Kuk8SmZYdOhJMT4WRB6tMiG0cP8WUw5u9f8D0iGtDFiUmNaAwgm1WSDh3dEGu5Z3pv8xMBKRADKUc1SCLFt7vyuGF0PRrc2bamMlP5BgOsQQ1AaEMP0Y5Z7i67a9d9H7v5c4veHyuBMysVryxl4oGC1S7Z6C7dt0rhdCzPKk2HvqgImBlJ1Z2ClfWSNxoABoLxwWp772CEfuiHH9+855GeXgUBd04/vmHoiBTKIgAAN1x+9XfvvOrrd367szK0Ufv8nWuHNqZQn3b48Zu/+/PNN33mF/+84PtIh5PR+Gpvfcsl9fZx8NVUKP0V7trkzyvf+PXNux5937V/1/REY6RgAgjEqq75pwNCHSBismzXOv/12n8JouDN331HW2cZjC1mBTJo4H01Ee3jVJTEaFslt8gbn/7aI9em8aTkSLvvwyXoldU3FU2BVCYihfPHsjhLOlxyGCd2ILvKcw6Q6V1yZgXSF1REuu+9OgYMSJWCeuhQKkIVAnRjicgTqQOLWdpoXhxj/xLwx0rgzBLMDlW5M68sRgXUyxK9NATYDT2VUFqW3mLpWBa3Fc4L/IiaplDJDO+SUcugcbm7WBNxDGibJfO+aUZBpcCpZYwWzJL9Ni9CMIIJAIh1TFJ7KQxoD4eXlJGy/QyGnAptUg6LuOhoNGj0bkBJ8Vkqlo7lWg4CztmxKOHTUTmFS2Z1l5SwUIWUUI1Nsk0NGLD0KKKORQhNcsMJJrCvQo8qHXLKY91tRpeeUMSm7hWJKStSfrsZDJU5+Jqobcoa0JAeiSvdyUqBdCxGuYao8jAGlsY01Pys7tKijjTS5Z5qltFzQGHpyXrRYOwEKKYUBHOkjhnlHdgh8sKgSjJeGISCOsgsMX3B5p5BE6k27KA1xbOUZJYCvRBX6tbgAulYJbtkKjQqAjSI0svImwGESC0BoDdbdgYMaJ1iZg4o4BuEGAQAcLlr+mTVxqAiQEIVDiIqFQdGuc3dSAUtrv1xMgjmngKpDyizr+40Cy6KjkWAEGYqa8OJk9q2/Ezu0mJuqEKb2XG/eXUMSOhVN8l6To9F3ahUOB2LUytSIRAw0AcKljKRwx2DSAsTKaMuS8yOBQA2dymhkWq+Q4uzRm5YS09ynZOuoHpkGymKjuUKT+G82O5SpeczntFdUgCwmNXuqvyAAT1goGM1hwJHRJs7yhR8oRApIQAQqaAPFKwlCSHU5p7UUdNF56bJPwr3nCwBerf4VBQdyxYcZmffBIATy4/T8HZP6P1dcioC6XPKpUlpfbMXDJ7dXOh8ZtrNkt9Ax2oCpTwJ2UBJGpuXe4bUocUsZRSnxfNtr8eStMYIZifZdRpMs2vnHCELjhnQnBS7WE+9ewqhYwlmKwjnHWBYmtag3t8lo5ZB7XB3sBd3QA0K8ZzlTrHeHYLa2ijBhNQFnRcZ1Ba3AUBqRQZunsWHzDi/x6p2j2oxPUOxnpPsyGfI6vVzlX5rNi2xWpCe5VbummaEl+Ou4462VafuoISFKqKE9oVXx4D+YWDH6hWEUKkVAFjcLmYoO21iRmhBQzM0ZUnasQCAUW5xJ1JB9RYKToVuLUXpII5DZmQwcUm5HZvme4aqsZ8SZoic5+0OdtMV6/bocW+1qCt17HJXFt2rY0AedDVetq4qLbjGQMdqhGCOVDElVKc71KSBNrEjHITOIocPyBmbuwAkrHJ+r4yG1QqDxm9KlyLKxjKcv47lWZ7GSh2LhHHamkpPeysBZTQAsD7NxDGg0Ax0rJ6QVMXhjm7zzdd7kAAJZZBi2sQcKFBTZw2lzOFerKP5URKrJNJMRJlbs/Jqs3rXbT6CdVPjzHaOpLzHe07HalBopR5GgDAGYA6exYkTqdDmqZrHe7mTXTAnVIHDXTbY71NICCHnHfn8kw458Zg1R7mW8/CuRx/Y+dCPHrk+uxo0fSTmHTpz3LErjnzmYWcdseqwTSs2GtS7JvY8vPuRb933/ajV8LatzHd6yx+d8orTNp4KAB+97tPj0URxIkowaoUydIRTU0SU0DPWnXTcmmOOWHn44as2CmaNl8evuvfaGx7/ZU9rpUzkcNugYa157cxx6PD6t539p5tWbFo7uiZWcs/U3s27Hvn2ff8b1PEKGtBrLGYjYijLDveAkG5eDRXvyiVE7Z0BNQ7rkCxf1TmMepVjvyPc6bDMiT33k1Jopy6AXt4lAYaIrij16gIDOoVT9oEXvusFxz937pvDVm160VPPefGJ577+v9+YY8Xqg6PWyFvOfsNLnnoupQct2UevPerZx5598Snnf+76L9267fbWispTxzpj3cl/+uzXJbdgsTl7THF0LI6IFrcjGVXmUV7jrfrwS9574iHHVx582KqN925/AHqpYCEgoxQAQhVZzG39xL94+hsuO+NSwQ6OmEevPfKZRz/9stMv/tzPvnTjE7emX9cBLUAIcURJGWm0trijjWaU5V2pRUhnA0rGtpA0Rz0yWyK0bMeyhdDqYB04EeW4XLLS1ld6NrYzKgLlE6DFdJtdynzs/A8+46gzDZqf3PezO7beNRFOnXHoKeeffN7xG477+mv+851XfWAyns6oKq3ZsVzu/Ptrvrh6eJUx5sbf3Xz/jgcf2beFU37S+uNffsZLV4+sft9L3vGn33zrHn9fa1dtoGP1UP0aEt57znu7MsqqsdRVCB2LEh6qwBWuLQ5qV2euP+29L37HitLy6ah83QPXP7Zvy+a9j0qjDl+2aW95L6tw3GAakBDWpisHIUAAap5FgAAIaaTVTmiGl59w0R+e9XIAuHnzL//nriu3Te0pCe/U9U999VmvOGT5hve8+O1b/2fblgNb26tlirRhu12ccCqAilD5iMalQ90UteRlWZcORrHsF5vytGMJZkVqmsPBkYWiMKgpSVvl79ldCupIU+ZMaCPbtfAP6BGnrX3qM446EwC+etPXvnHPd5Mvb99x1y2//9WnX/6xY9cf87ITL/zaXd/OtY4LCVT4vd9e/YLjnvPFX/zrfXt/N/f9HTvv/sWWW7/yqs+PuCN//ozXffSGz7ZcZGMdqydc8Zy/WDe69ju3f/+VZ76s1u+F0LEs6iijOJ0ZbNeX1nz00g8JJh7asfnj1316+/SuuSO3Tm6rOpvA7A7oxnfSYPSvPlFpLVgbo8cfnPEyALhp8y1vu+ZdnIqSGN0fHnhyasetW2//6qu/sGJoxWUnXfSZm7/ceoEDeoHDvVCWQ+U73Mu7Lp2gDZrezMUQABFllV0CgSiDULXbI/nSGJAajUZlUBkEBDAIGqnGBr7Qlb/kEv6kJ7EbGhc6d8+e5RnUc8dToH7cmyw0vekohFCDSAAqA08MyJcLT3wxADy0/Xdz2lXCfXt/973f/i8AnHvCC7KuUwueq/9935Vv/t47KrUrAAAgWw5sveWRXwHAUauPqFN0PTLVZs476vnnnviC/eXx/777e/WPKoAjNCEEmNKYfP7wlFcIJraP77j8ync/MbFz7vuan0iHgfKVRmVQGpS67qfyLERAgLk/qw9uKzTDqDW8dtkaAPjRg9ct+GksHL/j8bsA4MjaXSVbBrEHABjlgrmRah75vTG5hHKghFACPfoQmFc4m/kSZ/6k8z8EAIDMfk8pUAKUAqs+supDKz48UpoTBwhE9XPIENAAgIiR0qiNVFpqY7QxyqDSTBFCOxhY654iqAPQqD5dQUBBTE3lgoLw45DXn88J6gJgrIuyKmfTIWmkoNZuf3uk0otK3ymIuH16S961OIhBs3Xy4aaHIeLeYHv3NfeYe/bRZwHATQ/fVF3a9++78o/OftWmlRuPXnbIL7bd3OW1AAABJ+PxbqqNiNunmpz+2J5HzjnheWtGVjc9skUMoB9PV5eWTB47uMphQxv/8vl/DgCfvPZTe6ZnDD9j5R3bp5/spp5JfQI1s55rUMXK3z71WDdlVrLaWfWiE18AAF+96d+3Tj7SYn2m44m2rqKMlDrekdJTeYCXIhk7wqaop6IDQMiB8ODCsaAMAMam9nUvpcl4PFCrtk5sbv0URCzLqfytlLMg4q7prTnWhwBZN3IkowIBfVkWzAEgyrQ6G29e847vDQEAKOHamLY0tyYXbK0+yZSj8uCkBoywmqYKPPgPxJmzEef92RLc5qwsfUQcqu+KZHMGAIQQmzNDCOWGMGoMck4tzhhnHSlYUE8207JMgXiiDSNnKzsg5o6x2HA5DBgRcwdLE1lW3SldWZYZoQ5vwyF0Hmk/bX4cUIo2o2u8tYCM5B24YfvUlnWlTYwWZW/j1smHN40c2/QwQshq95BDhroNOXvCqmOHnCEAuH3bvYcMHbng173h9K4Du9YtW/fCY8999MD2Lq8FAATIiLW8+kINTqhEG7XP37l2aGPdIwAAYOPKwwFgIpg8ZLjehdpbsKJAPGvokOGjFvwU6XAyGl/trW9YWtW1CfnMxR8b9UZ/ev/1v95138ZlRyXfryxtUKTeTKmlx8RXU6H0V7hrZ6pNuMW9Q4aPaqt6DXjzma9zLXfH+M6fP/mbVootxxMa1Yi9sq2rcCoEs1Ks9oPbHzr98FNfeupLf7jlumSJMPl+WJSeeczZAHDr72/v/nIj1nKXD28aPa71U/b5Ozwx7Inhed/mNyLuntq6zF1td/yySINQhYLZBIjNPalDRJPWvqiu5EoAAKRRnDKSg5sQAqkR5EgZzWvtCUhydBICjFBCwAA1hAIiJZQRSgklrb13KUCOZtXULjx3qy2uXnBOKg8WxA5lbxYKG9epUyhhgfIFFYVOULg0WOmtSP7x+ERt28meyb0AsNxbll2dKumo+x2x6jAAeGKsgTWoxTX5tn5qlVefdNlph52y48DOz938ZQAQLSn3hVg9esq6YwDgkd2PYV+F+LzlsV8DwOmHn/q2p79FzLp+LrdH3/fCK2xhj5cP3PD73oaWaI9+Em36YMUWKAKUUStSUdzdiuFMyd0XUQCfyLRoRRq5Wx1S80Kd87BtUOLcMTZ3plWZE3vuYK0BBfZKs+6Bry0FYdDY3NZa08G+3PxY6S0HgFCGsk6myKlwCnJUsKDt7nfWhtOOW38MAFxz34+62APYq32Fxyw/4g3P+iNl9Kd++o9tRmDK3+d9xdAKANh+YCcl9FUnvfSpG044cvXhJdvbMb7rkT2P/ftv/v/xqL3VwGz47oPXjDjDf/LMV7/xOa9/0Qnnfvmmr64qrXzTc1436o48tGPz3/34Uy1HTcuK/Js6N+j8zJIIkMQHCaRvMavLpYYU5LqImqbpreSuYEGPdCyoU+hccAfHsqREAgRn4o4KP/bTD9kwR9q9ilEeKL8kSjH6FPK0SC9xVpSWA4Af1V1qnA6nAWBZjgoWtNH9OGVvec4bAeDeJ++/bftvAaBQOpag/G/Oe5fFrW/+6n/u3n1/+wXkPLovLy0DgF1Tuz9x/geTnadT4bQjnKdsOPYpG4599jFnf/qnX7il1fBjmfIfd35z+8TOd77oLzeuPPQTL/tw8uX377zmn2/7qmotBV7WLNV4A7xOyBKLu4gYyLLLPejCsWQRKUgp0FgaRVCwIJcm41SEMD9kgxHaqB76EqV9lzZ1lVGO8CIVt5hKfUDqDNlDABDKuhZ4P/YBYMjJOzxsC92PEPL+F7zjqDVHbNu/4wPXfiyNZayUday/eMYbj1xz+OadD//bHV/vtEq5vSBsZo24wwDwx09/1ag38tWbvnbT7297YnIbp+z0dSf/1Qv+z6ErNrz7vL+69+tvnpL5b16pRhkVqbgyoNdhKzaucJa3HCxtQBYwymItGeVJP5/t6wgAhBCLe7FRiKobR7GlqrvWpsGAQmcPyJ0cYjeUbM/gwWUdSmgge+zSlO5dEhJrSQAIGYRsyI3JcAoAnIq3zgI8ywOA6bAAr8za3e/gt287+8/OOeF5k8HU+3/w9xPxVMUxpIvhtMG57ZV51obTXnr6xUEcfOynnzXYTZ+v/xz2cizcMLQucULwbPevv//hr9/znScmtwGAMvo3O+76qyv/2o/95aVlbzzztT2sREdYVLznuW/90EXvHXaHfnLfdW/55hU3bb4FEU8//NSvvuafzj3iuc2LyIslGbvBzLgrLLjzmceNUc6ZE6lQdbewu/TkWpd6osglDlY9UmivtgZsApQwU3lhAU4qzoCNSLVXWsyJdGgzJ9YDb/d82F/eDwCeXddANewOA8BEUAzfmvo61utPe9VlZ1witfzIDz9Vz2G/lbJ6xIg19J4X/RUl9P+76f8+USMgZ7vk8HbQs97HN22+5be77l3w675g/88fugkAjl/fxja6DKCE/vNl/3DhKS/eM7n3Xd/56/f/9CMPjT3ywZ9+4vJvvfOuJ+4ZdUc+eNF73nRG4ZTCpU3N7j3vS84cQkUg/W7ygixJ9bUNCqVgQS90rJo9YG5O7QpPYVx5YVkd7TV1Uu2SiBQBLCYWBqMdkAn7yvsBwBF2vb1syRrihD+ZabXa5JUnXvL6Z78WAL54w7/evvPuOkdV26LS6HKtlfHO5/3l6pHVD2x/6M4d9x4+urHys354JqrCISPrkm9qbr3u8MLpsWN6lzEGAH71+B01D3h87EkAWL9sXabVasZlx1943PpjYhW/6/sfvP6JX8x9/8C+h99+9ft/cPePAeAPz3r5+tKa/OrYjCWmCLSQjnDmQba4axBC6XfjD7CURFuXml2sID5YlaSjY7VeisVZ4qM56+1uBdJ324nC1Qnp+YFwKkLpu8Iry7LN+jJDQl+zpzzjgHLEsk0P768R2nHNyBoAGA8OZFqtxszvfq888ZLLX/BnBMhXb/raVb/7cbOTe5FbsHmZZx5xOgCceMjxX/uTr9Q75vOv/GTyj1d89U/2BmMtXDdTfyxl9P7y+KrhlauHVtU8INIRAFi8WP6UZx52GgDc+fjdNQ2HX7z1315y0rkWt8489LSrN/8k89oNqIGglkJMQjVVPVeVWXwBAAihgrvSSEBj8TZC/Fcy8HxPWCCHolmwUqOViXYyH7e4rSCsPAw1zUIpT+8KjFoatctdXSdSwIDeseXAE/un9wPAs484u/rX41YctW7ZWgB4YOdDWdesMbPd7xUnXHz5C/4cCHzlxv/4+j3fae3kXoylTcqMlZS69kfpmW4vtUq+aee6mU6/d0/uAYDj1h5d89f1I+sAYNeBPVlWqSlJaIk9U7U92UMd7S+PA8AKb3mm1eqApWNpIUSZGf+qqudqgakl+Z0wKhhzQhko09bjM6/cATBfDgW0YPVKGW5Qqms5cWTIbPgQRvh0VE5WdnpLSndKCYtU4AnPQMiK2aaLF4Pmxt/dfNnTLj3r8NP/47ffWPDr8496NgDsmxq7aeuv8qhdQxBefuJFf3nOmwHgSzf823ceuLqdk7O2Y730P+p6+Rw2cuh/ve5fAeC1//mm3f7e9q877zns6UT8Jw9ef+Ihx59x2KkrnGX7w4VGzZMPPREAdk7sqnVqbuw4sPPYdUdvqLNw6XF31fBKANgy9ni29eqIJbP/DVvdBVL5xKHgDiKG0re5Q0jb9peBHSthTg5FtmD1ZF9hTRjhhszbT8HB7liRb4+U7lJQR+rY5Z40PXbSH1DF/95/LQIef8hTXnvKKyq/P2nN8ZedcSkA3Pi7mwsYufuyEy566zlvQcB/uv5fvvPAVe0XkIMdq2dk1DrXbP7pzgO7Vgyt+Mj5f7PAUez8o8858ZDjAeAH9zddpc2UR/Y8BgCnbjr5jHUnV//61mf9GSU0VvF9uwtmo13a0OaRrioPmFM8CSFUcE8ZE6pO0ogVbpjLiUQOBbd2dKUQ15wOV09gksM8uxSEESUcZ5YOSRiHQ04mzhBpqP2EEKm1YDXSLQ3oNU9MbrvmrmsvOe3CNz33dYcu23DH1rsmw6nTN556wcnnuZaz88DO79zbgfrSW8454jlve+FbCCHbxrYfteqIdz/nL2v2wnF//KtVZrkKSA9sAr2wjbVCFtNvg+b/3vqN977k7ScdesJXXv65Wx771W2P376qtPLsw8+84JTzAOCXD99267baLvB58T/3XXXOU5531JojPnrpB/73zlNueOTGXeX9rnCPWXHEZade8rQjTgOAr978tWLGoK/NErBjJZERGz5IOP/5xcpvKOUUeKQiSkCwujFoGpRbKCgh2ac7waIqWJUNlL6OVfMwADKXVzu5pCBOpEK7U6e/9kijSwrmhCp0uONL32KD2O6Z8tmbvxyp+JVnvuyCU158wSkvnvt+69iTb/jGm1TxHrSjVh2e+MBuXHnoxpWH1jts2/4dDRWsHpGjjtVzfvLYz6evmn7f+e88Zt1Rx6z7f+y9d5gkx3Un+F5EZGaZNtPT4w08CBKWIEACJAgShERSImUoaWU+7srsfXK3d7y7NfdJx72TRGm/lfStVtq721vt3idppZPZFVfUcWmOBhRIAqABARIECIDwZjAYjOvu6e6qShcR7/7IMukqK8tkVXZP/UgOqzMzIl5GRkb88r0X7135c3f0TJ/3fvfLf3DfH05BhqHgaf83PvM7H373P3nDkWs+ePtPfvD2nwyfdX33b7/1yb9+vHSfEBc5OBO+ynDJ7TKqABQ90n4BBTcBwPZbFjfZMCG4S8ixZoLSzfsBKP7XNPRYVaPacJoCrW6TUpI1tR6aiB4LGBFZ3NSkR7CgzzEO/u3X/ujbJ79zy/Gbrjn8urpZe+7sC0+dfuZzz917ovHKkYXLZy1dHM+ff+lL370/ciht+K011gfVVNBEOgTHavqtLz11PwA4w6UmnBm+cvKhX/7P//g9V9919cGrLl09fqG1eWL95FdfeLCMjnoAAHBi69Vf/tg/vfOS295+xW0Hlw4eWNrvK3l26+wr66/+9aMfH8nvrQTY7XosRX5/L6CMVbF7qr3f0BQ1Tdr1mxVRzb+s9F3Qdm+HJ1FSgpXANPRYAGAZhpLttqidoLA5vQExNsfizLBlq2bUXb9pzkM2TB0PvPLgA688GD5CZfVJuPfF++998f740XLZl/O+uOft9V+/53cm1ep0HtjJ7df+5Fv/aSpNTQz3n3jwU89+WqBRN5dnLcscg0FDfGbHEvl2FVrtCSHIsaNIS9mqiGrOiWKux9pBSo5CfN5jlRrclBBxEkc9XQ469l0KVlFaVUVNTcdJf47dhNJ54u9yn/c5Zo/dG4M0f7jRtMAN4eNtpoTIDVHztczv/75LuzYvdhDBgqIfVjCsama17YoFAAAMuVLTzRU/3l0yZK5yEVFDKVPcz1FyzDlWG2XrhznmGA4GMwddkjrIKe1Uz1uLMcPgNVe6Xj6L/MX8Iu0sggUjP6yMSTpG3RlyjX74FGmY9h778VozedVTblVU/XmCwjlGwJxjtVG2ftioavwAACAASURBVJijMOzGRz2SG243HVbs327897YvvOAm5xVH2n6O7L27sXdzgQEA7TA76egcq999hpXECFA364oiHMuTU4+QPt6QVEQAIBi/eIf2HONgzrHmuNiwG22FSnuDL4qAIGoWDAGTYVkMXmHMcuTg+O+7rmtzYcdpsAIUbisUAqNHmOPbhTaagjHu0mCWLW2Dm56euthz7A7MOVYbZeuHOebICy+Heqk/wpGxKMS94jsNDV5FELbf0pm52i7CF2mHEiwo2ufdEhVJkaE5ZUesNsa4SwZCk64IS+fNmTDHHFHMOVYbZeuH2WHX98Tu0mPJoRN7JF+xsCqrX45fAgRTVDUw229mZOnZRV2bCwwAcKfe9Shi55+hK6YZbkKg0fSaI7Q4LkZ9OJwJW9oMuZonz5ljZMw5Vhtl64c55hgMOVzic8h0ew+HcsDEqXaaHVPUJQVpduavzA7WYAWYPMfqakUFM8IhGwiAkaFpFoqsUQeqySpSy6pRm1JexTl2JeYcq42y9cMscJH4wu0WPRYBaRrTgTg1lEPyeO8sQ2HwqqekK9MdVHZF1+bCTidYUOjDqpu18OhkwFrejFyaRrpLROapwMlxbiWcYwzMOVYbM+iHsnX9HDsLWo+sFOjuHIwdgag/FkZPta/kTAhedZXrpW1mv0hGdTkJ1rCzZyH+WBBsc2UqfFBAJc+u1EIw0l2avOoqpyIqqaN8jjnyYs6x2ihbP8xRGHaJHou6/4xSMOVImFRRopsivwWzOKs40pYqvp9xN3TtIJSTYI2A4R5W/rm5ZtZjl7v+1EM2dDHSkCQKNnqIaUfzmmOXoXTjZ86x5phjABiyUXPWpJbpkqpwLp2wriuZzRAMXkVm2H4r5mOz61+kXUOwoDiOxXikZgMt28+bKGDyGH5ICma2ZMtgxjxkwxzjYs6x2ihbP8xRGHb4oxZM0IhvST+Hd4z+CF8c5lgxCyOaosaA2X5LhaI57PDeHYByJnsmHGneHJam58wlyxhXoX2nBECKgTHiR8FMINDUpKuiKrViODBB1UUBRfq33v9hVw4biG9oSO0LZkyqNobsx2/5wHuuu3u04gSkSAocT57hB74lrLuvecdNl9wQl4dIk+KsLBORJk2ku/LsqS7dfMmNf/7T/2Fm8mgNQGxwUrkIDi8dIk1//tP/vgB5FAAyVsiX+Z7K8iOnv1NEzeMiElxzhwGRqdgUNMraFWdLaQbUMPHq0wCiyWsA4MiWyUzGxIji7BAEt5c3a/3uQ847F5yR1thR+DEUTbdZtxYKlW2CYMht2aobdaUdxquzFqcU+PAXfmtvdU/RrRDAeuv0au3QpCo8tHDwfGtNZgb0y4DSetNb21vZP7Ygw02J++v7Nt0tL0FnPe22vMaeyurY8kxmBnOk42lnyWwPjL3VFUe6rSyNdbFLgy2bitSCsTRUqSVrkQC23e2Jy9PwNzmKqqhPvOYAz66/UFDNFzNIKwgTrBHVFxDlVeHFMxy+IewIj+nqLkSD14jI8VumMBmK3cqxyvLhGMNokyUCBWl/Jv6oGDIJnoBK9wgHU5HkOLsOHHJIWqzqa79q1GzfNfjAJKC7H9858+QUWiGgk1vPHV+6egpt5YHU8mzr5JGFyyZQF07gPXNka9NZO7hwfPyqJsKxmt62LZv7hiPEBS4N2+6GJLkyAUI8GWw4ZwUai9bKrAWZBXawHovif41lNIwnzElYBmNmxD7tIRqipkl7smVyizG+I7s2E7vJBwugyKCpdaseDtmAwGx31vvyhrpXRF/5AMDYRaqtnGPCmPtjtVG2fphjjggiWZ8JhjRZxex94XCj0EehhWH1VR+HH+rIhqaoaUDHb6lxQ3aVDruNYEFbjzXE+Mk5KyMg8ognloEVT846SPowc7vJq450LF7x1NzbfY5JYM6x2ihbP8xRGHZg7Ia2A1ZqQKvBoKgKKqy7iv1OPRiOEhGXoHsRQ2aImiZmy5aaSTTvYrCjU+UMwMTvqmrUwgkKCcCXJRgKQ+6eJCKTmxnpouaYYwjMOVYbZeuHOeZogzOutUoPCJoXscgLqYGvYhwrud8w3jZ1DgYkjCEzeU0T2n5zOklTin5pd6EGK4yJd59lRJyuOJqtmSQojCH3fQpm2tIWTHh61vbNOXYN5hyrjbL1wxyFYafpsRT5ccvOiPL3K5aqx4L+VCxWD3WZFkNmiroitP2m2uGKgN1JsMI6uTyjKP98bHBLUpSaaF4KbdAwHEuRqomaGnUn2hxzxDHnWG2UrR/mKBI752kT6UlsSumHsNt70m6Iocu6P2K+XD0XLuoZDeuaYEfTrJLuIhwf3R2FkG/PRH63v5pVdV3VdRvkKJpea6EMIRvy7Q1hyF1p14yaBsl37wDY0dCgCwq7r0gC0AheDgwH7fEhmsi+wslhVtFnduuW8zl2MCJ+7gAQVhmlxg0dDl3P+aQGK/w7aDCIc9kugoCd0xi+jjpiG6KuSXmyaYnKjgvieLGsrxmDZ9hxxZBr5nCyusU5WJMNJjk68t2Myaqe8qqiavuOwa3ixZpjCBCQrxyp/WIqhwVzxZGNIcuhYMLitUG1zzlWgDnHumiwQ2I3iCCiUCQWFUSOjJhLJ2kKpMQFyap7XlmURvFiLy0iN0RdkXZk0xIVvnNoVjkJViGjdYJzXt2sNx2bd8JhI6DjOQuVEhAsyKuvU0oBB15MROY5xoGnbMHMwWxmJPhaSq2qYmhW7aqWJH9wCPg5x2pjzrHmKBEEN6TWOJl3M2bdy7gsA0nP977Xt2kaMlPUNWlPtQxmitKkf8jAbl5fESi2QTJ1OIQ1m/lHH49yaIEVV5bGbTzHgmLwii1tk5vzkA2lQhAJZpYBbPvA5LW8UWrm/lhtlK0f5igMO8HnXWoPYJCjeS4MvC4WryHSEsZ5Vbw2TByP6MSQmbwGwG2/5evCE52Nid1MsFKRMTSGekEqRjUcsgEApCyTI16Om0HgRGQJazobYufIA6U9s5S5jBAAgeXdfDrnWG2UrR/muHhBpCN61eQ7Mfpbkloy6ZUVhMWiqF45pmOmTtyseJ1hRhaEJ0U0bGl7qrw066IjWDCIY+XXY1mGEV5IyhKyoYtBc7tghi1bHLks/XfARQJfuwQ4WqbzKcBkFgFRTtIw51htlK0f5igM5X7UEfMgAWVHVBgO6TEXgmZD/wK0PdzjoiV+x/VbSUZGAAho8CpnpiMdT8066Hcadj/BSg2jGvehi57KOcwMbkqMPlQtyqUNGnQnBqsoraqiqopxqZ5jKBBpq5Tqqy44GkPYlOccq42y9cMcFyMC3/C4gihbpzUiwmZB6h/1iqLkrp8LT/s0RAlhWFjBK5xZjnQdWS6Pl3ISrAnPR8NyrPyombUwo2LIW165HnB2XyIyV7mISFAm++ZFCVfZWPrdMQIFAA4R5WHOsdooWz/MUSRK+bQFMynQY6VGMOon8yj6rdhGQoyeS/X8GvBi9ov9ENZsCW4ZvOoqrzw0q5wEa/LIw7FGAEMGLOL5K8gqnedd5n2avOoptyIqviqNk/7FBwICIIOZsxZkMAxmDWdTnnOsNsrWD3MUifI9bUQMLBU9nRICdF/QmB2nVyzxI0dTibowdC4WejQco6Evm8tQiMTkEswUvOoq35atgqIJ5sfFQrD6Yfzur5l1RaH1BtH1ymduy7xPpYkABBczH44XLTzlCLYzApIxZIAw3FdE6cbVnGPNcTFCkwzGYODpGSTPwUQkk/RhOroGa+B+xVwhGzJeWkz8KZhh8JqvlS1benaB4IXjS4EVAHD8/nuwSQIAETm+JKV9X/pSaamUZNqXnAOySU5YBqsCUFueeNyOVGqdPDUQQwhsYAUAXNm3fwhBqvBZvu02TF4ZRp4hYDCLiDLkARh2BeGb7pYlahv2KUcO7adPRK82Xhi2VHHQpE9sPTNrKXoYKI9g5nJlP2iQEDe9JRXjwyJmAUBggglXqYwR0u9TNnSB6arma42XxpArVD/Ric2nx69qIgjkaflbsxakjcBhZttdn7UgbQRbwDacs7MWpA0iavrb5dkVQkSnGydKJc+prd7kvGCuBB9y3U8egpCvVICwWite3bjyMBREkTQV+fsqaR9MihNXdCEKtCRpKW3BrZh/PSIy5L5OcXiQWgOAJvK10lpLUkorAECtpFZMQ86IYqJiiKbXJIAFs97voooQgTQVQ2imuUFMKE0gBDcNwQ0xWYLV8JqIrG5M3tuX+j/NDEt0029yZBXRVx5LiIbTCHhqAE1gCl7QdrCWbwvOrNEisPeRSFDNYOxg/bDSNGw6gle3XzhUv4SXJuzbia1nLll63WTrrBpo+6PMLgR0cuu540tXZ1zjKtvklelsHvS1lNofIdBoDAjWwfrxoV3yE7OSI1ubztrBheNjyjMq4s+06W3bsrmvdqjgdvM+6213Q5JcqewvVJr82HDOCjQWrZVZC9LG+dapmrFYMxZnLUgbZxon9lT3R96LmbKtU1svHlg41s0y4kqHIYN2pIPIlRRSZbUVSrEvrUnciCaJwFg7b083znuU3EXlil6GnWIRgbDPpd2LuBBE5GvbYEY454qvlcFS1jvBGAAwRINxzRCQE+NAxBkXjDPGcxKsnWcizCBJA5HqidWpdixUTCvsu8dQtNzWeFUWgz73yZHb0mbzkA0JXHfI+sh79733mqJyTXrawRKHZugHg1mAoId9b+a2wjbK1g/TwEqV//03LS1aO2/RGQv596UXj0j08yDmSsCoKJI5B5PBihJmxEHI82alsqtYf6V4W1HnNybKUKJAT9eFaPJu6KwpxXQoi9ZhKBBgBlUao9rRp1vBDAcaAnpKLEaG0rI8ep0e+tynyapS+1Wj5kpX7ARv66Jx3SHrJ25avPagBQCPvFrIC0lARLqgrDhFQ6DhK2doJdY8l04bE9IJ7BwIBh+4buH7rql/9unmJ55obLvzncvTBmfC15oBQuqgp8w4kP20S+nIfqcizCdUO0VPYfR6jB1PJWJJobqVBj+CSM6ucol00Std+Zb/QcC21bhYjjVC1QtWveW4rJPkBJHZnrNQKUrzMRbSXgxE9JQUzECcyXpTIoSpVaHwVC+j5Y4DRyHBUySHTuwz51htXHQcCwAqAi9GmpUrFsE0oLWPzIzZ2yB4KTvXdH+3pc5PufJioPdURmMpVsKkrTFWLPmmcWYhkNS+7zuWqAzrGJMTO49gdTEax8LIQEqtdmQgch2OJyWw4inXHM1Zqmikze0mr3jKMXnF9u3inPTLjKlRKwAIokmFHQJ2HAxe9bU9SubEOcdqY6dxrAnJe5HSrBJAkxIdHyzqmNYwzKe6zlgImMzbEB4A4w6GmH2wn+d6rHkAwK7UqWUodnVUAxZujyEXwlSkXdkSTBh8wgqtHUywoDCONTKqRq3htAT2HpLnK7O0wSPTXg8iBgAmN4g04kXkLTFNahVAatdgO5vFMkAg9LVrjBBjYs6x2thpHGtyuOhoVikedS9HTmTEdzVCUdoTl3ds+bFHeOJ7/nqi9KTD0J/x5jNe1/DVYctnrK7gT4bMFDUACCKUZmxoGxY7lWB1SVJBtsKRYRpch+InCDRbfqtmlNXJJvHCC2bYfqtq1Fp+c4f6Bg2L6VMrAJDaR0C28ymsxauutkdcOOY+722UYuGdFS4umjVrW2F4zunqsajrN961Dw6UcNQxSynpCDHRLzEHrFwSxBy4woVTq0vOPkbbPct3J+QFv1MJVhil4lgmtxp+JGQDKEZGaobLciCFY5maVFVUfVVKJ/3JYaXG/6c7V/JQqx94Q/0dV4z4WePrlWSI9rRZZhogACDKucc4d50Ead+6OcsqfbQ8dlJNqwR6FKPnBJDSgZpWCWhG8qRA0V4EHM1hRWR+TVxcNGt26I2lhHWtL2WiNhWLIN/rfnTx8LbX2HK3AWB/fd9KZalu1BfMOke25W5vutub7vYFZ1NqldBpxX5HuBdHtmgtLluLeypLy9YSIrZ8u+m3ttzGa9tnFKmKsPbVVs82z3nKh5A2LKbHSt17KJgRqOSVVlL7DEY3QpXlvR0BXW93yORYqaeKsxICQNWseF7PvsZQNN3mglVKb/cA0fHFkLvSrho1BQ7fySNkIDZa6s8e3vzxm5ZuPTbAVLdc5cvVkV+zsrCHOXKgbAP+4pKnIvB1+8yjy+Kps0PHi9lJasDZ6bEEMyTpwI0ppjiKC9XlVRg5OJTYbzx4vaOc5zdeumzPJQtmnUgrrS+4W5t+a9laOrx4KPjYO7l16vGzT0kt+2wz6+mhENiVey+9ZvUqhkgATa+14WwaTKxUlg8u7AeA6/Zf8/LmK0vW4sH6vgdOPOSpC/3MhbHak2DIEQ1XtqTycKSYVmV7e0dHeTgWZ0Jjk0NPL8LBktovz2d6CqKvjcEqvvKqouZIZxT3mp2DF9b837137YpV4yduWrqlP8366KNbn3qyMUL9BHBq+4Wji1eEj/jKmdUeAqmV1KoiJuzLqUlL7Y1wU65yttz1/bUjJfHHannbtmqtVg/OyB8LYrN9w72gQC1bqzMSJo4LznmBYsHak31ZKn/YV+e//4MHMko9ecb76GPbj592Rx4KO4ljzQoISslgMQo7g7cdo7r2wbDze7Q4hEsO6m5kWGXV6w+8AQA86T382rfXWxe6pTjyfbW9Nx26/tjSkdXq3kfPPH6+td6pN6xdagtYM6o3H7p+pboHCJ4498zJrVOBgirAglm/+dD1y5Wlq/ZeDm0f9r4uZDGdWMatCF4hzlzd0trnNBxl2j0EC/oTqX6n8tc77Ftbs2p2OGQDoO05i5USEyyI3CYiSqUMDrwcy17ReGHN/517165YNX78xqVbj6ewBF/ByJHcm54Ml3WVzVEoPZv129daal1A0kl0lXKVL4Y0ZjlKNz21YFBn89KM0fK1LVVN5NnQVBAi003L14qUycriAtHylGCMD5Indf11+r9BXWoVLj7aaJg+xxq9xRnpsTQpQKPrcQUd3/ZIpIbw1sKYhNk3HF1HuocbbuMbpx5peA0EhsCCm1ekzjTPfeXEN247enPNrN1+7JYXN048ce7pRI0AAEcXD9148DrOmNL6W689dqZ5LtweAjS8xtdeefimQ9cfXjzQJmWIeeSFHA+Bo2CcawJb2pZh5dxvuON9bGO0KUMpNZ6+argJDgGRR4oYWHGlM4YAU0FIZINXXOkY3PKUPTuBpooX1vzf/eLar3z67MOvFPWklJaww0Mz9IPJq4rGS3M+93lvo2z9MDoG3smTZ7yP3LP2658/32VXU2j0oofuOrYHoLDuKukEHvsRfi2SfY3hn50/iL752mMtv7uURBh4029+5ZVvONIBwMtXLj22dCRRHS6a9Tceup4zBgAPvvpwjF11akRF6tunH7d9py0psuSWRUr4vGPoeDYQmcmriMKWdp4FncHOH44jcywEKs47vmpUJUWmDCl3Qk+HZERgRGRyi2aXjXz6KJRmSfLNHR6aoR+ChD+eHm+ZnHOsNsrWD6Oj350MpFZ5FrxhGy0COJ6o4xUeBYF/cNd5GWO0qiMMhV/HGCvp1ZXVUNdC9/LmyW0v1cWi3YCrvBc3TgS/r91/jcmN8AUIeMOBawN11JnG+XX7Qj/FEwEpUk+df7YtAGA/z/nYDwrRrBxAk1cFr7jKs2UrY33c8RqsVBSmxxoOlmGEFwyORtNrTq310dERmTPDli3OuKdLr3ubNNo061OTpFm+diGqNt9lMFmFYGzb55xjtVG2fhgdsTt58oz3G5+PU6vxezlpyJoydsoD60ZqoPb/QhwvZBtv92dCgdH7dxDaO72Inll/IeOq4N+XN09KJQHA5Ma1+1/XPQ4Ax5eP7K213f5e2Hixc7wnCkZugl7dfq3htaD/ZIuh8pg4nvv+QDDT5DVJZPstX6Vsy9hVPlhhxJyuwvblqYV1MLjpykiCQtRCk94B0Y86fN5kFaVVTdQ85fPdaNjKxgvr/u9+ce2KvUZ9EhlqNaldH1qMg/BUa4TbRMDlhT379xx03NbpjdO+Gs/aOGHgjFbPnbJkx5Hsr+DPJ894H310+4kz6Sqr1F4eysMpVsMI3lEzcouaathdg5mK4kypRzhCi2UQK70b2L19XW4ESQ/X7QuuzFBstwWRWp7YPHnF3ssA4NjSkVc2T63Z6wBkcuPafa8LLt10ttbsjQQpihDCoLbXts9cvXo5SxM37FqWHKXJAgNfQoa8E6fUAdAWr3RjCAiY3eQxQaRuCcy5r7DQkA01s+q4shs2hiFvec0Fa7Gg5iYJCqw+zFN21ahpUPxiDTfwwvoEFntX2QWluyoVBDOUkooUz32zR/Yc+7G7fvrgvkOG0fYbJaKtxuZjT33r4aceTObqmBF2wTQ5CYwxU55tql///PkRCk7f5336nvLQ9TcvvmFEVNqLZUFNsqve7j0KLZOp2/BiFUWd3F9rnM0p2LnWWkCwAODgwv41ex0A9lZXBG9rgs42z0d1T+lCIODpxpmrVy/vaLAIQ7bCcOHYfSR/QIiQ9bnLHgxeAQBJSnYS7+weDdZAjhW7YDp6LIacmAPUW2wEVXzlTTznUSEgAASTVz3lVkTV9ltBHvI58iA8tjRpACpHwIvCx7zBLF87PIcSCwHfeu2db7/lbkMYW43NE6deWt9cq5iV1ZV9B1YP3/nmuy89esVnv/rJhr09sjA/+PYfffHV5x9/8dGRa4jIO6j37rzpbkS479v3TqK5NnYTrZsNcZk6x5rJbQ4FIoVoBIsihEd22PO9Q0AQouEbMHJ7cd1b6Lcj3U898/n8UoW84GHJXAjaWzR7ISRt6US9p/pSvE13+1PP3NOVKUaqIPFnmEzG6kpeDJnPN6zQ2j0Eqx9mzrHqZr3p2L3PBUTbczbpwsgVEhEATTdRIAXbMRg6yaEloLLlbJUncaHFFi/Y0e5N7ouJYXLTocFE3VyA6HePrx2RCOY+Dso8gzNkCCjJFzhA5XnNJde+67b3EtE3Hv3KVx77cjh4xOrSvve/40cuOXLZD9z5I3/9+T8fTY+1UFm46rJrzq6fHrZg/zj7WRwLAa+96oZXz7wybHO5JCrvAx8OI9/JztJjjX6bU9FjEemuA1aYW1BHiRUgECNYNQnauZ/bNjmMiprxeHL3hR3al7doLQSVLllLvQvaDCysu6LoHWCXTkHidY3JGPszVSGWWkNOGLyy+wkW5LYVFgcuEFTvT5NVUbOR9RmuchhiQeqQfn0hwTFZ1VFNE2uRt5+IGDPRZKkeWmGH5Wm5GHCqCdbHPlW8CJq01FKEUgwF6YYmnu2kzEuuyauutrMJFmP8jje9EwA++8DHv/vik7Gza1vn/+oz//HnfuiXjxw89rrjr3/6le+OIMbVx1+fc0uBaVi+7+WjcX051uHVo/VacQkbyvzAU5BBRed6rJmj+/2Q8u2Z0OH0HmW4WDJlYcQJKnQkdy9o0p70TGECgCUskxue8hetmAYr3EbMfIfR4+kjMINm9dNjdTHsA91VBCvDmyoPxyrOE6siKlv+tsl69rXSbiVLHVsE2kCLgAQmWF32jXS/gC4aMGC25yyGPl0WzJWCTKsZM/jMJ3cE5mknIybFzVffsry0srV94f4n791XPZS8QCr5zce//q63vveOm9/ZJVhHVo++/x0/cvrcqU8+8Lex6++6+Xuvvuz19z1879OvPLlc3/OuW999+fErAeDWG26/8Zo3Bdf85f/3H1tu8+qj19z1lnd/6Rv3vLb26ve85fsO7T9Sry04rn1u7eznvv6JF849Ax0llmDiH/7wL7ue8/98+o8iNwd0wxVvvP2mO5947tGvfuc+Q5h33/Kea664FgCuOH7VL/zIh4Lr7vnap186nbF/aljM/KkOhyI41lyPNZFGWegTNOmTBN0jHTEC3RV0PkGC/DmR5Tap+RkaCECOdMxOnolFc3HDubBg9CZPp+0sn+o3lWw7qyeSRKpr/EwtNtoatqsIVjZmqMci0gIjFiJNagdNlQo8jlVX2QbuzhhOk4XAiitdS1gA4CuXowmdzF8TR2mXXJNZrrYzclof3n8UAB575pEg+GoqHn3+kbe/+e49y3trZq3ltQBAcLG4sLTV2ExeXKlUFxeWTMMAgHqlrrTa2NzYu2d1u7G1sRXk3wCtFQAYhrm4sHTVJde88y3fyxk/u3bafc09sHro+JFLf/YHf+lvvvAXp86/Bp3VZHFhyXCTqji0DGtxYaliVgHA4IZpWufWzx4+cNR2WqfPvxZc5LgTj29S2geejrkeq5y3KZgRxFOJOTRFHlaHV0XsEMHFmX5QHPmiVU9tV5NaMBZd5SlKf+srorfELJg1TTpMM/fV9jop4T0RABbMBaml03bSirlXgSNdJ7GTMTYyMcqxkm1QWqlslJdgFTEuM5RVhcbHanotEaImmtQOYiqKfItXFakU9VUYGd9cPUv+TlobxoEnlSUAAAg073DrCQ5pTMyM/S6YYY9zNDxl9wvZsLSwBwDWt7K2lWmtGs3tleW9+5b3nzj7Uv7xc2rt1VP3/+073nj33j2rT7/45INPfjV5zRuuuv7FV5779AMf96QHAAh45xvfdesNt3//HR/400/834oU9L7YU9ETpuU2P3n/x15/yXWHDxx97dypTyW0axPFtJfsMQfSXI+Vp2y66WAkPVbcTpYGhkxqP5TMre2AlWwdQvM3hTyuAvtg3GZEAAhL1uIdl7wlVQLShJj3lm44eG3syK1H3pinYBJPnX/2ufWXMi5IpVapjCpP93ZRXoLVT1M3qNSAmAvTDDQawFeeICvcrEI3FKl2aCAQY4DoAwwYqQMNyakXxGpk5DOOnnREn1S+AhCZKg93QlTIph16XmmFVOn2gUCr6bUMjgy5CvXy9PVYM9R4CBQK/H4hG5YWlwFgY3s9u5JGa3tlee/K0t4TZ1+arK1ZafWFBz8bsCsAIKD7v/3Fy45eHxozagAAIABJREFUsW/vgesuv/GxFx6ZYFuTxgye6jhNFqTH6jd9DRwlGY2OJurARse6zVG/TLNF0qS6BCt8ZUz509VgYUyHg22NRQQIAHDB2bz3hfv31lZev++qnkaK6IWNl083ztnS9pSf+ulSN2rvvOxtXfHvef7LvpZ3XnJ71w3rsTNPntw6lXY3aHGzalgrlZWr9l5udMI6kKan158721xrZIb4jvFLTLhkQaIzY/fdj/GXl2CNjELjWo0A1/fC6itF3mJlKeP6gVBkC8ZMPo09/5526sayp5wFY0/vaLR3idDgPOzWPVu4UpmCT38EbDvNiJ5So2KywheUVuHLLiqOZfCKrxye5oJmGhYA2G4ruwbPcwCganXUYJOjWGsb57btrfARAnriuUff+ZZ3H1o9XG6CBbPiWCNjmrbC3cexikA4wUtMIx5Gd1NhmOf1PtFD3Kur3yKglrRbW7Yr3duO3RJc+dzGS0+de1aTRsR+LsiW6DnSbDrbrvIA4FxrrUuwqqKiKcaFgn7VtnRsaa/bm1ve9m1H2z6Xz1946bn1l/r1fZgxYujfZCdA2qlsR7AAZdla3w9JvWWx5SYN27dF1BooRNn7vAsCMpgI1LqxE3MkUTMrGnpzFoH0ZLoiraD+y6g2z3pTBIJIyr5OSSLRaG0BwJ6FlXR5OlNwvboIABe2NyYuW7OVkhwt0Kgt1OOfQNS2kKRiNuvm1N5CDN/hGK1mdFNSeTAFjHYr43T7yGVjuZkniKR6Jq6bodDBsNtW+H3oY8oM5x+84GwOfLSHFg52f3fSOePZ9o/gggMhax4kOA8A0KbTc9DcduPveHiApSqlUr0vUuyn+QbqjlnsdyIIKKq8AEmuJXaM95WnbcEMW9pGMobTnGMlwBknaDMJRT4AGlgPsmslkfGJXNAMPqsnZvGqBpU8vrWdRbCgw7Hq9QUAWN9aG9jQsAuzlCkB+m23CQDVyrC7PkulmygWY+qxiqh2ZOwgjjUO0m2piKmnkhosCFONUJz3LqOizqn2H51ZLEwKVf+MyAFMbhxfOhL89pT30oUg9zOttTbWW+3vq0VrYX99f6eBpJkOAVCFsqGm3l2PJVL8eLfeLtnq9UOoDcj9wpeaYIWZ5lALUqeDZqzHanmtcDoCAqqYOyGAOwAAKFJVUQ37aMcx51gJ1M2aJB8ANEiBFQS0/RTlTYCCyNBo1aZ6uU4KDJir7NjBrcYFADi871hGwYXa8kJtgYjWtxO+8Ikv+oo1HCuqVFK87xdrSwDQtNM9NsJ6rGq8+OgcazSXhsB0U54FOyeK4Fjj9MMO4ljj6LGS5fIks6LoexZmUN0auz7rvZSFHXdxChcbhMv2XMI7wSOeOPuU18lGSkCPnnlC6zY/u3Ll0mi5OM0KK9KiJs2Eni4xFjuCh6rrHA//SL2h1IOlJlh5UNovR0WK6YgnuwJX7Jx8yZo8BGZLO+s9nHOsKBBRcPLJQWBBeAKBVmqW9QDjcKyClAFFPFKDWYCgo3U/+cJ3AOC6q2/cU9vbr+Dt19+ByJ5/+ZmuIjCI6VCxKgBxjrVQGy7F50JaUNDV5QMAsN0JA6FJE5EhjKSLYVpzu9xWOKlG53qsMtwm7+M1GzaihZ9Uz4zb1V50vgz60T4WYiupeZe7qBnVy/YcD36faZx7dbubfQEBoOm3nll/Pvh7X23voYWDfdylMgx3uWx61KdSivZJsqJ+te8kgtWPOQ76+J7NZ57t2uHsMZpkzRycna0k8LVXETWp/XBw1HTMOVZ0hFWMiiQ7HNJCp9jHImVHOBUge6Hq584ysNoiHqlAw1eRADYnz514/uWnhTA+8Paf4mmR94/uO37t1TcoJb/8rV5qv/XtdQBYXdm/VFsG6E3tq0v79u09EKvB8z0AWFlKJ3Ary6uH9h4JH2GMX/+6NwLAK6dfRkAE1KSbrQbn4vLDV3UvIyCDG5cduyLRnAsAy4t7YEgE+3LG2Zqzg3Q/AeZ6rJnrsRgyTZG5KeZvlNwg2FbwUFtr1eY42CM7EVURtv8THEzZON+RZk9l6e3HbzO5CQC+8r9z9snkRc9vvHSh41x16+Ebjy8dTrPgAQCZoTy/IW/6fp5XKbWkXtrvN4TYVfKxlJ1glVZBlQ1PuTHfdmCalSZb30AwJADwtd8vSuQc/eApu2bUww6giLyZuUk4oblOPzUssg3rA8tOFhwFAMlodMH7vnmv6zlvuPKGD37/Pzy671g3unTNqt9+7R0/8d6/L7h4+PEHLzQ3unp/220FUUbfcv3bqmYVAIBoub7nvW/7geTWpAvb6wBw6dErgnCgSbz79u9frrf5EGf8/W/7ocX60ulzrz736jPda86tnwGAm655U/dKy7De+9YfSJgIYW3rPAAcWD20urRvuN7pYCYcaxwUxLHGxDTZ0o7WY+no+5jkDUlFDkE7mGTXWE7UYxiBEb37aHsfTgSXLB9bsqJKXwREPLRw4K3Hbg1Y0bnm+fte/loyIigAENHXXnn4xY2XAQgQbzp0/dV7Lw+lRGtLanHrdau9Lx+GfGA39zRzaeqr7qnUP2NMNDmky7K1PgP9bKJJZCoBc2kIJwXfj8T+UeTVrR2jvnK1XRM1V9mD1VdzhEBBgH6AiqhuyYaBocxIZBDpjHzYMRV0Tq33mNJmVzvxdk1e9bQjQjkZNxrrf/Lxf/e+Oz5w6dErfvJ9P6uU2tzeqFjVWrUOAK7n3Pv1zz/58uNteRCRCADuf/je99/1Ize+/k3Xve6m02dPmYa5smd148Lao9/95k1vuCXc4rMnn97cvrC8uOcXf+xDJ0+/bAjz3m987tzm2eDsMy9+d9/K/p/94V/cuLDmuM7+1QMVq7rd3PrEfR8N8+P7vnXv8SOXXXr08p//0f/u9LlTALCyvCql/5VvfvmOW94Zbm6zeeGlk89fduzKn/mhXzx5+gQRPf7st5868cRQvTROVomRH9k4z3qcsjhw9RseYzKeEe5lJr03kVw6NMjxvIvInj2KHMHoU8ROnCQCaHith1595OjioYMLB1Yqe95xye3nW+vbXqPhNS1h7a2urFSWAxImlXzi3FOvpMe4akOReuLc0681zt508Lq6Wbtm31XXrF656W6v2RsNr1k3aovWwmp1hTMOROftjVPbp09tn+mMsrCDGCQ6njCaIjr2AxL0K9VEkHyauQiW1D4BVcQ0Ai/lBGXePEYP9ilUFGyvFXMMF2KwO2FJQKAtbgLQ0NrNqTLYcqE70qR2DVYFgLpVdTzFoP3cGfCG21qsZGUCHtd9YHhMmWMFRjdXOVYoYu1Gc/0PP/F733vjDxzZf2xlz+qepb2ua58+d2pt49yjz397s3khIg8iEj194snmZxq33XDHnuW9qyv71i+cf/S73/zqY/cd2Xds/96DYf90pdXf3PNX73zT9xzcd/jIgWNbzS2pejsHXc/9q8/+6dtvvOvQ/iP7Vw9sN7aef/mZzz/0qXON0/tqh7uXnd869+ef/KM7bnrn/r0HVpb3bm5dePbF73798Qc00eXHrtzcjkj46Qc+/o433n38yGUH9x1u2c3AaDgsZsWxYBb8rAiONQ5moscanZ+NEYO040kVR78nElG0d1gUhmXorMEB5QrqP9M8d6Z5jiM/WN9/oL6vIiqHFw5WhAWABLTtbm+625vu1muNs26a4iqJdXvjvpe/dnjx4LK1uGwtLVcWlytLAOApz/adc621tdb6qcYZV7pR3/TuncXMgMEfGL47AqgaFQBw+7jPJh9ZP5eMnARLbTnbK9WV0qYohj7DYvoci4hIs3A/SXIWRNbKWip42qmJui1bo6ivdhTHGmdFSaLjCEiISAAcOaED1CPWAiu+8o3MCP67nmMx5L5OZgSjx55/5LHn0wJ7JiacgGOdPHfi5L0nYqdePv3Cy2dejB3cbF74xP0fSxXGEIbru3/3zc+1mwrcab3t5JXr22vJ3NIA8J8+/2fdggFc373noc90FWBjKDZmwLHGQb9G87xlZeNY08fsHllKs7FnEXZx7jlpUfTKzumAbFEnkU63GUXqVOP0qe3TihRDxhircMtRLkXsi3mhSJ3cOnWy3SZWhOVrX8Z9XcOKq+T4irRK8UFIq9UVAFizN7oXULRYUuRU1pVXS7HWWheMx22oBSP7rUvttoGnBpwcG02vyUJGECJdNXdM4CtJflXUNCmRDHyVEztnpsQCZnaGwlM2ABBA3axL6n0AIaDTP2RDF9mjugiEFeMZa+REoEhWxv7YoIzPvDGiMWamHRxQsF/Z8RQbM/DHGmdyzCg4sM6d811WFPqpQAYX7OPznqcqxgYTgJhqp59yq3ucQhl/Q0cjBIQ02dIJ2NWYbw4B2dKRWmX6DQ2e2GINrlb3AsBaa6NLp2K8KtYtGD3V5aN5Cda6vQEAe6t9owLOAQBKSw4RaqLR67cbtoQgUIjoKrdr2xqtlp2FCcprMAuAAs8GBDBE5MUWWHH8eDiooVA0xyq0XU8H0SsmgLJxrMw6xyk7A441DuYcaxxM/5FxnMza1M0G3f0B0CEdGHF7T5TsY+IcbjSELZSxwjEFXFIfB9Gy7VJ7q3sAYM3eiJ0IE8VUtVhMmrwEKwhXf8merKiAEweG7ifDdJKtx+pTsBA9lu05CNHQDFZ94q0UBF+7FVH1lTcB3/aLmGMJZvraCeq0REVSxCImFdJ4OS+SCvzJUJaxLxhUnAjIZBE/ziyeNLDC/mVnxC0K0mMVW7bfp32ybM6RljE+5xxrIEZXH44Uu4Exkf+jIuvpdD8FOpVh14zYMa1FmkljKGN9GaX8GVPNhwyWA6wXBACXLh8DgHOt85BQxmGolmTbED2bl2A98tpjAHDbsVtzXj9ZFGvVmxBc6cRCMyDXOyjMAWcMciQ0yIvyP7AoJiVvYCAO4mECQNU0w3VzNFregPTGA7ET9Viesif1udxF2ThWBnJwi1FEHlhqZI41DuZ6rB0ErdNzeSWRyrljZ3vcIlj5qH0ZpbhTRknOqN76fZC016WJT5B2CutG7YaDb9hyt59bfyk5JJMarLAvfUynk5dgPfzqt6VWbzl2SyQkYGmmsQxlVaaMk7wBGc3sK8mtGjsmNIOnbYOZjrQNnNxe0dIMj5yYlLwGq6qO95VggiCS8w7B1NmxR3OgbBwr+xNIkQJAgZNPYzAaxzq9durLD34hCCXfp+yIHRzosfL4DieRwZYybIUT4Vj9Co5TdoRTAeYca2SMoMeKxRrNRtKJGzp0KnyQIOoFj51QDhQpGRF1wk89lQ2Gm+9Qv/b/RZp/89GbOfKvv/otHagb2t1KENBEbFcRs0R2Ww3/m5dgtfzWo6e/s2gtXHfw9W3Daqgfi0PxL9tkbqDlNaOhGcg0dozrlQZlcQuAcBzXq1TMhmNNTNc8FLpjFRERWDdwuWVUVSigHwJreU6i9NCYFX0dYe2U5Bosi7hP2Va4vr32zWe+8dLpFzIUzHN/rDEx51g7BEOMjn5KrCQNCPzcEUNRshI2ZkwcgR6TGQdJ5gNRw133SOxH+8+3HbsVAL72ykO98xRsjURCBETqHU7RZnXvmABYy2soUnkG9NdfeQgAvu/q78GuZ5qmYiaiCPK/bKMKMu4NECnQETolyTV5icKGZUNqjyFvyVYROoaLSo/VHasGrxD0NJrIVPiLh2PFk4N3FA7EjuBYvvaAcGAagwlyLAzN9znW8iyONZqJP2NO3HEcazyBR692zrFGxji5dPIj4wF1jYMUDuweEinl/eyQsEk896TtjqJMqydmsuyeyvLbjr9Zavnwa4/2jmoKpgOGyDpixnzmIXSjPR8sriskwfekPcg15O9e+PKWu/29V73rsn2XBNUU+RCnvHaMRZubXouF4rYT6ZrV8xPXpFzlNL3tpr/tKSd/8NzpQJJXFVVF0mSFhZMoMcca3qycF92QDQBQM2uKvHC1rszr+pCNCXzvjdpuzlOalMnTt01gdB1IcizMvVAU5I8112PB2LbCDLNyNuYcaxzkfHXyx7ZMtQ/2e75xzkGRo0GsrC738qTb8psNd3Pb3Wz5TU+56XWNKGP3d67B+MHrf7QqKp9+9gst3w4mANJEmiBYuBlSZyd09o0H6H5WImqzYTe7WeuTaHqt//zYxxDx52//2bZyj4Kv9BKvn8XDV56gCDXR6AV8y5VOw2l4HpEUnKpcV7UUrqsaTsPvEyJ2FtAA6CkPC01MWcwYmQi9GIpj5W9RMBOAdIdPGyLSvQKtgZ80JUcejuVph+EQoRl2077CDOw4jlUQ5hxr5gindMtGP/tg7M/ER1JauPlOJFLbt1ueQ2BwVjX4oskXOasSGC3PsbsRbYaYoLMHFEb/pcQpOFjf/8PXfJ8r3b/4zt90pSciICJCxhBZ2+6ZtAxCVFEWHIxP+r6v7dRQPQQA8MmnP3Ouef5tl9120yU3YLB6KB1ozwpF0lZbDEZZr13fCw8fRX7dqgNAw22QEvGUzwCAKLCiJGu6WQmApwNP2xav+tqdRtrBAgZJ9nbbMTGOgSOAYJbsBC63hCUp4nqlNR8zZMPMkaFtJwANRETZ3lcpdc451uCyO0yPlV1tNuYca3TkeGCCje4WknRrarfZoSCBrbB3QehSDdRyWwwtnhbUmjOTodX0WukzJI0wLDB1uorZLX/ujT8lmPgv3/3kur3R018HGqxgemEIgMl3od+fPYLV4XWMJNMxM1bnck/5f/rIXwHAr/3gr+5dXIE2wSreD6uscHw7RqE4ByJoOA0BAyxuHKyG2yhSugEgIIMZAKCmZrQsbJiUk2MFikxN7V2ENTPimMVQNL3Zk+wxkcGxfGWPNn3POVaOsheRHmuOAoE41EbCGFJpd9cJLGyWC1+mQdu+K/iAJVKwiu27OhlgbhTHjqS5MFwdAcD3XvGO91xx16a79ddP/NduG6RJSwJNiMA4ImKPO0ZlSVGIxTRYbbcs5E03arwIeXP93XNf/tILDxxcPPAvf+IjAjn5WksN5XIrGhP5P9VIRUemJKdiVFteM0VxlQYBlXR94VTgaVsww5EtY+TEOCNgFhxrvJVsrGoNViFsvx6ccQ0R9wIOlsodh6a0SO0HTRI6UcFGqXPOsQaXnQXHKkahVNAbOgfA4H15mibmD9rvz0jQUQDbcwTmWnQ4M23fzsWoBozMtNPU+7/X77v6n93+3xLRv3zg37S9rwCJiBRpqbQiYIiCIUfCFIoQszt2L2AY3SsZ/DL6L/yE9K8f+D+fPf/8Tcdv+Kfv+x9JkpaK+gYxHg0l0wqnbCcFAGi6TR7edkdkGabUPoMh+AopHN7tfQL9o0hVeIVAsyJ2DmbjYuJYiIjUC9lQN+vR6Yy1vFw55CeIIoLfJmccqT2jj2973jqLSS1ftvV4h3GsWby8JVsPdhsmuO+qzTNCDyz2GwE85YlgQ1W+sSSw4qlQKMEMnXkWKPGjV8e+2upv3vUrBjf+8Jt/+vCpR9vXEAARSa19TZoYZ0xw5AyjbikxzRiEtxACw+/7kx/dbgWZPSINS/AqVp84mUSr5t4//vH/faW2528e+q9/8MU/xBpjJh/GmTULCIwmafEfVSrs/n9gSo7Io0n7vgw7hktwauZCy9tONw5Gzcbh9EwavaoxREYdRAZAY7rvuNSsiLrtNypsAWCsOWzSz2tcIHJKV3rPZqJGZJ5ucjSDgeRKB3SE1HKhjekF9UCGGPcBmDQ0+Zvuue4mymwQUf6tTEWDAGAuT38QEEw25vZ4IKIhNsIVj1INZsgnz4K1umhNKcswQ77tNviQ4ayltheGSTqX8wEQAEN+ydLhf3H3h48uHv7sc3/3r776f3UXeiLSvpYNz294pIhXhblkcUsgz/t8F8wK/oP/8vPPnn2RAKq81m01qL5STeg2OvovrfWVC5f9zg9+ZE9t+ZETj33k87/dRJtxNpElrOE1EbGeFgZ96ms4AkDTa3KGFRGRp+E0wnZATapqGYis6dh8SJ2QT85iZSH/9S3fFoyNE2fL115FmFJLAD6+PsOWrsG5GMEYNKGJKDYqPClNEUmznGodz6ihHzIc6vs1B0CuVIKRIt/svGINpxWeYhR5C5XiNxkAAIDUvq91VRTL5zxtJ7dNpPa8o+xNZ+1A/diENWs5PnNDzhO9J9bytm3ZXK0dmpwoedEZXRGJt90NRXJPZX/x7ebCBfssZ0ah63G/J5Yq5FrrVNVYrBmLxckzFM42Tuyp7u8Xl2T6eG37xf31YxFXyET/On5rTGVzP2BHsdBTH5FypWaxrYuDXnxNqmoUEqPxzUdv/rV3/JOaUfvqyYd+877f95XXlpeQtJaO9Lc9ZfvIUSxYxoLJDMQ+Fq0A4Zu9cuU4W63tSV4BAICYEkqgY2lExGc3nv+Fv/jvnz393M2X3Pjvf/zfXLNy1ZjbCfPoQKb+aZAukadcEePgTCIyAhoh4Vqx8RHSwJAA0NdyxqkSZ6HzSm0z/xdPv3cr+1Y4MyCUlcISIlyCo9na+d7uXXjKZmkpAQY97WK2yvSvsywa1w46o2vactEM5tUslO257HoMDAI8MmLu7QigSI2g4WPI4+nFhhslKS0KJj54w4/99vf885pR+8vvfOzXvvS7IcKDRKSlVq7UngIAZnBuMsaDxToWoiEuF3b+u7e6R6zW9qaKQwBb7qbRz1mbQEu9aW/9zB//0kd++J+/5/q7/+2P/t69z335P3zjT09sncx/k6nwtMNAKDklz/mBT0pqHxE8v/eAEdAIheWU2tWgt+xtRX6VLw0rAIOpJtXxtFM1qp50Cowsmh+TmN1TP8HDFccuGKfNbH+sjGoNVvG1EyixDGG6sslDLxeRQaSxsJluaiDSgCT6bJsY1PMjx05PIDwH9m+14zOBJdkHPSshSnHzIZSN8+0qdB2FOiiIYGGoqe4A06RSEvQlREpi07lgDNp1mBMM8d1X3PVLt/7M0cXDnvJ+875/fc/zX47KQ1qScqRs+NqVyJlAQ2rNfJbHPN69oi5Msa++2u+6qlELVIup5g8ySHPlN/z/9WMfeej5h3/p7v/m7qveedeVd37mmXs+9cznnj7/7OhOQlIjosX7u4pP9+VzfEJGXXlc3xUQUagyAe2zZCg59ORAQ27CHM8rVpvcAACiydhzJ4CdxrEykFFtkGJBai8gHzWz4vi6q7xkwJtea8EawlJcTvjaEdlpB9O6KPR0JsexBrY6R4kxf2JTA2dCT5RiJyfb7gkWZA0bHovWEkPWNTjG/s2Jmlm7/egtH7z+x67cexkAPHTqkX/38J+8dOGVmhGibgRaay2Vr4iRBoOLqmEsmNzimOoE1V+CI0tHxQ0Hrwf4aMpJ0jWjnu690uGb2tSiJnztfeqRz3zhiS/+5B1/7x/c/lPvv+a977/mvRv2ha+ffPjBVx566cIr6/aGK1O2SqUKRgCe8hHR7E+wpvy95aFkSAYzAZCAfIrs3ZHkLBi9ddH1Wzk3oHZBMHoYkmHhaadm1G2/NY3IovlR2GyaUXFxHKsfTF71VAvABADGOKGDoRwAHCq+8g0+9U2dk4MiHzrRvzKQQ49VgCP1ID1WmZDji/4iwJxjFYjQEENkRHqCnzVJy2DwQhMBQ6H6vXD9R73SvmVaAy9LAgGXrMXV2sqNB6592/E333TwesE4AHz3/LN/9MhffPu1xzVohryXkpqASIMP2tHkEhLjFjdqljANFNixMEQHJsZa7J2+dv816Cv/3X/8wy3f7Tq5B/DJW6jW+roHB8IQka992/dbvnIlY7hnZeWH3vS+O668/fqD14ZNrS2/td7aaEkHEnlYYx1FAMEWp+wMG9OcE7vyBL/DA5EAGEL4JvTwI5WAhlLSatKdaGfDor2jhGiSc5cminXCbFGMDmR0hOUJtlt2FVeaNESGE/GCrYRBCMCCtJcEeliHQgKttEw3KY4vY3KaGOhOq5UGPU5468lCaQVAnE3ViyADSksA5CxvfpWiIbXPkBfnRTQspPI4E+Wx9fvKFcwc6PZENKU5M8jsN2z/EGnOhivCkO2xllaqKyI0Vrfdxtdf/eaXXvrKg69+i4CAQIPuDB4k0qRIe1q2fGn72tfMQKNuiZrRCZLQl9wlTSg1w/p/f+LPhGDilktuuP+5h+MFWGJySlSOgCCYqAjQBJqUry5sbPzlVz7614/87d7lldsuffOtx24+UN+3t7ayWt17bPnoUB00xxxzzDHHHHPMMRouOFvr9saavfHShRNfPfnQE2efVqkRfAiINGnSrpK2L1u+lpoJJqoGr3BmtPUSABA15EVULTHcfOg6wYQAgLuvuCtGsBTJWr8gWGEgICAzOK8CAUALlK/I8YloTa1/rvV39zz7ReSIgIhYNaqWyGU7a/ktAKwZZbFhtXwbkaqi1nRbHCrdXtUkq2bKx0HTjfgvZ0OBUzeHiPABAC3fEYxlmFBT4WvPMiypfJxEaIYwbOkZnIvcSUNT0dMnD/BHHlyDJ5UphhNmqJ3qQ4Jcqa2QPJqU1F53I3fTbbFIvA+/blrFfUxKLX2tq/nexGFAnnJG2J3uKmfb3dhfO9yn/9OGan4bQZ6gGtE6ba9hq9beaoFhEYZCw91SIJetvp6yfTCCkbGftSKCTec8R2PBWh5SnnHR7w1dt89URb1qlMV58Xzz1cXKqjUhd+zxcaZxYrV2RGRrQBEc356UC3k2NGmGaHsuZ9aASbczBpVya1Y1r8tV5wIi2PYacmCejLYii7TU2lPSVsppsyteFaJqMFNgEFu03XyqHClivf34bQAgAOAdl75d8N+P3BrXfZWKsY0BCAjIDQZkAADYoDylbJ+k1koLUzCTI0dk2PJaLb/Vrz4ICRjEwXJCblv95sPpoOm1GCMG2yQ5gN0ViJjn6NRgXdRyNnkOTyxJ7kKl5tr+wCsj8vi2MXwcLAW+KU3btye+eXD0OFghRGb3tKE3cPoPESxpirKYVADIlcqKyuOplmA9BnoyAAASDUlEQVTNII2Mr3wpW+F7WnfOD8u586OgOFieajE0BBs6Kr2r7E1njWO1/xud4FjJKaMfMqaJPnW2/C1bNgHKYiLcdi8okkoP+/WSv4+SRbIKXrDXOTO8yTpFj4G11lrN8KqyLPmmzrfWfGJWaeJgnW+tIVYHmrxt2TR5DpXK2NCkGDJFypNbHI2sVxQBALSWlhCOdrt8gyjTPzOP80uHIxEQaU0ata+0q6QjtadIEzOYqJqiKpjFkUOIXXXEyuR6CMCR33H8dggI1oK5cOeVb/n6C48FpyW6vfm934dDdLlDxrgJGAThYr7ylPIVKa1NxU3OTYGCMY7IsT1dYrtces9QvIkZezsSAIHvqx6HIJDgLpj11M5BwIph2l4iVlYUkpy6VQMa/s6o89/c8LRdNWqOb5tYmTw5HVKYwfVlv0IDx8Ok5RkXCXkMrPrKNrkAAIMZjm4I7M3ISKZWihXk5jL84BlcJWkgEMwYpVrq+IVlXBHzD6HQj4Gfsxmn+tVZqvEzrjwjz519Cu62/pk0dqY87QR705EHgIOwuHKlx9HsKxyBIl9wxpCBhva+l2CDGWWOa4r+xu5P6p3VRATkayklSFKu0p7SkhCJW5xXDVHp6IbaS1G4vSxbYfD3HcffFJCoNmP40O3/6KGX/pFUSjGvHotJn8d8goCMscDRniMTUrlK+21KKA3FDcaMQJXFkAEiBnmJknUjgJYaEXRib12/79iioaXytG/BQlgkwVH7fXf/IWCNV1p+E7WRdOjTJD1yF806SRphC6GWSiPFA6/1B4EWKKQnQYHGye9Y1FJpDXq8bV8p7sg46II+NWip9Ai0tShQqjxaaU+2gogGNWa1fC8cnLPhN4dKDZEfWiuttU5PJTQiPNUyWCX/gIzIo5SWOuNV6gDj81voTF/kmLhiV2pfa6W1r0uySGqpNWntyzHsfTCGPTUxbqVGpjWb3sbnbGipNejkYjErBIN5tHehCLTlGeQhTkoXJ3NX20NBHCxskyWmtSO3TVZLHXuS7JpRRw1KqUCFROHtxbltheEDoCnIm0yKSGvtaen7IIGUJgImGDOFqApuGcxAZCyqu+rXTLg9AkCDiV94088GR9sE6+jikfdce+fnnv5ShY86rQf+WIIhM5hgTCjlSeUpklq7UnuIXCJD5AwRkQfh5hExJaWr9HxE9I0Uw1nqN2fR8D2pFUnsySPBrVdqvuclhIrAAJOAfGn7WiqtEACRGVxYouq5tN1q1Cuj9Lb02z2Z83pP21VRs2XDZFUNw5kjc8kjfeCacAIPJL4sjMSxpJQoSrE6AgAASalYQh4E4SmbOg9Reg6jsE2Z2V5TDOlmlwdS+1JrX0xsl5PSviaFXMFIi5xUUrnSBz/vl1zBkL6vpPR18JrMfhRJz9ekfBnIM7K9L0/ZfjcbKagcSQx8f/LTyGhQtpSG74vSyNNSUvusNLs+dUv54A/83tSkfJxGHxKpICIgANieg0ggXEc6pDuECIEjM4RhoCl9P6wsGsHs3W0WAIgANFHwX6WDH1opBMYE4wZjluAW5wZHzjp+V91mwybCrjNWuP6u6RDed9VdhxfbubZ64+CXb/n5B1580FNjGLMxUE0BZwI5YybnnlSe1r4ipUlqDQCgsJ3Mp6+ntfQ9QBSTWwPGhOs4CIidjwACbQru+113kwGPGwFNMMJeHT64BnHH91vuttEn5nUGpO8Bz7sdXpEUXDhkA6EPQ7vI5IGvPGKcJqEbG1aPleqc5ysFvCxfkADkK41p8kitfNoK0jwbwFpuk4WyWDrk1a3JL/BSS0maT8786CvH4NbIQ8tXnvKkr9xxCVa2X97AWjtXSulLJf3AAbS3dWhmaBOs3LNNB7nUUflKRQpKx2eMfLOQmWQESEf6wuOiLPKolu/7fv6v36Ihm9JXHrEBsaw1KSpmdeiizUo6MYY85WkCS5gSpAAR1nIBgAKlQGGsMABAW4nVDkYZGtEDHUuAIFBfAVH7YkRmcG4IZnJucGYyJhgwRGDQV18Qsw9CzHq4YNR+7o0f7J7rEazlyvIHrn3fR7/zifS+gbxTTWCzZAZjHLVg3NJtLaVs00aAzn1qSnhbAQCQJkDQ/f0ohxFnXCilSBEgdQPTa/QAqiHxkj2eD6Q8l7g1tDstaSIIrNKDoUgKFJ50BbMKygdCighIT0KDlVL58GcDeYoQZiRQP3k4CF87GlRAljlSeMwzMGzXqUzaG52ISE+sfyS5AEAKRn4dOx+UYa+KQQp57OMvkscnox86LZPSpAJ5uqdmOZZIE1FYnvyzTVLsPP5Y6a9Uzz9WE0G0f2YKUkRIE1GfTwSkgfR4SXkni+D9GpRVBYGpicYaTaKz1rdjMCpJjEEwkBDayUzCOirq/KLOSx/2oeqeDTeQpagLtGMBd0IGCMgZ4wwMEIaBApFz5ND2W0p/d8JNUoT0hV6Qv3ft+5asXrq8iCbz527+6Udee/TZ8y/3FzMfAjEZMkYgGDOJlCCtSXUUdMEj1225Y3fjexIRjczs2Xm+dicCz5WcC4YYbMRQ4C+YS2lMeeihaYDRdG3JZHXIgBS+pwRneUJ++9qti0Vfe1UocBuzkiTGDtMQoO8XNGZdEPuaIMnEkGEaigRpqfvJw4gp7QluAYAAo+naHHoaTQ0oTDHhmOYaQWshJrJLjkhJY7wNU1opzoWoBfLk/HQqcBngvsGVLyqx/pnZeik8oQhF/DNsZJ+qgWUz7hQBgHPBUQizLLssOeNCGBMazxMABy4qRnkC1TLiombk2eJNWha1sSbcCilA5vkON1jFrELU9pZhBKQotYHE7wEIzGsMEREZIgv8lJA4cS6AdalVtEyc8nX/DUvdwxsPvuGDN/xk+Eik3zny3373b/7Cxz+0YW/lFHvALQX/ISROQKyjoyOijr4OABLvtNEmWAO+3aegx/KkUzUWHWUzhMCWJziaWYINN/XXa+D7ZFjmUIuo4WmDM2NwmAYSwAQ3yafs9HBjQkkwOOfjhWkYjPw9VLIwDSRVhjyeAo6MMwMAeJ27fuRF98CebIJCphlqbU5CMeapVoXVOY61lpDSwhBmPZAnv4/lMLbCYeYI6btKGmY10T8z0pG4rokkzUryeY1s78suO6DbhW1wZphWgfPJUDCEYRhG5pw8VQgmjKo5bAyd4iBQWHWT5yB8pIpdJgLoQFktuSFw4JIRsxtiN0ZDR5UVsxKmI8zCgmw3XSelQO3VN2UM9f+NSQfgIwsHfuOuX42l4ojf4aK5+Dvv+cj/8On/2U1GFhlZa9TxzQIA7GjxYkrU8B/B5khuzF4JQcQ451wxhsgZl+AMcksfjmBxqCmn4aBTH2YR5cg5Z3yQH42v7YpRc6RtiWIDnLSlKVKD1Ua+3uWcWJk0WJxDhjwVWvC1zTgHAAbcYw0eSiXOoEbGJDOlMK25xvH7R5Pkmo8fnJArzogzK5AnddNCP+TmWMPMWpxxxrvyxOqcAcfiwIDS5AEYQxeVUXbAPXLNOWN95JkBmOLc4KwEi0UA5nNucTZBJ8fxwDyOFs+jmmKSTUFsJLB9B00wOqGgkrQCQ0cpSrMwRLPCTlcRl6xMvVaHiLSvjPCQlIJJJVb30oi8daP2L971vyya8XU8ZeK+bM+lv/KOf/xbX/y9FMPtqByr1xedG4jp4yIVt2O/F2gIyIOm2+JBIKtOUAnLsHJINZzYVavmer4mNcQimqN/NCnLqAIQR6PwnsQ2Bl44qrdat6Eh5Bm5kckjWx5EJC61G5CVBWuh6Xqs822HwG3fWYxbrMaSZSL9o7RviNoEnDaCcC2x2aFzblQ1zBiDLCJPotLp67EQAfrJA+NZS0cqiyV7vxCoZPKUrX/yTs5IUxDb15IxoyIiGVDSW8WesoqFrqR2/l9A1ltRIoKP/u4n/04qsTDxJ3HgH377hy7dc0myyvRF/Y7jb/3f3vXPfve+P0jRYw1CKn1EyOHkXyZo0kiRzpHg5othkZdFSHIEA86BhNOUesHKnV0HbY48O6KVq9wKsxzlVkUVoNgwx4QuMgNwcCsTJqf9KmEa0R+nMqmATzrefQYMXvFUq/3qICJTEBp7AiuedCdi1JsUpHYhYxvwJDHyJ11BnlpTc/7MiXHus6g+mmMnYjrJnj2pBc/4YAgk6XiyU+TP8BWBl1Gkmo4yCsMUaKx7SmrWKKHQorpR+/DbP3T7sbekVtFXa3LH8bf+H+8/8qv3/PpGaxL+WACwozhWy22JkKWGAGrWZLMfUM00iMCWtiVEw3Ebbiv9Mz4BX/tEzM/MslQTFUVaMDE4GdPY0KS1VoQDdgJPDfr/b+9cXuSoojB+zr23Hv2YTMbgI8EQFxFFJfEVlYgQkZi4MQYUXQiiG1cuBEF0EwK60k0IrlRc6J/hRsxOV5KNroIgKFFxQtfrVt17XFR3T3V1dXVV12NqJv1bFdM91TVTt+79+pzvnkMU6dXHmS1sW3BPaijZ8r0KDA2pvLhbRd/sj3wv2WpJRsrsjqkMQINqp7EGAHRLYxHsfK3uCruisdbibL/RQvgqiHwAsET2SrrouUrasCjlxJqxaE3iy9OxiWPVVfkvS0qr5LXA4eFdnz7/UWbsKiZv2r7v4LEvL1z9+PtLv928UfZaYMHzt7PlssOEKhQwE8DgHFi55XZJHEuBb/DhLc8TOAQAi3OlaGgXWrRuqW2LWzn9RCMKTG67oWuxekRh/mzKKEDgIncspc4Wkz1Cipwid/xEFFVx3AdRaFmc0EFor6GYYIZUoSbFkAOAKbhKBCg5Wq50+2ZrmiYPqTxWh98ui0UDrYLGqp2OaixoXSqtNda+gjV/NzVhznafVM2DRQ5zoJ2EGBHgNHA1GY80baeDO3G5+bpZi5l/ulPSanzw6N0PXT7z4XDOd5VkiWjYMDeuvPT56ycuWB3altU4QShnbwUtdZSXQoMaWv1R4EyjFD2jR6Bd6VQ/udSeJexABXWpq0LUt/wVegSaXN0YGiPpbpgDTa12kDWYHelxrT9TmBH5yVdJ86XFbFqASAO0sdtoji6t5QTdup6qrDyudn9ArqmLpms0uNIhUmLBp6Q8VBm29/ggllAAMAnWxBIKMaGucFxrixIJvekbCrBoVE8DVzQw+m+ffO2zs5fz1RUsFVgAwJC989hb37761dn7n2NYQuZSzpVmtXct8R9oEi/0U+GrCkWVsv8HiCEAkJ5xLtuGSZprqpRoI6C4Pla106TB3LtZhdXP2eTcTmRq0qLdhmvxBmI1btICA9Mm2LmLDIVTh/6uSKh9Ub73QBlWdbW3DMEqbdqbpcozutZYtzusyTo7ihRDw1pcTWNRvAonP8HJa9MgEk683amJYZpAzChInNlXPnNrYAYIAAYTrzzw4ncXv3jzxBtFklpF016b1oEPTr//9cWrp+49yZZ1jlx4dZ2HCFItLyPw681oKpJDazAK3FSexeCmhrBiEEtqTzDDC90VOvDsFh3UWIhsJP2B2VfUagsOk/cUjQUWY5xAJl9lYEVVOllVJhZ/jU7EALCn1uw9MasVZK2xbmsQsN4e8EmCMNAU5pTyWeoMSBqr4mTf/PeJWFph4t3pZD5mLeY4d5AFR37m2NPfvHzlvafeTdZqz6fcXHlk4/AnL1xypPPj79d+uHHt+p+/ymXbDJPugHRitXt+LFc6PBG+ItC2afmRzPmVAsw4JEyBoQo5ZDioBtbAC2SoQ2OlQsCKlC16RLpi7cccqng98k+74jkb84EwtIMo6AkRqlYXEAQWKj8u2dA3+04QTO8mAvNDf8h3LVmvKKxYt70wOWYs2I0VfcH1xLnCzvRpAYDKnvf2P3RNVyDS0IC9UiqJyO3cYrD5G/bm34NTtzuky2KNx2K+1bcwfaP3xD2PPHv01OmjzwzMImUEZlhlsh6Yg/PHz50/fi7S0U9//PzLX9dvun//4/77n7+97Y086esuuEXKo7VmNCNNFAY9NgSoKLB2iMgbGMNtzxGYIbAYMmDKl5GxUt0jRdLEvisdq70dXrXRQY3lR3rT7vmRw7JuVkMY3JbKG1upEQWnZLaXox1EviXau54pofYRWDt7uQEg9752zGNO+0lj7a0PXVMnSU9CjURKM1YuoZ5SR/NJw1S1hLGHHcaZwfEhlRuRHPmmvbFlH7ijd/BQb+tQb+vhOx988sjjvII77X+W65e6fjkrMgAAAABJRU5ErkJggg==)"
      ]
    },
    {
      "cell_type": "code",
      "execution_count": null,
      "metadata": {
        "colab": {
          "base_uri": "https://localhost:8080/"
        },
        "id": "luF8zIAcHOBd",
        "outputId": "12bfacab-e528-4896-d11c-5fce52a42b6b"
      },
      "outputs": [
        {
          "name": "stdout",
          "output_type": "stream",
          "text": [
            "0\n",
            "1\n",
            "2\n",
            "3\n",
            "4\n"
          ]
        }
      ],
      "source": [
        "for number in range(5):\n",
        "    print(number)"
      ]
    },
    {
      "cell_type": "code",
      "execution_count": null,
      "metadata": {
        "colab": {
          "base_uri": "https://localhost:8080/"
        },
        "id": "M0nSmrHLHOBe",
        "outputId": "f75209b2-7d65-4327-bda0-e3172156e4a7"
      },
      "outputs": [
        {
          "name": "stdout",
          "output_type": "stream",
          "text": [
            "2\n",
            "3\n",
            "4\n"
          ]
        }
      ],
      "source": [
        "for number in range(2, 5):\n",
        "    print(number)"
      ]
    },
    {
      "cell_type": "markdown",
      "metadata": {
        "id": "chbdUZ5FHOBe"
      },
      "source": [
        "The last number '2' specifies the step size of each iteration"
      ]
    },
    {
      "cell_type": "code",
      "execution_count": null,
      "metadata": {
        "colab": {
          "base_uri": "https://localhost:8080/"
        },
        "id": "gLh6AG2NHOBe",
        "outputId": "d4801278-6e7c-48b3-e509-d0f2876e88c5"
      },
      "outputs": [
        {
          "name": "stdout",
          "output_type": "stream",
          "text": [
            "0\n",
            "2\n",
            "4\n",
            "6\n",
            "8\n"
          ]
        }
      ],
      "source": [
        "for number in range(0, 10, 2):\n",
        "    print(number)"
      ]
    },
    {
      "cell_type": "markdown",
      "metadata": {
        "id": "8FKz8JmaYMpq"
      },
      "source": [
        "### Making use of Iterators(iter)"
      ]
    },
    {
      "cell_type": "code",
      "execution_count": null,
      "metadata": {
        "colab": {
          "base_uri": "https://localhost:8080/"
        },
        "id": "56iF2gOnXljK",
        "outputId": "f9500755-ae29-4e67-e486-3c3f1d0beeeb"
      },
      "outputs": [
        {
          "name": "stdout",
          "output_type": "stream",
          "text": [
            "a\n",
            "e\n",
            "i\n",
            "o\n",
            "u\n"
          ]
        }
      ],
      "source": [
        "listA = ['a','e','i','o','u']\n",
        "\n",
        "iter_listA = iter(listA)\n",
        "\n",
        "try:\n",
        "    print( next(iter_listA))\n",
        "    print( next(iter_listA))\n",
        "    print( next(iter_listA))\n",
        "    print( next(iter_listA))\n",
        "    print( next(iter_listA))\n",
        "    print( next(iter_listA)) #StopIteration error\n",
        "except:\n",
        "    pass"
      ]
    },
    {
      "cell_type": "markdown",
      "metadata": {
        "id": "5Zb-kMrhYcZV"
      },
      "source": [
        "### Using __next"
      ]
    },
    {
      "cell_type": "code",
      "execution_count": null,
      "metadata": {
        "colab": {
          "base_uri": "https://localhost:8080/"
        },
        "id": "MgYfaeFgYeo0",
        "outputId": "bbd5509e-c087-4b17-a397-d8929da94904"
      },
      "outputs": [
        {
          "name": "stdout",
          "output_type": "stream",
          "text": [
            "11\n",
            "22\n",
            "33\n",
            "44\n",
            "55\n"
          ]
        }
      ],
      "source": [
        "lst = [11, 22, 33, 44, 55]\n",
        "\n",
        "iter_lst = iter(lst)\n",
        "while True:\n",
        "    try:\n",
        "        print(iter_lst.__next__())\n",
        "    except:\n",
        "        break"
      ]
    },
    {
      "cell_type": "markdown",
      "metadata": {
        "id": "zcNfA0C9HOBe"
      },
      "source": [
        "## Exercise:\n",
        "#### Create a list of strings based on a list of numbers\n",
        "The rules:\n",
        "\n",
        "If the number is a multiple of five and odd, the string should be 'five odd'\n",
        "\n",
        "If the number is a multiple of five and even, the string should be 'five even'\n",
        "\n",
        "If the number is odd, the string is 'odd'\n",
        "\n",
        "If the number is even, the string is 'even'\n",
        "\n",
        "(P.S. Refer textbook for mathematical operations - Section 2.5)"
      ]
    },
    {
      "cell_type": "code",
      "execution_count": null,
      "metadata": {
        "id": "Th6Mk-2wHOBe"
      },
      "outputs": [],
      "source": [
        "numbers = [1, 3, 4, 6, 81, 80, 100, 95]"
      ]
    },
    {
      "cell_type": "code",
      "execution_count": null,
      "metadata": {
        "id": "lbaVaUdZHOBe"
      },
      "outputs": [],
      "source": [
        "# Your implementation\n",
        "my_list ="
      ]
    },
    {
      "cell_type": "markdown",
      "metadata": {
        "id": "CsiGFgSEHOBf"
      },
      "source": [
        "Assert will cross check if the output generated is the required ouput. If not, it will throw an error"
      ]
    },
    {
      "cell_type": "code",
      "execution_count": null,
      "metadata": {
        "id": "herebs4_HOBf"
      },
      "outputs": [],
      "source": [
        "assert my_list == ['odd', 'odd', 'even', 'even', 'odd', 'five even', 'five even', 'five odd']"
      ]
    },
    {
      "cell_type": "markdown",
      "metadata": {
        "id": "k_ui3g2HRCNJ"
      },
      "source": [
        "# 8.0 Arrays\n",
        "![image.png](data:image/png;base64,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)"
      ]
    },
    {
      "cell_type": "markdown",
      "metadata": {
        "id": "LJ_KiyTlcAzZ"
      },
      "source": [
        "### Create an array and print all its elements"
      ]
    },
    {
      "cell_type": "code",
      "execution_count": 3,
      "metadata": {
        "colab": {
          "base_uri": "https://localhost:8080/"
        },
        "id": "kuEJlhfDRHh2",
        "outputId": "6eb06246-7fb3-42df-8b2b-27ec2f890d25"
      },
      "outputs": [
        {
          "name": "stdout",
          "output_type": "stream",
          "text": [
            "The new created array is :  1 2 3 \n"
          ]
        }
      ],
      "source": [
        "import array as arr\n",
        "\n",
        "a = arr.array('i', [1, 2, 3])\n",
        "print(\"The new created array is : \", end=\" \")\n",
        "for i in range(0, 3):\n",
        "    print(a[i], end=\" \")\n",
        "print()"
      ]
    },
    {
      "cell_type": "markdown",
      "metadata": {
        "id": "jWsYinVebjVP"
      },
      "source": [
        "### Add element using 'Insert'"
      ]
    },
    {
      "cell_type": "code",
      "execution_count": 4,
      "metadata": {
        "colab": {
          "base_uri": "https://localhost:8080/"
        },
        "id": "PWrzbRUyUtxO",
        "outputId": "c42fc4e9-4f04-4182-e3c6-e78f5cb5a94c"
      },
      "outputs": [
        {
          "name": "stdout",
          "output_type": "stream",
          "text": [
            "Array after insertion :  1 4 2 3 \n"
          ]
        }
      ],
      "source": [
        "# a.insert(place of element to be inserted, value of element to be inserted)\n",
        "\n",
        "a.insert(1, 4)\n",
        "print(\"Array after insertion : \", end=\" \")\n",
        "for i in (a):\n",
        "    print(i, end=\" \")\n",
        "print()"
      ]
    },
    {
      "cell_type": "markdown",
      "metadata": {
        "id": "zkeXEu-0ba85"
      },
      "source": [
        "### Add element using 'Append'"
      ]
    },
    {
      "cell_type": "code",
      "execution_count": 5,
      "metadata": {
        "colab": {
          "base_uri": "https://localhost:8080/"
        },
        "id": "N7xbaqQ9VZ0X",
        "outputId": "bcc913a2-c9d3-4817-a01c-bc9799fc2ea8"
      },
      "outputs": [
        {
          "name": "stdout",
          "output_type": "stream",
          "text": [
            "Array before insertion :  2.5 3.2 3.3 \n",
            "Array after insertion :  2.5 3.2 3.3 4.4 \n"
          ]
        }
      ],
      "source": [
        "b = arr.array('d', [2.5, 3.2, 3.3])\n",
        "print(\"Array before insertion : \", end=\" \")\n",
        "for i in range(0, 3):\n",
        "    print(b[i], end=\" \")\n",
        "print()\n",
        "\n",
        "b.append(4.4)\n",
        "\n",
        "print(\"Array after insertion : \", end=\" \")\n",
        "for i in (b):\n",
        "    print(i, end=\" \")\n",
        "print()"
      ]
    },
    {
      "cell_type": "code",
      "execution_count": 6,
      "metadata": {
        "colab": {
          "base_uri": "https://localhost:8080/"
        },
        "id": "XmNJfZv2Zm32",
        "outputId": "8cdef964-d367-4774-c81e-3cd5f66c4363"
      },
      "outputs": [
        {
          "name": "stdout",
          "output_type": "stream",
          "text": [
            "Access 1st element :  2.5\n"
          ]
        }
      ],
      "source": [
        "print(\"Access 1st element : \", b[0])"
      ]
    },
    {
      "cell_type": "markdown",
      "metadata": {
        "id": "V8coBagedVJw"
      },
      "source": [
        "### Slicing of an array\n",
        "\n",
        "![image.png](data:image/png;base64,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)"
      ]
    },
    {
      "cell_type": "code",
      "execution_count": 9,
      "metadata": {
        "colab": {
          "base_uri": "https://localhost:8080/"
        },
        "id": "2DV4bAajdYp5",
        "outputId": "6c3c8996-35d7-4217-cdd0-3fa77a833074"
      },
      "outputs": [
        {
          "name": "stdout",
          "output_type": "stream",
          "text": [
            "Initial Array: \n",
            "1 2 3 4 5 6 7 8 9 10 \n",
            "Slicing elements in a range 3-8: \n",
            "array('i', [4, 5, 6, 7, 8])\n",
            "\n",
            "Elements sliced from 5th element till the end: \n",
            "array('i', [6, 7, 8, 9, 10])\n",
            "\n",
            "Printing all elements using slice operation: \n",
            "array('i', [1, 2, 3, 4, 5, 6, 7, 8, 9, 10])\n"
          ]
        }
      ],
      "source": [
        "import array as arr\n",
        "l = [1, 2, 3, 4, 5, 6, 7, 8, 9, 10]\n",
        "\n",
        "a = arr.array('i', l)\n",
        "print(\"Initial Array: \")\n",
        "for i in (a):\n",
        "    print(i, end=\" \")\n",
        "Sliced_array = a[3:8]\n",
        "print(\"\\nSlicing elements in a range 3-8: \")\n",
        "print(Sliced_array)\n",
        "\n",
        "Sliced_array = a[5:]\n",
        "print(\"\\nElements sliced from 5th \"\n",
        "      \"element till the end: \")\n",
        "print(Sliced_array)\n",
        "Sliced_array = a[:]\n",
        "print(\"\\nPrinting all elements using slice operation: \")\n",
        "print(Sliced_array)"
      ]
    },
    {
      "cell_type": "markdown",
      "metadata": {
        "id": "MTh2jf9-bVT1"
      },
      "source": [
        "### Removing element using Pop and remove"
      ]
    },
    {
      "cell_type": "code",
      "execution_count": 7,
      "metadata": {
        "colab": {
          "base_uri": "https://localhost:8080/"
        },
        "id": "InMugSlDa3fC",
        "outputId": "4b89db60-cfd9-40da-ac9b-fc68a2bc5a92"
      },
      "outputs": [
        {
          "name": "stdout",
          "output_type": "stream",
          "text": [
            "The new created array is : 1 2 3 1 5 \r\n",
            "The popped element is : 3\n",
            "The array after popping is : 1 2 1 5 \r\n",
            "The array after removing is : 2 1 5 "
          ]
        }
      ],
      "source": [
        "import array\n",
        "arr = array.array('i', [1, 2, 3, 1, 5])\n",
        "print(\"The new created array is : \", end=\"\")\n",
        "for i in range(0, 5):\n",
        "    print(arr[i], end=\" \")\n",
        "\n",
        "print(\"\\r\")\n",
        "print(\"The popped element is : \", end=\"\")\n",
        "print(arr.pop(2))\n",
        "print(\"The array after popping is : \", end=\"\")\n",
        "for i in range(0, 4):\n",
        "    print(arr[i], end=\" \")\n",
        "\n",
        "print(\"\\r\")\n",
        "arr.remove(1)\n",
        "print(\"The array after removing is : \", end=\"\")\n",
        "for i in range(0, 3):\n",
        "    print(arr[i], end=\" \")"
      ]
    },
    {
      "cell_type": "markdown",
      "metadata": {
        "id": "Z9hkSnSZee7m"
      },
      "source": [
        "### Search Element in an array"
      ]
    },
    {
      "cell_type": "code",
      "execution_count": 10,
      "metadata": {
        "colab": {
          "base_uri": "https://localhost:8080/"
        },
        "id": "0d7g8UZNeZ1l",
        "outputId": "13e9df83-94dd-4038-8666-5f7c00329230"
      },
      "outputs": [
        {
          "name": "stdout",
          "output_type": "stream",
          "text": [
            "The new created array is : 1 2 3 1 2 5 \r\n",
            "The index of 1st occurrence of 2 is : 1\n",
            "The index of 1st occurrence of 1 is : 0\n"
          ]
        }
      ],
      "source": [
        "import array\n",
        "arr = array.array('i', [1, 2, 3, 1, 2, 5])\n",
        "print(\"The new created array is : \", end=\"\")\n",
        "for i in range(0, 6):\n",
        "    print(arr[i], end=\" \")\n",
        "\n",
        "print(\"\\r\")\n",
        "print(\"The index of 1st occurrence of 2 is : \", end=\"\")\n",
        "print(arr.index(2))\n",
        "print(\"The index of 1st occurrence of 1 is : \", end=\"\")\n",
        "print(arr.index(1))"
      ]
    },
    {
      "cell_type": "markdown",
      "metadata": {
        "id": "y3QUETjMfXFx"
      },
      "source": [
        "### Update Elements\n"
      ]
    },
    {
      "cell_type": "code",
      "execution_count": 11,
      "metadata": {
        "colab": {
          "base_uri": "https://localhost:8080/"
        },
        "id": "v5CJbSQ6fZez",
        "outputId": "c5896b3b-667c-41d1-9826-83f3776d233a"
      },
      "outputs": [
        {
          "name": "stdout",
          "output_type": "stream",
          "text": [
            "Array before updation : 1 2 3 1 2 5 \r\n",
            "Array after updation : 1 2 6 1 2 5 \n"
          ]
        }
      ],
      "source": [
        "import array\n",
        "arr = array.array('i', [1, 2, 3, 1, 2, 5])\n",
        "print(\"Array before updation : \", end=\"\")\n",
        "for i in range(0, 6):\n",
        "    print(arr[i], end=\" \")\n",
        "\n",
        "print(\"\\r\")\n",
        "arr[2] = 6\n",
        "print(\"Array after updation : \", end=\"\")\n",
        "for i in range(0, 6):\n",
        "    print(arr[i], end=\" \")\n",
        "print()"
      ]
    },
    {
      "cell_type": "markdown",
      "metadata": {
        "id": "ikKMIT3mhYoD"
      },
      "source": [
        "### Counting number of elements in array"
      ]
    },
    {
      "cell_type": "code",
      "execution_count": 12,
      "metadata": {
        "colab": {
          "base_uri": "https://localhost:8080/"
        },
        "id": "vc4CJiDvffRN",
        "outputId": "e54c745c-5206-4565-d066-45f1ff1a23d1"
      },
      "outputs": [
        {
          "name": "stdout",
          "output_type": "stream",
          "text": [
            "Number of occurrences of 2: 3\n"
          ]
        }
      ],
      "source": [
        "import array\n",
        "my_array = array.array('i', [1, 2, 3, 4, 2, 5, 2])\n",
        "count = my_array.count(2)\n",
        "print(\"Number of occurrences of 2:\", count)"
      ]
    },
    {
      "cell_type": "markdown",
      "metadata": {
        "id": "mC1QxXyihewh"
      },
      "source": [
        "### Reverse elements in array"
      ]
    },
    {
      "cell_type": "code",
      "execution_count": 13,
      "metadata": {
        "colab": {
          "base_uri": "https://localhost:8080/"
        },
        "id": "27vh_1V6hcdG",
        "outputId": "899c3f4d-5abf-48eb-889e-0b8a1a1c6524"
      },
      "outputs": [
        {
          "name": "stdout",
          "output_type": "stream",
          "text": [
            "Original array: 1 2 3 4 5\n",
            "Reversed array: 5 4 3 2 1\n"
          ]
        }
      ],
      "source": [
        "import array\n",
        "my_array = array.array('i', [1, 2, 3, 4, 5])\n",
        "print(\"Original array:\", *my_array)\n",
        "my_array.reverse()\n",
        "print(\"Reversed array:\", *my_array)"
      ]
    },
    {
      "cell_type": "code",
      "execution_count": null,
      "metadata": {
        "id": "ZFxCQ8PXhjfK"
      },
      "outputs": [],
      "source": [
        "max/min"
      ]
    },
    {
      "cell_type": "markdown",
      "metadata": {
        "id": "sbQtWBL2HOBf"
      },
      "source": [
        "# 9.0 Loop: 'while'\n",
        "\n",
        "With the while loop we can execute a set of statements as long as a condition is true.\n",
        "\n",
        "The while loop requires relevant variables to be ready, in this example we need to define an indexing variable, i, which we set to 1."
      ]
    },
    {
      "cell_type": "code",
      "execution_count": null,
      "metadata": {
        "colab": {
          "base_uri": "https://localhost:8080/"
        },
        "id": "qHeoEDCHHOBf",
        "outputId": "e8a4ee20-e290-4147-adb2-a3a66e714fe8"
      },
      "outputs": [
        {
          "name": "stdout",
          "output_type": "stream",
          "text": [
            "1\n",
            "2\n",
            "3\n",
            "4\n",
            "5\n"
          ]
        }
      ],
      "source": [
        "i = 1\n",
        "while i < 6:\n",
        "    print(i)\n",
        "    i += 1"
      ]
    },
    {
      "cell_type": "markdown",
      "metadata": {
        "id": "QL4oKW5OHOBf"
      },
      "source": [
        "With the break statement we can stop the loop even if the while condition is true:"
      ]
    },
    {
      "cell_type": "code",
      "execution_count": null,
      "metadata": {
        "colab": {
          "base_uri": "https://localhost:8080/"
        },
        "id": "9wgeewCUHOBf",
        "outputId": "b6ff1f7e-77db-4444-8cda-85d54eb8edd8"
      },
      "outputs": [
        {
          "name": "stdout",
          "output_type": "stream",
          "text": [
            "1\n",
            "2\n",
            "3\n"
          ]
        }
      ],
      "source": [
        "i = 1\n",
        "while i < 6:\n",
        "    print(i)\n",
        "    if i == 3:\n",
        "        break\n",
        "    i += 1"
      ]
    },
    {
      "cell_type": "markdown",
      "metadata": {
        "id": "pNtt1rpAHOBf"
      },
      "source": [
        "With the continue statement we can stop the current iteration, and continue with the next:"
      ]
    },
    {
      "cell_type": "code",
      "execution_count": null,
      "metadata": {
        "colab": {
          "base_uri": "https://localhost:8080/"
        },
        "id": "_NPifhmxHOBg",
        "outputId": "9cbf1984-8e3f-43bf-d65b-98eb0371aaff"
      },
      "outputs": [
        {
          "name": "stdout",
          "output_type": "stream",
          "text": [
            "1\n",
            "2\n",
            "4\n",
            "5\n",
            "6\n"
          ]
        }
      ],
      "source": [
        "i = 0\n",
        "while i < 6:\n",
        "    i += 1\n",
        "    if i == 3:\n",
        "        continue\n",
        "    print(i)"
      ]
    },
    {
      "cell_type": "markdown",
      "metadata": {
        "id": "TXIDX6bgHOBg"
      },
      "source": [
        "With the else statement we can run a block of code once when the condition no longer is true:"
      ]
    },
    {
      "cell_type": "code",
      "execution_count": null,
      "metadata": {
        "colab": {
          "base_uri": "https://localhost:8080/"
        },
        "id": "fGoEpa4CHOBg",
        "outputId": "2fbffe5b-6613-42ee-f3e8-8d0fdbe65cf4"
      },
      "outputs": [
        {
          "name": "stdout",
          "output_type": "stream",
          "text": [
            "1\n",
            "2\n",
            "3\n",
            "4\n",
            "5\n",
            "i is no longer less than 6\n"
          ]
        }
      ],
      "source": [
        "i = 1\n",
        "while i < 6:\n",
        "    print(i)\n",
        "    i += 1\n",
        "else:\n",
        "    print(\"i is no longer less than 6\")"
      ]
    },
    {
      "cell_type": "markdown",
      "metadata": {
        "id": "ce4zjoF8NJoF"
      },
      "source": [
        "# 10.0 Functions\n",
        "A function is a block of code which only runs when it is called.\n",
        "\n",
        "You can pass data, known as parameters, into a function.\n",
        "\n",
        "A function can return data as a result.\n",
        "\n",
        "Note that you need not mention any return type if you are returning at the time of function definition.\n",
        "\n",
        "Since python is loosely typed language, the user has to take care of handling the returned values from the function.\n",
        "    \n",
        "### 10.1 Functions with no arguments"
      ]
    },
    {
      "cell_type": "code",
      "execution_count": null,
      "metadata": {
        "colab": {
          "base_uri": "https://localhost:8080/"
        },
        "id": "h5o3Xy14NMGQ",
        "outputId": "696e8fb2-afe5-48ff-9357-8fe54293e587"
      },
      "outputs": [
        {
          "name": "stdout",
          "output_type": "stream",
          "text": [
            "Hello Geeks\n",
            "55\n"
          ]
        }
      ],
      "source": [
        "# Python program to demonstrate\n",
        "# functions with no arguments\n",
        "\n",
        "# Defining functions\n",
        "def ask_user():\n",
        "    print(\"Hello Geeks\")\n",
        "\n",
        "# Function that returns sum\n",
        "# of first 10 numbers\n",
        "def my_func():\n",
        "    a = 0\n",
        "    for i in range(1, 11):\n",
        "        a = a + i\n",
        "    return a\n",
        "\n",
        "# Calling functions\n",
        "ask_user()\n",
        "res = my_func()\n",
        "print(res)"
      ]
    },
    {
      "cell_type": "markdown",
      "metadata": {
        "id": "GzqMbMO8NR39"
      },
      "source": [
        "### 10.2 Functions with arguments"
      ]
    },
    {
      "cell_type": "code",
      "execution_count": null,
      "metadata": {
        "colab": {
          "base_uri": "https://localhost:8080/"
        },
        "id": "vGz_WdOTNT6L",
        "outputId": "54005cb3-bf5c-4445-c1d8-adf6390a4570"
      },
      "outputs": [
        {
          "name": "stdout",
          "output_type": "stream",
          "text": [
            "x:  10\n",
            "y:  50\n"
          ]
        }
      ],
      "source": [
        "# Python program to demonstrate\n",
        "# default arguments\n",
        "\n",
        "\n",
        "def myFun(x, y = 50):\n",
        "    print(\"x: \", x)\n",
        "    print(\"y: \", y)\n",
        "\n",
        "# Driver code\n",
        "myFun(10)"
      ]
    },
    {
      "cell_type": "code",
      "execution_count": null,
      "metadata": {
        "colab": {
          "base_uri": "https://localhost:8080/"
        },
        "id": "xiUitr7rNeYO",
        "outputId": "61697eb5-2dc8-478a-bc90-cd46c71d144a"
      },
      "outputs": [
        {
          "name": "stdout",
          "output_type": "stream",
          "text": [
            "Geeks Practice\n",
            "Geeks Practice\n"
          ]
        }
      ],
      "source": [
        "# Python program to demonstrate Keyword Arguments\n",
        "def student(firstname, lastname):\n",
        "     print(firstname, lastname)\n",
        "\n",
        "\n",
        "# Keyword arguments\n",
        "student(firstname ='Geeks', lastname ='Practice')\n",
        "student(lastname ='Practice', firstname ='Geeks')"
      ]
    },
    {
      "cell_type": "markdown",
      "metadata": {
        "id": "fOIU8FqlgE-d"
      },
      "source": [
        "\n",
        "More information: If you do not want to use the values returned by the function, you can use _ (underscore) to ignore the returned value.<br>\n",
        "For example, <br>\n",
        "def my_func():<br>\n",
        "    &emsp; a = 20<br>\n",
        "    &emsp; b= 10<br>\n",
        "    &emsp; return a, b\n",
        "\n",
        "Suppose, you do not want to use value of 'a' you can simply write:<br>\n",
        "&nbsp; _ , val_b = my_func()"
      ]
    },
    {
      "cell_type": "markdown",
      "metadata": {
        "id": "vB68gq4oNm1U"
      },
      "source": [
        "- A point to remember is that python uses call by reference concept while passing the arguments to the function. Modifications to the values of the variable in the function changes the state of the original variable. Hence it is suggested to use copy() inbuilt method provided by python while dealing with lists/numpy arrays in the future assignments if there is a need.<br>\n",
        "[This link](https://docs.python.org/3/library/functions.html) is a good place to look at the python's inbuilt functions and their usage.\n",
        "- The tutorial is borrowed from [here](https://www.geeksforgeeks.org/python-programming-language/learn-python-tutorial/), a good place to learn more concepts if you are interested."
      ]
    },
    {
      "cell_type": "markdown",
      "metadata": {
        "id": "6FcqfDR0cHFo"
      },
      "source": [
        "## Exercise\n",
        "- Write a function that returns if the given number is a prime or not and print the returned value\n",
        "- For example, if 5 is passed as a parameter to the function, the function should return *prime*. If 8 is passed to the function, it should return *not a prime.*"
      ]
    },
    {
      "cell_type": "code",
      "execution_count": null,
      "metadata": {
        "id": "PJ47jcvUcHrk"
      },
      "outputs": [],
      "source": [
        "### Your Code ###"
      ]
    },
    {
      "cell_type": "markdown",
      "metadata": {
        "id": "rIees2MriG1v"
      },
      "source": [
        "## Object Oriented Programming using Python (Advanced)\n",
        "### What is OOP?\n",
        "- OOP utilises the concept of programming using classes and objects.\n",
        "- The main concept of OOPs is to bind the data and the functions that work on that together as a single unit\n",
        "### Concepts of OOPS\n",
        "- The pillars of Object Oriented Programming are\n",
        "- 1. Polymorphism\n",
        "- 2. Encapsulation\n",
        "- 3. Inheritance\n",
        "- 4. Abstraction\n",
        "\n",
        "### What is a Class?\n",
        "- A class contains the blueprints or the prototype from which the objects are being created. It is a logical entity that contains some attributes (variables) and methods (functions).\n",
        "#### Why do we need a class?\n",
        "- To understand the need for creating a class, let’s consider an example, let’s say you wanted to track the number of dogs that may have different attributes like breed, age. If a list is used, the first element could be the dog’s breed while the second element could represent its age. Let’s suppose there are 100 different dogs, then how would you know which element is supposed to be which? What if you wanted to add other properties to these dogs? This lacks organization and it’s the exact need for classes.\n",
        "#### Points to remember\n",
        "- Classes are created by keyword class.\n",
        "- Attributes are the variables that belong to a class.\n",
        "- Attributes are always public and can be accessed using the dot (.) operator. Eg.: Myclass.Myattribute\n"
      ]
    },
    {
      "cell_type": "code",
      "execution_count": null,
      "metadata": {
        "id": "xsPT-utD60Ol"
      },
      "outputs": [],
      "source": [
        "# Class Example (Empty class)\n",
        "class Myclass:\n",
        "    # Statements\n",
        "    pass"
      ]
    },
    {
      "cell_type": "markdown",
      "metadata": {
        "id": "xX1BpTIG7O2r"
      },
      "source": [
        "### What is an Object?\n",
        "- The object is an entity that has a state and behavior associated with it\n",
        "-  Integers, strings, floating-point numbers, even arrays, and dictionaries, are all objects. More specifically, any single integer or any single string is an object.\n",
        "#### What does an object consist of?\n",
        "- State (Variables): It is represented by the attributes of an object. It also reflects the properties of an object.\n",
        "- Behavior (Methods/Functions): It is represented by the methods of an object. It also reflects the response of an object to other objects.\n",
        "- Identity (Reference that points to the memory created for the object): It gives a unique name to an object and enables one object to interact with other objects.\n"
      ]
    },
    {
      "cell_type": "code",
      "execution_count": null,
      "metadata": {
        "id": "BloqkRCX8YZK"
      },
      "outputs": [],
      "source": [
        "# Creating an Object\n",
        "obj = Myclass()"
      ]
    },
    {
      "cell_type": "markdown",
      "metadata": {
        "id": "l4z0ZmJz8sjL"
      },
      "source": [
        "### Important concept in Python:\n",
        "### 1. `self`:\n",
        "- Class methods must have an extra first parameter in the method definition. We do not give a value for this parameter when we call the method, Python provides it.\n",
        "- If we have a method that takes no arguments, then we still have to have one argument which is \"self\".\n",
        "- This \"self\" is similar to \"this\" pointer in C++ and \"this\" reference in Java.\n",
        "We will use self later on in this tutorial. If you are curious to know about the usage of self, refer to [GFG Explanation on self](https://www.geeksforgeeks.org/self-in-python-class/)\n",
        "\n",
        "### 2. `__init__` method:\n",
        "- init method is similar to constructors in C++ and Java.\n",
        "- It is run as soon as an object of a class is instantiated (created). The method is useful to do any initialization you want to do with your object.\n"
      ]
    },
    {
      "cell_type": "code",
      "execution_count": null,
      "metadata": {
        "colab": {
          "base_uri": "https://localhost:8080/"
        },
        "id": "S8B-6t4L-PhV",
        "outputId": "1252f19d-74c3-4975-dd9c-85a71bc0f59e"
      },
      "outputs": [
        {
          "name": "stdout",
          "output_type": "stream",
          "text": [
            "Jimmy\n",
            "Jimmy Says Bhow Bhow\n"
          ]
        }
      ],
      "source": [
        "# A Simple Class\n",
        "\n",
        "class Pets:\n",
        "    \"\"\"\n",
        "    This class has a constructor and a method\n",
        "    \"\"\"\n",
        "    def __init__(self, name, mammal):\n",
        "        self.name = name # Here, self.name will be the class attribute and name which is getting assigned is local variable to __init__ method\n",
        "        self.mammal_type = mammal\n",
        "    def speak(self):\n",
        "        if self.mammal_type.lower() == \"dog\":\n",
        "            print(self.name, \"Says\", \"Bhow Bhow\")\n",
        "\n",
        "my_pet = Pets(\"Jimmy\", \"Dog\")\n",
        "\n",
        "print(my_pet.name)\n",
        "my_pet.speak()"
      ]
    },
    {
      "cell_type": "markdown",
      "metadata": {
        "id": "Ps0lDLtGBpJ3"
      },
      "source": [
        "### Inheritance\n",
        "- Inheritance is the capability of one class to derive or inherit the properties from another class.\n",
        "- The class that derives properties is called the derived class or child class, and the class from which the properties are being derived is called the base class or parent class.\n",
        "- Some advantages of Inheritance:\n",
        "    1.   Reusability of code\n",
        "    2.   Add more features instead of modifying the original base/parent class.\n",
        "    3. It is transitive in nature, which means that if class B inherits from another class A, then all the subclasses of B would automatically inherit from class A.\n",
        "\n",
        "#### Types of Inheritance:\n",
        "1. Single Inheritance:\n",
        "    - Single-level inheritance enables a derived class to inherit characteristics from a single-parent class.\n",
        "2. Multilevel Inheritance:\n",
        "    - Multi-level inheritance enables a derived class to inherit properties from an immediate parent class which in turn inherits properties from his parent class.\n",
        "3. Hierarchical Inheritance:\n",
        "    - Hierarchical level inheritance enables more than one derived class to inherit properties from a parent class.\n",
        "4. Multiple Inheritance:\n",
        "    - Multiple level inheritance enables one derived class to inherit properties from more than one base class.\n"
      ]
    },
    {
      "cell_type": "code",
      "execution_count": null,
      "metadata": {
        "colab": {
          "base_uri": "https://localhost:8080/"
        },
        "id": "0Xb0bEMNIhRf",
        "outputId": "d9ff7d9d-ebde-4846-d24d-614e44b98732"
      },
      "outputs": [
        {
          "name": "stdout",
          "output_type": "stream",
          "text": [
            "Rahul\n",
            "886012\n",
            "My name is Rahul\n",
            "IdNumber: 886012\n",
            "Post: Intern\n"
          ]
        }
      ],
      "source": [
        "# Python code to demonstrate Inheritance and how parent constructors are called.\n",
        "\n",
        "# parent class\n",
        "class Person(object):\n",
        "\n",
        "\t# __init__ is known as the constructor\n",
        "\tdef __init__(self, name, idnumber):\n",
        "\t\tself.name = name\n",
        "\t\tself.idnumber = idnumber\n",
        "\n",
        "\tdef display(self):\n",
        "\t\tprint(self.name)\n",
        "\t\tprint(self.idnumber)\n",
        "\n",
        "\tdef details(self):\n",
        "\t\tprint(\"My name is {}\".format(self.name))\n",
        "\t\tprint(\"IdNumber: {}\".format(self.idnumber))\n",
        "\n",
        "# child class\n",
        "class Employee(Person):\n",
        "\tdef __init__(self, name, idnumber, salary, post):\n",
        "\t\tself.salary = salary\n",
        "\t\tself.post = post\n",
        "\n",
        "\t\t# invoking the __init__ of the parent class\n",
        "\t\tPerson.__init__(self, name, idnumber)\n",
        "\n",
        "\tdef details(self):\n",
        "\t\tprint(\"My name is {}\".format(self.name))\n",
        "\t\tprint(\"IdNumber: {}\".format(self.idnumber))\n",
        "\t\tprint(\"Post: {}\".format(self.post))\n",
        "\n",
        "\n",
        "# creation of an object variable or an instance\n",
        "a = Employee('Rahul', 886012, 200000, \"Intern\")\n",
        "\n",
        "# calling a function of the class Person using its instance\n",
        "a.display() # Function of Parent class\n",
        "a.details() # Function of Child class\n",
        "\n",
        "# Note then when there is inheritance and an object is created using the child\n",
        "# class name, then the object can access the methods of parent class. (Exceptions when you consider encapsulation/immutable class concepts (final/private classes))\n"
      ]
    },
    {
      "cell_type": "markdown",
      "metadata": {
        "id": "0U2I8joiJda4"
      },
      "source": [
        "### Polymorphism\n",
        "- Polymorphism simply means having many forms.\n",
        "- For example, we need to determine if the given species of birds fly or not, using polymorphism we can do this using a single function."
      ]
    },
    {
      "cell_type": "code",
      "execution_count": null,
      "metadata": {
        "colab": {
          "base_uri": "https://localhost:8080/"
        },
        "id": "FSdZXt_QJkkx",
        "outputId": "1e4b1b63-962f-411b-af0d-e30448d17a92"
      },
      "outputs": [
        {
          "name": "stdout",
          "output_type": "stream",
          "text": [
            "There are many types of birds.\n",
            "Most of the birds can fly but some cannot.\n",
            "There are many types of birds.\n",
            "Sparrows can fly.\n",
            "There are many types of birds.\n",
            "Ostriches cannot fly.\n"
          ]
        }
      ],
      "source": [
        "class Bird:\n",
        "\n",
        "\tdef intro(self):\n",
        "\t\tprint(\"There are many types of birds.\")\n",
        "\n",
        "\tdef flight(self):\n",
        "\t\tprint(\"Most of the birds can fly but some cannot.\")\n",
        "\n",
        "class sparrow(Bird):\n",
        "\n",
        "\tdef flight(self):\n",
        "\t\tprint(\"Sparrows can fly.\")\n",
        "\n",
        "class ostrich(Bird):\n",
        "\n",
        "\tdef flight(self):\n",
        "\t\tprint(\"Ostriches cannot fly.\")\n",
        "\n",
        "obj_bird = Bird()\n",
        "obj_spr = sparrow()\n",
        "obj_ost = ostrich()\n",
        "\n",
        "obj_bird.intro()\n",
        "obj_bird.flight()\n",
        "\n",
        "obj_spr.intro()\n",
        "obj_spr.flight()\n",
        "\n",
        "obj_ost.intro()\n",
        "obj_ost.flight()\n"
      ]
    },
    {
      "cell_type": "markdown",
      "metadata": {
        "id": "2PHZv8mWJstX"
      },
      "source": [
        "### Encapsulation\n",
        "- Encapsulation describes the idea of wrapping data and the methods that work on data within one unit.\n",
        "- This puts restrictions on accessing variables and methods directly and can prevent the accidental modification of data.\n",
        "- To prevent accidental change, an object’s variable can only be changed by an object’s method. Those types of variables are known as private variables.\n",
        "- For example, a class itself is a good example for Encapsulation as it binds the variables and the methods in one class.\n",
        "\n",
        "To create a private variable in python use `__`(double underscore) before the name of the variable."
      ]
    },
    {
      "cell_type": "code",
      "execution_count": 5,
      "metadata": {
        "colab": {
          "base_uri": "https://localhost:8080/"
        },
        "id": "0a-LbWZpKE9h",
        "outputId": "ee3cff02-5489-4dc6-fcf4-870521dda4a0"
      },
      "outputs": [
        {
          "name": "stdout",
          "output_type": "stream",
          "text": [
            "GeeksforGeeks\n",
            "Calling private member of base class: \n"
          ]
        }
      ],
      "source": [
        "# Python program to demonstrate private members using encapsulation\n",
        "\n",
        "# Creating a Base class\n",
        "class Base:\n",
        "\tdef __init__(self):\n",
        "\t\tself.a = \"GeeksforGeeks\"\n",
        "\t\tself.__c = \"GeeksforGeeks\"\n",
        "\n",
        "# Creating a derived class\n",
        "class Derived(Base):\n",
        "\tdef __init__(self):\n",
        "\n",
        "\t\t# Calling constructor of\n",
        "\t\t# Base class\n",
        "\t\tBase.__init__(self)\n",
        "\t\tprint(\"Calling private member of base class: \")\n",
        "\t\tprint(self.__c)\n",
        "\n",
        "\n",
        "# Driver code\n",
        "obj1 = Base()\n",
        "print(obj1.a)\n",
        "# print(obj1.c) # will raise an AttributeError\n",
        "obj2 = Derived() # will also raise an AtrributeError as private member of base class is called inside derived class\n"
      ]
    },
    {
      "cell_type": "markdown",
      "metadata": {
        "id": "k3SPVUQHLi-V"
      },
      "source": [
        "### Abstraction\n",
        "- It hides the unnecessary code details from the user.\n",
        "- Also, when we do not want to give out sensitive parts of our code implementation we use the concept of data abstraction.\n",
        "- It can be achieved through creating abstract classes (No implementation of methods).\n",
        "\n",
        "NOTE: If there is nothing to write inside a class or a method or for or while or if or elif, `pass` shoulod be used.\n"
      ]
    },
    {
      "cell_type": "code",
      "execution_count": null,
      "metadata": {
        "colab": {
          "base_uri": "https://localhost:8080/"
        },
        "id": "48EW_GrOMWZu",
        "outputId": "d5bf2a6a-f77a-4ad4-e41e-93d08a058eff"
      },
      "outputs": [
        {
          "name": "stdout",
          "output_type": "stream",
          "text": [
            "I can walk and run\n",
            "I can crawl\n",
            "I can bark\n",
            "I can roar\n"
          ]
        }
      ],
      "source": [
        "# Python program for abstract class\n",
        "class Animal(): # Abstract since the method inside the class is not implemented.\n",
        "\tdef move(self):\n",
        "\t\tpass\n",
        "\n",
        "class Human(Animal):\n",
        "\tdef move(self):\n",
        "\t\tprint(\"I can walk and run\")\n",
        "\n",
        "class Snake(Animal):\n",
        "\tdef move(self):\n",
        "\t\tprint(\"I can crawl\")\n",
        "\n",
        "class Dog(Animal):\n",
        "\tdef move(self):\n",
        "\t\tprint(\"I can bark\")\n",
        "\n",
        "class Lion(Animal):\n",
        "\tdef move(self):\n",
        "\t\tprint(\"I can roar\")\n",
        "\n",
        "# Driver code\n",
        "R = Human()\n",
        "R.move()\n",
        "\n",
        "K = Snake()\n",
        "K.move()\n",
        "\n",
        "R = Dog()\n",
        "R.move()\n",
        "\n",
        "K = Lion()\n",
        "K.move()\n"
      ]
    },
    {
      "cell_type": "markdown",
      "metadata": {},
      "source": [
        "# Exercise - Advanced (Optional)\n",
        "### Lets do an exercise to get a hang of OOP using Python!\n",
        "\n",
        "Write a program to print the area and perimeter of a triangle having sides of 3, 4 and 5 units by creating an abstract class named \"GeometricShapes\" and a class named 'Triangle' that derives GeometricShapes. \n",
        "- Use constructor overloading (one that takes parameters and one that uses default values given in the above problem statement.\n",
        "- Use private variables.\n",
        "- Use setters and getters to modify or retrieve the attributes\n",
        "- Use your own attributes if required."
      ]
    },
    {
      "cell_type": "code",
      "execution_count": null,
      "metadata": {},
      "outputs": [],
      "source": [
        "# write code here"
      ]
    },
    {
      "cell_type": "markdown",
      "metadata": {
        "id": "uDnTMtMNMxQm"
      },
      "source": [
        "### Some important information\n",
        "#### To learn more on\n",
        "1. Encapsulation, visit [this link](https://www.geeksforgeeks.org/encapsulation-in-python/)\n",
        "2. Polymorphism, visit [this link](https://www.geeksforgeeks.org/polymorphism-in-python/)\n",
        "3. Inheritance, visit [this link](https://www.geeksforgeeks.org/inheritance-in-python/)\n",
        "\n",
        "Note that the Deep Learning architectures available open-source uses the concept of OOP using python. For example, Stanford's CS231n base code uses the Object Oriented Programming.\n",
        "\n",
        "Even though the assignments of ENPM 673 can be solved by using the modular programming (i.e. just by using the methods), it is a good practice to use OOP and solve the problems wherever it is possible.\n",
        "\n"
      ]
    },
    {
      "cell_type": "markdown",
      "metadata": {
        "id": "yRi0I4NXYRBS"
      },
      "source": [
        "# Resources to Learn Python\n",
        "1. https://www.youtube.com/watch?v=rfscVS0vtbw&t=7206s A 4.5 Hr python tutorial with live demonstration\n",
        "2. Courses on LinkedIn Learning (Free for UMD Students)\n",
        "3. http://do1.dr-chuck.com/pythonlearn/EN_us/pythonlearn.pdf A book from Charles R. Severance, University of Michigan.\n",
        "4. https://www.hackerrank.com/domains/python is a good resource to practice python if you are seriously interested to get hands-on!\n",
        "\n",
        "\n",
        "---\n",
        "\n",
        "\n",
        "##### Content of this tutorial is inspired from Geeks For Geeks, Tutorials Point, W3 Schools and ENPM 661 Project 0."
      ]
    }
  ],
  "metadata": {
    "colab": {
      "provenance": []
    },
    "kernelspec": {
      "display_name": "Python 3",
      "language": "python",
      "name": "python3"
    },
    "language_info": {
      "codemirror_mode": {
        "name": "ipython",
        "version": 3
      },
      "file_extension": ".py",
      "mimetype": "text/x-python",
      "name": "python",
      "nbconvert_exporter": "python",
      "pygments_lexer": "ipython3",
      "version": "3.12.2"
    }
  },
  "nbformat": 4,
  "nbformat_minor": 0
}
